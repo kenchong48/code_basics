{
 "cells": [
  {
   "cell_type": "markdown",
   "id": "b3d312ca",
   "metadata": {},
   "source": [
    "# Code written for learning some rudimentary R through jupyter-notebooks"
   ]
  },
  {
   "cell_type": "markdown",
   "id": "2beff9d3",
   "metadata": {},
   "source": [
    "# In notebooks, we have two different types of cells\n",
    "    This one is a Markdown cell"
   ]
  },
  {
   "cell_type": "code",
   "execution_count": 1,
   "id": "b601a1d3",
   "metadata": {},
   "outputs": [
    {
     "name": "stdout",
     "output_type": "stream",
     "text": [
      "Hello World"
     ]
    }
   ],
   "source": [
    "# This one is an R cell,\n",
    "cat(\"Hello World\")\n",
    "\n",
    "# all of these code blocks should run in any R integrated development environment (IDE) such as RStudio and RGUI\n",
    "\n",
    "# comments in R use the # symbol, this can be used to leave comments on code, or to disable code\n",
    "# print(\"Hello World\")"
   ]
  },
  {
   "cell_type": "markdown",
   "id": "a2807630",
   "metadata": {},
   "source": [
    "# A couple benefits of a notebook over a regular R file is being able to intersperse markdown cells in your code for better commenting, and also to have your program be split up into cells, so you can work on one chunk of code at a time.\n",
    "You can see some of the basic syntax for markdown [here](https://rmarkdown.rstudio.com/authoring_basics.html)\n",
    "\n",
    "I also recommend taking a moment to learn the keyboard shortcuts of Jupyter Notebook, looking at `insert`, `cell` above.  Or keep in mind that they exist for when you want to save time later.\n",
    "    \n",
    "One I use often is `ctrl+/` which comments and uncomments lines in both the markdown and code cells"
   ]
  },
  {
   "cell_type": "code",
   "execution_count": 2,
   "id": "da9e7a48",
   "metadata": {},
   "outputs": [
    {
     "data": {
      "text/html": [
       "5"
      ],
      "text/latex": [
       "5"
      ],
      "text/markdown": [
       "5"
      ],
      "text/plain": [
       "[1] 5"
      ]
     },
     "metadata": {},
     "output_type": "display_data"
    }
   ],
   "source": [
    "# You will likely see code that loads packages for more complex functionality, \n",
    "# but R does have many things built in\n",
    "1+4"
   ]
  },
  {
   "cell_type": "markdown",
   "id": "e2a77300",
   "metadata": {},
   "source": [
    "# There are several ways to display outputs"
   ]
  },
  {
   "cell_type": "code",
   "execution_count": 3,
   "id": "97740842",
   "metadata": {},
   "outputs": [
    {
     "name": "stdout",
     "output_type": "stream",
     "text": [
      "concatenate multiple things TRUE 3 \n"
     ]
    }
   ],
   "source": [
    "#cat() is concatenate and display on the standard output stream\n",
    "#it also recognizes escape characters like \\n for new line\n",
    "cat(\"concatenate\", \"multiple\", \"things\", TRUE, 3, \"\\n\")"
   ]
  },
  {
   "cell_type": "code",
   "execution_count": 4,
   "id": "8b796f51-3959-4771-9ac1-e72be6e8c5f4",
   "metadata": {},
   "outputs": [
    {
     "name": "stdout",
     "output_type": "stream",
     "text": [
      "[1] \"print does not recognize \\n, but default ends with a new line\"\n",
      "[1] \"and can only take one input\"\n"
     ]
    }
   ],
   "source": [
    "# print function\n",
    "print(\"print does not recognize \\n, but default ends with a new line\")\n",
    "print(\"and can only take one input\")"
   ]
  },
  {
   "cell_type": "code",
   "execution_count": 5,
   "id": "6bb659d1-d038-4303-ae99-ad9ced36d44b",
   "metadata": {},
   "outputs": [
    {
     "name": "stderr",
     "output_type": "stream",
     "text": [
      "error stream\n",
      "\n"
     ]
    }
   ],
   "source": [
    "# message() used for error messages on the standard error stream\n",
    "message(\"error\",\" \",\"stream\")\n",
    "\n",
    "#read more here: https://en.wikipedia.org/wiki/Standard_streams"
   ]
  },
  {
   "cell_type": "code",
   "execution_count": 6,
   "id": "8fa9546f",
   "metadata": {},
   "outputs": [
    {
     "name": "stdout",
     "output_type": "stream",
     "text": [
      "\\ back slash \n",
      " newline, \" quotes ' \t horizontal tab\n",
      " OVERWRITEreturn \n",
      " ca to backspace"
     ]
    }
   ],
   "source": [
    "# other escape characters\n",
    "cat(\"\\\\ back slash \\n newline, \\\" quotes \\' \\t horizontal tab\")\n",
    "# continues without stopping, \\r and \\b not that useful\n",
    "cat(\"\\n carriage return \\r OVERWRITE\")\n",
    "\n",
    "cat(\"\\n can\\b to backspace\")"
   ]
  },
  {
   "cell_type": "markdown",
   "id": "fce5436b",
   "metadata": {},
   "source": [
    "# A variable is something that holds another value, in math it's used to store numbers, in code it can store many other things"
   ]
  },
  {
   "cell_type": "code",
   "execution_count": 7,
   "id": "9aa92c4d",
   "metadata": {},
   "outputs": [],
   "source": [
    "# storing things in variables\n",
    "variableA <- 3\n",
    "variableB <- \"this\"\n",
    "variableC <- 1:5\n",
    "variableD <- list(variableA, variableB, variableC)"
   ]
  },
  {
   "cell_type": "code",
   "execution_count": 8,
   "id": "fe0c2c03-337c-423f-aecc-021df1b8007c",
   "metadata": {},
   "outputs": [
    {
     "data": {
      "text/html": [
       "3"
      ],
      "text/latex": [
       "3"
      ],
      "text/markdown": [
       "3"
      ],
      "text/plain": [
       "[1] 3"
      ]
     },
     "metadata": {},
     "output_type": "display_data"
    }
   ],
   "source": [
    "# displaying things in variables to output\n",
    "variableA"
   ]
  },
  {
   "cell_type": "code",
   "execution_count": 9,
   "id": "310e6ca3-ac97-4ed7-9029-b0b34ccbe4c6",
   "metadata": {},
   "outputs": [
    {
     "data": {
      "text/html": [
       "'this'"
      ],
      "text/latex": [
       "'this'"
      ],
      "text/markdown": [
       "'this'"
      ],
      "text/plain": [
       "[1] \"this\""
      ]
     },
     "metadata": {},
     "output_type": "display_data"
    }
   ],
   "source": [
    "variableB"
   ]
  },
  {
   "cell_type": "code",
   "execution_count": 10,
   "id": "08df432b-fce4-477f-8c04-eae5691ebe04",
   "metadata": {},
   "outputs": [
    {
     "data": {
      "text/html": [
       "<style>\n",
       ".list-inline {list-style: none; margin:0; padding: 0}\n",
       ".list-inline>li {display: inline-block}\n",
       ".list-inline>li:not(:last-child)::after {content: \"\\00b7\"; padding: 0 .5ex}\n",
       "</style>\n",
       "<ol class=list-inline><li>1</li><li>2</li><li>3</li><li>4</li><li>5</li></ol>\n"
      ],
      "text/latex": [
       "\\begin{enumerate*}\n",
       "\\item 1\n",
       "\\item 2\n",
       "\\item 3\n",
       "\\item 4\n",
       "\\item 5\n",
       "\\end{enumerate*}\n"
      ],
      "text/markdown": [
       "1. 1\n",
       "2. 2\n",
       "3. 3\n",
       "4. 4\n",
       "5. 5\n",
       "\n",
       "\n"
      ],
      "text/plain": [
       "[1] 1 2 3 4 5"
      ]
     },
     "metadata": {},
     "output_type": "display_data"
    }
   ],
   "source": [
    "variableC"
   ]
  },
  {
   "cell_type": "code",
   "execution_count": 11,
   "id": "af027a91-183d-4b42-af84-66aca56d6da5",
   "metadata": {},
   "outputs": [
    {
     "data": {
      "text/html": [
       "<ol>\n",
       "\t<li>3</li>\n",
       "\t<li>'this'</li>\n",
       "\t<li><style>\n",
       ".list-inline {list-style: none; margin:0; padding: 0}\n",
       ".list-inline>li {display: inline-block}\n",
       ".list-inline>li:not(:last-child)::after {content: \"\\00b7\"; padding: 0 .5ex}\n",
       "</style>\n",
       "<ol class=list-inline><li>1</li><li>2</li><li>3</li><li>4</li><li>5</li></ol>\n",
       "</li>\n",
       "</ol>\n"
      ],
      "text/latex": [
       "\\begin{enumerate}\n",
       "\\item 3\n",
       "\\item 'this'\n",
       "\\item \\begin{enumerate*}\n",
       "\\item 1\n",
       "\\item 2\n",
       "\\item 3\n",
       "\\item 4\n",
       "\\item 5\n",
       "\\end{enumerate*}\n",
       "\n",
       "\\end{enumerate}\n"
      ],
      "text/markdown": [
       "1. 3\n",
       "2. 'this'\n",
       "3. 1. 1\n",
       "2. 2\n",
       "3. 3\n",
       "4. 4\n",
       "5. 5\n",
       "\n",
       "\n",
       "\n",
       "\n",
       "\n"
      ],
      "text/plain": [
       "[[1]]\n",
       "[1] 3\n",
       "\n",
       "[[2]]\n",
       "[1] \"this\"\n",
       "\n",
       "[[3]]\n",
       "[1] 1 2 3 4 5\n"
      ]
     },
     "metadata": {},
     "output_type": "display_data"
    }
   ],
   "source": [
    "variableD"
   ]
  },
  {
   "cell_type": "markdown",
   "id": "6f08e50c",
   "metadata": {},
   "source": [
    "## Variables can be used to represent the same value repeatedly"
   ]
  },
  {
   "cell_type": "code",
   "execution_count": 12,
   "id": "fb3ba9db",
   "metadata": {},
   "outputs": [
    {
     "data": {
      "text/html": [
       "42"
      ],
      "text/latex": [
       "42"
      ],
      "text/markdown": [
       "42"
      ],
      "text/plain": [
       "[1] 42"
      ]
     },
     "metadata": {},
     "output_type": "display_data"
    },
    {
     "data": {
      "text/html": [
       "43"
      ],
      "text/latex": [
       "43"
      ],
      "text/markdown": [
       "43"
      ],
      "text/plain": [
       "[1] 43"
      ]
     },
     "metadata": {},
     "output_type": "display_data"
    },
    {
     "data": {
      "text/html": [
       "44"
      ],
      "text/latex": [
       "44"
      ],
      "text/markdown": [
       "44"
      ],
      "text/plain": [
       "[1] 44"
      ]
     },
     "metadata": {},
     "output_type": "display_data"
    },
    {
     "data": {
      "text/html": [
       "45"
      ],
      "text/latex": [
       "45"
      ],
      "text/markdown": [
       "45"
      ],
      "text/plain": [
       "[1] 45"
      ]
     },
     "metadata": {},
     "output_type": "display_data"
    }
   ],
   "source": [
    "a<-42\n",
    "a\n",
    "a+1\n",
    "a+2\n",
    "a+3"
   ]
  },
  {
   "cell_type": "markdown",
   "id": "58dc76a2",
   "metadata": {},
   "source": [
    "## Their value will only change when something changes it"
   ]
  },
  {
   "cell_type": "code",
   "execution_count": 13,
   "id": "122087f1",
   "metadata": {},
   "outputs": [
    {
     "data": {
      "text/html": [
       "42"
      ],
      "text/latex": [
       "42"
      ],
      "text/markdown": [
       "42"
      ],
      "text/plain": [
       "[1] 42"
      ]
     },
     "metadata": {},
     "output_type": "display_data"
    },
    {
     "data": {
      "text/html": [
       "11"
      ],
      "text/latex": [
       "11"
      ],
      "text/markdown": [
       "11"
      ],
      "text/plain": [
       "[1] 11"
      ]
     },
     "metadata": {},
     "output_type": "display_data"
    }
   ],
   "source": [
    "a <- 42\n",
    "a\n",
    "\n",
    "a <- 5 + 6\n",
    "a"
   ]
  },
  {
   "cell_type": "markdown",
   "id": "dcc84878",
   "metadata": {},
   "source": [
    "## When storing in a variable, the processing/calculation happens first, so you can self reference after a variable has already been made"
   ]
  },
  {
   "cell_type": "code",
   "execution_count": 14,
   "id": "54b7b484",
   "metadata": {},
   "outputs": [
    {
     "data": {
      "text/html": [
       "42"
      ],
      "text/latex": [
       "42"
      ],
      "text/markdown": [
       "42"
      ],
      "text/plain": [
       "[1] 42"
      ]
     },
     "metadata": {},
     "output_type": "display_data"
    },
    {
     "data": {
      "text/html": [
       "84"
      ],
      "text/latex": [
       "84"
      ],
      "text/markdown": [
       "84"
      ],
      "text/plain": [
       "[1] 84"
      ]
     },
     "metadata": {},
     "output_type": "display_data"
    }
   ],
   "source": [
    "a = 42\n",
    "a\n",
    "\n",
    "a = a*2\n",
    "a"
   ]
  },
  {
   "cell_type": "markdown",
   "id": "a1f58b07",
   "metadata": {},
   "source": [
    "## side note: generally R does not care about spacing, so it's mainly whatever is legible for you"
   ]
  },
  {
   "cell_type": "code",
   "execution_count": 15,
   "id": "5ba303e6",
   "metadata": {},
   "outputs": [
    {
     "data": {
      "text/html": [
       "5"
      ],
      "text/latex": [
       "5"
      ],
      "text/markdown": [
       "5"
      ],
      "text/plain": [
       "[1] 5"
      ]
     },
     "metadata": {},
     "output_type": "display_data"
    },
    {
     "data": {
      "text/html": [
       "'this'"
      ],
      "text/latex": [
       "'this'"
      ],
      "text/markdown": [
       "'this'"
      ],
      "text/plain": [
       "[1] \"this\""
      ]
     },
     "metadata": {},
     "output_type": "display_data"
    },
    {
     "name": "stdout",
     "output_type": "stream",
     "text": [
      "[1] 42\n"
     ]
    }
   ],
   "source": [
    "a  <-                    5\n",
    "a\n",
    "\n",
    "b<-'this'\n",
    "b\n",
    "\n",
    "print(                         42                         )"
   ]
  },
  {
   "cell_type": "markdown",
   "id": "ba5e0ed9",
   "metadata": {},
   "source": [
    "# Note that `=` and `<-` or `->` are assignment operators in R, but do have some nuances\n",
    "There's also `<<-` and `->>`, read more [here](https://www.rdocumentation.org/packages/base/versions/3.6.2/topics/assignOps)"
   ]
  },
  {
   "cell_type": "code",
   "execution_count": 16,
   "id": "bc10f5a4",
   "metadata": {},
   "outputs": [
    {
     "data": {
      "text/html": [
       "5"
      ],
      "text/latex": [
       "5"
      ],
      "text/markdown": [
       "5"
      ],
      "text/plain": [
       "[1] 5"
      ]
     },
     "metadata": {},
     "output_type": "display_data"
    },
    {
     "data": {
      "text/html": [
       "7"
      ],
      "text/latex": [
       "7"
      ],
      "text/markdown": [
       "7"
      ],
      "text/plain": [
       "[1] 7"
      ]
     },
     "metadata": {},
     "output_type": "display_data"
    },
    {
     "name": "stdout",
     "output_type": "stream",
     "text": [
      "[1] 9\n"
     ]
    }
   ],
   "source": [
    "# strictly assigns right value to left variable\n",
    "a = 5\n",
    "\n",
    "# Are visibly directional:\n",
    "b <- 7\n",
    "9 -> c\n",
    "\n",
    "# calling the name of a variable will display it in the shell,\n",
    "    # but is distinct from print which displays on both the shell and when run as script?\n",
    "a\n",
    "b\n",
    "print(c)\n"
   ]
  },
  {
   "cell_type": "markdown",
   "id": "ee269c01",
   "metadata": {},
   "source": [
    "# You can use ls() to see variables in the environment"
   ]
  },
  {
   "cell_type": "code",
   "execution_count": 17,
   "id": "5e34f8da",
   "metadata": {},
   "outputs": [
    {
     "data": {
      "text/html": [
       "<style>\n",
       ".list-inline {list-style: none; margin:0; padding: 0}\n",
       ".list-inline>li {display: inline-block}\n",
       ".list-inline>li:not(:last-child)::after {content: \"\\00b7\"; padding: 0 .5ex}\n",
       "</style>\n",
       "<ol class=list-inline><li>'a'</li><li>'b'</li><li>'c'</li><li>'variableA'</li><li>'variableB'</li><li>'variableC'</li><li>'variableD'</li></ol>\n"
      ],
      "text/latex": [
       "\\begin{enumerate*}\n",
       "\\item 'a'\n",
       "\\item 'b'\n",
       "\\item 'c'\n",
       "\\item 'variableA'\n",
       "\\item 'variableB'\n",
       "\\item 'variableC'\n",
       "\\item 'variableD'\n",
       "\\end{enumerate*}\n"
      ],
      "text/markdown": [
       "1. 'a'\n",
       "2. 'b'\n",
       "3. 'c'\n",
       "4. 'variableA'\n",
       "5. 'variableB'\n",
       "6. 'variableC'\n",
       "7. 'variableD'\n",
       "\n",
       "\n"
      ],
      "text/plain": [
       "[1] \"a\"         \"b\"         \"c\"         \"variableA\" \"variableB\" \"variableC\"\n",
       "[7] \"variableD\""
      ]
     },
     "metadata": {},
     "output_type": "display_data"
    }
   ],
   "source": [
    "# list objects\n",
    "ls()"
   ]
  },
  {
   "cell_type": "markdown",
   "id": "ce2faa6a",
   "metadata": {},
   "source": [
    "# You can use rm() to remove specific items"
   ]
  },
  {
   "cell_type": "code",
   "execution_count": 18,
   "id": "fac4d538",
   "metadata": {},
   "outputs": [
    {
     "data": {
      "text/html": [
       "<style>\n",
       ".list-inline {list-style: none; margin:0; padding: 0}\n",
       ".list-inline>li {display: inline-block}\n",
       ".list-inline>li:not(:last-child)::after {content: \"\\00b7\"; padding: 0 .5ex}\n",
       "</style>\n",
       "<ol class=list-inline><li>'variableA'</li><li>'variableB'</li><li>'variableC'</li><li>'variableD'</li></ol>\n"
      ],
      "text/latex": [
       "\\begin{enumerate*}\n",
       "\\item 'variableA'\n",
       "\\item 'variableB'\n",
       "\\item 'variableC'\n",
       "\\item 'variableD'\n",
       "\\end{enumerate*}\n"
      ],
      "text/markdown": [
       "1. 'variableA'\n",
       "2. 'variableB'\n",
       "3. 'variableC'\n",
       "4. 'variableD'\n",
       "\n",
       "\n"
      ],
      "text/plain": [
       "[1] \"variableA\" \"variableB\" \"variableC\" \"variableD\""
      ]
     },
     "metadata": {},
     "output_type": "display_data"
    }
   ],
   "source": [
    "rm(a)\n",
    "rm(b, c) # can put multiple things to remove\n",
    "ls()"
   ]
  },
  {
   "cell_type": "markdown",
   "id": "8361baf3-c132-4edf-8a10-fd314dc8ca62",
   "metadata": {},
   "source": [
    "# You can use rm() to remove all items by giving it the list of all objects in the environment"
   ]
  },
  {
   "cell_type": "code",
   "execution_count": 19,
   "id": "7decaed5-3292-47dd-afe5-863043af829b",
   "metadata": {},
   "outputs": [
    {
     "data": {
      "text/html": [],
      "text/latex": [],
      "text/markdown": [],
      "text/plain": [
       "character(0)"
      ]
     },
     "metadata": {},
     "output_type": "display_data"
    }
   ],
   "source": [
    "rm(list = ls())\n",
    "ls()"
   ]
  },
  {
   "cell_type": "markdown",
   "id": "e3df8d0a",
   "metadata": {},
   "source": [
    "# Common Data Types in R, which can be seen by using the class() function"
   ]
  },
  {
   "cell_type": "markdown",
   "id": "706546e2",
   "metadata": {},
   "source": [
    "## logical"
   ]
  },
  {
   "cell_type": "code",
   "execution_count": 20,
   "id": "25b20979",
   "metadata": {},
   "outputs": [
    {
     "data": {
      "text/html": [
       "TRUE"
      ],
      "text/latex": [
       "TRUE"
      ],
      "text/markdown": [
       "TRUE"
      ],
      "text/plain": [
       "[1] TRUE"
      ]
     },
     "metadata": {},
     "output_type": "display_data"
    },
    {
     "data": {
      "text/html": [
       "'logical'"
      ],
      "text/latex": [
       "'logical'"
      ],
      "text/markdown": [
       "'logical'"
      ],
      "text/plain": [
       "[1] \"logical\""
      ]
     },
     "metadata": {},
     "output_type": "display_data"
    }
   ],
   "source": [
    "bool <- TRUE\n",
    "bool\n",
    "class(bool)"
   ]
  },
  {
   "cell_type": "markdown",
   "id": "4f571a80",
   "metadata": {},
   "source": [
    "## numeric"
   ]
  },
  {
   "cell_type": "code",
   "execution_count": 21,
   "id": "c8475ece",
   "metadata": {},
   "outputs": [
    {
     "data": {
      "text/html": [
       "3.14"
      ],
      "text/latex": [
       "3.14"
      ],
      "text/markdown": [
       "3.14"
      ],
      "text/plain": [
       "[1] 3.14"
      ]
     },
     "metadata": {},
     "output_type": "display_data"
    },
    {
     "data": {
      "text/html": [
       "'numeric'"
      ],
      "text/latex": [
       "'numeric'"
      ],
      "text/markdown": [
       "'numeric'"
      ],
      "text/plain": [
       "[1] \"numeric\""
      ]
     },
     "metadata": {},
     "output_type": "display_data"
    },
    {
     "data": {
      "text/html": [
       "42"
      ],
      "text/latex": [
       "42"
      ],
      "text/markdown": [
       "42"
      ],
      "text/plain": [
       "[1] 42"
      ]
     },
     "metadata": {},
     "output_type": "display_data"
    },
    {
     "data": {
      "text/html": [
       "'numeric'"
      ],
      "text/latex": [
       "'numeric'"
      ],
      "text/markdown": [
       "'numeric'"
      ],
      "text/plain": [
       "[1] \"numeric\""
      ]
     },
     "metadata": {},
     "output_type": "display_data"
    }
   ],
   "source": [
    "float <- 3.14\n",
    "float\n",
    "class(float)\n",
    "\n",
    "value <- 42\n",
    "value\n",
    "class(value)"
   ]
  },
  {
   "cell_type": "markdown",
   "id": "31f35ea8",
   "metadata": {},
   "source": [
    "## integer, whole numbers take up less space in memory if that is a concern"
   ]
  },
  {
   "cell_type": "code",
   "execution_count": 22,
   "id": "fc4baad2",
   "metadata": {},
   "outputs": [
    {
     "data": {
      "text/html": [
       "3"
      ],
      "text/latex": [
       "3"
      ],
      "text/markdown": [
       "3"
      ],
      "text/plain": [
       "[1] 3"
      ]
     },
     "metadata": {},
     "output_type": "display_data"
    },
    {
     "data": {
      "text/html": [
       "'integer'"
      ],
      "text/latex": [
       "'integer'"
      ],
      "text/markdown": [
       "'integer'"
      ],
      "text/plain": [
       "[1] \"integer\""
      ]
     },
     "metadata": {},
     "output_type": "display_data"
    }
   ],
   "source": [
    "i <- as.integer(3.14)\n",
    "i\n",
    "class(i)"
   ]
  },
  {
   "cell_type": "markdown",
   "id": "008175da",
   "metadata": {},
   "source": [
    "## complex, can store imaginary values"
   ]
  },
  {
   "cell_type": "code",
   "execution_count": 23,
   "id": "e26169cd",
   "metadata": {},
   "outputs": [
    {
     "data": {
      "text/html": [
       "3+2i"
      ],
      "text/latex": [
       "3+2i"
      ],
      "text/markdown": [
       "3+2i"
      ],
      "text/plain": [
       "[1] 3+2i"
      ]
     },
     "metadata": {},
     "output_type": "display_data"
    },
    {
     "data": {
      "text/html": [
       "'complex'"
      ],
      "text/latex": [
       "'complex'"
      ],
      "text/markdown": [
       "'complex'"
      ],
      "text/plain": [
       "[1] \"complex\""
      ]
     },
     "metadata": {},
     "output_type": "display_data"
    }
   ],
   "source": [
    "complex <- 3+2i\n",
    "complex\n",
    "class(complex)"
   ]
  },
  {
   "cell_type": "markdown",
   "id": "cefa18b5",
   "metadata": {},
   "source": [
    "## character, includes strings (note R does not distinguish ' and \" )"
   ]
  },
  {
   "cell_type": "code",
   "execution_count": 24,
   "id": "84b3e9f0",
   "metadata": {},
   "outputs": [
    {
     "data": {
      "text/html": [
       "'a'"
      ],
      "text/latex": [
       "'a'"
      ],
      "text/markdown": [
       "'a'"
      ],
      "text/plain": [
       "[1] \"a\""
      ]
     },
     "metadata": {},
     "output_type": "display_data"
    },
    {
     "data": {
      "text/html": [
       "'character'"
      ],
      "text/latex": [
       "'character'"
      ],
      "text/markdown": [
       "'character'"
      ],
      "text/plain": [
       "[1] \"character\""
      ]
     },
     "metadata": {},
     "output_type": "display_data"
    },
    {
     "data": {
      "text/html": [
       "'string'"
      ],
      "text/latex": [
       "'string'"
      ],
      "text/markdown": [
       "'string'"
      ],
      "text/plain": [
       "[1] \"string\""
      ]
     },
     "metadata": {},
     "output_type": "display_data"
    },
    {
     "data": {
      "text/html": [
       "'character'"
      ],
      "text/latex": [
       "'character'"
      ],
      "text/markdown": [
       "'character'"
      ],
      "text/plain": [
       "[1] \"character\""
      ]
     },
     "metadata": {},
     "output_type": "display_data"
    }
   ],
   "source": [
    "char <- \"a\"\n",
    "char\n",
    "class(char)\n",
    "\n",
    "str <- 'string'\n",
    "str\n",
    "class(str)"
   ]
  },
  {
   "cell_type": "markdown",
   "id": "8bbcd0af",
   "metadata": {},
   "source": [
    "# Data storage / structures:  just vector and list for now"
   ]
  },
  {
   "cell_type": "markdown",
   "id": "8873e5e0",
   "metadata": {},
   "source": [
    "## Vector\n",
    "c() combines items and returns a vector of type matching input items, if input is a mix of data types, it will be a character vector\n",
    "\n",
    "A 'vector' is not really a type so much as it's just a series of one data type, so class() will return the type of item stored, rather than 'vector', whereas 'list' does refer to a specific type of object"
   ]
  },
  {
   "cell_type": "code",
   "execution_count": 25,
   "id": "d6dbfeb9",
   "metadata": {},
   "outputs": [
    {
     "data": {
      "text/html": [
       "<style>\n",
       ".list-inline {list-style: none; margin:0; padding: 0}\n",
       ".list-inline>li {display: inline-block}\n",
       ".list-inline>li:not(:last-child)::after {content: \"\\00b7\"; padding: 0 .5ex}\n",
       "</style>\n",
       "<ol class=list-inline><li>1</li><li>2</li><li>3</li></ol>\n"
      ],
      "text/latex": [
       "\\begin{enumerate*}\n",
       "\\item 1\n",
       "\\item 2\n",
       "\\item 3\n",
       "\\end{enumerate*}\n"
      ],
      "text/markdown": [
       "1. 1\n",
       "2. 2\n",
       "3. 3\n",
       "\n",
       "\n"
      ],
      "text/plain": [
       "[1] 1 2 3"
      ]
     },
     "metadata": {},
     "output_type": "display_data"
    },
    {
     "data": {
      "text/html": [
       "<style>\n",
       ".list-inline {list-style: none; margin:0; padding: 0}\n",
       ".list-inline>li {display: inline-block}\n",
       ".list-inline>li:not(:last-child)::after {content: \"\\00b7\"; padding: 0 .5ex}\n",
       "</style>\n",
       "<ol class=list-inline><li>'a'</li><li>'short'</li><li>'string'</li></ol>\n"
      ],
      "text/latex": [
       "\\begin{enumerate*}\n",
       "\\item 'a'\n",
       "\\item 'short'\n",
       "\\item 'string'\n",
       "\\end{enumerate*}\n"
      ],
      "text/markdown": [
       "1. 'a'\n",
       "2. 'short'\n",
       "3. 'string'\n",
       "\n",
       "\n"
      ],
      "text/plain": [
       "[1] \"a\"      \"short\"  \"string\""
      ]
     },
     "metadata": {},
     "output_type": "display_data"
    },
    {
     "data": {
      "text/html": [
       "<style>\n",
       ".list-inline {list-style: none; margin:0; padding: 0}\n",
       ".list-inline>li {display: inline-block}\n",
       ".list-inline>li:not(:last-child)::after {content: \"\\00b7\"; padding: 0 .5ex}\n",
       "</style>\n",
       "<ol class=list-inline><li>TRUE</li><li>FALSE</li></ol>\n"
      ],
      "text/latex": [
       "\\begin{enumerate*}\n",
       "\\item TRUE\n",
       "\\item FALSE\n",
       "\\end{enumerate*}\n"
      ],
      "text/markdown": [
       "1. TRUE\n",
       "2. FALSE\n",
       "\n",
       "\n"
      ],
      "text/plain": [
       "[1]  TRUE FALSE"
      ]
     },
     "metadata": {},
     "output_type": "display_data"
    },
    {
     "data": {
      "text/html": [
       "'logical'"
      ],
      "text/latex": [
       "'logical'"
      ],
      "text/markdown": [
       "'logical'"
      ],
      "text/plain": [
       "[1] \"logical\""
      ]
     },
     "metadata": {},
     "output_type": "display_data"
    }
   ],
   "source": [
    "# a vector can only contain one type of data, but it can be any data type\n",
    "c(1,2,3)\n",
    "c(\"a\",\"short\",\"string\")\n",
    "\n",
    "# they can be stored in variables\n",
    "vector<-c(TRUE,FALSE)\n",
    "\n",
    "vector # access it by variable name\n",
    "class(vector) # matches the type of data stored in it"
   ]
  },
  {
   "cell_type": "code",
   "execution_count": 26,
   "id": "a4b42ff2",
   "metadata": {},
   "outputs": [
    {
     "data": {
      "text/html": [
       "<style>\n",
       ".list-inline {list-style: none; margin:0; padding: 0}\n",
       ".list-inline>li {display: inline-block}\n",
       ".list-inline>li:not(:last-child)::after {content: \"\\00b7\"; padding: 0 .5ex}\n",
       "</style>\n",
       "<ol class=list-inline><li>0</li><li>0</li><li>0</li></ol>\n"
      ],
      "text/latex": [
       "\\begin{enumerate*}\n",
       "\\item 0\n",
       "\\item 0\n",
       "\\item 0\n",
       "\\end{enumerate*}\n"
      ],
      "text/markdown": [
       "1. 0\n",
       "2. 0\n",
       "3. 0\n",
       "\n",
       "\n"
      ],
      "text/plain": [
       "[1] 0 0 0"
      ]
     },
     "metadata": {},
     "output_type": "display_data"
    },
    {
     "data": {
      "text/html": [
       "<style>\n",
       ".list-inline {list-style: none; margin:0; padding: 0}\n",
       ".list-inline>li {display: inline-block}\n",
       ".list-inline>li:not(:last-child)::after {content: \"\\00b7\"; padding: 0 .5ex}\n",
       "</style>\n",
       "<ol class=list-inline><li>FALSE</li><li>FALSE</li><li>FALSE</li><li>FALSE</li></ol>\n"
      ],
      "text/latex": [
       "\\begin{enumerate*}\n",
       "\\item FALSE\n",
       "\\item FALSE\n",
       "\\item FALSE\n",
       "\\item FALSE\n",
       "\\end{enumerate*}\n"
      ],
      "text/markdown": [
       "1. FALSE\n",
       "2. FALSE\n",
       "3. FALSE\n",
       "4. FALSE\n",
       "\n",
       "\n"
      ],
      "text/plain": [
       "[1] FALSE FALSE FALSE FALSE"
      ]
     },
     "metadata": {},
     "output_type": "display_data"
    },
    {
     "data": {
      "text/html": [
       "<ol>\n",
       "\t<li>NULL</li>\n",
       "\t<li>NULL</li>\n",
       "</ol>\n"
      ],
      "text/latex": [
       "\\begin{enumerate}\n",
       "\\item NULL\n",
       "\\item NULL\n",
       "\\end{enumerate}\n"
      ],
      "text/markdown": [
       "1. NULL\n",
       "2. NULL\n",
       "\n",
       "\n"
      ],
      "text/plain": [
       "[[1]]\n",
       "NULL\n",
       "\n",
       "[[2]]\n",
       "NULL\n"
      ]
     },
     "metadata": {},
     "output_type": "display_data"
    }
   ],
   "source": [
    "#initialize a vector with default values where mode = data type, and length is how many entries it can contain\n",
    "vector(mode=\"numeric\",length=3)\n",
    "\n",
    "vector(\"logical\",length=4)\n",
    "\n",
    "vector(\"list\",length=2)"
   ]
  },
  {
   "cell_type": "code",
   "execution_count": 27,
   "id": "35860a15",
   "metadata": {},
   "outputs": [
    {
     "data": {
      "text/html": [
       "<style>\n",
       ".list-inline {list-style: none; margin:0; padding: 0}\n",
       ".list-inline>li {display: inline-block}\n",
       ".list-inline>li:not(:last-child)::after {content: \"\\00b7\"; padding: 0 .5ex}\n",
       "</style>\n",
       "<ol class=list-inline><li>0</li><li>0</li><li>0</li></ol>\n"
      ],
      "text/latex": [
       "\\begin{enumerate*}\n",
       "\\item 0\n",
       "\\item 0\n",
       "\\item 0\n",
       "\\end{enumerate*}\n"
      ],
      "text/markdown": [
       "1. 0\n",
       "2. 0\n",
       "3. 0\n",
       "\n",
       "\n"
      ],
      "text/plain": [
       "[1] 0 0 0"
      ]
     },
     "metadata": {},
     "output_type": "display_data"
    },
    {
     "data": {
      "text/html": [
       "<style>\n",
       ".list-inline {list-style: none; margin:0; padding: 0}\n",
       ".list-inline>li {display: inline-block}\n",
       ".list-inline>li:not(:last-child)::after {content: \"\\00b7\"; padding: 0 .5ex}\n",
       "</style>\n",
       "<ol class=list-inline><li>6</li><li>7</li><li>42</li></ol>\n"
      ],
      "text/latex": [
       "\\begin{enumerate*}\n",
       "\\item 6\n",
       "\\item 7\n",
       "\\item 42\n",
       "\\end{enumerate*}\n"
      ],
      "text/markdown": [
       "1. 6\n",
       "2. 7\n",
       "3. 42\n",
       "\n",
       "\n"
      ],
      "text/plain": [
       "[1]  6  7 42"
      ]
     },
     "metadata": {},
     "output_type": "display_data"
    }
   ],
   "source": [
    "# create empty vector\n",
    "vecN<-vector(\"numeric\",3)\n",
    "vecN\n",
    "\n",
    "# fill vector by numeric index\n",
    "vecN[3] = 42\n",
    "vecN[1] = 6\n",
    "vecN[2] = 7\n",
    "\n",
    "vecN"
   ]
  },
  {
   "cell_type": "markdown",
   "id": "9ecd9a73",
   "metadata": {},
   "source": [
    "## List"
   ]
  },
  {
   "cell_type": "code",
   "execution_count": 28,
   "id": "929f9a95",
   "metadata": {},
   "outputs": [
    {
     "data": {
      "text/html": [
       "<ol>\n",
       "\t<li>'a'</li>\n",
       "\t<li>TRUE</li>\n",
       "\t<li>3</li>\n",
       "</ol>\n"
      ],
      "text/latex": [
       "\\begin{enumerate}\n",
       "\\item 'a'\n",
       "\\item TRUE\n",
       "\\item 3\n",
       "\\end{enumerate}\n"
      ],
      "text/markdown": [
       "1. 'a'\n",
       "2. TRUE\n",
       "3. 3\n",
       "\n",
       "\n"
      ],
      "text/plain": [
       "[[1]]\n",
       "[1] \"a\"\n",
       "\n",
       "[[2]]\n",
       "[1] TRUE\n",
       "\n",
       "[[3]]\n",
       "[1] 3\n"
      ]
     },
     "metadata": {},
     "output_type": "display_data"
    }
   ],
   "source": [
    "# a list can contain different types of items, including more complex items and other lists\n",
    "list('a', TRUE, 3)"
   ]
  },
  {
   "cell_type": "code",
   "execution_count": 29,
   "id": "8bc69073",
   "metadata": {},
   "outputs": [
    {
     "data": {
      "text/html": [
       "<ol>\n",
       "\t<li>'a'</li>\n",
       "\t<li>TRUE</li>\n",
       "\t<li>3</li>\n",
       "</ol>\n"
      ],
      "text/latex": [
       "\\begin{enumerate}\n",
       "\\item 'a'\n",
       "\\item TRUE\n",
       "\\item 3\n",
       "\\end{enumerate}\n"
      ],
      "text/markdown": [
       "1. 'a'\n",
       "2. TRUE\n",
       "3. 3\n",
       "\n",
       "\n"
      ],
      "text/plain": [
       "[[1]]\n",
       "[1] \"a\"\n",
       "\n",
       "[[2]]\n",
       "[1] TRUE\n",
       "\n",
       "[[3]]\n",
       "[1] 3\n"
      ]
     },
     "metadata": {},
     "output_type": "display_data"
    }
   ],
   "source": [
    "# list\n",
    "usingList<-list('a', TRUE, 3)\n",
    "usingList"
   ]
  },
  {
   "cell_type": "code",
   "execution_count": 30,
   "id": "e5f3e070-5d97-4ac6-896b-58a4da36cebc",
   "metadata": {},
   "outputs": [
    {
     "data": {
      "text/html": [
       "'list'"
      ],
      "text/latex": [
       "'list'"
      ],
      "text/markdown": [
       "'list'"
      ],
      "text/plain": [
       "[1] \"list\""
      ]
     },
     "metadata": {},
     "output_type": "display_data"
    },
    {
     "data": {
      "text/html": [
       "7"
      ],
      "text/latex": [
       "7"
      ],
      "text/markdown": [
       "7"
      ],
      "text/plain": [
       "[1] 7"
      ]
     },
     "metadata": {},
     "output_type": "display_data"
    }
   ],
   "source": [
    "class(usingList)\n",
    "\n",
    "# item 3 is a numeric type, 3, so can be treated as a number\n",
    "usingList[[3]] + 4"
   ]
  },
  {
   "cell_type": "code",
   "execution_count": 31,
   "id": "60b34bdc-20a7-4c04-96c0-bb114ed15dcd",
   "metadata": {},
   "outputs": [
    {
     "data": {
      "text/html": [
       "<style>\n",
       ".list-inline {list-style: none; margin:0; padding: 0}\n",
       ".list-inline>li {display: inline-block}\n",
       ".list-inline>li:not(:last-child)::after {content: \"\\00b7\"; padding: 0 .5ex}\n",
       "</style>\n",
       "<ol class=list-inline><li>'a'</li><li>'TRUE'</li><li>'3'</li></ol>\n"
      ],
      "text/latex": [
       "\\begin{enumerate*}\n",
       "\\item 'a'\n",
       "\\item 'TRUE'\n",
       "\\item '3'\n",
       "\\end{enumerate*}\n"
      ],
      "text/markdown": [
       "1. 'a'\n",
       "2. 'TRUE'\n",
       "3. '3'\n",
       "\n",
       "\n"
      ],
      "text/plain": [
       "[1] \"a\"    \"TRUE\" \"3\"   "
      ]
     },
     "metadata": {},
     "output_type": "display_data"
    }
   ],
   "source": [
    "# concatenate\n",
    "usingC<-c('a', TRUE, 3)\n",
    "usingC"
   ]
  },
  {
   "cell_type": "code",
   "execution_count": 32,
   "id": "59e81831-5b59-4cb9-b3e0-8becb1e6165c",
   "metadata": {},
   "outputs": [
    {
     "data": {
      "text/html": [
       "'character'"
      ],
      "text/latex": [
       "'character'"
      ],
      "text/markdown": [
       "'character'"
      ],
      "text/plain": [
       "[1] \"character\""
      ]
     },
     "metadata": {},
     "output_type": "display_data"
    },
    {
     "ename": "ERROR",
     "evalue": "Error in usingC[[3]] + 4: non-numeric argument to binary operator\n",
     "output_type": "error",
     "traceback": [
      "Error in usingC[[3]] + 4: non-numeric argument to binary operator\nTraceback:\n"
     ]
    }
   ],
   "source": [
    "class(usingC)\n",
    "\n",
    "# item 3 is a character type, \"3\", so cannot be treated as a number\n",
    "usingC[[3]] + 4"
   ]
  },
  {
   "cell_type": "code",
   "execution_count": null,
   "id": "acc8be74",
   "metadata": {},
   "outputs": [],
   "source": [
    "# a list can be stored in a variable and items can be accessed by numerical index\n",
    "aList<-list('a', TRUE, 3)\n",
    "\n",
    "# items can be accessed by numerical index\n",
    "aList[[3]]\n",
    "aList[[1]]\n",
    "\n",
    "# str() can be used to see the structure of the data\n",
    "str(aList)"
   ]
  },
  {
   "cell_type": "markdown",
   "id": "87dedb00",
   "metadata": {},
   "source": [
    "## Named index"
   ]
  },
  {
   "cell_type": "code",
   "execution_count": null,
   "id": "2b8b0b54",
   "metadata": {},
   "outputs": [],
   "source": [
    "# a list can also have a named index\n",
    "aList<-list(\"this\"=\"a\",\n",
    "            \"that\"=TRUE,\n",
    "            \"another thing\"=3)\n",
    "\n",
    "# show structure and contents\n",
    "str(aList)\n",
    "\n",
    "# which can then be accessed by those names\n",
    "aList[\"that\"] # the item within aList\n",
    "aList[[\"that\"]] # the item within \"that\""
   ]
  },
  {
   "cell_type": "code",
   "execution_count": null,
   "id": "8285e860",
   "metadata": {},
   "outputs": [],
   "source": [
    "# those names can also be added/modified after the fact\n",
    "names(aList)<-c(\"new\",\"names\",\"for all!\")\n",
    "\n",
    "str(aList)"
   ]
  },
  {
   "cell_type": "code",
   "execution_count": null,
   "id": "1e166289",
   "metadata": {},
   "outputs": [],
   "source": []
  },
  {
   "cell_type": "markdown",
   "id": "08699b2f",
   "metadata": {},
   "source": [
    "## Different ways to access elements in a list"
   ]
  },
  {
   "cell_type": "code",
   "execution_count": null,
   "id": "8e43b4a8",
   "metadata": {},
   "outputs": [],
   "source": [
    "# creating a variable with a list in it using the list() function\n",
    "nList<-list(1,2,3,4,5)"
   ]
  },
  {
   "cell_type": "code",
   "execution_count": null,
   "id": "3a345806",
   "metadata": {},
   "outputs": [],
   "source": [
    "# to see the class\n",
    "class( nList )\n",
    "\n",
    "# call to see the list\n",
    "nList"
   ]
  },
  {
   "cell_type": "code",
   "execution_count": null,
   "id": "a4254f1e",
   "metadata": {},
   "outputs": [],
   "source": [
    "# str() can be used to see the structure of the list\n",
    "str(nList)"
   ]
  },
  {
   "cell_type": "code",
   "execution_count": null,
   "id": "d34959fc",
   "metadata": {},
   "outputs": [],
   "source": [
    "# one set of square brackets [ ] is used to access the first level of a list\n",
    "class(nList[1])\n",
    "\n",
    "nList[1]"
   ]
  },
  {
   "cell_type": "code",
   "execution_count": null,
   "id": "bc7483a4",
   "metadata": {},
   "outputs": [],
   "source": [
    "# [[ ]] is used to return the actual item stored in the list\n",
    "class( nList[[1]] )\n",
    "\n",
    "nList[[1]]"
   ]
  },
  {
   "cell_type": "code",
   "execution_count": null,
   "id": "60b5d823",
   "metadata": {},
   "outputs": [],
   "source": [
    "# accessing them differently changes what can be done with it, for example:\n",
    "\n",
    "# this returns an error because it cannot arithmetically add 1 to a list\n",
    "nList[1] + 1"
   ]
  },
  {
   "cell_type": "code",
   "execution_count": null,
   "id": "0bcd781d",
   "metadata": {},
   "outputs": [],
   "source": [
    "# However, this works, because now it's accessing the number 1 as a number\n",
    "nList[[1]] + 1"
   ]
  },
  {
   "cell_type": "code",
   "execution_count": null,
   "id": "57ed846c",
   "metadata": {},
   "outputs": [],
   "source": [
    "# combining lists\n",
    "aList<-list('a', TRUE, 3)\n",
    "bList<-list('b', FALSE, 4)\n",
    "\n",
    "combined<-list(aList , bList)\n",
    "\n",
    "combined"
   ]
  },
  {
   "cell_type": "code",
   "execution_count": null,
   "id": "66d979c4",
   "metadata": {},
   "outputs": [],
   "source": [
    "# access one list by numerical index\n",
    "combined[[2]]"
   ]
  },
  {
   "cell_type": "code",
   "execution_count": null,
   "id": "83f4d5de",
   "metadata": {},
   "outputs": [],
   "source": [
    "# acess one item in a list\n",
    "    # list 1, item 1\n",
    "combined[[1]][[1]]\n",
    "\n",
    "    # list 1, item 2\n",
    "combined[[1]][[2]]\n",
    "\n",
    "    # list 1, item 3\n",
    "combined[[1]][[3]]"
   ]
  },
  {
   "cell_type": "markdown",
   "id": "782d4d20",
   "metadata": {},
   "source": [
    "# How to define a function and call it using function()"
   ]
  },
  {
   "cell_type": "code",
   "execution_count": null,
   "id": "d4da9d07",
   "metadata": {},
   "outputs": [],
   "source": [
    "# definition\n",
    "functionName<-function(){\n",
    "    #code to execute\n",
    "    print(\"This is the function's output\")\n",
    "}"
   ]
  },
  {
   "cell_type": "code",
   "execution_count": null,
   "id": "7aa2c69f",
   "metadata": {},
   "outputs": [],
   "source": [
    "# call\n",
    "functionName()"
   ]
  },
  {
   "cell_type": "markdown",
   "id": "0d17cb7a",
   "metadata": {},
   "source": [
    "# You can do more complex things when defining a function such as declaring parameters which receive arguments when called"
   ]
  },
  {
   "cell_type": "code",
   "execution_count": null,
   "id": "8a17d360",
   "metadata": {},
   "outputs": [],
   "source": [
    "# definition\n",
    "add<-function(param1,param2){\n",
    "    param1+param2\n",
    "}\n",
    "\n",
    "# call\n",
    "add(3,5)"
   ]
  },
  {
   "cell_type": "markdown",
   "id": "a79ff6a7",
   "metadata": {},
   "source": [
    "# You can even declare that those parameters have default values"
   ]
  },
  {
   "cell_type": "code",
   "execution_count": null,
   "id": "4b8d99a2",
   "metadata": {},
   "outputs": [],
   "source": [
    "# definition\n",
    "myNameIs<-function(name = \"n/a\"){\n",
    "    # sprintf() lets us insert specific variable types into character strings, %s means string\n",
    "    sprintf(\"My name is %s\", name)\n",
    "}"
   ]
  },
  {
   "cell_type": "code",
   "execution_count": null,
   "id": "cbee646a",
   "metadata": {},
   "outputs": [],
   "source": [
    "# Call without argument\n",
    "myNameIs()"
   ]
  },
  {
   "cell_type": "code",
   "execution_count": null,
   "id": "13d815ae",
   "metadata": {},
   "outputs": [],
   "source": [
    "# Call with argument\n",
    "myNameIs(\"Inigo Montoya\")"
   ]
  },
  {
   "cell_type": "markdown",
   "id": "e53c40d8",
   "metadata": {},
   "source": [
    "# You can type the name of a function to see it's declaration, print to see a little more information or use the help() function to see the built in documentation"
   ]
  },
  {
   "cell_type": "code",
   "execution_count": null,
   "id": "e93b43cf",
   "metadata": {},
   "outputs": [],
   "source": [
    "median\n",
    "\n",
    "#something along the lines of this, though it doesn't show how the function actually calculates the median\n",
    "#median<-function(x, na.rm=FALSE,...){return(sum(x)/length(x))}"
   ]
  },
  {
   "cell_type": "code",
   "execution_count": null,
   "id": "f7c394ca-2a54-4a8e-acb1-72fb43ea7621",
   "metadata": {},
   "outputs": [],
   "source": [
    "print(median)"
   ]
  },
  {
   "cell_type": "code",
   "execution_count": null,
   "id": "9562544d-31e2-4b68-a2dc-07cc87692d89",
   "metadata": {},
   "outputs": [],
   "source": [
    "help(median)"
   ]
  },
  {
   "cell_type": "markdown",
   "id": "74813f43",
   "metadata": {},
   "source": [
    "## Looking at some of the nuance between `=` and `<-`"
   ]
  },
  {
   "cell_type": "code",
   "execution_count": null,
   "id": "a245fcb8",
   "metadata": {},
   "outputs": [],
   "source": [
    "# results in an error because = can only be used to populate parameters\n",
    "median(x= y=1:10)"
   ]
  },
  {
   "cell_type": "code",
   "execution_count": null,
   "id": "abe2abcd",
   "metadata": {},
   "outputs": [],
   "source": [
    "# declaring a variable called y and also presenting it as an argument\n",
    "median(x= y<-1:10)\n",
    "\n",
    "# note: this is not recommended, as it's kind of messy to read, I would put it on two lines."
   ]
  },
  {
   "cell_type": "code",
   "execution_count": null,
   "id": "03c746b3",
   "metadata": {},
   "outputs": [],
   "source": [
    "y"
   ]
  },
  {
   "cell_type": "markdown",
   "id": "2bca98d7",
   "metadata": {},
   "source": [
    "# Logic expressions which can be combined to create more complex expressions\n",
    "These are often used as conditions for tests and as triggers to do something"
   ]
  },
  {
   "cell_type": "code",
   "execution_count": null,
   "id": "95b9e939",
   "metadata": {},
   "outputs": [],
   "source": [
    "# equivalence, it's double = because a single = is the assignment operator\n",
    "1 == 2\n",
    "\n",
    "1 == 1"
   ]
  },
  {
   "cell_type": "code",
   "execution_count": null,
   "id": "003a3385",
   "metadata": {},
   "outputs": [],
   "source": [
    "# works for strings as well\n",
    "\"this\" == \"that\"\n",
    "\n",
    "\"this\" == \"this\""
   ]
  },
  {
   "cell_type": "code",
   "execution_count": null,
   "id": "fe30d3b5",
   "metadata": {},
   "outputs": [],
   "source": [
    "# greater than or less than\n",
    "1 > 2\n",
    "1 < 2"
   ]
  },
  {
   "cell_type": "code",
   "execution_count": null,
   "id": "6aa51b52",
   "metadata": {},
   "outputs": [],
   "source": [
    "# comparing lengths of strings\n",
    "\"abc\" > \"d\"\n",
    "\"ab\" > \"a\""
   ]
  },
  {
   "cell_type": "code",
   "execution_count": null,
   "id": "6c502f17",
   "metadata": {},
   "outputs": [],
   "source": [
    "# less than or equal to\n",
    "1 <= 1\n",
    "\n",
    "# greater than or equal to\n",
    "1 >= 2"
   ]
  },
  {
   "cell_type": "code",
   "execution_count": null,
   "id": "a9577874",
   "metadata": {},
   "outputs": [],
   "source": [
    "# not equivalent\n",
    "1 != 2\n",
    "\n",
    "1 != 1"
   ]
  },
  {
   "cell_type": "code",
   "execution_count": null,
   "id": "257a09dc",
   "metadata": {},
   "outputs": [],
   "source": [
    "# returns the opposite logical value\n",
    "!TRUE\n",
    "!FALSE\n",
    "\n",
    "# works with variables\n",
    "x=FALSE\n",
    "\n",
    "!x"
   ]
  },
  {
   "cell_type": "code",
   "execution_count": null,
   "id": "03aebacc",
   "metadata": {},
   "outputs": [],
   "source": [
    "# & is logical AND which compares two values and returns TRUE if both are true\n",
    "TRUE & TRUE\n",
    "TRUE & FALSE\n",
    "FALSE & FALSE"
   ]
  },
  {
   "cell_type": "code",
   "execution_count": null,
   "id": "250d9af0",
   "metadata": {},
   "outputs": [],
   "source": [
    "# \" is logical OR which compares two values and returns TRUE if one or the other is TRUE\n",
    "TRUE | TRUE\n",
    "TRUE | FALSE\n",
    "FALSE | FALSE"
   ]
  },
  {
   "cell_type": "markdown",
   "id": "f25354a5",
   "metadata": {},
   "source": [
    "# Logic expressions as triggers for other events\n",
    "`if`, `else`, and `else if` structure"
   ]
  },
  {
   "cell_type": "code",
   "execution_count": null,
   "id": "790df4ef",
   "metadata": {},
   "outputs": [],
   "source": [
    "x = TRUE\n",
    "if(x==TRUE){\n",
    "    print(\"x is true\")\n",
    "}\n",
    "\n",
    "# if x were not true, then nothing happens, the code simply continues on"
   ]
  },
  {
   "cell_type": "code",
   "execution_count": null,
   "id": "6c049c29",
   "metadata": {},
   "outputs": [],
   "source": [
    "x = FALSE\n",
    "if(x==TRUE){\n",
    "    print(\"x is true\")\n",
    "} else {\n",
    "    print(\"x is false\")\n",
    "}"
   ]
  },
  {
   "cell_type": "code",
   "execution_count": null,
   "id": "bcce998f",
   "metadata": {},
   "outputs": [],
   "source": [
    "# you can play around with the value of x here and rerun the block\n",
    "x = 3\n",
    "\n",
    "if(x==1){\n",
    "    print(\"x equals 1\")\n",
    "} else if(x==2){\n",
    "    print(\"x equals 2\")\n",
    "} else if(x==3){\n",
    "    print(\"x equals 3\")\n",
    "} else {\n",
    "    print(\"out of conditions\")\n",
    "}"
   ]
  },
  {
   "cell_type": "markdown",
   "id": "feadb457",
   "metadata": {},
   "source": [
    "# Loops are how code can repeat certain actions\n",
    "`while` loop vs `for` loop"
   ]
  },
  {
   "cell_type": "markdown",
   "id": "b632d45e",
   "metadata": {},
   "source": [
    "## while() is for logical tests\n",
    "`while(logical test is true){\n",
    "    do a thing\n",
    "    iterate the logical test, else you end up in an infinite loop\n",
    "}`"
   ]
  },
  {
   "cell_type": "code",
   "execution_count": null,
   "id": "d6529a5b",
   "metadata": {
    "scrolled": true
   },
   "outputs": [],
   "source": [
    "x = 1\n",
    "while(x < 5){\n",
    "    print(x)\n",
    "    x=x+1 # if you don't iterate your variable/counter, you will end up in an endless loop\n",
    "}"
   ]
  },
  {
   "cell_type": "markdown",
   "id": "a2eb3c38",
   "metadata": {},
   "source": [
    "## for() works to iterate through items in a vector such as a list, etc [naturally iterates through items in the list]\n",
    "`for(item in a list){\n",
    "    do thing to / with item\n",
    "}`"
   ]
  },
  {
   "cell_type": "code",
   "execution_count": null,
   "id": "bfc99e21",
   "metadata": {},
   "outputs": [],
   "source": [
    "# prints items in a vector, 1:5 is an integer vector meaning 1, 2, 3, 4, 5\n",
    "for(x in 1:5){\n",
    "    print(x)\n",
    "}"
   ]
  },
  {
   "cell_type": "code",
   "execution_count": null,
   "id": "8d0b0daa",
   "metadata": {},
   "outputs": [],
   "source": [
    "# c() combines items into a vector, regardless of type\n",
    "vector = c(\"apple\", \"orange\", \"banana\", 5, 10)\n",
    "for(item in vector){\n",
    "    print(item)\n",
    "}"
   ]
  },
  {
   "cell_type": "markdown",
   "id": "44e0c4b4",
   "metadata": {},
   "source": [
    "## A way to get the numerical value instead of the actual vector item, which can then be used to access elements of lists"
   ]
  },
  {
   "cell_type": "code",
   "execution_count": null,
   "id": "472e2d70",
   "metadata": {},
   "outputs": [],
   "source": [
    "vec2 = c(\"one\",\"two\", 3, TRUE, FALSE)\n",
    "\n",
    "# length() provides the count of items, starting from 1\n",
    "length(vec2)\n",
    "\n",
    "# recall that this would just indicate a vector of 1, 2, 3, 4, 5\n",
    "1:5\n",
    "\n",
    "# so then this just serially prints each number\n",
    "for(i in 1:length(vec2)){\n",
    "    print(i)\n",
    "}"
   ]
  },
  {
   "cell_type": "markdown",
   "id": "b7803057",
   "metadata": {},
   "source": [
    "## This method can be used to access the same elements in order"
   ]
  },
  {
   "cell_type": "code",
   "execution_count": null,
   "id": "541efc27",
   "metadata": {},
   "outputs": [],
   "source": [
    "for(i in 1:length(vec2)){\n",
    "    print( vec2[i])\n",
    "}"
   ]
  },
  {
   "cell_type": "markdown",
   "id": "7712a6f4",
   "metadata": {},
   "source": [
    "## Or starting from a different element if we change the 1"
   ]
  },
  {
   "cell_type": "code",
   "execution_count": null,
   "id": "cd914a22",
   "metadata": {},
   "outputs": [],
   "source": [
    "# elements 3 to the end\n",
    "for(i in 3:length(vec2)){\n",
    "    print( vec2[i])\n",
    "}"
   ]
  },
  {
   "cell_type": "markdown",
   "id": "8fd3f95a",
   "metadata": {},
   "source": [
    "## You could also specify both numbers"
   ]
  },
  {
   "cell_type": "code",
   "execution_count": null,
   "id": "9a590648",
   "metadata": {},
   "outputs": [],
   "source": [
    "# elements 2 through 4 \n",
    "for(i in 2:4){\n",
    "    print( vec2[i])\n",
    "}"
   ]
  },
  {
   "cell_type": "markdown",
   "id": "e3de11d8",
   "metadata": {},
   "source": [
    "## This can also be used in something else that has elements in a vector as well, for example the first vector"
   ]
  },
  {
   "cell_type": "code",
   "execution_count": null,
   "id": "fd4c483c",
   "metadata": {},
   "outputs": [],
   "source": [
    "for(i in 1:length(vec2)){\n",
    "    print( vector[i] )\n",
    "}"
   ]
  },
  {
   "cell_type": "markdown",
   "id": "85af4302",
   "metadata": {},
   "source": [
    "## Nested `for` loops can be used to iterate through two different vectors or multiple dimensions of one object (will show alongside dataframes)"
   ]
  },
  {
   "cell_type": "code",
   "execution_count": null,
   "id": "a944f55e",
   "metadata": {},
   "outputs": [],
   "source": [
    "x = 1:5\n",
    "y = c(\"a\", \"b\", \"c\")\n",
    "\n",
    "for(i in x){\n",
    "    for(j in y){\n",
    "        # cat is concatenate and print\n",
    "        # %i is for integer\n",
    "        # \\n is the new line character\n",
    "        cat(sprintf(\"(%i, %s)\\n\", i, j))\n",
    "    }\n",
    "}"
   ]
  },
  {
   "cell_type": "markdown",
   "id": "77e49d03",
   "metadata": {},
   "source": [
    "# Working with the file directory"
   ]
  },
  {
   "cell_type": "markdown",
   "id": "55e53ddc",
   "metadata": {},
   "source": [
    "## Get the current working directory, default is the folder the script is in"
   ]
  },
  {
   "cell_type": "code",
   "execution_count": null,
   "id": "ab7ca9ab",
   "metadata": {},
   "outputs": [],
   "source": [
    "wd <- getwd()\n",
    "wd"
   ]
  },
  {
   "cell_type": "markdown",
   "id": "8f4dd0c2",
   "metadata": {},
   "source": [
    "## Get the basename of the input directory path, using the working directory as an example"
   ]
  },
  {
   "cell_type": "code",
   "execution_count": null,
   "id": "4b5f0bb4",
   "metadata": {},
   "outputs": [],
   "source": [
    "basename(wd)"
   ]
  },
  {
   "cell_type": "markdown",
   "id": "28fe6020",
   "metadata": {},
   "source": [
    "## List the files of the input directory path, using the working directory as an example"
   ]
  },
  {
   "cell_type": "code",
   "execution_count": null,
   "id": "85d6c811",
   "metadata": {},
   "outputs": [],
   "source": [
    "list.files(wd)"
   ]
  },
  {
   "cell_type": "markdown",
   "id": "8c4b3af2",
   "metadata": {},
   "source": [
    "## Add strings to each other using `paste()`, the default separation string is one space"
   ]
  },
  {
   "cell_type": "code",
   "execution_count": null,
   "id": "c733936d",
   "metadata": {},
   "outputs": [],
   "source": [
    "# default behavior is to separate each string with a space, \" \"\n",
    "paste(\"this\",\"that\",\"and another thing\",\".\")\n",
    "\n",
    "# but you can change that\n",
    "paste(\"this\",\"that\",\"and another thing\",\".\",sep=\", \")"
   ]
  },
  {
   "cell_type": "markdown",
   "id": "79e9125d",
   "metadata": {},
   "source": [
    "### `paste0()` default separate is no space"
   ]
  },
  {
   "cell_type": "code",
   "execution_count": null,
   "id": "ae4c4b56",
   "metadata": {},
   "outputs": [],
   "source": [
    "paste0(\"No\",\"Space\")"
   ]
  },
  {
   "cell_type": "code",
   "execution_count": null,
   "id": "dea6b20b",
   "metadata": {},
   "outputs": [],
   "source": []
  }
 ],
 "metadata": {
  "kernelspec": {
   "display_name": "R",
   "language": "R",
   "name": "ir"
  },
  "language_info": {
   "codemirror_mode": "r",
   "file_extension": ".r",
   "mimetype": "text/x-r-source",
   "name": "R",
   "pygments_lexer": "r",
   "version": "4.4.0"
  }
 },
 "nbformat": 4,
 "nbformat_minor": 5
}
