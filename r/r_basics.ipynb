{
 "cells": [
  {
   "cell_type": "markdown",
   "id": "b3d312ca",
   "metadata": {},
   "source": [
    "# Code written for learning some rudimentary R through jupyter-notebooks"
   ]
  },
  {
   "cell_type": "markdown",
   "id": "2beff9d3",
   "metadata": {},
   "source": [
    "# In notebooks, we have two different types of cells\n",
    "    This one is a Markdown cell"
   ]
  },
  {
   "cell_type": "code",
   "execution_count": 1,
   "id": "b601a1d3",
   "metadata": {},
   "outputs": [
    {
     "name": "stdout",
     "output_type": "stream",
     "text": [
      "Hello World"
     ]
    }
   ],
   "source": [
    "# This one is an R cell,\n",
    "cat(\"Hello World\")\n",
    "\n",
    "# all of these code blocks should run in any R integrated development environment (IDE) such as RStudio and RGUI\n",
    "\n",
    "# comments in R use the # symbol, this can be used to leave comments on code, or to disable code\n",
    "# print(\"Hello World\")"
   ]
  },
  {
   "cell_type": "markdown",
   "id": "a2807630",
   "metadata": {},
   "source": [
    "# A couple benefits of a notebook over a regular R file is being able to intersperse markdown cells in your code for better commenting, and also to have your program be split up into cells, so you can work on one chunk of code at a time.\n",
    "You can see some of the basic syntax for markdown [here](https://rmarkdown.rstudio.com/authoring_basics.html)\n",
    "\n",
    "I also recommend taking a moment to learn the keyboard shortcuts of Jupyter Notebook, looking at `insert`, `cell` above.  Or keep in mind that they exist for when you want to save time later.\n",
    "    \n",
    "One I use often is `ctrl+/` which comments and uncomments lines in both the markdown and code cells"
   ]
  },
  {
   "cell_type": "code",
   "execution_count": 2,
   "id": "da9e7a48",
   "metadata": {},
   "outputs": [
    {
     "data": {
      "text/html": [
       "5"
      ],
      "text/latex": [
       "5"
      ],
      "text/markdown": [
       "5"
      ],
      "text/plain": [
       "[1] 5"
      ]
     },
     "metadata": {},
     "output_type": "display_data"
    }
   ],
   "source": [
    "# You will likely see code that loads packages for more complex functionality, \n",
    "# but R does have many things built in\n",
    "1+4"
   ]
  },
  {
   "cell_type": "markdown",
   "id": "e2a77300",
   "metadata": {},
   "source": [
    "# There are several ways to display outputs"
   ]
  },
  {
   "cell_type": "code",
   "execution_count": 66,
   "id": "97740842",
   "metadata": {},
   "outputs": [
    {
     "name": "stdout",
     "output_type": "stream",
     "text": [
      "concatenate multiple things TRUE 3 \n"
     ]
    }
   ],
   "source": [
    "#cat() is concatenate and display on the standard output stream\n",
    "#it also recognizes escape characters like \\n for new line\n",
    "cat(\"concatenate\", \"multiple\", \"things\", TRUE, 3, \"\\n\")"
   ]
  },
  {
   "cell_type": "code",
   "execution_count": 67,
   "id": "8b796f51-3959-4771-9ac1-e72be6e8c5f4",
   "metadata": {},
   "outputs": [
    {
     "name": "stdout",
     "output_type": "stream",
     "text": [
      "[1] \"print does not recognize \\n, but default ends with a new line\"\n",
      "[1] \"and can only take one input\"\n"
     ]
    }
   ],
   "source": [
    "# print function\n",
    "print(\"print does not recognize \\n, but default ends with a new line\")\n",
    "print(\"and can only take one input\")"
   ]
  },
  {
   "cell_type": "code",
   "execution_count": 70,
   "id": "6bb659d1-d038-4303-ae99-ad9ced36d44b",
   "metadata": {},
   "outputs": [
    {
     "name": "stderr",
     "output_type": "stream",
     "text": [
      "error stream\n",
      "\n"
     ]
    }
   ],
   "source": [
    "# message() used for error messages on the standard error stream\n",
    "message(\"error\",\" \",\"stream\")\n",
    "\n",
    "#read more here: https://en.wikipedia.org/wiki/Standard_streams"
   ]
  },
  {
   "cell_type": "code",
   "execution_count": 71,
   "id": "8fa9546f",
   "metadata": {},
   "outputs": [
    {
     "name": "stdout",
     "output_type": "stream",
     "text": [
      "\\ back slash \n",
      " newline, \" quotes ' \t horizontal tab\n",
      " OVERWRITEreturn \n",
      " ca to backspace"
     ]
    }
   ],
   "source": [
    "# other escape characters\n",
    "cat(\"\\\\ back slash \\n newline, \\\" quotes \\' \\t horizontal tab\")\n",
    "# continues without stopping, \\r and \\b not that useful\n",
    "cat(\"\\n carriage return \\r OVERWRITE\")\n",
    "\n",
    "cat(\"\\n can\\b to backspace\")"
   ]
  },
  {
   "cell_type": "markdown",
   "id": "fce5436b",
   "metadata": {},
   "source": [
    "# A variable is something that holds another value, in math it's used to store numbers, in code it can store many other things"
   ]
  },
  {
   "cell_type": "code",
   "execution_count": 72,
   "id": "9aa92c4d",
   "metadata": {},
   "outputs": [],
   "source": [
    "# storing things in variables\n",
    "variableA <- 3\n",
    "variableB <- \"this\"\n",
    "variableC <- 1:5\n",
    "variableD <- list(variableA, variableB, variableC)"
   ]
  },
  {
   "cell_type": "code",
   "execution_count": 74,
   "id": "fe0c2c03-337c-423f-aecc-021df1b8007c",
   "metadata": {},
   "outputs": [
    {
     "data": {
      "text/html": [
       "3"
      ],
      "text/latex": [
       "3"
      ],
      "text/markdown": [
       "3"
      ],
      "text/plain": [
       "[1] 3"
      ]
     },
     "metadata": {},
     "output_type": "display_data"
    }
   ],
   "source": [
    "# displaying things in variables to output\n",
    "variableA"
   ]
  },
  {
   "cell_type": "code",
   "execution_count": 75,
   "id": "310e6ca3-ac97-4ed7-9029-b0b34ccbe4c6",
   "metadata": {},
   "outputs": [
    {
     "data": {
      "text/html": [
       "'this'"
      ],
      "text/latex": [
       "'this'"
      ],
      "text/markdown": [
       "'this'"
      ],
      "text/plain": [
       "[1] \"this\""
      ]
     },
     "metadata": {},
     "output_type": "display_data"
    }
   ],
   "source": [
    "variableB"
   ]
  },
  {
   "cell_type": "code",
   "execution_count": 76,
   "id": "08df432b-fce4-477f-8c04-eae5691ebe04",
   "metadata": {},
   "outputs": [
    {
     "data": {
      "text/html": [
       "<style>\n",
       ".list-inline {list-style: none; margin:0; padding: 0}\n",
       ".list-inline>li {display: inline-block}\n",
       ".list-inline>li:not(:last-child)::after {content: \"\\00b7\"; padding: 0 .5ex}\n",
       "</style>\n",
       "<ol class=list-inline><li>1</li><li>2</li><li>3</li><li>4</li><li>5</li></ol>\n"
      ],
      "text/latex": [
       "\\begin{enumerate*}\n",
       "\\item 1\n",
       "\\item 2\n",
       "\\item 3\n",
       "\\item 4\n",
       "\\item 5\n",
       "\\end{enumerate*}\n"
      ],
      "text/markdown": [
       "1. 1\n",
       "2. 2\n",
       "3. 3\n",
       "4. 4\n",
       "5. 5\n",
       "\n",
       "\n"
      ],
      "text/plain": [
       "[1] 1 2 3 4 5"
      ]
     },
     "metadata": {},
     "output_type": "display_data"
    }
   ],
   "source": [
    "variableC"
   ]
  },
  {
   "cell_type": "code",
   "execution_count": 77,
   "id": "af027a91-183d-4b42-af84-66aca56d6da5",
   "metadata": {},
   "outputs": [
    {
     "data": {
      "text/html": [
       "<ol>\n",
       "\t<li>3</li>\n",
       "\t<li>'this'</li>\n",
       "\t<li><style>\n",
       ".list-inline {list-style: none; margin:0; padding: 0}\n",
       ".list-inline>li {display: inline-block}\n",
       ".list-inline>li:not(:last-child)::after {content: \"\\00b7\"; padding: 0 .5ex}\n",
       "</style>\n",
       "<ol class=list-inline><li>1</li><li>2</li><li>3</li><li>4</li><li>5</li></ol>\n",
       "</li>\n",
       "</ol>\n"
      ],
      "text/latex": [
       "\\begin{enumerate}\n",
       "\\item 3\n",
       "\\item 'this'\n",
       "\\item \\begin{enumerate*}\n",
       "\\item 1\n",
       "\\item 2\n",
       "\\item 3\n",
       "\\item 4\n",
       "\\item 5\n",
       "\\end{enumerate*}\n",
       "\n",
       "\\end{enumerate}\n"
      ],
      "text/markdown": [
       "1. 3\n",
       "2. 'this'\n",
       "3. 1. 1\n",
       "2. 2\n",
       "3. 3\n",
       "4. 4\n",
       "5. 5\n",
       "\n",
       "\n",
       "\n",
       "\n",
       "\n"
      ],
      "text/plain": [
       "[[1]]\n",
       "[1] 3\n",
       "\n",
       "[[2]]\n",
       "[1] \"this\"\n",
       "\n",
       "[[3]]\n",
       "[1] 1 2 3 4 5\n"
      ]
     },
     "metadata": {},
     "output_type": "display_data"
    }
   ],
   "source": [
    "variableD"
   ]
  },
  {
   "cell_type": "markdown",
   "id": "6f08e50c",
   "metadata": {},
   "source": [
    "## Variables can be used to represent the same value repeatedly"
   ]
  },
  {
   "cell_type": "code",
   "execution_count": 6,
   "id": "fb3ba9db",
   "metadata": {},
   "outputs": [
    {
     "data": {
      "text/html": [
       "42"
      ],
      "text/latex": [
       "42"
      ],
      "text/markdown": [
       "42"
      ],
      "text/plain": [
       "[1] 42"
      ]
     },
     "metadata": {},
     "output_type": "display_data"
    },
    {
     "data": {
      "text/html": [
       "43"
      ],
      "text/latex": [
       "43"
      ],
      "text/markdown": [
       "43"
      ],
      "text/plain": [
       "[1] 43"
      ]
     },
     "metadata": {},
     "output_type": "display_data"
    },
    {
     "data": {
      "text/html": [
       "44"
      ],
      "text/latex": [
       "44"
      ],
      "text/markdown": [
       "44"
      ],
      "text/plain": [
       "[1] 44"
      ]
     },
     "metadata": {},
     "output_type": "display_data"
    },
    {
     "data": {
      "text/html": [
       "45"
      ],
      "text/latex": [
       "45"
      ],
      "text/markdown": [
       "45"
      ],
      "text/plain": [
       "[1] 45"
      ]
     },
     "metadata": {},
     "output_type": "display_data"
    }
   ],
   "source": [
    "a<-42\n",
    "a\n",
    "a+1\n",
    "a+2\n",
    "a+3"
   ]
  },
  {
   "cell_type": "markdown",
   "id": "58dc76a2",
   "metadata": {},
   "source": [
    "## Their value will only change when something changes it"
   ]
  },
  {
   "cell_type": "code",
   "execution_count": 7,
   "id": "122087f1",
   "metadata": {},
   "outputs": [
    {
     "data": {
      "text/html": [
       "42"
      ],
      "text/latex": [
       "42"
      ],
      "text/markdown": [
       "42"
      ],
      "text/plain": [
       "[1] 42"
      ]
     },
     "metadata": {},
     "output_type": "display_data"
    },
    {
     "data": {
      "text/html": [
       "11"
      ],
      "text/latex": [
       "11"
      ],
      "text/markdown": [
       "11"
      ],
      "text/plain": [
       "[1] 11"
      ]
     },
     "metadata": {},
     "output_type": "display_data"
    }
   ],
   "source": [
    "a <- 42\n",
    "a\n",
    "\n",
    "a <- 5 + 6\n",
    "a"
   ]
  },
  {
   "cell_type": "markdown",
   "id": "dcc84878",
   "metadata": {},
   "source": [
    "## When storing in a variable, the processing/calculation happens first, so you can self reference after a variable has already been made"
   ]
  },
  {
   "cell_type": "code",
   "execution_count": 8,
   "id": "54b7b484",
   "metadata": {},
   "outputs": [
    {
     "data": {
      "text/html": [
       "42"
      ],
      "text/latex": [
       "42"
      ],
      "text/markdown": [
       "42"
      ],
      "text/plain": [
       "[1] 42"
      ]
     },
     "metadata": {},
     "output_type": "display_data"
    },
    {
     "data": {
      "text/html": [
       "84"
      ],
      "text/latex": [
       "84"
      ],
      "text/markdown": [
       "84"
      ],
      "text/plain": [
       "[1] 84"
      ]
     },
     "metadata": {},
     "output_type": "display_data"
    }
   ],
   "source": [
    "a = 42\n",
    "a\n",
    "\n",
    "a = a*2\n",
    "a"
   ]
  },
  {
   "cell_type": "markdown",
   "id": "a1f58b07",
   "metadata": {},
   "source": [
    "## side note: generally R does not care about spacing, so it's mainly whatever is legible for you"
   ]
  },
  {
   "cell_type": "code",
   "execution_count": 9,
   "id": "5ba303e6",
   "metadata": {},
   "outputs": [
    {
     "data": {
      "text/html": [
       "5"
      ],
      "text/latex": [
       "5"
      ],
      "text/markdown": [
       "5"
      ],
      "text/plain": [
       "[1] 5"
      ]
     },
     "metadata": {},
     "output_type": "display_data"
    },
    {
     "data": {
      "text/html": [
       "'this'"
      ],
      "text/latex": [
       "'this'"
      ],
      "text/markdown": [
       "'this'"
      ],
      "text/plain": [
       "[1] \"this\""
      ]
     },
     "metadata": {},
     "output_type": "display_data"
    },
    {
     "name": "stdout",
     "output_type": "stream",
     "text": [
      "[1] 42\n"
     ]
    }
   ],
   "source": [
    "a  <-                    5\n",
    "a\n",
    "\n",
    "b<-'this'\n",
    "b\n",
    "\n",
    "print(                         42                         )"
   ]
  },
  {
   "cell_type": "markdown",
   "id": "ba5e0ed9",
   "metadata": {},
   "source": [
    "# Note that `=` and `<-` or `->` are assignment operators in R, but do have some nuances\n",
    "There's also `<<-` and `->>`, read more [here](https://www.rdocumentation.org/packages/base/versions/3.6.2/topics/assignOps)"
   ]
  },
  {
   "cell_type": "code",
   "execution_count": 10,
   "id": "bc10f5a4",
   "metadata": {},
   "outputs": [
    {
     "data": {
      "text/html": [
       "5"
      ],
      "text/latex": [
       "5"
      ],
      "text/markdown": [
       "5"
      ],
      "text/plain": [
       "[1] 5"
      ]
     },
     "metadata": {},
     "output_type": "display_data"
    },
    {
     "data": {
      "text/html": [
       "7"
      ],
      "text/latex": [
       "7"
      ],
      "text/markdown": [
       "7"
      ],
      "text/plain": [
       "[1] 7"
      ]
     },
     "metadata": {},
     "output_type": "display_data"
    },
    {
     "name": "stdout",
     "output_type": "stream",
     "text": [
      "[1] 9\n"
     ]
    }
   ],
   "source": [
    "# strictly assigns right value to left variable\n",
    "a = 5\n",
    "\n",
    "# Are visibly directional:\n",
    "b <- 7\n",
    "9 -> c\n",
    "\n",
    "# calling the name of a variable will display it in the shell,\n",
    "    # but is distinct from print which displays on both the shell and when run as script?\n",
    "a\n",
    "b\n",
    "print(c)\n"
   ]
  },
  {
   "cell_type": "markdown",
   "id": "ee269c01",
   "metadata": {},
   "source": [
    "# You can use ls() to see variables in the environment"
   ]
  },
  {
   "cell_type": "code",
   "execution_count": 39,
   "id": "5e34f8da",
   "metadata": {},
   "outputs": [
    {
     "data": {
      "text/html": [
       "<style>\n",
       ".list-inline {list-style: none; margin:0; padding: 0}\n",
       ".list-inline>li {display: inline-block}\n",
       ".list-inline>li:not(:last-child)::after {content: \"\\00b7\"; padding: 0 .5ex}\n",
       "</style>\n",
       "<ol class=list-inline><li>'aList'</li><li>'bList'</li><li>'bool'</li><li>'char'</li><li>'combined'</li><li>'complex'</li><li>'float'</li><li>'functionName'</li><li>'i'</li><li>'nList'</li><li>'str'</li><li>'usingC'</li><li>'usingList'</li><li>'value'</li><li>'variableA'</li><li>'variableB'</li><li>'variableC'</li><li>'variableD'</li><li>'vecN'</li><li>'vector'</li></ol>\n"
      ],
      "text/latex": [
       "\\begin{enumerate*}\n",
       "\\item 'aList'\n",
       "\\item 'bList'\n",
       "\\item 'bool'\n",
       "\\item 'char'\n",
       "\\item 'combined'\n",
       "\\item 'complex'\n",
       "\\item 'float'\n",
       "\\item 'functionName'\n",
       "\\item 'i'\n",
       "\\item 'nList'\n",
       "\\item 'str'\n",
       "\\item 'usingC'\n",
       "\\item 'usingList'\n",
       "\\item 'value'\n",
       "\\item 'variableA'\n",
       "\\item 'variableB'\n",
       "\\item 'variableC'\n",
       "\\item 'variableD'\n",
       "\\item 'vecN'\n",
       "\\item 'vector'\n",
       "\\end{enumerate*}\n"
      ],
      "text/markdown": [
       "1. 'aList'\n",
       "2. 'bList'\n",
       "3. 'bool'\n",
       "4. 'char'\n",
       "5. 'combined'\n",
       "6. 'complex'\n",
       "7. 'float'\n",
       "8. 'functionName'\n",
       "9. 'i'\n",
       "10. 'nList'\n",
       "11. 'str'\n",
       "12. 'usingC'\n",
       "13. 'usingList'\n",
       "14. 'value'\n",
       "15. 'variableA'\n",
       "16. 'variableB'\n",
       "17. 'variableC'\n",
       "18. 'variableD'\n",
       "19. 'vecN'\n",
       "20. 'vector'\n",
       "\n",
       "\n"
      ],
      "text/plain": [
       " [1] \"aList\"        \"bList\"        \"bool\"         \"char\"         \"combined\"    \n",
       " [6] \"complex\"      \"float\"        \"functionName\" \"i\"            \"nList\"       \n",
       "[11] \"str\"          \"usingC\"       \"usingList\"    \"value\"        \"variableA\"   \n",
       "[16] \"variableB\"    \"variableC\"    \"variableD\"    \"vecN\"         \"vector\"      "
      ]
     },
     "metadata": {},
     "output_type": "display_data"
    }
   ],
   "source": [
    "# list objects\n",
    "ls()"
   ]
  },
  {
   "cell_type": "markdown",
   "id": "ce2faa6a",
   "metadata": {},
   "source": [
    "# You can use rm() to remove specific items"
   ]
  },
  {
   "cell_type": "code",
   "execution_count": 12,
   "id": "fac4d538",
   "metadata": {},
   "outputs": [
    {
     "data": {
      "text/html": [
       "<style>\n",
       ".list-inline {list-style: none; margin:0; padding: 0}\n",
       ".list-inline>li {display: inline-block}\n",
       ".list-inline>li:not(:last-child)::after {content: \"\\00b7\"; padding: 0 .5ex}\n",
       "</style>\n",
       "<ol class=list-inline><li>'variableA'</li><li>'variableB'</li><li>'variableC'</li><li>'variableD'</li></ol>\n"
      ],
      "text/latex": [
       "\\begin{enumerate*}\n",
       "\\item 'variableA'\n",
       "\\item 'variableB'\n",
       "\\item 'variableC'\n",
       "\\item 'variableD'\n",
       "\\end{enumerate*}\n"
      ],
      "text/markdown": [
       "1. 'variableA'\n",
       "2. 'variableB'\n",
       "3. 'variableC'\n",
       "4. 'variableD'\n",
       "\n",
       "\n"
      ],
      "text/plain": [
       "[1] \"variableA\" \"variableB\" \"variableC\" \"variableD\""
      ]
     },
     "metadata": {},
     "output_type": "display_data"
    }
   ],
   "source": [
    "rm(a)\n",
    "rm(b, c) # can put multiple things to remove\n",
    "ls()"
   ]
  },
  {
   "cell_type": "markdown",
   "id": "8361baf3-c132-4edf-8a10-fd314dc8ca62",
   "metadata": {},
   "source": [
    "# You can use rm() to remove all items by giving it the list of all objects in the environment"
   ]
  },
  {
   "cell_type": "code",
   "execution_count": 43,
   "id": "7decaed5-3292-47dd-afe5-863043af829b",
   "metadata": {},
   "outputs": [
    {
     "data": {
      "text/html": [],
      "text/latex": [],
      "text/markdown": [],
      "text/plain": [
       "character(0)"
      ]
     },
     "metadata": {},
     "output_type": "display_data"
    }
   ],
   "source": [
    "rm(list = ls())\n",
    "ls()"
   ]
  },
  {
   "cell_type": "markdown",
   "id": "e3df8d0a",
   "metadata": {},
   "source": [
    "# Common Data Types in R, which can be seen by using the class() function"
   ]
  },
  {
   "cell_type": "markdown",
   "id": "706546e2",
   "metadata": {},
   "source": [
    "## logical"
   ]
  },
  {
   "cell_type": "code",
   "execution_count": 44,
   "id": "25b20979",
   "metadata": {},
   "outputs": [
    {
     "data": {
      "text/html": [
       "TRUE"
      ],
      "text/latex": [
       "TRUE"
      ],
      "text/markdown": [
       "TRUE"
      ],
      "text/plain": [
       "[1] TRUE"
      ]
     },
     "metadata": {},
     "output_type": "display_data"
    },
    {
     "data": {
      "text/html": [
       "'logical'"
      ],
      "text/latex": [
       "'logical'"
      ],
      "text/markdown": [
       "'logical'"
      ],
      "text/plain": [
       "[1] \"logical\""
      ]
     },
     "metadata": {},
     "output_type": "display_data"
    }
   ],
   "source": [
    "bool <- TRUE\n",
    "bool\n",
    "class(bool)"
   ]
  },
  {
   "cell_type": "markdown",
   "id": "4f571a80",
   "metadata": {},
   "source": [
    "## numeric"
   ]
  },
  {
   "cell_type": "code",
   "execution_count": 45,
   "id": "c8475ece",
   "metadata": {},
   "outputs": [
    {
     "data": {
      "text/html": [
       "3.14"
      ],
      "text/latex": [
       "3.14"
      ],
      "text/markdown": [
       "3.14"
      ],
      "text/plain": [
       "[1] 3.14"
      ]
     },
     "metadata": {},
     "output_type": "display_data"
    },
    {
     "data": {
      "text/html": [
       "'numeric'"
      ],
      "text/latex": [
       "'numeric'"
      ],
      "text/markdown": [
       "'numeric'"
      ],
      "text/plain": [
       "[1] \"numeric\""
      ]
     },
     "metadata": {},
     "output_type": "display_data"
    },
    {
     "data": {
      "text/html": [
       "42"
      ],
      "text/latex": [
       "42"
      ],
      "text/markdown": [
       "42"
      ],
      "text/plain": [
       "[1] 42"
      ]
     },
     "metadata": {},
     "output_type": "display_data"
    },
    {
     "data": {
      "text/html": [
       "'numeric'"
      ],
      "text/latex": [
       "'numeric'"
      ],
      "text/markdown": [
       "'numeric'"
      ],
      "text/plain": [
       "[1] \"numeric\""
      ]
     },
     "metadata": {},
     "output_type": "display_data"
    }
   ],
   "source": [
    "float <- 3.14\n",
    "float\n",
    "class(float)\n",
    "\n",
    "value <- 42\n",
    "value\n",
    "class(value)"
   ]
  },
  {
   "cell_type": "markdown",
   "id": "31f35ea8",
   "metadata": {},
   "source": [
    "## integer, whole numbers take up less space in memory if that is a concern"
   ]
  },
  {
   "cell_type": "code",
   "execution_count": 46,
   "id": "fc4baad2",
   "metadata": {},
   "outputs": [
    {
     "data": {
      "text/html": [
       "3"
      ],
      "text/latex": [
       "3"
      ],
      "text/markdown": [
       "3"
      ],
      "text/plain": [
       "[1] 3"
      ]
     },
     "metadata": {},
     "output_type": "display_data"
    },
    {
     "data": {
      "text/html": [
       "'integer'"
      ],
      "text/latex": [
       "'integer'"
      ],
      "text/markdown": [
       "'integer'"
      ],
      "text/plain": [
       "[1] \"integer\""
      ]
     },
     "metadata": {},
     "output_type": "display_data"
    }
   ],
   "source": [
    "i <- as.integer(3.14)\n",
    "i\n",
    "class(i)"
   ]
  },
  {
   "cell_type": "markdown",
   "id": "008175da",
   "metadata": {},
   "source": [
    "## complex, can store imaginary values"
   ]
  },
  {
   "cell_type": "code",
   "execution_count": 47,
   "id": "e26169cd",
   "metadata": {},
   "outputs": [
    {
     "data": {
      "text/html": [
       "3+2i"
      ],
      "text/latex": [
       "3+2i"
      ],
      "text/markdown": [
       "3+2i"
      ],
      "text/plain": [
       "[1] 3+2i"
      ]
     },
     "metadata": {},
     "output_type": "display_data"
    },
    {
     "data": {
      "text/html": [
       "'complex'"
      ],
      "text/latex": [
       "'complex'"
      ],
      "text/markdown": [
       "'complex'"
      ],
      "text/plain": [
       "[1] \"complex\""
      ]
     },
     "metadata": {},
     "output_type": "display_data"
    }
   ],
   "source": [
    "complex <- 3+2i\n",
    "complex\n",
    "class(complex)"
   ]
  },
  {
   "cell_type": "markdown",
   "id": "cefa18b5",
   "metadata": {},
   "source": [
    "## character, includes strings (note R does not distinguish ' and \" )"
   ]
  },
  {
   "cell_type": "code",
   "execution_count": 48,
   "id": "84b3e9f0",
   "metadata": {},
   "outputs": [
    {
     "data": {
      "text/html": [
       "'a'"
      ],
      "text/latex": [
       "'a'"
      ],
      "text/markdown": [
       "'a'"
      ],
      "text/plain": [
       "[1] \"a\""
      ]
     },
     "metadata": {},
     "output_type": "display_data"
    },
    {
     "data": {
      "text/html": [
       "'character'"
      ],
      "text/latex": [
       "'character'"
      ],
      "text/markdown": [
       "'character'"
      ],
      "text/plain": [
       "[1] \"character\""
      ]
     },
     "metadata": {},
     "output_type": "display_data"
    },
    {
     "data": {
      "text/html": [
       "'string'"
      ],
      "text/latex": [
       "'string'"
      ],
      "text/markdown": [
       "'string'"
      ],
      "text/plain": [
       "[1] \"string\""
      ]
     },
     "metadata": {},
     "output_type": "display_data"
    },
    {
     "data": {
      "text/html": [
       "'character'"
      ],
      "text/latex": [
       "'character'"
      ],
      "text/markdown": [
       "'character'"
      ],
      "text/plain": [
       "[1] \"character\""
      ]
     },
     "metadata": {},
     "output_type": "display_data"
    }
   ],
   "source": [
    "char <- \"a\"\n",
    "char\n",
    "class(char)\n",
    "\n",
    "str <- 'string'\n",
    "str\n",
    "class(str)"
   ]
  },
  {
   "cell_type": "markdown",
   "id": "8bbcd0af",
   "metadata": {},
   "source": [
    "# Data storage / structures?  just vector and list for now"
   ]
  },
  {
   "cell_type": "markdown",
   "id": "8873e5e0",
   "metadata": {},
   "source": [
    "## Vector\n",
    "c() combines items and returns a vector of type matching input items, if input is a mix of data types, it will be a character vector\n",
    "\n",
    "A 'vector' is not really a type so much as it's just a series of one data type, so class() will return the type of item stored, rather than 'vector', whereas 'list' does refer to a specific type of object"
   ]
  },
  {
   "cell_type": "code",
   "execution_count": 49,
   "id": "d6dbfeb9",
   "metadata": {},
   "outputs": [
    {
     "data": {
      "text/html": [
       "<style>\n",
       ".list-inline {list-style: none; margin:0; padding: 0}\n",
       ".list-inline>li {display: inline-block}\n",
       ".list-inline>li:not(:last-child)::after {content: \"\\00b7\"; padding: 0 .5ex}\n",
       "</style>\n",
       "<ol class=list-inline><li>1</li><li>2</li><li>3</li></ol>\n"
      ],
      "text/latex": [
       "\\begin{enumerate*}\n",
       "\\item 1\n",
       "\\item 2\n",
       "\\item 3\n",
       "\\end{enumerate*}\n"
      ],
      "text/markdown": [
       "1. 1\n",
       "2. 2\n",
       "3. 3\n",
       "\n",
       "\n"
      ],
      "text/plain": [
       "[1] 1 2 3"
      ]
     },
     "metadata": {},
     "output_type": "display_data"
    },
    {
     "data": {
      "text/html": [
       "<style>\n",
       ".list-inline {list-style: none; margin:0; padding: 0}\n",
       ".list-inline>li {display: inline-block}\n",
       ".list-inline>li:not(:last-child)::after {content: \"\\00b7\"; padding: 0 .5ex}\n",
       "</style>\n",
       "<ol class=list-inline><li>'a'</li><li>'short'</li><li>'string'</li></ol>\n"
      ],
      "text/latex": [
       "\\begin{enumerate*}\n",
       "\\item 'a'\n",
       "\\item 'short'\n",
       "\\item 'string'\n",
       "\\end{enumerate*}\n"
      ],
      "text/markdown": [
       "1. 'a'\n",
       "2. 'short'\n",
       "3. 'string'\n",
       "\n",
       "\n"
      ],
      "text/plain": [
       "[1] \"a\"      \"short\"  \"string\""
      ]
     },
     "metadata": {},
     "output_type": "display_data"
    },
    {
     "data": {
      "text/html": [
       "<style>\n",
       ".list-inline {list-style: none; margin:0; padding: 0}\n",
       ".list-inline>li {display: inline-block}\n",
       ".list-inline>li:not(:last-child)::after {content: \"\\00b7\"; padding: 0 .5ex}\n",
       "</style>\n",
       "<ol class=list-inline><li>TRUE</li><li>FALSE</li></ol>\n"
      ],
      "text/latex": [
       "\\begin{enumerate*}\n",
       "\\item TRUE\n",
       "\\item FALSE\n",
       "\\end{enumerate*}\n"
      ],
      "text/markdown": [
       "1. TRUE\n",
       "2. FALSE\n",
       "\n",
       "\n"
      ],
      "text/plain": [
       "[1]  TRUE FALSE"
      ]
     },
     "metadata": {},
     "output_type": "display_data"
    },
    {
     "data": {
      "text/html": [
       "'logical'"
      ],
      "text/latex": [
       "'logical'"
      ],
      "text/markdown": [
       "'logical'"
      ],
      "text/plain": [
       "[1] \"logical\""
      ]
     },
     "metadata": {},
     "output_type": "display_data"
    }
   ],
   "source": [
    "# a vector can only contain one type of data, but it can be any data type\n",
    "c(1,2,3)\n",
    "c(\"a\",\"short\",\"string\")\n",
    "\n",
    "# they can be stored in variables\n",
    "vector<-c(TRUE,FALSE)\n",
    "\n",
    "vector # access it by variable name\n",
    "class(vector) # matches the type of data stored in it"
   ]
  },
  {
   "cell_type": "code",
   "execution_count": 50,
   "id": "a4b42ff2",
   "metadata": {},
   "outputs": [
    {
     "data": {
      "text/html": [
       "<style>\n",
       ".list-inline {list-style: none; margin:0; padding: 0}\n",
       ".list-inline>li {display: inline-block}\n",
       ".list-inline>li:not(:last-child)::after {content: \"\\00b7\"; padding: 0 .5ex}\n",
       "</style>\n",
       "<ol class=list-inline><li>0</li><li>0</li><li>0</li></ol>\n"
      ],
      "text/latex": [
       "\\begin{enumerate*}\n",
       "\\item 0\n",
       "\\item 0\n",
       "\\item 0\n",
       "\\end{enumerate*}\n"
      ],
      "text/markdown": [
       "1. 0\n",
       "2. 0\n",
       "3. 0\n",
       "\n",
       "\n"
      ],
      "text/plain": [
       "[1] 0 0 0"
      ]
     },
     "metadata": {},
     "output_type": "display_data"
    },
    {
     "data": {
      "text/html": [
       "<style>\n",
       ".list-inline {list-style: none; margin:0; padding: 0}\n",
       ".list-inline>li {display: inline-block}\n",
       ".list-inline>li:not(:last-child)::after {content: \"\\00b7\"; padding: 0 .5ex}\n",
       "</style>\n",
       "<ol class=list-inline><li>FALSE</li><li>FALSE</li><li>FALSE</li><li>FALSE</li></ol>\n"
      ],
      "text/latex": [
       "\\begin{enumerate*}\n",
       "\\item FALSE\n",
       "\\item FALSE\n",
       "\\item FALSE\n",
       "\\item FALSE\n",
       "\\end{enumerate*}\n"
      ],
      "text/markdown": [
       "1. FALSE\n",
       "2. FALSE\n",
       "3. FALSE\n",
       "4. FALSE\n",
       "\n",
       "\n"
      ],
      "text/plain": [
       "[1] FALSE FALSE FALSE FALSE"
      ]
     },
     "metadata": {},
     "output_type": "display_data"
    },
    {
     "data": {
      "text/html": [
       "<ol>\n",
       "\t<li>NULL</li>\n",
       "\t<li>NULL</li>\n",
       "</ol>\n"
      ],
      "text/latex": [
       "\\begin{enumerate}\n",
       "\\item NULL\n",
       "\\item NULL\n",
       "\\end{enumerate}\n"
      ],
      "text/markdown": [
       "1. NULL\n",
       "2. NULL\n",
       "\n",
       "\n"
      ],
      "text/plain": [
       "[[1]]\n",
       "NULL\n",
       "\n",
       "[[2]]\n",
       "NULL\n"
      ]
     },
     "metadata": {},
     "output_type": "display_data"
    }
   ],
   "source": [
    "#initialize a vector with default values where mode = data type, and length is how many entries it can contain\n",
    "vector(mode=\"numeric\",length=3)\n",
    "\n",
    "vector(\"logical\",length=4)\n",
    "\n",
    "vector(\"list\",length=2)"
   ]
  },
  {
   "cell_type": "code",
   "execution_count": 51,
   "id": "35860a15",
   "metadata": {},
   "outputs": [
    {
     "data": {
      "text/html": [
       "<style>\n",
       ".list-inline {list-style: none; margin:0; padding: 0}\n",
       ".list-inline>li {display: inline-block}\n",
       ".list-inline>li:not(:last-child)::after {content: \"\\00b7\"; padding: 0 .5ex}\n",
       "</style>\n",
       "<ol class=list-inline><li>0</li><li>0</li><li>0</li></ol>\n"
      ],
      "text/latex": [
       "\\begin{enumerate*}\n",
       "\\item 0\n",
       "\\item 0\n",
       "\\item 0\n",
       "\\end{enumerate*}\n"
      ],
      "text/markdown": [
       "1. 0\n",
       "2. 0\n",
       "3. 0\n",
       "\n",
       "\n"
      ],
      "text/plain": [
       "[1] 0 0 0"
      ]
     },
     "metadata": {},
     "output_type": "display_data"
    },
    {
     "data": {
      "text/html": [
       "<style>\n",
       ".list-inline {list-style: none; margin:0; padding: 0}\n",
       ".list-inline>li {display: inline-block}\n",
       ".list-inline>li:not(:last-child)::after {content: \"\\00b7\"; padding: 0 .5ex}\n",
       "</style>\n",
       "<ol class=list-inline><li>6</li><li>7</li><li>42</li></ol>\n"
      ],
      "text/latex": [
       "\\begin{enumerate*}\n",
       "\\item 6\n",
       "\\item 7\n",
       "\\item 42\n",
       "\\end{enumerate*}\n"
      ],
      "text/markdown": [
       "1. 6\n",
       "2. 7\n",
       "3. 42\n",
       "\n",
       "\n"
      ],
      "text/plain": [
       "[1]  6  7 42"
      ]
     },
     "metadata": {},
     "output_type": "display_data"
    }
   ],
   "source": [
    "# create empty vector\n",
    "vecN<-vector(\"numeric\",3)\n",
    "vecN\n",
    "\n",
    "# fill vector by numeric index\n",
    "vecN[3] = 42\n",
    "vecN[1] = 6\n",
    "vecN[2] = 7\n",
    "\n",
    "vecN"
   ]
  },
  {
   "cell_type": "markdown",
   "id": "9ecd9a73",
   "metadata": {},
   "source": [
    "## List"
   ]
  },
  {
   "cell_type": "code",
   "execution_count": 52,
   "id": "929f9a95",
   "metadata": {},
   "outputs": [
    {
     "data": {
      "text/html": [
       "<ol>\n",
       "\t<li>'a'</li>\n",
       "\t<li>TRUE</li>\n",
       "\t<li>3</li>\n",
       "</ol>\n"
      ],
      "text/latex": [
       "\\begin{enumerate}\n",
       "\\item 'a'\n",
       "\\item TRUE\n",
       "\\item 3\n",
       "\\end{enumerate}\n"
      ],
      "text/markdown": [
       "1. 'a'\n",
       "2. TRUE\n",
       "3. 3\n",
       "\n",
       "\n"
      ],
      "text/plain": [
       "[[1]]\n",
       "[1] \"a\"\n",
       "\n",
       "[[2]]\n",
       "[1] TRUE\n",
       "\n",
       "[[3]]\n",
       "[1] 3\n"
      ]
     },
     "metadata": {},
     "output_type": "display_data"
    }
   ],
   "source": [
    "# a list can contain different types of items, including more complex items and other lists\n",
    "list('a', TRUE, 3)"
   ]
  },
  {
   "cell_type": "code",
   "execution_count": 82,
   "id": "8bc69073",
   "metadata": {},
   "outputs": [
    {
     "data": {
      "text/html": [
       "<ol>\n",
       "\t<li>'a'</li>\n",
       "\t<li>TRUE</li>\n",
       "\t<li>3</li>\n",
       "</ol>\n"
      ],
      "text/latex": [
       "\\begin{enumerate}\n",
       "\\item 'a'\n",
       "\\item TRUE\n",
       "\\item 3\n",
       "\\end{enumerate}\n"
      ],
      "text/markdown": [
       "1. 'a'\n",
       "2. TRUE\n",
       "3. 3\n",
       "\n",
       "\n"
      ],
      "text/plain": [
       "[[1]]\n",
       "[1] \"a\"\n",
       "\n",
       "[[2]]\n",
       "[1] TRUE\n",
       "\n",
       "[[3]]\n",
       "[1] 3\n"
      ]
     },
     "metadata": {},
     "output_type": "display_data"
    }
   ],
   "source": [
    "# list\n",
    "usingList<-list('a', TRUE, 3)\n",
    "usingList"
   ]
  },
  {
   "cell_type": "code",
   "execution_count": 83,
   "id": "e5f3e070-5d97-4ac6-896b-58a4da36cebc",
   "metadata": {},
   "outputs": [
    {
     "data": {
      "text/html": [
       "'list'"
      ],
      "text/latex": [
       "'list'"
      ],
      "text/markdown": [
       "'list'"
      ],
      "text/plain": [
       "[1] \"list\""
      ]
     },
     "metadata": {},
     "output_type": "display_data"
    },
    {
     "data": {
      "text/html": [
       "7"
      ],
      "text/latex": [
       "7"
      ],
      "text/markdown": [
       "7"
      ],
      "text/plain": [
       "[1] 7"
      ]
     },
     "metadata": {},
     "output_type": "display_data"
    }
   ],
   "source": [
    "class(usingList)\n",
    "\n",
    "# item 3 is a numeric type, 3, so can be treated as a number\n",
    "usingList[[3]] + 4"
   ]
  },
  {
   "cell_type": "code",
   "execution_count": 84,
   "id": "60b34bdc-20a7-4c04-96c0-bb114ed15dcd",
   "metadata": {},
   "outputs": [
    {
     "data": {
      "text/html": [
       "<style>\n",
       ".list-inline {list-style: none; margin:0; padding: 0}\n",
       ".list-inline>li {display: inline-block}\n",
       ".list-inline>li:not(:last-child)::after {content: \"\\00b7\"; padding: 0 .5ex}\n",
       "</style>\n",
       "<ol class=list-inline><li>'a'</li><li>'TRUE'</li><li>'3'</li></ol>\n"
      ],
      "text/latex": [
       "\\begin{enumerate*}\n",
       "\\item 'a'\n",
       "\\item 'TRUE'\n",
       "\\item '3'\n",
       "\\end{enumerate*}\n"
      ],
      "text/markdown": [
       "1. 'a'\n",
       "2. 'TRUE'\n",
       "3. '3'\n",
       "\n",
       "\n"
      ],
      "text/plain": [
       "[1] \"a\"    \"TRUE\" \"3\"   "
      ]
     },
     "metadata": {},
     "output_type": "display_data"
    }
   ],
   "source": [
    "# concatenate\n",
    "usingC<-c('a', TRUE, 3)\n",
    "usingC"
   ]
  },
  {
   "cell_type": "code",
   "execution_count": 85,
   "id": "59e81831-5b59-4cb9-b3e0-8becb1e6165c",
   "metadata": {},
   "outputs": [
    {
     "data": {
      "text/html": [
       "'character'"
      ],
      "text/latex": [
       "'character'"
      ],
      "text/markdown": [
       "'character'"
      ],
      "text/plain": [
       "[1] \"character\""
      ]
     },
     "metadata": {},
     "output_type": "display_data"
    },
    {
     "ename": "ERROR",
     "evalue": "Error in usingC[[3]] + 4: non-numeric argument to binary operator\n",
     "output_type": "error",
     "traceback": [
      "Error in usingC[[3]] + 4: non-numeric argument to binary operator\nTraceback:\n"
     ]
    }
   ],
   "source": [
    "class(usingC)\n",
    "\n",
    "# item 3 is a character type, \"3\", so cannot be treated as a number\n",
    "usingC[[3]] + 4"
   ]
  },
  {
   "cell_type": "code",
   "execution_count": 86,
   "id": "acc8be74",
   "metadata": {},
   "outputs": [
    {
     "data": {
      "text/html": [
       "3"
      ],
      "text/latex": [
       "3"
      ],
      "text/markdown": [
       "3"
      ],
      "text/plain": [
       "[1] 3"
      ]
     },
     "metadata": {},
     "output_type": "display_data"
    },
    {
     "data": {
      "text/html": [
       "'a'"
      ],
      "text/latex": [
       "'a'"
      ],
      "text/markdown": [
       "'a'"
      ],
      "text/plain": [
       "[1] \"a\""
      ]
     },
     "metadata": {},
     "output_type": "display_data"
    },
    {
     "name": "stdout",
     "output_type": "stream",
     "text": [
      "List of 3\n",
      " $ : chr \"a\"\n",
      " $ : logi TRUE\n",
      " $ : num 3\n"
     ]
    }
   ],
   "source": [
    "# a list can be stored in a variable and items can be accessed by numerical index\n",
    "aList<-list('a', TRUE, 3)\n",
    "\n",
    "# items can be accessed by numerical index\n",
    "aList[[3]]\n",
    "aList[[1]]\n",
    "\n",
    "# str() can be used to see the structure of the data\n",
    "str(aList)"
   ]
  },
  {
   "cell_type": "markdown",
   "id": "87dedb00",
   "metadata": {},
   "source": [
    "## Named index"
   ]
  },
  {
   "cell_type": "code",
   "execution_count": 88,
   "id": "2b8b0b54",
   "metadata": {},
   "outputs": [
    {
     "name": "stdout",
     "output_type": "stream",
     "text": [
      "List of 3\n",
      " $ this         : chr \"a\"\n",
      " $ that         : logi TRUE\n",
      " $ another thing: num 3\n"
     ]
    },
    {
     "data": {
      "text/html": [
       "<strong>$that</strong> = TRUE"
      ],
      "text/latex": [
       "\\textbf{\\$that} = TRUE"
      ],
      "text/markdown": [
       "**$that** = TRUE"
      ],
      "text/plain": [
       "$that\n",
       "[1] TRUE\n"
      ]
     },
     "metadata": {},
     "output_type": "display_data"
    },
    {
     "data": {
      "text/html": [
       "TRUE"
      ],
      "text/latex": [
       "TRUE"
      ],
      "text/markdown": [
       "TRUE"
      ],
      "text/plain": [
       "[1] TRUE"
      ]
     },
     "metadata": {},
     "output_type": "display_data"
    }
   ],
   "source": [
    "# a list can also have a named index\n",
    "aList<-list(\"this\"=\"a\",\n",
    "            \"that\"=TRUE,\n",
    "            \"another thing\"=3)\n",
    "\n",
    "# show structure and contents\n",
    "str(aList)\n",
    "\n",
    "# which can then be accessed by those names\n",
    "aList[\"that\"] # the item within aList\n",
    "aList[[\"that\"]] # the item within \"that\""
   ]
  },
  {
   "cell_type": "code",
   "execution_count": 56,
   "id": "8285e860",
   "metadata": {},
   "outputs": [
    {
     "name": "stdout",
     "output_type": "stream",
     "text": [
      "List of 3\n",
      " $ new     : chr \"a\"\n",
      " $ names   : logi TRUE\n",
      " $ for all!: num 3\n"
     ]
    }
   ],
   "source": [
    "# those names can also be added/modified after the fact\n",
    "names(aList)<-c(\"new\",\"names\",\"for all!\")\n",
    "\n",
    "str(aList)"
   ]
  },
  {
   "cell_type": "code",
   "execution_count": null,
   "id": "1e166289",
   "metadata": {},
   "outputs": [],
   "source": []
  },
  {
   "cell_type": "markdown",
   "id": "08699b2f",
   "metadata": {},
   "source": [
    "## Different ways to access elements in a list"
   ]
  },
  {
   "cell_type": "code",
   "execution_count": 57,
   "id": "8e43b4a8",
   "metadata": {},
   "outputs": [
    {
     "data": {
      "text/html": [
       "'list'"
      ],
      "text/latex": [
       "'list'"
      ],
      "text/markdown": [
       "'list'"
      ],
      "text/plain": [
       "[1] \"list\""
      ]
     },
     "metadata": {},
     "output_type": "display_data"
    },
    {
     "data": {
      "text/html": [
       "<ol>\n",
       "\t<li>1</li>\n",
       "</ol>\n"
      ],
      "text/latex": [
       "\\begin{enumerate}\n",
       "\\item 1\n",
       "\\end{enumerate}\n"
      ],
      "text/markdown": [
       "1. 1\n",
       "\n",
       "\n"
      ],
      "text/plain": [
       "[[1]]\n",
       "[1] 1\n"
      ]
     },
     "metadata": {},
     "output_type": "display_data"
    },
    {
     "data": {
      "text/html": [
       "'numeric'"
      ],
      "text/latex": [
       "'numeric'"
      ],
      "text/markdown": [
       "'numeric'"
      ],
      "text/plain": [
       "[1] \"numeric\""
      ]
     },
     "metadata": {},
     "output_type": "display_data"
    },
    {
     "data": {
      "text/html": [
       "1"
      ],
      "text/latex": [
       "1"
      ],
      "text/markdown": [
       "1"
      ],
      "text/plain": [
       "[1] 1"
      ]
     },
     "metadata": {},
     "output_type": "display_data"
    },
    {
     "name": "stdout",
     "output_type": "stream",
     "text": [
      "List of 5\n",
      " $ : num 1\n",
      " $ : num 2\n",
      " $ : num 3\n",
      " $ : num 4\n",
      " $ : num 5\n"
     ]
    }
   ],
   "source": [
    "nList<-list(1,2,3,4,5)\n",
    "# [] returns a list\n",
    "class( nList[1] )\n",
    "nList[1]\n",
    "\n",
    "# [[]] returns the item stored in the list\n",
    "class( nList[[1]] )\n",
    "nList[[1]]\n",
    "\n",
    "str(nList)"
   ]
  },
  {
   "cell_type": "code",
   "execution_count": 58,
   "id": "57ed846c",
   "metadata": {},
   "outputs": [
    {
     "data": {
      "text/html": [
       "<ol>\n",
       "\t<li><ol>\n",
       "\t<li>'a'</li>\n",
       "\t<li>TRUE</li>\n",
       "\t<li>3</li>\n",
       "</ol>\n",
       "</li>\n",
       "\t<li><ol>\n",
       "\t<li>'b'</li>\n",
       "\t<li>FALSE</li>\n",
       "\t<li>4</li>\n",
       "</ol>\n",
       "</li>\n",
       "</ol>\n"
      ],
      "text/latex": [
       "\\begin{enumerate}\n",
       "\\item \\begin{enumerate}\n",
       "\\item 'a'\n",
       "\\item TRUE\n",
       "\\item 3\n",
       "\\end{enumerate}\n",
       "\n",
       "\\item \\begin{enumerate}\n",
       "\\item 'b'\n",
       "\\item FALSE\n",
       "\\item 4\n",
       "\\end{enumerate}\n",
       "\n",
       "\\end{enumerate}\n"
      ],
      "text/markdown": [
       "1. 1. 'a'\n",
       "2. TRUE\n",
       "3. 3\n",
       "\n",
       "\n",
       "\n",
       "2. 1. 'b'\n",
       "2. FALSE\n",
       "3. 4\n",
       "\n",
       "\n",
       "\n",
       "\n",
       "\n"
      ],
      "text/plain": [
       "[[1]]\n",
       "[[1]][[1]]\n",
       "[1] \"a\"\n",
       "\n",
       "[[1]][[2]]\n",
       "[1] TRUE\n",
       "\n",
       "[[1]][[3]]\n",
       "[1] 3\n",
       "\n",
       "\n",
       "[[2]]\n",
       "[[2]][[1]]\n",
       "[1] \"b\"\n",
       "\n",
       "[[2]][[2]]\n",
       "[1] FALSE\n",
       "\n",
       "[[2]][[3]]\n",
       "[1] 4\n",
       "\n"
      ]
     },
     "metadata": {},
     "output_type": "display_data"
    },
    {
     "data": {
      "text/html": [
       "<ol>\n",
       "\t<li><ol>\n",
       "\t<li>'b'</li>\n",
       "\t<li>FALSE</li>\n",
       "\t<li>4</li>\n",
       "</ol>\n",
       "</li>\n",
       "</ol>\n"
      ],
      "text/latex": [
       "\\begin{enumerate}\n",
       "\\item \\begin{enumerate}\n",
       "\\item 'b'\n",
       "\\item FALSE\n",
       "\\item 4\n",
       "\\end{enumerate}\n",
       "\n",
       "\\end{enumerate}\n"
      ],
      "text/markdown": [
       "1. 1. 'b'\n",
       "2. FALSE\n",
       "3. 4\n",
       "\n",
       "\n",
       "\n",
       "\n",
       "\n"
      ],
      "text/plain": [
       "[[1]]\n",
       "[[1]][[1]]\n",
       "[1] \"b\"\n",
       "\n",
       "[[1]][[2]]\n",
       "[1] FALSE\n",
       "\n",
       "[[1]][[3]]\n",
       "[1] 4\n",
       "\n"
      ]
     },
     "metadata": {},
     "output_type": "display_data"
    },
    {
     "data": {
      "text/html": [
       "TRUE"
      ],
      "text/latex": [
       "TRUE"
      ],
      "text/markdown": [
       "TRUE"
      ],
      "text/plain": [
       "[1] TRUE"
      ]
     },
     "metadata": {},
     "output_type": "display_data"
    }
   ],
   "source": [
    "# combining lists\n",
    "aList<-list('a', TRUE, 3)\n",
    "bList<-list('b', FALSE, 4)\n",
    "\n",
    "combined<-list(aList , bList)\n",
    "\n",
    "combined\n",
    "\n",
    "# access one list by numerical index\n",
    "combined[2]\n",
    "# combined[[2]][[2]]\n",
    "\n",
    "# acess one item in a list\n",
    "    # list 1, item 2\n",
    "combined[[1]][[2]]\n"
   ]
  },
  {
   "cell_type": "code",
   "execution_count": null,
   "id": "66d979c4",
   "metadata": {},
   "outputs": [],
   "source": []
  },
  {
   "cell_type": "markdown",
   "id": "782d4d20",
   "metadata": {},
   "source": [
    "# How to define a function and call it"
   ]
  },
  {
   "cell_type": "code",
   "execution_count": 59,
   "id": "d4da9d07",
   "metadata": {},
   "outputs": [
    {
     "name": "stdout",
     "output_type": "stream",
     "text": [
      "[1] \"Print function output\"\n"
     ]
    }
   ],
   "source": [
    "# definition\n",
    "functionName<-function(){\n",
    "    #code to execute\n",
    "    print(\"Print function output\")\n",
    "}\n",
    "\n",
    "# call\n",
    "functionName()"
   ]
  },
  {
   "cell_type": "markdown",
   "id": "0d17cb7a",
   "metadata": {},
   "source": [
    "# You can do more complex things when defining a function such as declaring parameters which receive arguments when called"
   ]
  },
  {
   "cell_type": "code",
   "execution_count": 60,
   "id": "8a17d360",
   "metadata": {},
   "outputs": [
    {
     "data": {
      "text/html": [
       "8"
      ],
      "text/latex": [
       "8"
      ],
      "text/markdown": [
       "8"
      ],
      "text/plain": [
       "[1] 8"
      ]
     },
     "metadata": {},
     "output_type": "display_data"
    }
   ],
   "source": [
    "# definition\n",
    "add<-function(param1,param2){\n",
    "    param1+param2\n",
    "}\n",
    "\n",
    "# call\n",
    "add(3,5)"
   ]
  },
  {
   "cell_type": "markdown",
   "id": "a79ff6a7",
   "metadata": {},
   "source": [
    "# You can even declare that those parameters have default values"
   ]
  },
  {
   "cell_type": "code",
   "execution_count": 62,
   "id": "4b8d99a2",
   "metadata": {},
   "outputs": [
    {
     "data": {
      "text/html": [
       "'My name is n/a'"
      ],
      "text/latex": [
       "'My name is n/a'"
      ],
      "text/markdown": [
       "'My name is n/a'"
      ],
      "text/plain": [
       "[1] \"My name is n/a\""
      ]
     },
     "metadata": {},
     "output_type": "display_data"
    },
    {
     "data": {
      "text/html": [
       "'My name is Inigo Montoya'"
      ],
      "text/latex": [
       "'My name is Inigo Montoya'"
      ],
      "text/markdown": [
       "'My name is Inigo Montoya'"
      ],
      "text/plain": [
       "[1] \"My name is Inigo Montoya\""
      ]
     },
     "metadata": {},
     "output_type": "display_data"
    }
   ],
   "source": [
    "# definition\n",
    "myNameIs<-function(name = \"n/a\"){\n",
    "    # sprintf() lets us insert specific variable types into character strings, %s means string\n",
    "    sprintf(\"My name is %s\", name)\n",
    "}\n",
    "\n",
    "# Call without argument\n",
    "myNameIs()\n",
    "\n",
    "# Call with argument\n",
    "myNameIs(\"Inigo Montoya\")"
   ]
  },
  {
   "cell_type": "markdown",
   "id": "e53c40d8",
   "metadata": {},
   "source": [
    "# You can type the name of a function to see it's declaration, print to see a little more information or use the help() function to see the built in documentation"
   ]
  },
  {
   "cell_type": "code",
   "execution_count": 65,
   "id": "e93b43cf",
   "metadata": {},
   "outputs": [
    {
     "data": {
      "text/html": [
       "<pre class=language-r><code>function (x, na.rm = FALSE, ...) \n",
       "UseMethod(\"median\")</code></pre>"
      ],
      "text/latex": [
       "\\begin{minted}{r}\n",
       "function (x, na.rm = FALSE, ...) \n",
       "UseMethod(\"median\")\n",
       "\\end{minted}"
      ],
      "text/markdown": [
       "```r\n",
       "function (x, na.rm = FALSE, ...) \n",
       "UseMethod(\"median\")\n",
       "```"
      ],
      "text/plain": [
       "function (x, na.rm = FALSE, ...) \n",
       "UseMethod(\"median\")\n",
       "<bytecode: 0x000001fb3617a028>\n",
       "<environment: namespace:stats>"
      ]
     },
     "metadata": {},
     "output_type": "display_data"
    }
   ],
   "source": [
    "median\n",
    "\n",
    "#something along the lines of this, though it doesn't show how the function actually calculates the median\n",
    "#median<-function(x, na.rm=FALSE,...){return(sum(x)/length(x))}"
   ]
  },
  {
   "cell_type": "code",
   "execution_count": 64,
   "id": "f7c394ca-2a54-4a8e-acb1-72fb43ea7621",
   "metadata": {},
   "outputs": [
    {
     "name": "stdout",
     "output_type": "stream",
     "text": [
      "function (x, na.rm = FALSE, ...) \n",
      "UseMethod(\"median\")\n",
      "<bytecode: 0x000001fb3617a028>\n",
      "<environment: namespace:stats>\n"
     ]
    }
   ],
   "source": [
    "print(median)"
   ]
  },
  {
   "cell_type": "code",
   "execution_count": 63,
   "id": "9562544d-31e2-4b68-a2dc-07cc87692d89",
   "metadata": {},
   "outputs": [
    {
     "data": {
      "text/html": [
       "\n",
       "<table style=\"width: 100%;\"><tr><td>median {stats}</td><td style=\"text-align: right;\">R Documentation</td></tr></table>\n",
       "\n",
       "<h2>Median Value</h2>\n",
       "\n",
       "<h3>Description</h3>\n",
       "\n",
       "<p>Compute the sample median.\n",
       "</p>\n",
       "\n",
       "\n",
       "<h3>Usage</h3>\n",
       "\n",
       "<pre><code class='language-R'>median(x, na.rm = FALSE, ...)\n",
       "## Default S3 method:\n",
       "median(x, na.rm = FALSE, ...)\n",
       "</code></pre>\n",
       "\n",
       "\n",
       "<h3>Arguments</h3>\n",
       "\n",
       "<table>\n",
       "<tr><td><code id=\"x\">x</code></td>\n",
       "<td>\n",
       "<p>an object for which a method has been defined, or a\n",
       "numeric vector containing the values whose median is to be computed.</p>\n",
       "</td></tr>\n",
       "<tr><td><code id=\"na.rm\">na.rm</code></td>\n",
       "<td>\n",
       "<p>a logical value indicating whether <code>NA</code>\n",
       "values should be stripped before the computation proceeds.</p>\n",
       "</td></tr>\n",
       "<tr><td><code id=\"...\">...</code></td>\n",
       "<td>\n",
       "<p>potentially further arguments for methods; not used in\n",
       "the default method.</p>\n",
       "</td></tr>\n",
       "</table>\n",
       "\n",
       "\n",
       "<h3>Details</h3>\n",
       "\n",
       "<p>This is a generic function for which methods can be written.  However,\n",
       "the default method makes use of <code>is.na</code>, <code>sort</code> and\n",
       "<code>mean</code> from package <span class=\"pkg\">base</span> all of which are generic, and so\n",
       "the default method will work for most classes\n",
       "(e.g., <code>\"Date\"</code>) for which a median is a reasonable\n",
       "concept.\n",
       "</p>\n",
       "\n",
       "\n",
       "<h3>Value</h3>\n",
       "\n",
       "<p>The default method returns a length-one object of the same type as\n",
       "<code>x</code>, except when <code>x</code> is logical or integer of even length,\n",
       "when the result will be double.\n",
       "</p>\n",
       "<p>If there are no values or if <code>na.rm = FALSE</code> and there are <code>NA</code>\n",
       "values the result is <code>NA</code> of the same type as <code>x</code> (or more\n",
       "generally the result of <code>x[NA_integer_]</code>).\n",
       "</p>\n",
       "\n",
       "\n",
       "<h3>References</h3>\n",
       "\n",
       "<p>Becker, R. A., Chambers, J. M. and Wilks, A. R. (1988)\n",
       "<em>The New S Language</em>.\n",
       "Wadsworth &amp; Brooks/Cole.\n",
       "</p>\n",
       "\n",
       "\n",
       "<h3>See Also</h3>\n",
       "\n",
       "<p><code>quantile</code> for general quantiles.</p>\n",
       "\n",
       "\n",
       "<h3>Examples</h3>\n",
       "\n",
       "<pre><code class='language-R'>median(1:4)                # = 2.5 [even number]\n",
       "median(c(1:3, 100, 1000))  # = 3 [odd, robust]\n",
       "</code></pre>\n",
       "\n",
       "<hr /><div style=\"text-align: center;\">[Package <em>stats</em> version 4.4.0 ]</div></main>\n",
       "\n",
       "</div>"
      ],
      "text/latex": [
       "\\inputencoding{utf8}\n",
       "\\HeaderA{median}{Median Value}{median}\n",
       "\\methaliasA{median.default}{median}{median.default}\n",
       "\\keyword{univar}{median}\n",
       "\\keyword{robust}{median}\n",
       "%\n",
       "\\begin{Description}\n",
       "Compute the sample median.\n",
       "\\end{Description}\n",
       "%\n",
       "\\begin{Usage}\n",
       "\\begin{verbatim}\n",
       "median(x, na.rm = FALSE, ...)\n",
       "## Default S3 method:\n",
       "median(x, na.rm = FALSE, ...)\n",
       "\\end{verbatim}\n",
       "\\end{Usage}\n",
       "%\n",
       "\\begin{Arguments}\n",
       "\\begin{ldescription}\n",
       "\\item[\\code{x}] an object for which a method has been defined, or a\n",
       "numeric vector containing the values whose median is to be computed.\n",
       "\\item[\\code{na.rm}] a logical value indicating whether \\code{NA}\n",
       "values should be stripped before the computation proceeds.\n",
       "\\item[\\code{...}] potentially further arguments for methods; not used in\n",
       "the default method.\n",
       "\\end{ldescription}\n",
       "\\end{Arguments}\n",
       "%\n",
       "\\begin{Details}\n",
       "This is a generic function for which methods can be written.  However,\n",
       "the default method makes use of \\code{is.na}, \\code{sort} and\n",
       "\\code{mean} from package \\pkg{base} all of which are generic, and so\n",
       "the default method will work for most classes\n",
       "(e.g., \\code{\"\\LinkA{Date}{Date}\"}) for which a median is a reasonable\n",
       "concept.\n",
       "\\end{Details}\n",
       "%\n",
       "\\begin{Value}\n",
       "The default method returns a length-one object of the same type as\n",
       "\\code{x}, except when \\code{x} is logical or integer of even length,\n",
       "when the result will be double.\n",
       "\n",
       "If there are no values or if \\code{na.rm = FALSE} and there are \\code{NA}\n",
       "values the result is \\code{NA} of the same type as \\code{x} (or more\n",
       "generally the result of \\code{x[NA\\_integer\\_]}).\n",
       "\\end{Value}\n",
       "%\n",
       "\\begin{References}\n",
       "Becker, R. A., Chambers, J. M. and Wilks, A. R. (1988)\n",
       "\\emph{The New S Language}.\n",
       "Wadsworth \\& Brooks/Cole.\n",
       "\\end{References}\n",
       "%\n",
       "\\begin{SeeAlso}\n",
       "\\code{\\LinkA{quantile}{quantile}} for general quantiles.\n",
       "\\end{SeeAlso}\n",
       "%\n",
       "\\begin{Examples}\n",
       "\\begin{ExampleCode}\n",
       "median(1:4)                # = 2.5 [even number]\n",
       "median(c(1:3, 100, 1000))  # = 3 [odd, robust]\n",
       "\\end{ExampleCode}\n",
       "\\end{Examples}"
      ],
      "text/plain": [
       "median                  package:stats                  R Documentation\n",
       "\n",
       "_\bM_\be_\bd_\bi_\ba_\bn _\bV_\ba_\bl_\bu_\be\n",
       "\n",
       "_\bD_\be_\bs_\bc_\br_\bi_\bp_\bt_\bi_\bo_\bn:\n",
       "\n",
       "     Compute the sample median.\n",
       "\n",
       "_\bU_\bs_\ba_\bg_\be:\n",
       "\n",
       "     median(x, na.rm = FALSE, ...)\n",
       "     ## Default S3 method:\n",
       "     median(x, na.rm = FALSE, ...)\n",
       "     \n",
       "_\bA_\br_\bg_\bu_\bm_\be_\bn_\bt_\bs:\n",
       "\n",
       "       x: an object for which a method has been defined, or a numeric\n",
       "          vector containing the values whose median is to be computed.\n",
       "\n",
       "   na.rm: a logical value indicating whether 'NA' values should be\n",
       "          stripped before the computation proceeds.\n",
       "\n",
       "     ...: potentially further arguments for methods; not used in the\n",
       "          default method.\n",
       "\n",
       "_\bD_\be_\bt_\ba_\bi_\bl_\bs:\n",
       "\n",
       "     This is a generic function for which methods can be written.\n",
       "     However, the default method makes use of 'is.na', 'sort' and\n",
       "     'mean' from package 'base' all of which are generic, and so the\n",
       "     default method will work for most classes (e.g., '\"Date\"') for\n",
       "     which a median is a reasonable concept.\n",
       "\n",
       "_\bV_\ba_\bl_\bu_\be:\n",
       "\n",
       "     The default method returns a length-one object of the same type as\n",
       "     'x', except when 'x' is logical or integer of even length, when\n",
       "     the result will be double.\n",
       "\n",
       "     If there are no values or if 'na.rm = FALSE' and there are 'NA'\n",
       "     values the result is 'NA' of the same type as 'x' (or more\n",
       "     generally the result of 'x[NA_integer_]').\n",
       "\n",
       "_\bR_\be_\bf_\be_\br_\be_\bn_\bc_\be_\bs:\n",
       "\n",
       "     Becker, R. A., Chambers, J. M. and Wilks, A. R. (1988) _The New S\n",
       "     Language_.  Wadsworth & Brooks/Cole.\n",
       "\n",
       "_\bS_\be_\be _\bA_\bl_\bs_\bo:\n",
       "\n",
       "     'quantile' for general quantiles.\n",
       "\n",
       "_\bE_\bx_\ba_\bm_\bp_\bl_\be_\bs:\n",
       "\n",
       "     median(1:4)                # = 2.5 [even number]\n",
       "     median(c(1:3, 100, 1000))  # = 3 [odd, robust]\n",
       "     "
      ]
     },
     "metadata": {},
     "output_type": "display_data"
    }
   ],
   "source": [
    "help(median)"
   ]
  },
  {
   "cell_type": "markdown",
   "id": "74813f43",
   "metadata": {},
   "source": [
    "## Looking at some of the nuance between `=` and `<-`"
   ]
  },
  {
   "cell_type": "code",
   "execution_count": 31,
   "id": "a245fcb8",
   "metadata": {},
   "outputs": [
    {
     "ename": "ERROR",
     "evalue": "Error in parse(text = x, srcfile = src): <text>:2:12: unexpected '='\n1: # results in an error because = can only be used to populate parameters\n2: median(x= y=\n              ^\n",
     "output_type": "error",
     "traceback": [
      "Error in parse(text = x, srcfile = src): <text>:2:12: unexpected '='\n1: # results in an error because = can only be used to populate parameters\n2: median(x= y=\n              ^\nTraceback:\n"
     ]
    }
   ],
   "source": [
    "# results in an error because = can only be used to populate parameters\n",
    "median(x= y=1:10)"
   ]
  },
  {
   "cell_type": "code",
   "execution_count": 32,
   "id": "abe2abcd",
   "metadata": {},
   "outputs": [
    {
     "data": {
      "text/html": [
       "5.5"
      ],
      "text/latex": [
       "5.5"
      ],
      "text/markdown": [
       "5.5"
      ],
      "text/plain": [
       "[1] 5.5"
      ]
     },
     "metadata": {},
     "output_type": "display_data"
    },
    {
     "data": {
      "text/html": [
       "<style>\n",
       ".list-inline {list-style: none; margin:0; padding: 0}\n",
       ".list-inline>li {display: inline-block}\n",
       ".list-inline>li:not(:last-child)::after {content: \"\\00b7\"; padding: 0 .5ex}\n",
       "</style>\n",
       "<ol class=list-inline><li>1</li><li>2</li><li>3</li><li>4</li><li>5</li><li>6</li><li>7</li><li>8</li><li>9</li><li>10</li></ol>\n"
      ],
      "text/latex": [
       "\\begin{enumerate*}\n",
       "\\item 1\n",
       "\\item 2\n",
       "\\item 3\n",
       "\\item 4\n",
       "\\item 5\n",
       "\\item 6\n",
       "\\item 7\n",
       "\\item 8\n",
       "\\item 9\n",
       "\\item 10\n",
       "\\end{enumerate*}\n"
      ],
      "text/markdown": [
       "1. 1\n",
       "2. 2\n",
       "3. 3\n",
       "4. 4\n",
       "5. 5\n",
       "6. 6\n",
       "7. 7\n",
       "8. 8\n",
       "9. 9\n",
       "10. 10\n",
       "\n",
       "\n"
      ],
      "text/plain": [
       " [1]  1  2  3  4  5  6  7  8  9 10"
      ]
     },
     "metadata": {},
     "output_type": "display_data"
    }
   ],
   "source": [
    "# declaring a variable called y and also presenting it as an argument\n",
    "median(x= y<-1:10)\n",
    "\n",
    "y"
   ]
  },
  {
   "cell_type": "markdown",
   "id": "2bca98d7",
   "metadata": {},
   "source": [
    "# Logic expressions which can be combined to create more complex expressions"
   ]
  },
  {
   "cell_type": "code",
   "execution_count": 33,
   "id": "95b9e939",
   "metadata": {},
   "outputs": [
    {
     "data": {
      "text/html": [
       "FALSE"
      ],
      "text/latex": [
       "FALSE"
      ],
      "text/markdown": [
       "FALSE"
      ],
      "text/plain": [
       "[1] FALSE"
      ]
     },
     "metadata": {},
     "output_type": "display_data"
    },
    {
     "data": {
      "text/html": [
       "TRUE"
      ],
      "text/latex": [
       "TRUE"
      ],
      "text/markdown": [
       "TRUE"
      ],
      "text/plain": [
       "[1] TRUE"
      ]
     },
     "metadata": {},
     "output_type": "display_data"
    },
    {
     "data": {
      "text/html": [
       "FALSE"
      ],
      "text/latex": [
       "FALSE"
      ],
      "text/markdown": [
       "FALSE"
      ],
      "text/plain": [
       "[1] FALSE"
      ]
     },
     "metadata": {},
     "output_type": "display_data"
    },
    {
     "data": {
      "text/html": [
       "TRUE"
      ],
      "text/latex": [
       "TRUE"
      ],
      "text/markdown": [
       "TRUE"
      ],
      "text/plain": [
       "[1] TRUE"
      ]
     },
     "metadata": {},
     "output_type": "display_data"
    }
   ],
   "source": [
    "# equivalence, it's double = because a single = is the assignment operator\n",
    "1 == 2\n",
    "\n",
    "1 == 1\n",
    "\n",
    "# works for strings as well\n",
    "\"this\" == \"that\"\n",
    "\n",
    "\"this\" == \"this\""
   ]
  },
  {
   "cell_type": "code",
   "execution_count": 34,
   "id": "fe30d3b5",
   "metadata": {},
   "outputs": [
    {
     "data": {
      "text/html": [
       "FALSE"
      ],
      "text/latex": [
       "FALSE"
      ],
      "text/markdown": [
       "FALSE"
      ],
      "text/plain": [
       "[1] FALSE"
      ]
     },
     "metadata": {},
     "output_type": "display_data"
    },
    {
     "data": {
      "text/html": [
       "TRUE"
      ],
      "text/latex": [
       "TRUE"
      ],
      "text/markdown": [
       "TRUE"
      ],
      "text/plain": [
       "[1] TRUE"
      ]
     },
     "metadata": {},
     "output_type": "display_data"
    },
    {
     "data": {
      "text/html": [
       "FALSE"
      ],
      "text/latex": [
       "FALSE"
      ],
      "text/markdown": [
       "FALSE"
      ],
      "text/plain": [
       "[1] FALSE"
      ]
     },
     "metadata": {},
     "output_type": "display_data"
    },
    {
     "data": {
      "text/html": [
       "TRUE"
      ],
      "text/latex": [
       "TRUE"
      ],
      "text/markdown": [
       "TRUE"
      ],
      "text/plain": [
       "[1] TRUE"
      ]
     },
     "metadata": {},
     "output_type": "display_data"
    },
    {
     "data": {
      "text/html": [
       "FALSE"
      ],
      "text/latex": [
       "FALSE"
      ],
      "text/markdown": [
       "FALSE"
      ],
      "text/plain": [
       "[1] FALSE"
      ]
     },
     "metadata": {},
     "output_type": "display_data"
    }
   ],
   "source": [
    "# greater than or less than\n",
    "1 > 2\n",
    "1 < 2\n",
    "\n",
    "# comparing lengths of strings\n",
    "\"abc\" > \"d\"\n",
    "\n",
    "# less than or equal to\n",
    "1 <= 1\n",
    "\n",
    "# greater than or equal to\n",
    "1 >= 2"
   ]
  },
  {
   "cell_type": "code",
   "execution_count": 35,
   "id": "a9577874",
   "metadata": {},
   "outputs": [
    {
     "data": {
      "text/html": [
       "TRUE"
      ],
      "text/latex": [
       "TRUE"
      ],
      "text/markdown": [
       "TRUE"
      ],
      "text/plain": [
       "[1] TRUE"
      ]
     },
     "metadata": {},
     "output_type": "display_data"
    },
    {
     "data": {
      "text/html": [
       "FALSE"
      ],
      "text/latex": [
       "FALSE"
      ],
      "text/markdown": [
       "FALSE"
      ],
      "text/plain": [
       "[1] FALSE"
      ]
     },
     "metadata": {},
     "output_type": "display_data"
    }
   ],
   "source": [
    "# not equivalent\n",
    "1 != 2\n",
    "\n",
    "1 != 1"
   ]
  },
  {
   "cell_type": "code",
   "execution_count": 36,
   "id": "257a09dc",
   "metadata": {},
   "outputs": [
    {
     "data": {
      "text/html": [
       "FALSE"
      ],
      "text/latex": [
       "FALSE"
      ],
      "text/markdown": [
       "FALSE"
      ],
      "text/plain": [
       "[1] FALSE"
      ]
     },
     "metadata": {},
     "output_type": "display_data"
    },
    {
     "data": {
      "text/html": [
       "TRUE"
      ],
      "text/latex": [
       "TRUE"
      ],
      "text/markdown": [
       "TRUE"
      ],
      "text/plain": [
       "[1] TRUE"
      ]
     },
     "metadata": {},
     "output_type": "display_data"
    },
    {
     "data": {
      "text/html": [
       "TRUE"
      ],
      "text/latex": [
       "TRUE"
      ],
      "text/markdown": [
       "TRUE"
      ],
      "text/plain": [
       "[1] TRUE"
      ]
     },
     "metadata": {},
     "output_type": "display_data"
    }
   ],
   "source": [
    "# returns the opposite logical value\n",
    "!TRUE\n",
    "!FALSE\n",
    "\n",
    "# works with variables\n",
    "x=FALSE\n",
    "\n",
    "!x"
   ]
  },
  {
   "cell_type": "code",
   "execution_count": 37,
   "id": "03aebacc",
   "metadata": {},
   "outputs": [
    {
     "data": {
      "text/html": [
       "TRUE"
      ],
      "text/latex": [
       "TRUE"
      ],
      "text/markdown": [
       "TRUE"
      ],
      "text/plain": [
       "[1] TRUE"
      ]
     },
     "metadata": {},
     "output_type": "display_data"
    },
    {
     "data": {
      "text/html": [
       "FALSE"
      ],
      "text/latex": [
       "FALSE"
      ],
      "text/markdown": [
       "FALSE"
      ],
      "text/plain": [
       "[1] FALSE"
      ]
     },
     "metadata": {},
     "output_type": "display_data"
    },
    {
     "data": {
      "text/html": [
       "FALSE"
      ],
      "text/latex": [
       "FALSE"
      ],
      "text/markdown": [
       "FALSE"
      ],
      "text/plain": [
       "[1] FALSE"
      ]
     },
     "metadata": {},
     "output_type": "display_data"
    }
   ],
   "source": [
    "# and\n",
    "TRUE & TRUE\n",
    "TRUE & FALSE\n",
    "FALSE & FALSE"
   ]
  },
  {
   "cell_type": "code",
   "execution_count": 38,
   "id": "250d9af0",
   "metadata": {},
   "outputs": [
    {
     "data": {
      "text/html": [
       "TRUE"
      ],
      "text/latex": [
       "TRUE"
      ],
      "text/markdown": [
       "TRUE"
      ],
      "text/plain": [
       "[1] TRUE"
      ]
     },
     "metadata": {},
     "output_type": "display_data"
    },
    {
     "data": {
      "text/html": [
       "TRUE"
      ],
      "text/latex": [
       "TRUE"
      ],
      "text/markdown": [
       "TRUE"
      ],
      "text/plain": [
       "[1] TRUE"
      ]
     },
     "metadata": {},
     "output_type": "display_data"
    },
    {
     "data": {
      "text/html": [
       "FALSE"
      ],
      "text/latex": [
       "FALSE"
      ],
      "text/markdown": [
       "FALSE"
      ],
      "text/plain": [
       "[1] FALSE"
      ]
     },
     "metadata": {},
     "output_type": "display_data"
    }
   ],
   "source": [
    "# or\n",
    "TRUE | TRUE\n",
    "TRUE | FALSE\n",
    "FALSE | FALSE"
   ]
  },
  {
   "cell_type": "markdown",
   "id": "d70c8fad",
   "metadata": {},
   "source": [
    "# "
   ]
  },
  {
   "cell_type": "code",
   "execution_count": null,
   "id": "d4facdfa",
   "metadata": {},
   "outputs": [],
   "source": []
  },
  {
   "cell_type": "markdown",
   "id": "f25354a5",
   "metadata": {},
   "source": [
    "# `if`, `else`, and `else if` structure"
   ]
  },
  {
   "cell_type": "code",
   "execution_count": 39,
   "id": "790df4ef",
   "metadata": {},
   "outputs": [
    {
     "name": "stdout",
     "output_type": "stream",
     "text": [
      "[1] \"true\"\n"
     ]
    }
   ],
   "source": [
    "x = TRUE\n",
    "if(x==TRUE){\n",
    "    print(\"true\")\n",
    "}"
   ]
  },
  {
   "cell_type": "code",
   "execution_count": 40,
   "id": "6c049c29",
   "metadata": {},
   "outputs": [
    {
     "name": "stdout",
     "output_type": "stream",
     "text": [
      "[1] \"false\"\n"
     ]
    }
   ],
   "source": [
    "x = FALSE\n",
    "if(x==TRUE){\n",
    "    print(\"true\")\n",
    "} else {\n",
    "    print(\"false\")\n",
    "}"
   ]
  },
  {
   "cell_type": "code",
   "execution_count": 41,
   "id": "bcce998f",
   "metadata": {},
   "outputs": [
    {
     "name": "stdout",
     "output_type": "stream",
     "text": [
      "[1] 3\n"
     ]
    }
   ],
   "source": [
    "# you can play around with the value of x here and rerun the block\n",
    "x = 3\n",
    "if(x==1){\n",
    "    print(1)\n",
    "} else if(x==2){\n",
    "    print(2)\n",
    "} else if(x==3){\n",
    "    print(3)\n",
    "} else {\n",
    "    print(\"out of conditions\")\n",
    "}"
   ]
  },
  {
   "cell_type": "markdown",
   "id": "feadb457",
   "metadata": {},
   "source": [
    "# `while` loop vs `for` loop"
   ]
  },
  {
   "cell_type": "markdown",
   "id": "b632d45e",
   "metadata": {},
   "source": [
    "## while() is for logical tests\n",
    "`while(logical test is true){\n",
    "    do a thing\n",
    "    iterate the logical test, else you end up in an infinite loop\n",
    "}`"
   ]
  },
  {
   "cell_type": "code",
   "execution_count": 42,
   "id": "d6529a5b",
   "metadata": {
    "scrolled": true
   },
   "outputs": [
    {
     "name": "stdout",
     "output_type": "stream",
     "text": [
      "[1] 1\n",
      "[1] 2\n",
      "[1] 3\n",
      "[1] 4\n"
     ]
    }
   ],
   "source": [
    "x = 1\n",
    "while(x < 5){\n",
    "    print(x)\n",
    "    x=x+1 # if you don't iterate your variable/counter, you will end up in an endless loop\n",
    "}"
   ]
  },
  {
   "cell_type": "markdown",
   "id": "a2eb3c38",
   "metadata": {},
   "source": [
    "## for() works to iterate through items in a vector such as a list, etc [naturally iterates through items in the list]\n",
    "`for(item in a list){\n",
    "    do thing to / with item\n",
    "}`"
   ]
  },
  {
   "cell_type": "code",
   "execution_count": 43,
   "id": "bfc99e21",
   "metadata": {},
   "outputs": [
    {
     "name": "stdout",
     "output_type": "stream",
     "text": [
      "[1] 1\n",
      "[1] 2\n",
      "[1] 3\n",
      "[1] 4\n",
      "[1] 5\n"
     ]
    }
   ],
   "source": [
    "# prints items in a vector, 1:5 is an integer vector meaning 1, 2, 3, 4, 5\n",
    "for(x in 1:5){\n",
    "    print(x)\n",
    "}"
   ]
  },
  {
   "cell_type": "code",
   "execution_count": 108,
   "id": "8d0b0daa",
   "metadata": {},
   "outputs": [
    {
     "name": "stdout",
     "output_type": "stream",
     "text": [
      "[1] \"apple\"\n",
      "[1] \"orange\"\n",
      "[1] \"banana\"\n",
      "[1] \"5\"\n",
      "[1] \"10\"\n"
     ]
    }
   ],
   "source": [
    "# c() combines items into a vector, regardless of type\n",
    "vector = c(\"apple\", \"orange\", \"banana\", 5, 10)\n",
    "for(item in vector){\n",
    "    print(item)\n",
    "}"
   ]
  },
  {
   "cell_type": "markdown",
   "id": "44e0c4b4",
   "metadata": {},
   "source": [
    "## A way to get the numerical value instead of the actual vector item, which can then be used to access elements of lists"
   ]
  },
  {
   "cell_type": "code",
   "execution_count": 118,
   "id": "472e2d70",
   "metadata": {},
   "outputs": [
    {
     "data": {
      "text/html": [
       "5"
      ],
      "text/latex": [
       "5"
      ],
      "text/markdown": [
       "5"
      ],
      "text/plain": [
       "[1] 5"
      ]
     },
     "metadata": {},
     "output_type": "display_data"
    },
    {
     "data": {
      "text/html": [
       "<style>\n",
       ".list-inline {list-style: none; margin:0; padding: 0}\n",
       ".list-inline>li {display: inline-block}\n",
       ".list-inline>li:not(:last-child)::after {content: \"\\00b7\"; padding: 0 .5ex}\n",
       "</style>\n",
       "<ol class=list-inline><li>1</li><li>2</li><li>3</li><li>4</li><li>5</li></ol>\n"
      ],
      "text/latex": [
       "\\begin{enumerate*}\n",
       "\\item 1\n",
       "\\item 2\n",
       "\\item 3\n",
       "\\item 4\n",
       "\\item 5\n",
       "\\end{enumerate*}\n"
      ],
      "text/markdown": [
       "1. 1\n",
       "2. 2\n",
       "3. 3\n",
       "4. 4\n",
       "5. 5\n",
       "\n",
       "\n"
      ],
      "text/plain": [
       "[1] 1 2 3 4 5"
      ]
     },
     "metadata": {},
     "output_type": "display_data"
    },
    {
     "name": "stdout",
     "output_type": "stream",
     "text": [
      "[1] 1\n",
      "[1] 2\n",
      "[1] 3\n",
      "[1] 4\n",
      "[1] 5\n"
     ]
    }
   ],
   "source": [
    "vec2 = c(\"one\",\"two\", 3, TRUE, FALSE)\n",
    "\n",
    "# length() provides the count of items, starting from 1\n",
    "length(vec2)\n",
    "\n",
    "# recall that this would just indicate a vector of 1, 2, 3, 4, 5\n",
    "1:5\n",
    "\n",
    "# so then this just serially prints each number\n",
    "for(i in 1:length(vec2)){\n",
    "    print(i)\n",
    "}"
   ]
  },
  {
   "cell_type": "markdown",
   "id": "b7803057",
   "metadata": {},
   "source": [
    "## This method can be used to access the same elements in order"
   ]
  },
  {
   "cell_type": "code",
   "execution_count": 114,
   "id": "541efc27",
   "metadata": {},
   "outputs": [
    {
     "name": "stdout",
     "output_type": "stream",
     "text": [
      "[1] \"one\"\n",
      "[1] \"two\"\n",
      "[1] \"3\"\n",
      "[1] \"TRUE\"\n",
      "[1] \"FALSE\"\n"
     ]
    }
   ],
   "source": [
    "for(i in 1:length(vec2)){\n",
    "    print( vec2[i])\n",
    "}"
   ]
  },
  {
   "cell_type": "markdown",
   "id": "7712a6f4",
   "metadata": {},
   "source": [
    "## Or starting from a different element if we change the 1"
   ]
  },
  {
   "cell_type": "code",
   "execution_count": 116,
   "id": "cd914a22",
   "metadata": {},
   "outputs": [
    {
     "name": "stdout",
     "output_type": "stream",
     "text": [
      "[1] \"3\"\n",
      "[1] \"TRUE\"\n",
      "[1] \"FALSE\"\n"
     ]
    }
   ],
   "source": [
    "# elements 3 to the end\n",
    "for(i in 3:length(vec2)){\n",
    "    print( vec2[i])\n",
    "}"
   ]
  },
  {
   "cell_type": "markdown",
   "id": "8fd3f95a",
   "metadata": {},
   "source": [
    "## You could also specify both numbers"
   ]
  },
  {
   "cell_type": "code",
   "execution_count": 119,
   "id": "9a590648",
   "metadata": {},
   "outputs": [
    {
     "name": "stdout",
     "output_type": "stream",
     "text": [
      "[1] \"two\"\n",
      "[1] \"3\"\n",
      "[1] \"TRUE\"\n"
     ]
    }
   ],
   "source": [
    "# elements 2 through 4 \n",
    "for(i in 2:4){\n",
    "    print( vec2[i])\n",
    "}"
   ]
  },
  {
   "cell_type": "markdown",
   "id": "e3de11d8",
   "metadata": {},
   "source": [
    "## This can also be used in something else that has elements in a vector as well, for example the first vector"
   ]
  },
  {
   "cell_type": "code",
   "execution_count": 115,
   "id": "fd4c483c",
   "metadata": {},
   "outputs": [
    {
     "name": "stdout",
     "output_type": "stream",
     "text": [
      "[1] \"apple\"\n",
      "[1] \"orange\"\n",
      "[1] \"banana\"\n",
      "[1] \"5\"\n",
      "[1] \"10\"\n"
     ]
    }
   ],
   "source": [
    "for(i in 1:length(vec2)){\n",
    "    print( vector[i] )\n",
    "}"
   ]
  },
  {
   "cell_type": "markdown",
   "id": "85af4302",
   "metadata": {},
   "source": [
    "## Nested `for` loops can be used to iterate through two different vectors or multiple dimensions of one object (will show alongside dataframes)"
   ]
  },
  {
   "cell_type": "code",
   "execution_count": 86,
   "id": "a944f55e",
   "metadata": {},
   "outputs": [
    {
     "name": "stdout",
     "output_type": "stream",
     "text": [
      "(1, a)\n",
      "(1, b)\n",
      "(1, c)\n",
      "(2, a)\n",
      "(2, b)\n",
      "(2, c)\n",
      "(3, a)\n",
      "(3, b)\n",
      "(3, c)\n",
      "(4, a)\n",
      "(4, b)\n",
      "(4, c)\n",
      "(5, a)\n",
      "(5, b)\n",
      "(5, c)\n"
     ]
    }
   ],
   "source": [
    "x = 1:5\n",
    "y = c(\"a\", \"b\", \"c\")\n",
    "\n",
    "for(i in x){\n",
    "    for(j in y){\n",
    "        # cat is concatenate and print\n",
    "        # %i is for integer\n",
    "        # \\n is the new line character\n",
    "        cat(sprintf(\"(%i, %s)\\n\", i, j))\n",
    "    }\n",
    "}"
   ]
  },
  {
   "cell_type": "markdown",
   "id": "77e49d03",
   "metadata": {},
   "source": [
    "# Working with the file directory"
   ]
  },
  {
   "cell_type": "markdown",
   "id": "55e53ddc",
   "metadata": {},
   "source": [
    "## Get the current working directory, default is the folder the script is in"
   ]
  },
  {
   "cell_type": "code",
   "execution_count": 47,
   "id": "ab7ca9ab",
   "metadata": {},
   "outputs": [
    {
     "data": {
      "text/html": [
       "'/home/pleocavee/Desktop/code_basics'"
      ],
      "text/latex": [
       "'/home/pleocavee/Desktop/code\\_basics'"
      ],
      "text/markdown": [
       "'/home/pleocavee/Desktop/code_basics'"
      ],
      "text/plain": [
       "[1] \"/home/pleocavee/Desktop/code_basics\""
      ]
     },
     "metadata": {},
     "output_type": "display_data"
    }
   ],
   "source": [
    "wd <- getwd()\n",
    "wd"
   ]
  },
  {
   "cell_type": "markdown",
   "id": "8f4dd0c2",
   "metadata": {},
   "source": [
    "## Get the basename of the input directory path, using the working directory as an example"
   ]
  },
  {
   "cell_type": "code",
   "execution_count": 48,
   "id": "4b5f0bb4",
   "metadata": {},
   "outputs": [
    {
     "data": {
      "text/html": [
       "'code_basics'"
      ],
      "text/latex": [
       "'code\\_basics'"
      ],
      "text/markdown": [
       "'code_basics'"
      ],
      "text/plain": [
       "[1] \"code_basics\""
      ]
     },
     "metadata": {},
     "output_type": "display_data"
    }
   ],
   "source": [
    "basename(wd)"
   ]
  },
  {
   "cell_type": "markdown",
   "id": "28fe6020",
   "metadata": {},
   "source": [
    "## List the files of the input directory path, using the working directory as an example"
   ]
  },
  {
   "cell_type": "code",
   "execution_count": 49,
   "id": "85d6c811",
   "metadata": {},
   "outputs": [
    {
     "data": {
      "text/html": [
       "<style>\n",
       ".list-inline {list-style: none; margin:0; padding: 0}\n",
       ".list-inline>li {display: inline-block}\n",
       ".list-inline>li:not(:last-child)::after {content: \"\\00b7\"; padding: 0 .5ex}\n",
       "</style>\n",
       "<ol class=list-inline><li>'r_basics.ipynb'</li><li>'USGS_earthquakes_all_month.csv'</li></ol>\n"
      ],
      "text/latex": [
       "\\begin{enumerate*}\n",
       "\\item 'r\\_basics.ipynb'\n",
       "\\item 'USGS\\_earthquakes\\_all\\_month.csv'\n",
       "\\end{enumerate*}\n"
      ],
      "text/markdown": [
       "1. 'r_basics.ipynb'\n",
       "2. 'USGS_earthquakes_all_month.csv'\n",
       "\n",
       "\n"
      ],
      "text/plain": [
       "[1] \"r_basics.ipynb\"                 \"USGS_earthquakes_all_month.csv\""
      ]
     },
     "metadata": {},
     "output_type": "display_data"
    }
   ],
   "source": [
    "list.files(wd)"
   ]
  },
  {
   "cell_type": "markdown",
   "id": "8c4b3af2",
   "metadata": {},
   "source": [
    "## Add strings to each other using `paste()`, the default separation string is one space"
   ]
  },
  {
   "cell_type": "code",
   "execution_count": 50,
   "id": "c733936d",
   "metadata": {},
   "outputs": [
    {
     "data": {
      "text/html": [
       "'this that and another thing .'"
      ],
      "text/latex": [
       "'this that and another thing .'"
      ],
      "text/markdown": [
       "'this that and another thing .'"
      ],
      "text/plain": [
       "[1] \"this that and another thing .\""
      ]
     },
     "metadata": {},
     "output_type": "display_data"
    },
    {
     "data": {
      "text/html": [
       "'this, that, and another thing, .'"
      ],
      "text/latex": [
       "'this, that, and another thing, .'"
      ],
      "text/markdown": [
       "'this, that, and another thing, .'"
      ],
      "text/plain": [
       "[1] \"this, that, and another thing, .\""
      ]
     },
     "metadata": {},
     "output_type": "display_data"
    }
   ],
   "source": [
    "# default behavior is to separate each string with a space, \" \"\n",
    "paste(\"this\",\"that\",\"and another thing\",\".\")\n",
    "\n",
    "# but you can change that\n",
    "paste(\"this\",\"that\",\"and another thing\",\".\",sep=\", \")"
   ]
  },
  {
   "cell_type": "markdown",
   "id": "79e9125d",
   "metadata": {},
   "source": [
    "### `paste0()` default separate is no space"
   ]
  },
  {
   "cell_type": "code",
   "execution_count": 170,
   "id": "ae4c4b56",
   "metadata": {},
   "outputs": [
    {
     "data": {
      "text/html": [
       "'NoSpace'"
      ],
      "text/latex": [
       "'NoSpace'"
      ],
      "text/markdown": [
       "'NoSpace'"
      ],
      "text/plain": [
       "[1] \"NoSpace\""
      ]
     },
     "metadata": {},
     "output_type": "display_data"
    }
   ],
   "source": [
    "paste0(\"No\",\"Space\")"
   ]
  },
  {
   "cell_type": "code",
   "execution_count": null,
   "id": "dea6b20b",
   "metadata": {},
   "outputs": [],
   "source": []
  }
 ],
 "metadata": {
  "kernelspec": {
   "display_name": "R",
   "language": "R",
   "name": "ir"
  },
  "language_info": {
   "codemirror_mode": "r",
   "file_extension": ".r",
   "mimetype": "text/x-r-source",
   "name": "R",
   "pygments_lexer": "r",
   "version": "4.4.0"
  }
 },
 "nbformat": 4,
 "nbformat_minor": 5
}
