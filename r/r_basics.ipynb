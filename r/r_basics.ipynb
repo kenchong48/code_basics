{
 "cells": [
  {
   "cell_type": "markdown",
   "id": "b3d312ca",
   "metadata": {},
   "source": [
    "# Code written for learning some rudimentary R through jupyter-notebooks"
   ]
  },
  {
   "cell_type": "markdown",
   "id": "47a40f91",
   "metadata": {},
   "source": [
    "# In notebooks, we have two different types of cells\n",
    "    This one is a Markdown cell"
   ]
  },
  {
   "cell_type": "code",
   "execution_count": 1,
   "id": "b601a1d3",
   "metadata": {},
   "outputs": [
    {
     "name": "stdout",
     "output_type": "stream",
     "text": [
      "[1] \"Hello World\"\n"
     ]
    }
   ],
   "source": [
    "# This one is an R cell,\n",
    "print(\"Hello World\")\n",
    "\n",
    "# all of these code blocks should run in any R integrated development environment (IDE) such as RStudio and RGUI\n",
    "\n",
    "# comments in R use the # symbol, this can be used to leave comments on code, or to disable code\n",
    "# print(\"Hello World\")"
   ]
  },
  {
   "cell_type": "markdown",
   "id": "a2807630",
   "metadata": {},
   "source": [
    "# A couple benefits of a notebook over a regular R file is being able to intersperse markdown cells in your code for better commenting, and also to have your program be split up into cells, so you can work on one chunk of code at a time.\n",
    "You can see some of the basic syntax for markdown [here](https://rmarkdown.rstudio.com/authoring_basics.html)\n",
    "\n",
    "I also recommend taking a moment to learn the keyboard shortcuts of Jupyter Notebook, looking at `insert`, `cell` above.  Or keep in mind that they exist for when you want to save time later.\n",
    "    \n",
    "One I use often is `ctrl+/` which comments and uncomments lines in both the markdown and code cells"
   ]
  },
  {
   "cell_type": "code",
   "execution_count": 2,
   "id": "da9e7a48",
   "metadata": {},
   "outputs": [
    {
     "data": {
      "text/html": [
       "5"
      ],
      "text/latex": [
       "5"
      ],
      "text/markdown": [
       "5"
      ],
      "text/plain": [
       "[1] 5"
      ]
     },
     "metadata": {},
     "output_type": "display_data"
    }
   ],
   "source": [
    "# You will likely see code that loads packages for more complex functionality, \n",
    "# but R does have many things built in\n",
    "1+4"
   ]
  },
  {
   "cell_type": "markdown",
   "id": "fce5436b",
   "metadata": {},
   "source": [
    "# A variable is something that holds another value, in math it's used to store numbers, in code it can store many other things"
   ]
  },
  {
   "cell_type": "code",
   "execution_count": 3,
   "id": "9aa92c4d",
   "metadata": {},
   "outputs": [
    {
     "data": {
      "text/html": [
       "3"
      ],
      "text/latex": [
       "3"
      ],
      "text/markdown": [
       "3"
      ],
      "text/plain": [
       "[1] 3"
      ]
     },
     "metadata": {},
     "output_type": "display_data"
    },
    {
     "data": {
      "text/html": [
       "'this'"
      ],
      "text/latex": [
       "'this'"
      ],
      "text/markdown": [
       "'this'"
      ],
      "text/plain": [
       "[1] \"this\""
      ]
     },
     "metadata": {},
     "output_type": "display_data"
    },
    {
     "data": {
      "text/html": [
       "<style>\n",
       ".list-inline {list-style: none; margin:0; padding: 0}\n",
       ".list-inline>li {display: inline-block}\n",
       ".list-inline>li:not(:last-child)::after {content: \"\\00b7\"; padding: 0 .5ex}\n",
       "</style>\n",
       "<ol class=list-inline><li>1</li><li>2</li><li>3</li><li>4</li><li>5</li></ol>\n"
      ],
      "text/latex": [
       "\\begin{enumerate*}\n",
       "\\item 1\n",
       "\\item 2\n",
       "\\item 3\n",
       "\\item 4\n",
       "\\item 5\n",
       "\\end{enumerate*}\n"
      ],
      "text/markdown": [
       "1. 1\n",
       "2. 2\n",
       "3. 3\n",
       "4. 4\n",
       "5. 5\n",
       "\n",
       "\n"
      ],
      "text/plain": [
       "[1] 1 2 3 4 5"
      ]
     },
     "metadata": {},
     "output_type": "display_data"
    },
    {
     "data": {
      "text/html": [
       "<ol>\n",
       "\t<li>3</li>\n",
       "\t<li>'this'</li>\n",
       "\t<li><style>\n",
       ".list-inline {list-style: none; margin:0; padding: 0}\n",
       ".list-inline>li {display: inline-block}\n",
       ".list-inline>li:not(:last-child)::after {content: \"\\00b7\"; padding: 0 .5ex}\n",
       "</style>\n",
       "<ol class=list-inline><li>1</li><li>2</li><li>3</li><li>4</li><li>5</li></ol>\n",
       "</li>\n",
       "</ol>\n"
      ],
      "text/latex": [
       "\\begin{enumerate}\n",
       "\\item 3\n",
       "\\item 'this'\n",
       "\\item \\begin{enumerate*}\n",
       "\\item 1\n",
       "\\item 2\n",
       "\\item 3\n",
       "\\item 4\n",
       "\\item 5\n",
       "\\end{enumerate*}\n",
       "\n",
       "\\end{enumerate}\n"
      ],
      "text/markdown": [
       "1. 3\n",
       "2. 'this'\n",
       "3. 1. 1\n",
       "2. 2\n",
       "3. 3\n",
       "4. 4\n",
       "5. 5\n",
       "\n",
       "\n",
       "\n",
       "\n",
       "\n"
      ],
      "text/plain": [
       "[[1]]\n",
       "[1] 3\n",
       "\n",
       "[[2]]\n",
       "[1] \"this\"\n",
       "\n",
       "[[3]]\n",
       "[1] 1 2 3 4 5\n"
      ]
     },
     "metadata": {},
     "output_type": "display_data"
    }
   ],
   "source": [
    "# storing things in variables\n",
    "variableA <- 3\n",
    "variableB <- \"this\"\n",
    "variableC <- 1:5\n",
    "variableD <- list(variableA, variableB, variableC)\n",
    "\n",
    "# displaying things in variables to output\n",
    "variableA\n",
    "variableB\n",
    "variableC\n",
    "variableD"
   ]
  },
  {
   "cell_type": "markdown",
   "id": "6f08e50c",
   "metadata": {},
   "source": [
    "## Variables can be used to represent the same value repeatedly"
   ]
  },
  {
   "cell_type": "code",
   "execution_count": 4,
   "id": "fb3ba9db",
   "metadata": {},
   "outputs": [
    {
     "data": {
      "text/html": [
       "42"
      ],
      "text/latex": [
       "42"
      ],
      "text/markdown": [
       "42"
      ],
      "text/plain": [
       "[1] 42"
      ]
     },
     "metadata": {},
     "output_type": "display_data"
    },
    {
     "data": {
      "text/html": [
       "43"
      ],
      "text/latex": [
       "43"
      ],
      "text/markdown": [
       "43"
      ],
      "text/plain": [
       "[1] 43"
      ]
     },
     "metadata": {},
     "output_type": "display_data"
    },
    {
     "data": {
      "text/html": [
       "44"
      ],
      "text/latex": [
       "44"
      ],
      "text/markdown": [
       "44"
      ],
      "text/plain": [
       "[1] 44"
      ]
     },
     "metadata": {},
     "output_type": "display_data"
    },
    {
     "data": {
      "text/html": [
       "45"
      ],
      "text/latex": [
       "45"
      ],
      "text/markdown": [
       "45"
      ],
      "text/plain": [
       "[1] 45"
      ]
     },
     "metadata": {},
     "output_type": "display_data"
    }
   ],
   "source": [
    "a<-42\n",
    "a\n",
    "a+1\n",
    "a+2\n",
    "a+3"
   ]
  },
  {
   "cell_type": "markdown",
   "id": "58dc76a2",
   "metadata": {},
   "source": [
    "## Their value will only change when something changes it"
   ]
  },
  {
   "cell_type": "code",
   "execution_count": 5,
   "id": "122087f1",
   "metadata": {},
   "outputs": [
    {
     "data": {
      "text/html": [
       "42"
      ],
      "text/latex": [
       "42"
      ],
      "text/markdown": [
       "42"
      ],
      "text/plain": [
       "[1] 42"
      ]
     },
     "metadata": {},
     "output_type": "display_data"
    },
    {
     "data": {
      "text/html": [
       "11"
      ],
      "text/latex": [
       "11"
      ],
      "text/markdown": [
       "11"
      ],
      "text/plain": [
       "[1] 11"
      ]
     },
     "metadata": {},
     "output_type": "display_data"
    }
   ],
   "source": [
    "a <- 42\n",
    "a\n",
    "\n",
    "a <- 5 + 6\n",
    "a"
   ]
  },
  {
   "cell_type": "markdown",
   "id": "dcc84878",
   "metadata": {},
   "source": [
    "## When storing in a variable, the processing/calculation happens first, so you can self reference after a variable has already been made"
   ]
  },
  {
   "cell_type": "code",
   "execution_count": 6,
   "id": "54b7b484",
   "metadata": {},
   "outputs": [
    {
     "data": {
      "text/html": [
       "42"
      ],
      "text/latex": [
       "42"
      ],
      "text/markdown": [
       "42"
      ],
      "text/plain": [
       "[1] 42"
      ]
     },
     "metadata": {},
     "output_type": "display_data"
    },
    {
     "data": {
      "text/html": [
       "84"
      ],
      "text/latex": [
       "84"
      ],
      "text/markdown": [
       "84"
      ],
      "text/plain": [
       "[1] 84"
      ]
     },
     "metadata": {},
     "output_type": "display_data"
    }
   ],
   "source": [
    "a = 42\n",
    "a\n",
    "\n",
    "a = a*2\n",
    "a"
   ]
  },
  {
   "cell_type": "markdown",
   "id": "a1f58b07",
   "metadata": {},
   "source": [
    "## side note: generally R does not care about spacing, so it's mainly whatever is legible for you"
   ]
  },
  {
   "cell_type": "code",
   "execution_count": 7,
   "id": "5ba303e6",
   "metadata": {},
   "outputs": [
    {
     "data": {
      "text/html": [
       "5"
      ],
      "text/latex": [
       "5"
      ],
      "text/markdown": [
       "5"
      ],
      "text/plain": [
       "[1] 5"
      ]
     },
     "metadata": {},
     "output_type": "display_data"
    },
    {
     "data": {
      "text/html": [
       "'this'"
      ],
      "text/latex": [
       "'this'"
      ],
      "text/markdown": [
       "'this'"
      ],
      "text/plain": [
       "[1] \"this\""
      ]
     },
     "metadata": {},
     "output_type": "display_data"
    },
    {
     "name": "stdout",
     "output_type": "stream",
     "text": [
      "[1] 42\n"
     ]
    }
   ],
   "source": [
    "a  <-                    5\n",
    "a\n",
    "\n",
    "b<-'this'\n",
    "b\n",
    "\n",
    "print(                         42                         )"
   ]
  },
  {
   "cell_type": "markdown",
   "id": "ba5e0ed9",
   "metadata": {},
   "source": [
    "# Note that `=` and `<-` or `->` are assignment operators in R, but do have some nuances\n",
    "There's also `<<-` and `->>`, read more [here](https://www.rdocumentation.org/packages/base/versions/3.6.2/topics/assignOps)"
   ]
  },
  {
   "cell_type": "code",
   "execution_count": 8,
   "id": "bc10f5a4",
   "metadata": {},
   "outputs": [
    {
     "data": {
      "text/html": [
       "5"
      ],
      "text/latex": [
       "5"
      ],
      "text/markdown": [
       "5"
      ],
      "text/plain": [
       "[1] 5"
      ]
     },
     "metadata": {},
     "output_type": "display_data"
    },
    {
     "data": {
      "text/html": [
       "7"
      ],
      "text/latex": [
       "7"
      ],
      "text/markdown": [
       "7"
      ],
      "text/plain": [
       "[1] 7"
      ]
     },
     "metadata": {},
     "output_type": "display_data"
    },
    {
     "name": "stdout",
     "output_type": "stream",
     "text": [
      "[1] 9\n"
     ]
    }
   ],
   "source": [
    "# strictly assigns right value to left variable\n",
    "a = 5\n",
    "\n",
    "# Are visibly directional:\n",
    "b <- 7\n",
    "9 -> c\n",
    "\n",
    "# calling the name of a variable will display it in the shell,\n",
    "    # but is distinct from print which displays on both the shell and when run as script?\n",
    "a\n",
    "b\n",
    "print(c)\n"
   ]
  },
  {
   "cell_type": "markdown",
   "id": "ee269c01",
   "metadata": {},
   "source": [
    "# You can use ls() to see variables in the environment"
   ]
  },
  {
   "cell_type": "code",
   "execution_count": 9,
   "id": "5e34f8da",
   "metadata": {},
   "outputs": [
    {
     "data": {
      "text/html": [
       "<style>\n",
       ".list-inline {list-style: none; margin:0; padding: 0}\n",
       ".list-inline>li {display: inline-block}\n",
       ".list-inline>li:not(:last-child)::after {content: \"\\00b7\"; padding: 0 .5ex}\n",
       "</style>\n",
       "<ol class=list-inline><li>'a'</li><li>'b'</li><li>'c'</li><li>'variableA'</li><li>'variableB'</li><li>'variableC'</li><li>'variableD'</li></ol>\n"
      ],
      "text/latex": [
       "\\begin{enumerate*}\n",
       "\\item 'a'\n",
       "\\item 'b'\n",
       "\\item 'c'\n",
       "\\item 'variableA'\n",
       "\\item 'variableB'\n",
       "\\item 'variableC'\n",
       "\\item 'variableD'\n",
       "\\end{enumerate*}\n"
      ],
      "text/markdown": [
       "1. 'a'\n",
       "2. 'b'\n",
       "3. 'c'\n",
       "4. 'variableA'\n",
       "5. 'variableB'\n",
       "6. 'variableC'\n",
       "7. 'variableD'\n",
       "\n",
       "\n"
      ],
      "text/plain": [
       "[1] \"a\"         \"b\"         \"c\"         \"variableA\" \"variableB\" \"variableC\"\n",
       "[7] \"variableD\""
      ]
     },
     "metadata": {},
     "output_type": "display_data"
    }
   ],
   "source": [
    "# list objects\n",
    "ls()"
   ]
  },
  {
   "cell_type": "markdown",
   "id": "ce2faa6a",
   "metadata": {},
   "source": [
    "# You can use rm() to remove them"
   ]
  },
  {
   "cell_type": "code",
   "execution_count": 10,
   "id": "fac4d538",
   "metadata": {},
   "outputs": [
    {
     "data": {
      "text/html": [
       "<style>\n",
       ".list-inline {list-style: none; margin:0; padding: 0}\n",
       ".list-inline>li {display: inline-block}\n",
       ".list-inline>li:not(:last-child)::after {content: \"\\00b7\"; padding: 0 .5ex}\n",
       "</style>\n",
       "<ol class=list-inline><li>'variableA'</li><li>'variableB'</li><li>'variableC'</li><li>'variableD'</li></ol>\n"
      ],
      "text/latex": [
       "\\begin{enumerate*}\n",
       "\\item 'variableA'\n",
       "\\item 'variableB'\n",
       "\\item 'variableC'\n",
       "\\item 'variableD'\n",
       "\\end{enumerate*}\n"
      ],
      "text/markdown": [
       "1. 'variableA'\n",
       "2. 'variableB'\n",
       "3. 'variableC'\n",
       "4. 'variableD'\n",
       "\n",
       "\n"
      ],
      "text/plain": [
       "[1] \"variableA\" \"variableB\" \"variableC\" \"variableD\""
      ]
     },
     "metadata": {},
     "output_type": "display_data"
    }
   ],
   "source": [
    "rm(a)\n",
    "rm(b, c) # can put multiple things to remove\n",
    "ls()"
   ]
  },
  {
   "cell_type": "markdown",
   "id": "e3df8d0a",
   "metadata": {},
   "source": [
    "# Common Data Types in R, which can be seen by using the class() function"
   ]
  },
  {
   "cell_type": "markdown",
   "id": "706546e2",
   "metadata": {},
   "source": [
    "## logical"
   ]
  },
  {
   "cell_type": "code",
   "execution_count": 11,
   "id": "25b20979",
   "metadata": {},
   "outputs": [
    {
     "data": {
      "text/html": [
       "TRUE"
      ],
      "text/latex": [
       "TRUE"
      ],
      "text/markdown": [
       "TRUE"
      ],
      "text/plain": [
       "[1] TRUE"
      ]
     },
     "metadata": {},
     "output_type": "display_data"
    },
    {
     "data": {
      "text/html": [
       "'logical'"
      ],
      "text/latex": [
       "'logical'"
      ],
      "text/markdown": [
       "'logical'"
      ],
      "text/plain": [
       "[1] \"logical\""
      ]
     },
     "metadata": {},
     "output_type": "display_data"
    }
   ],
   "source": [
    "bool <- TRUE\n",
    "bool\n",
    "class(bool)"
   ]
  },
  {
   "cell_type": "markdown",
   "id": "4f571a80",
   "metadata": {},
   "source": [
    "## numeric"
   ]
  },
  {
   "cell_type": "code",
   "execution_count": 12,
   "id": "c8475ece",
   "metadata": {},
   "outputs": [
    {
     "data": {
      "text/html": [
       "3.14"
      ],
      "text/latex": [
       "3.14"
      ],
      "text/markdown": [
       "3.14"
      ],
      "text/plain": [
       "[1] 3.14"
      ]
     },
     "metadata": {},
     "output_type": "display_data"
    },
    {
     "data": {
      "text/html": [
       "'numeric'"
      ],
      "text/latex": [
       "'numeric'"
      ],
      "text/markdown": [
       "'numeric'"
      ],
      "text/plain": [
       "[1] \"numeric\""
      ]
     },
     "metadata": {},
     "output_type": "display_data"
    },
    {
     "data": {
      "text/html": [
       "42"
      ],
      "text/latex": [
       "42"
      ],
      "text/markdown": [
       "42"
      ],
      "text/plain": [
       "[1] 42"
      ]
     },
     "metadata": {},
     "output_type": "display_data"
    },
    {
     "data": {
      "text/html": [
       "'numeric'"
      ],
      "text/latex": [
       "'numeric'"
      ],
      "text/markdown": [
       "'numeric'"
      ],
      "text/plain": [
       "[1] \"numeric\""
      ]
     },
     "metadata": {},
     "output_type": "display_data"
    }
   ],
   "source": [
    "float <- 3.14\n",
    "float\n",
    "class(float)\n",
    "\n",
    "value <- 42\n",
    "value\n",
    "class(value)"
   ]
  },
  {
   "cell_type": "markdown",
   "id": "31f35ea8",
   "metadata": {},
   "source": [
    "## integer, whole numbers take up less space in memory if that is a concern"
   ]
  },
  {
   "cell_type": "code",
   "execution_count": 13,
   "id": "fc4baad2",
   "metadata": {},
   "outputs": [
    {
     "data": {
      "text/html": [
       "3"
      ],
      "text/latex": [
       "3"
      ],
      "text/markdown": [
       "3"
      ],
      "text/plain": [
       "[1] 3"
      ]
     },
     "metadata": {},
     "output_type": "display_data"
    },
    {
     "data": {
      "text/html": [
       "'integer'"
      ],
      "text/latex": [
       "'integer'"
      ],
      "text/markdown": [
       "'integer'"
      ],
      "text/plain": [
       "[1] \"integer\""
      ]
     },
     "metadata": {},
     "output_type": "display_data"
    }
   ],
   "source": [
    "i <- as.integer(3.14)\n",
    "i\n",
    "class(i)"
   ]
  },
  {
   "cell_type": "markdown",
   "id": "008175da",
   "metadata": {},
   "source": [
    "## complex, can store imaginary values"
   ]
  },
  {
   "cell_type": "code",
   "execution_count": 14,
   "id": "e26169cd",
   "metadata": {},
   "outputs": [
    {
     "data": {
      "text/html": [
       "3+2i"
      ],
      "text/latex": [
       "3+2i"
      ],
      "text/markdown": [
       "3+2i"
      ],
      "text/plain": [
       "[1] 3+2i"
      ]
     },
     "metadata": {},
     "output_type": "display_data"
    },
    {
     "data": {
      "text/html": [
       "'complex'"
      ],
      "text/latex": [
       "'complex'"
      ],
      "text/markdown": [
       "'complex'"
      ],
      "text/plain": [
       "[1] \"complex\""
      ]
     },
     "metadata": {},
     "output_type": "display_data"
    }
   ],
   "source": [
    "complex <- 3+2i\n",
    "complex\n",
    "class(complex)"
   ]
  },
  {
   "cell_type": "markdown",
   "id": "cefa18b5",
   "metadata": {},
   "source": [
    "## character, includes strings (note R does not distinguish ' and \" )"
   ]
  },
  {
   "cell_type": "code",
   "execution_count": 15,
   "id": "84b3e9f0",
   "metadata": {},
   "outputs": [
    {
     "data": {
      "text/html": [
       "'a'"
      ],
      "text/latex": [
       "'a'"
      ],
      "text/markdown": [
       "'a'"
      ],
      "text/plain": [
       "[1] \"a\""
      ]
     },
     "metadata": {},
     "output_type": "display_data"
    },
    {
     "data": {
      "text/html": [
       "'character'"
      ],
      "text/latex": [
       "'character'"
      ],
      "text/markdown": [
       "'character'"
      ],
      "text/plain": [
       "[1] \"character\""
      ]
     },
     "metadata": {},
     "output_type": "display_data"
    },
    {
     "data": {
      "text/html": [
       "'string'"
      ],
      "text/latex": [
       "'string'"
      ],
      "text/markdown": [
       "'string'"
      ],
      "text/plain": [
       "[1] \"string\""
      ]
     },
     "metadata": {},
     "output_type": "display_data"
    },
    {
     "data": {
      "text/html": [
       "'character'"
      ],
      "text/latex": [
       "'character'"
      ],
      "text/markdown": [
       "'character'"
      ],
      "text/plain": [
       "[1] \"character\""
      ]
     },
     "metadata": {},
     "output_type": "display_data"
    }
   ],
   "source": [
    "char <- \"a\"\n",
    "char\n",
    "class(char)\n",
    "\n",
    "str <- 'string'\n",
    "str\n",
    "class(str)"
   ]
  },
  {
   "cell_type": "markdown",
   "id": "8bbcd0af",
   "metadata": {},
   "source": [
    "# Data storage / structures?  just vector and list for now"
   ]
  },
  {
   "cell_type": "markdown",
   "id": "8873e5e0",
   "metadata": {},
   "source": [
    "## Vector\n",
    "c() combines items and returns a vector of type matching input items, if input is a mix of data types, it will be a character vector\n",
    "\n",
    "A 'vector' is not really a type so much as it's just a series of one data type, so class() will return the type of item stored, rather than 'vector', whereas 'list' does refer to a specific type of object"
   ]
  },
  {
   "cell_type": "code",
   "execution_count": 16,
   "id": "d6dbfeb9",
   "metadata": {},
   "outputs": [
    {
     "data": {
      "text/html": [
       "<style>\n",
       ".list-inline {list-style: none; margin:0; padding: 0}\n",
       ".list-inline>li {display: inline-block}\n",
       ".list-inline>li:not(:last-child)::after {content: \"\\00b7\"; padding: 0 .5ex}\n",
       "</style>\n",
       "<ol class=list-inline><li>1</li><li>2</li><li>3</li></ol>\n"
      ],
      "text/latex": [
       "\\begin{enumerate*}\n",
       "\\item 1\n",
       "\\item 2\n",
       "\\item 3\n",
       "\\end{enumerate*}\n"
      ],
      "text/markdown": [
       "1. 1\n",
       "2. 2\n",
       "3. 3\n",
       "\n",
       "\n"
      ],
      "text/plain": [
       "[1] 1 2 3"
      ]
     },
     "metadata": {},
     "output_type": "display_data"
    },
    {
     "data": {
      "text/html": [
       "<style>\n",
       ".list-inline {list-style: none; margin:0; padding: 0}\n",
       ".list-inline>li {display: inline-block}\n",
       ".list-inline>li:not(:last-child)::after {content: \"\\00b7\"; padding: 0 .5ex}\n",
       "</style>\n",
       "<ol class=list-inline><li>'a'</li><li>'short'</li><li>'string'</li></ol>\n"
      ],
      "text/latex": [
       "\\begin{enumerate*}\n",
       "\\item 'a'\n",
       "\\item 'short'\n",
       "\\item 'string'\n",
       "\\end{enumerate*}\n"
      ],
      "text/markdown": [
       "1. 'a'\n",
       "2. 'short'\n",
       "3. 'string'\n",
       "\n",
       "\n"
      ],
      "text/plain": [
       "[1] \"a\"      \"short\"  \"string\""
      ]
     },
     "metadata": {},
     "output_type": "display_data"
    },
    {
     "data": {
      "text/html": [
       "<style>\n",
       ".list-inline {list-style: none; margin:0; padding: 0}\n",
       ".list-inline>li {display: inline-block}\n",
       ".list-inline>li:not(:last-child)::after {content: \"\\00b7\"; padding: 0 .5ex}\n",
       "</style>\n",
       "<ol class=list-inline><li>TRUE</li><li>FALSE</li></ol>\n"
      ],
      "text/latex": [
       "\\begin{enumerate*}\n",
       "\\item TRUE\n",
       "\\item FALSE\n",
       "\\end{enumerate*}\n"
      ],
      "text/markdown": [
       "1. TRUE\n",
       "2. FALSE\n",
       "\n",
       "\n"
      ],
      "text/plain": [
       "[1]  TRUE FALSE"
      ]
     },
     "metadata": {},
     "output_type": "display_data"
    },
    {
     "data": {
      "text/html": [
       "'logical'"
      ],
      "text/latex": [
       "'logical'"
      ],
      "text/markdown": [
       "'logical'"
      ],
      "text/plain": [
       "[1] \"logical\""
      ]
     },
     "metadata": {},
     "output_type": "display_data"
    }
   ],
   "source": [
    "# a vector can only contain one type of data, but it can be any data type\n",
    "c(1,2,3)\n",
    "c(\"a\",\"short\",\"string\")\n",
    "\n",
    "# they can be stored in variables\n",
    "vector<-c(TRUE,FALSE)\n",
    "\n",
    "vector # access it by variable name\n",
    "class(vector) # matches the type of data stored in it"
   ]
  },
  {
   "cell_type": "code",
   "execution_count": 17,
   "id": "a4b42ff2",
   "metadata": {},
   "outputs": [
    {
     "data": {
      "text/html": [
       "<style>\n",
       ".list-inline {list-style: none; margin:0; padding: 0}\n",
       ".list-inline>li {display: inline-block}\n",
       ".list-inline>li:not(:last-child)::after {content: \"\\00b7\"; padding: 0 .5ex}\n",
       "</style>\n",
       "<ol class=list-inline><li>0</li><li>0</li><li>0</li></ol>\n"
      ],
      "text/latex": [
       "\\begin{enumerate*}\n",
       "\\item 0\n",
       "\\item 0\n",
       "\\item 0\n",
       "\\end{enumerate*}\n"
      ],
      "text/markdown": [
       "1. 0\n",
       "2. 0\n",
       "3. 0\n",
       "\n",
       "\n"
      ],
      "text/plain": [
       "[1] 0 0 0"
      ]
     },
     "metadata": {},
     "output_type": "display_data"
    },
    {
     "data": {
      "text/html": [
       "<style>\n",
       ".list-inline {list-style: none; margin:0; padding: 0}\n",
       ".list-inline>li {display: inline-block}\n",
       ".list-inline>li:not(:last-child)::after {content: \"\\00b7\"; padding: 0 .5ex}\n",
       "</style>\n",
       "<ol class=list-inline><li>FALSE</li><li>FALSE</li><li>FALSE</li><li>FALSE</li></ol>\n"
      ],
      "text/latex": [
       "\\begin{enumerate*}\n",
       "\\item FALSE\n",
       "\\item FALSE\n",
       "\\item FALSE\n",
       "\\item FALSE\n",
       "\\end{enumerate*}\n"
      ],
      "text/markdown": [
       "1. FALSE\n",
       "2. FALSE\n",
       "3. FALSE\n",
       "4. FALSE\n",
       "\n",
       "\n"
      ],
      "text/plain": [
       "[1] FALSE FALSE FALSE FALSE"
      ]
     },
     "metadata": {},
     "output_type": "display_data"
    },
    {
     "data": {
      "text/html": [
       "<ol>\n",
       "\t<li>NULL</li>\n",
       "\t<li>NULL</li>\n",
       "</ol>\n"
      ],
      "text/latex": [
       "\\begin{enumerate}\n",
       "\\item NULL\n",
       "\\item NULL\n",
       "\\end{enumerate}\n"
      ],
      "text/markdown": [
       "1. NULL\n",
       "2. NULL\n",
       "\n",
       "\n"
      ],
      "text/plain": [
       "[[1]]\n",
       "NULL\n",
       "\n",
       "[[2]]\n",
       "NULL\n"
      ]
     },
     "metadata": {},
     "output_type": "display_data"
    }
   ],
   "source": [
    "#initialize a vector with default values where mode = data type, and length is how many entries it can contain\n",
    "vector(mode=\"numeric\",length=3)\n",
    "\n",
    "vector(\"logical\",length=4)\n",
    "\n",
    "vector(\"list\",length=2)"
   ]
  },
  {
   "cell_type": "code",
   "execution_count": 18,
   "id": "35860a15",
   "metadata": {},
   "outputs": [
    {
     "data": {
      "text/html": [
       "<style>\n",
       ".list-inline {list-style: none; margin:0; padding: 0}\n",
       ".list-inline>li {display: inline-block}\n",
       ".list-inline>li:not(:last-child)::after {content: \"\\00b7\"; padding: 0 .5ex}\n",
       "</style>\n",
       "<ol class=list-inline><li>0</li><li>0</li><li>0</li></ol>\n"
      ],
      "text/latex": [
       "\\begin{enumerate*}\n",
       "\\item 0\n",
       "\\item 0\n",
       "\\item 0\n",
       "\\end{enumerate*}\n"
      ],
      "text/markdown": [
       "1. 0\n",
       "2. 0\n",
       "3. 0\n",
       "\n",
       "\n"
      ],
      "text/plain": [
       "[1] 0 0 0"
      ]
     },
     "metadata": {},
     "output_type": "display_data"
    },
    {
     "data": {
      "text/html": [
       "<style>\n",
       ".list-inline {list-style: none; margin:0; padding: 0}\n",
       ".list-inline>li {display: inline-block}\n",
       ".list-inline>li:not(:last-child)::after {content: \"\\00b7\"; padding: 0 .5ex}\n",
       "</style>\n",
       "<ol class=list-inline><li>6</li><li>7</li><li>42</li></ol>\n"
      ],
      "text/latex": [
       "\\begin{enumerate*}\n",
       "\\item 6\n",
       "\\item 7\n",
       "\\item 42\n",
       "\\end{enumerate*}\n"
      ],
      "text/markdown": [
       "1. 6\n",
       "2. 7\n",
       "3. 42\n",
       "\n",
       "\n"
      ],
      "text/plain": [
       "[1]  6  7 42"
      ]
     },
     "metadata": {},
     "output_type": "display_data"
    }
   ],
   "source": [
    "# create empty vector\n",
    "vecN<-vector(\"numeric\",3)\n",
    "vecN\n",
    "\n",
    "# fill vector by numeric index\n",
    "vecN[3] = 42\n",
    "vecN[1] = 6\n",
    "vecN[2] = 7\n",
    "\n",
    "vecN"
   ]
  },
  {
   "cell_type": "markdown",
   "id": "9ecd9a73",
   "metadata": {},
   "source": [
    "## List"
   ]
  },
  {
   "cell_type": "code",
   "execution_count": 19,
   "id": "929f9a95",
   "metadata": {},
   "outputs": [
    {
     "data": {
      "text/html": [
       "<ol>\n",
       "\t<li>'a'</li>\n",
       "\t<li>TRUE</li>\n",
       "\t<li>3</li>\n",
       "</ol>\n"
      ],
      "text/latex": [
       "\\begin{enumerate}\n",
       "\\item 'a'\n",
       "\\item TRUE\n",
       "\\item 3\n",
       "\\end{enumerate}\n"
      ],
      "text/markdown": [
       "1. 'a'\n",
       "2. TRUE\n",
       "3. 3\n",
       "\n",
       "\n"
      ],
      "text/plain": [
       "[[1]]\n",
       "[1] \"a\"\n",
       "\n",
       "[[2]]\n",
       "[1] TRUE\n",
       "\n",
       "[[3]]\n",
       "[1] 3\n"
      ]
     },
     "metadata": {},
     "output_type": "display_data"
    }
   ],
   "source": [
    "# a list can contain different types of items, including more complex items and other lists\n",
    "list('a', TRUE, 3)"
   ]
  },
  {
   "cell_type": "code",
   "execution_count": 21,
   "id": "8bc69073",
   "metadata": {},
   "outputs": [
    {
     "data": {
      "text/html": [
       "<ol>\n",
       "\t<li>'a'</li>\n",
       "\t<li>TRUE</li>\n",
       "\t<li>3</li>\n",
       "</ol>\n"
      ],
      "text/latex": [
       "\\begin{enumerate}\n",
       "\\item 'a'\n",
       "\\item TRUE\n",
       "\\item 3\n",
       "\\end{enumerate}\n"
      ],
      "text/markdown": [
       "1. 'a'\n",
       "2. TRUE\n",
       "3. 3\n",
       "\n",
       "\n"
      ],
      "text/plain": [
       "[[1]]\n",
       "[1] \"a\"\n",
       "\n",
       "[[2]]\n",
       "[1] TRUE\n",
       "\n",
       "[[3]]\n",
       "[1] 3\n"
      ]
     },
     "metadata": {},
     "output_type": "display_data"
    },
    {
     "data": {
      "text/html": [
       "<style>\n",
       ".list-inline {list-style: none; margin:0; padding: 0}\n",
       ".list-inline>li {display: inline-block}\n",
       ".list-inline>li:not(:last-child)::after {content: \"\\00b7\"; padding: 0 .5ex}\n",
       "</style>\n",
       "<ol class=list-inline><li>'a'</li><li>'TRUE'</li><li>'3'</li></ol>\n"
      ],
      "text/latex": [
       "\\begin{enumerate*}\n",
       "\\item 'a'\n",
       "\\item 'TRUE'\n",
       "\\item '3'\n",
       "\\end{enumerate*}\n"
      ],
      "text/markdown": [
       "1. 'a'\n",
       "2. 'TRUE'\n",
       "3. '3'\n",
       "\n",
       "\n"
      ],
      "text/plain": [
       "[1] \"a\"    \"TRUE\" \"3\"   "
      ]
     },
     "metadata": {},
     "output_type": "display_data"
    },
    {
     "data": {
      "text/html": [
       "'list'"
      ],
      "text/latex": [
       "'list'"
      ],
      "text/markdown": [
       "'list'"
      ],
      "text/plain": [
       "[1] \"list\""
      ]
     },
     "metadata": {},
     "output_type": "display_data"
    },
    {
     "data": {
      "text/html": [
       "'character'"
      ],
      "text/latex": [
       "'character'"
      ],
      "text/markdown": [
       "'character'"
      ],
      "text/plain": [
       "[1] \"character\""
      ]
     },
     "metadata": {},
     "output_type": "display_data"
    },
    {
     "data": {
      "text/html": [
       "7"
      ],
      "text/latex": [
       "7"
      ],
      "text/markdown": [
       "7"
      ],
      "text/plain": [
       "[1] 7"
      ]
     },
     "metadata": {},
     "output_type": "display_data"
    },
    {
     "ename": "ERROR",
     "evalue": "Error in usingC[[3]] + 4: non-numeric argument to binary operator\n",
     "output_type": "error",
     "traceback": [
      "Error in usingC[[3]] + 4: non-numeric argument to binary operator\nTraceback:\n"
     ]
    }
   ],
   "source": [
    "# list vs vector\n",
    "usingList<-list('a', TRUE, 3)\n",
    "usingC<-c('a', TRUE, 3)\n",
    "\n",
    "usingList\n",
    "usingC\n",
    "\n",
    "class(usingList)\n",
    "class(usingC)\n",
    "\n",
    "# item 3 is a numeric type, 3\n",
    "usingList[[3]] + 4\n",
    "\n",
    "# item 3 is a character type, \"3\"\n",
    "usingC[[3]] + 4"
   ]
  },
  {
   "cell_type": "code",
   "execution_count": 22,
   "id": "acc8be74",
   "metadata": {},
   "outputs": [
    {
     "data": {
      "text/html": [
       "<ol>\n",
       "\t<li>'a'</li>\n",
       "\t<li>TRUE</li>\n",
       "\t<li>3</li>\n",
       "</ol>\n"
      ],
      "text/latex": [
       "\\begin{enumerate}\n",
       "\\item 'a'\n",
       "\\item TRUE\n",
       "\\item 3\n",
       "\\end{enumerate}\n"
      ],
      "text/markdown": [
       "1. 'a'\n",
       "2. TRUE\n",
       "3. 3\n",
       "\n",
       "\n"
      ],
      "text/plain": [
       "[[1]]\n",
       "[1] \"a\"\n",
       "\n",
       "[[2]]\n",
       "[1] TRUE\n",
       "\n",
       "[[3]]\n",
       "[1] 3\n"
      ]
     },
     "metadata": {},
     "output_type": "display_data"
    },
    {
     "data": {
      "text/html": [
       "'list'"
      ],
      "text/latex": [
       "'list'"
      ],
      "text/markdown": [
       "'list'"
      ],
      "text/plain": [
       "[1] \"list\""
      ]
     },
     "metadata": {},
     "output_type": "display_data"
    },
    {
     "data": {
      "text/html": [
       "3"
      ],
      "text/latex": [
       "3"
      ],
      "text/markdown": [
       "3"
      ],
      "text/plain": [
       "[1] 3"
      ]
     },
     "metadata": {},
     "output_type": "display_data"
    },
    {
     "data": {
      "text/html": [
       "'a'"
      ],
      "text/latex": [
       "'a'"
      ],
      "text/markdown": [
       "'a'"
      ],
      "text/plain": [
       "[1] \"a\""
      ]
     },
     "metadata": {},
     "output_type": "display_data"
    },
    {
     "name": "stdout",
     "output_type": "stream",
     "text": [
      "List of 3\n",
      " $ : chr \"a\"\n",
      " $ : logi TRUE\n",
      " $ : num 3\n"
     ]
    }
   ],
   "source": [
    "# a list can be stored in a variable and items can be accessed by numerical index\n",
    "aList<-list('a', TRUE, 3)\n",
    "\n",
    "aList\n",
    "class(aList)\n",
    "\n",
    "# items can be accessed by numerical index\n",
    "aList[[3]]\n",
    "aList[[1]]\n",
    "\n",
    "# str() can be used to see the details of items\n",
    "str(aList)"
   ]
  },
  {
   "cell_type": "markdown",
   "id": "87dedb00",
   "metadata": {},
   "source": [
    "## Named index"
   ]
  },
  {
   "cell_type": "code",
   "execution_count": 23,
   "id": "2b8b0b54",
   "metadata": {},
   "outputs": [
    {
     "name": "stdout",
     "output_type": "stream",
     "text": [
      "List of 3\n",
      " $ this         : chr \"a\"\n",
      " $ that         : logi TRUE\n",
      " $ another thing: num 3\n"
     ]
    },
    {
     "data": {
      "text/html": [
       "TRUE"
      ],
      "text/latex": [
       "TRUE"
      ],
      "text/markdown": [
       "TRUE"
      ],
      "text/plain": [
       "[1] TRUE"
      ]
     },
     "metadata": {},
     "output_type": "display_data"
    }
   ],
   "source": [
    "# a list can also have a named index\n",
    "aList<-list(\"this\"=\"a\",\"that\"=TRUE,\"another thing\"=3)\n",
    "\n",
    "# now shows the names\n",
    "str(aList)\n",
    "\n",
    "# which can then be accessed by those names\n",
    "aList[[\"that\"]]"
   ]
  },
  {
   "cell_type": "code",
   "execution_count": 24,
   "id": "8285e860",
   "metadata": {},
   "outputs": [
    {
     "name": "stdout",
     "output_type": "stream",
     "text": [
      "List of 3\n",
      " $ new     : chr \"a\"\n",
      " $ names   : logi TRUE\n",
      " $ for all!: num 3\n"
     ]
    }
   ],
   "source": [
    "# those names can also be added/modified after the fact\n",
    "names(aList)<-c(\"new\",\"names\",\"for all!\")\n",
    "\n",
    "str(aList)"
   ]
  },
  {
   "cell_type": "code",
   "execution_count": null,
   "id": "1e166289",
   "metadata": {},
   "outputs": [],
   "source": []
  },
  {
   "cell_type": "markdown",
   "id": "08699b2f",
   "metadata": {},
   "source": [
    "## Different ways to access elements in a list"
   ]
  },
  {
   "cell_type": "code",
   "execution_count": 25,
   "id": "8e43b4a8",
   "metadata": {},
   "outputs": [
    {
     "data": {
      "text/html": [
       "'list'"
      ],
      "text/latex": [
       "'list'"
      ],
      "text/markdown": [
       "'list'"
      ],
      "text/plain": [
       "[1] \"list\""
      ]
     },
     "metadata": {},
     "output_type": "display_data"
    },
    {
     "data": {
      "text/html": [
       "<ol>\n",
       "\t<li>1</li>\n",
       "</ol>\n"
      ],
      "text/latex": [
       "\\begin{enumerate}\n",
       "\\item 1\n",
       "\\end{enumerate}\n"
      ],
      "text/markdown": [
       "1. 1\n",
       "\n",
       "\n"
      ],
      "text/plain": [
       "[[1]]\n",
       "[1] 1\n"
      ]
     },
     "metadata": {},
     "output_type": "display_data"
    },
    {
     "data": {
      "text/html": [
       "'numeric'"
      ],
      "text/latex": [
       "'numeric'"
      ],
      "text/markdown": [
       "'numeric'"
      ],
      "text/plain": [
       "[1] \"numeric\""
      ]
     },
     "metadata": {},
     "output_type": "display_data"
    },
    {
     "data": {
      "text/html": [
       "1"
      ],
      "text/latex": [
       "1"
      ],
      "text/markdown": [
       "1"
      ],
      "text/plain": [
       "[1] 1"
      ]
     },
     "metadata": {},
     "output_type": "display_data"
    },
    {
     "name": "stdout",
     "output_type": "stream",
     "text": [
      "List of 5\n",
      " $ : num 1\n",
      " $ : num 2\n",
      " $ : num 3\n",
      " $ : num 4\n",
      " $ : num 5\n"
     ]
    }
   ],
   "source": [
    "nList<-list(1,2,3,4,5)\n",
    "# [] returns a list with one item\n",
    "class( nList[1] )\n",
    "nList[1]\n",
    "\n",
    "# [[]] returns the item stored in the list\n",
    "class( nList[[1]] )\n",
    "nList[[1]]\n",
    "\n",
    "str(nList)"
   ]
  },
  {
   "cell_type": "code",
   "execution_count": 26,
   "id": "57ed846c",
   "metadata": {},
   "outputs": [
    {
     "data": {
      "text/html": [
       "<ol>\n",
       "\t<li><ol>\n",
       "\t<li>'a'</li>\n",
       "\t<li>TRUE</li>\n",
       "\t<li>3</li>\n",
       "</ol>\n",
       "</li>\n",
       "\t<li><ol>\n",
       "\t<li>'b'</li>\n",
       "\t<li>FALSE</li>\n",
       "\t<li>4</li>\n",
       "</ol>\n",
       "</li>\n",
       "</ol>\n"
      ],
      "text/latex": [
       "\\begin{enumerate}\n",
       "\\item \\begin{enumerate}\n",
       "\\item 'a'\n",
       "\\item TRUE\n",
       "\\item 3\n",
       "\\end{enumerate}\n",
       "\n",
       "\\item \\begin{enumerate}\n",
       "\\item 'b'\n",
       "\\item FALSE\n",
       "\\item 4\n",
       "\\end{enumerate}\n",
       "\n",
       "\\end{enumerate}\n"
      ],
      "text/markdown": [
       "1. 1. 'a'\n",
       "2. TRUE\n",
       "3. 3\n",
       "\n",
       "\n",
       "\n",
       "2. 1. 'b'\n",
       "2. FALSE\n",
       "3. 4\n",
       "\n",
       "\n",
       "\n",
       "\n",
       "\n"
      ],
      "text/plain": [
       "[[1]]\n",
       "[[1]][[1]]\n",
       "[1] \"a\"\n",
       "\n",
       "[[1]][[2]]\n",
       "[1] TRUE\n",
       "\n",
       "[[1]][[3]]\n",
       "[1] 3\n",
       "\n",
       "\n",
       "[[2]]\n",
       "[[2]][[1]]\n",
       "[1] \"b\"\n",
       "\n",
       "[[2]][[2]]\n",
       "[1] FALSE\n",
       "\n",
       "[[2]][[3]]\n",
       "[1] 4\n",
       "\n"
      ]
     },
     "metadata": {},
     "output_type": "display_data"
    },
    {
     "data": {
      "text/html": [
       "<ol>\n",
       "\t<li><ol>\n",
       "\t<li>'b'</li>\n",
       "\t<li>FALSE</li>\n",
       "\t<li>4</li>\n",
       "</ol>\n",
       "</li>\n",
       "</ol>\n"
      ],
      "text/latex": [
       "\\begin{enumerate}\n",
       "\\item \\begin{enumerate}\n",
       "\\item 'b'\n",
       "\\item FALSE\n",
       "\\item 4\n",
       "\\end{enumerate}\n",
       "\n",
       "\\end{enumerate}\n"
      ],
      "text/markdown": [
       "1. 1. 'b'\n",
       "2. FALSE\n",
       "3. 4\n",
       "\n",
       "\n",
       "\n",
       "\n",
       "\n"
      ],
      "text/plain": [
       "[[1]]\n",
       "[[1]][[1]]\n",
       "[1] \"b\"\n",
       "\n",
       "[[1]][[2]]\n",
       "[1] FALSE\n",
       "\n",
       "[[1]][[3]]\n",
       "[1] 4\n",
       "\n"
      ]
     },
     "metadata": {},
     "output_type": "display_data"
    },
    {
     "data": {
      "text/html": [
       "TRUE"
      ],
      "text/latex": [
       "TRUE"
      ],
      "text/markdown": [
       "TRUE"
      ],
      "text/plain": [
       "[1] TRUE"
      ]
     },
     "metadata": {},
     "output_type": "display_data"
    }
   ],
   "source": [
    "# combining lists\n",
    "aList<-list('a', TRUE, 3)\n",
    "bList<-list('b', FALSE, 4)\n",
    "\n",
    "combined<-list(aList , bList)\n",
    "\n",
    "combined\n",
    "\n",
    "# access one list by numerical index\n",
    "combined[2]\n",
    "# combined[[2]][[2]]\n",
    "\n",
    "# acess one item in a list\n",
    "combined[[1]][[2]]\n"
   ]
  },
  {
   "cell_type": "code",
   "execution_count": null,
   "id": "66d979c4",
   "metadata": {},
   "outputs": [],
   "source": []
  },
  {
   "cell_type": "markdown",
   "id": "782d4d20",
   "metadata": {},
   "source": [
    "# How to define a function and call it"
   ]
  },
  {
   "cell_type": "code",
   "execution_count": 27,
   "id": "d4da9d07",
   "metadata": {},
   "outputs": [
    {
     "name": "stdout",
     "output_type": "stream",
     "text": [
      "[1] \"Print function output\"\n"
     ]
    }
   ],
   "source": [
    "# definition\n",
    "functionName<-function(){\n",
    "    #code to execute\n",
    "    print(\"Print function output\")\n",
    "}\n",
    "\n",
    "# call\n",
    "functionName()"
   ]
  },
  {
   "cell_type": "markdown",
   "id": "0d17cb7a",
   "metadata": {},
   "source": [
    "# You can do more complex things when defining a function such as declaring parameters which receive arguments when called"
   ]
  },
  {
   "cell_type": "code",
   "execution_count": 28,
   "id": "8a17d360",
   "metadata": {},
   "outputs": [
    {
     "data": {
      "text/html": [
       "8"
      ],
      "text/latex": [
       "8"
      ],
      "text/markdown": [
       "8"
      ],
      "text/plain": [
       "[1] 8"
      ]
     },
     "metadata": {},
     "output_type": "display_data"
    }
   ],
   "source": [
    "# definition\n",
    "add<-function(param1,param2){\n",
    "    param1+param2\n",
    "}\n",
    "\n",
    "# call\n",
    "add(3,5)"
   ]
  },
  {
   "cell_type": "markdown",
   "id": "a79ff6a7",
   "metadata": {},
   "source": [
    "# You can even declare that those parameters have default values"
   ]
  },
  {
   "cell_type": "code",
   "execution_count": 29,
   "id": "4b8d99a2",
   "metadata": {},
   "outputs": [
    {
     "data": {
      "text/html": [
       "'My name is n/a'"
      ],
      "text/latex": [
       "'My name is n/a'"
      ],
      "text/markdown": [
       "'My name is n/a'"
      ],
      "text/plain": [
       "[1] \"My name is n/a\""
      ]
     },
     "metadata": {},
     "output_type": "display_data"
    },
    {
     "data": {
      "text/html": [
       "'My name is Purdue'"
      ],
      "text/latex": [
       "'My name is Purdue'"
      ],
      "text/markdown": [
       "'My name is Purdue'"
      ],
      "text/plain": [
       "[1] \"My name is Purdue\""
      ]
     },
     "metadata": {},
     "output_type": "display_data"
    }
   ],
   "source": [
    "# definition\n",
    "myNameIs<-function(name = \"n/a\"){\n",
    "    # sprintf() lets us insert specific variable types into character strings, %s means string\n",
    "    sprintf(\"My name is %s\", name)\n",
    "}\n",
    "\n",
    "# Call without argument\n",
    "myNameIs()\n",
    "\n",
    "# Call with argument\n",
    "myNameIs(\"Purdue\")"
   ]
  },
  {
   "cell_type": "markdown",
   "id": "e53c40d8",
   "metadata": {},
   "source": [
    "# You can type the name of a function to see it's declaration, or you can print it to see a little bit more information\n",
    "note: almost all functions have more functionality than is being demonstrated in this script, see the documentation for each function to learn more"
   ]
  },
  {
   "cell_type": "code",
   "execution_count": 30,
   "id": "e93b43cf",
   "metadata": {},
   "outputs": [
    {
     "data": {
      "text/html": [
       "<pre class=language-r><code>function (x, na.rm = FALSE, ...) \n",
       "UseMethod(\"median\")</code></pre>"
      ],
      "text/latex": [
       "\\begin{minted}{r}\n",
       "function (x, na.rm = FALSE, ...) \n",
       "UseMethod(\"median\")\n",
       "\\end{minted}"
      ],
      "text/markdown": [
       "```r\n",
       "function (x, na.rm = FALSE, ...) \n",
       "UseMethod(\"median\")\n",
       "```"
      ],
      "text/plain": [
       "function (x, na.rm = FALSE, ...) \n",
       "UseMethod(\"median\")\n",
       "<bytecode: 0x56319a989088>\n",
       "<environment: namespace:stats>"
      ]
     },
     "metadata": {},
     "output_type": "display_data"
    },
    {
     "name": "stdout",
     "output_type": "stream",
     "text": [
      "function (x, na.rm = FALSE, ...) \n",
      "UseMethod(\"median\")\n",
      "<bytecode: 0x56319a989088>\n",
      "<environment: namespace:stats>\n"
     ]
    }
   ],
   "source": [
    "median\n",
    "\n",
    "#something along the lines of this, though it doesn't show how the function actually calculates the median\n",
    "#median<-function(x, na.rm=FALSE,...){return(sum(x)/length(x))}\n",
    "\n",
    "print(median)"
   ]
  },
  {
   "cell_type": "markdown",
   "id": "74813f43",
   "metadata": {},
   "source": [
    "## Looking at some of the nuance between `=` and `<-`"
   ]
  },
  {
   "cell_type": "code",
   "execution_count": 31,
   "id": "a245fcb8",
   "metadata": {},
   "outputs": [
    {
     "ename": "ERROR",
     "evalue": "Error in parse(text = x, srcfile = src): <text>:2:12: unexpected '='\n1: # results in an error because = can only be used to populate parameters\n2: median(x= y=\n              ^\n",
     "output_type": "error",
     "traceback": [
      "Error in parse(text = x, srcfile = src): <text>:2:12: unexpected '='\n1: # results in an error because = can only be used to populate parameters\n2: median(x= y=\n              ^\nTraceback:\n"
     ]
    }
   ],
   "source": [
    "# results in an error because = can only be used to populate parameters\n",
    "median(x= y=1:10)"
   ]
  },
  {
   "cell_type": "code",
   "execution_count": 32,
   "id": "abe2abcd",
   "metadata": {},
   "outputs": [
    {
     "data": {
      "text/html": [
       "5.5"
      ],
      "text/latex": [
       "5.5"
      ],
      "text/markdown": [
       "5.5"
      ],
      "text/plain": [
       "[1] 5.5"
      ]
     },
     "metadata": {},
     "output_type": "display_data"
    },
    {
     "data": {
      "text/html": [
       "<style>\n",
       ".list-inline {list-style: none; margin:0; padding: 0}\n",
       ".list-inline>li {display: inline-block}\n",
       ".list-inline>li:not(:last-child)::after {content: \"\\00b7\"; padding: 0 .5ex}\n",
       "</style>\n",
       "<ol class=list-inline><li>1</li><li>2</li><li>3</li><li>4</li><li>5</li><li>6</li><li>7</li><li>8</li><li>9</li><li>10</li></ol>\n"
      ],
      "text/latex": [
       "\\begin{enumerate*}\n",
       "\\item 1\n",
       "\\item 2\n",
       "\\item 3\n",
       "\\item 4\n",
       "\\item 5\n",
       "\\item 6\n",
       "\\item 7\n",
       "\\item 8\n",
       "\\item 9\n",
       "\\item 10\n",
       "\\end{enumerate*}\n"
      ],
      "text/markdown": [
       "1. 1\n",
       "2. 2\n",
       "3. 3\n",
       "4. 4\n",
       "5. 5\n",
       "6. 6\n",
       "7. 7\n",
       "8. 8\n",
       "9. 9\n",
       "10. 10\n",
       "\n",
       "\n"
      ],
      "text/plain": [
       " [1]  1  2  3  4  5  6  7  8  9 10"
      ]
     },
     "metadata": {},
     "output_type": "display_data"
    }
   ],
   "source": [
    "# declaring a variable called y and also presenting it as an argument\n",
    "median(x= y<-1:10)\n",
    "\n",
    "y"
   ]
  },
  {
   "cell_type": "markdown",
   "id": "2bca98d7",
   "metadata": {},
   "source": [
    "# Logic expressions which can be combined to create more complex expressions"
   ]
  },
  {
   "cell_type": "code",
   "execution_count": 33,
   "id": "95b9e939",
   "metadata": {},
   "outputs": [
    {
     "data": {
      "text/html": [
       "FALSE"
      ],
      "text/latex": [
       "FALSE"
      ],
      "text/markdown": [
       "FALSE"
      ],
      "text/plain": [
       "[1] FALSE"
      ]
     },
     "metadata": {},
     "output_type": "display_data"
    },
    {
     "data": {
      "text/html": [
       "TRUE"
      ],
      "text/latex": [
       "TRUE"
      ],
      "text/markdown": [
       "TRUE"
      ],
      "text/plain": [
       "[1] TRUE"
      ]
     },
     "metadata": {},
     "output_type": "display_data"
    },
    {
     "data": {
      "text/html": [
       "FALSE"
      ],
      "text/latex": [
       "FALSE"
      ],
      "text/markdown": [
       "FALSE"
      ],
      "text/plain": [
       "[1] FALSE"
      ]
     },
     "metadata": {},
     "output_type": "display_data"
    },
    {
     "data": {
      "text/html": [
       "TRUE"
      ],
      "text/latex": [
       "TRUE"
      ],
      "text/markdown": [
       "TRUE"
      ],
      "text/plain": [
       "[1] TRUE"
      ]
     },
     "metadata": {},
     "output_type": "display_data"
    }
   ],
   "source": [
    "# equivalence, it's double = because a single = is the assignment operator\n",
    "1 == 2\n",
    "\n",
    "1 == 1\n",
    "\n",
    "# works for strings as well\n",
    "\"this\" == \"that\"\n",
    "\n",
    "\"this\" == \"this\""
   ]
  },
  {
   "cell_type": "code",
   "execution_count": 34,
   "id": "fe30d3b5",
   "metadata": {},
   "outputs": [
    {
     "data": {
      "text/html": [
       "FALSE"
      ],
      "text/latex": [
       "FALSE"
      ],
      "text/markdown": [
       "FALSE"
      ],
      "text/plain": [
       "[1] FALSE"
      ]
     },
     "metadata": {},
     "output_type": "display_data"
    },
    {
     "data": {
      "text/html": [
       "TRUE"
      ],
      "text/latex": [
       "TRUE"
      ],
      "text/markdown": [
       "TRUE"
      ],
      "text/plain": [
       "[1] TRUE"
      ]
     },
     "metadata": {},
     "output_type": "display_data"
    },
    {
     "data": {
      "text/html": [
       "FALSE"
      ],
      "text/latex": [
       "FALSE"
      ],
      "text/markdown": [
       "FALSE"
      ],
      "text/plain": [
       "[1] FALSE"
      ]
     },
     "metadata": {},
     "output_type": "display_data"
    },
    {
     "data": {
      "text/html": [
       "TRUE"
      ],
      "text/latex": [
       "TRUE"
      ],
      "text/markdown": [
       "TRUE"
      ],
      "text/plain": [
       "[1] TRUE"
      ]
     },
     "metadata": {},
     "output_type": "display_data"
    },
    {
     "data": {
      "text/html": [
       "FALSE"
      ],
      "text/latex": [
       "FALSE"
      ],
      "text/markdown": [
       "FALSE"
      ],
      "text/plain": [
       "[1] FALSE"
      ]
     },
     "metadata": {},
     "output_type": "display_data"
    }
   ],
   "source": [
    "# greater than or less than\n",
    "1 > 2\n",
    "1 < 2\n",
    "\n",
    "# comparing lengths of strings\n",
    "\"abc\" > \"d\"\n",
    "\n",
    "# less than or equal to\n",
    "1 <= 1\n",
    "\n",
    "# greater than or equal to\n",
    "1 >= 2"
   ]
  },
  {
   "cell_type": "code",
   "execution_count": 35,
   "id": "a9577874",
   "metadata": {},
   "outputs": [
    {
     "data": {
      "text/html": [
       "TRUE"
      ],
      "text/latex": [
       "TRUE"
      ],
      "text/markdown": [
       "TRUE"
      ],
      "text/plain": [
       "[1] TRUE"
      ]
     },
     "metadata": {},
     "output_type": "display_data"
    },
    {
     "data": {
      "text/html": [
       "FALSE"
      ],
      "text/latex": [
       "FALSE"
      ],
      "text/markdown": [
       "FALSE"
      ],
      "text/plain": [
       "[1] FALSE"
      ]
     },
     "metadata": {},
     "output_type": "display_data"
    }
   ],
   "source": [
    "# not equivalent\n",
    "1 != 2\n",
    "\n",
    "1 != 1"
   ]
  },
  {
   "cell_type": "code",
   "execution_count": 36,
   "id": "257a09dc",
   "metadata": {},
   "outputs": [
    {
     "data": {
      "text/html": [
       "FALSE"
      ],
      "text/latex": [
       "FALSE"
      ],
      "text/markdown": [
       "FALSE"
      ],
      "text/plain": [
       "[1] FALSE"
      ]
     },
     "metadata": {},
     "output_type": "display_data"
    },
    {
     "data": {
      "text/html": [
       "TRUE"
      ],
      "text/latex": [
       "TRUE"
      ],
      "text/markdown": [
       "TRUE"
      ],
      "text/plain": [
       "[1] TRUE"
      ]
     },
     "metadata": {},
     "output_type": "display_data"
    },
    {
     "data": {
      "text/html": [
       "TRUE"
      ],
      "text/latex": [
       "TRUE"
      ],
      "text/markdown": [
       "TRUE"
      ],
      "text/plain": [
       "[1] TRUE"
      ]
     },
     "metadata": {},
     "output_type": "display_data"
    }
   ],
   "source": [
    "# returns the opposite logical value\n",
    "!TRUE\n",
    "!FALSE\n",
    "\n",
    "# works with variables\n",
    "x=FALSE\n",
    "\n",
    "!x"
   ]
  },
  {
   "cell_type": "code",
   "execution_count": 37,
   "id": "03aebacc",
   "metadata": {},
   "outputs": [
    {
     "data": {
      "text/html": [
       "TRUE"
      ],
      "text/latex": [
       "TRUE"
      ],
      "text/markdown": [
       "TRUE"
      ],
      "text/plain": [
       "[1] TRUE"
      ]
     },
     "metadata": {},
     "output_type": "display_data"
    },
    {
     "data": {
      "text/html": [
       "FALSE"
      ],
      "text/latex": [
       "FALSE"
      ],
      "text/markdown": [
       "FALSE"
      ],
      "text/plain": [
       "[1] FALSE"
      ]
     },
     "metadata": {},
     "output_type": "display_data"
    },
    {
     "data": {
      "text/html": [
       "FALSE"
      ],
      "text/latex": [
       "FALSE"
      ],
      "text/markdown": [
       "FALSE"
      ],
      "text/plain": [
       "[1] FALSE"
      ]
     },
     "metadata": {},
     "output_type": "display_data"
    }
   ],
   "source": [
    "# and\n",
    "TRUE & TRUE\n",
    "TRUE & FALSE\n",
    "FALSE & FALSE"
   ]
  },
  {
   "cell_type": "code",
   "execution_count": 38,
   "id": "250d9af0",
   "metadata": {},
   "outputs": [
    {
     "data": {
      "text/html": [
       "TRUE"
      ],
      "text/latex": [
       "TRUE"
      ],
      "text/markdown": [
       "TRUE"
      ],
      "text/plain": [
       "[1] TRUE"
      ]
     },
     "metadata": {},
     "output_type": "display_data"
    },
    {
     "data": {
      "text/html": [
       "TRUE"
      ],
      "text/latex": [
       "TRUE"
      ],
      "text/markdown": [
       "TRUE"
      ],
      "text/plain": [
       "[1] TRUE"
      ]
     },
     "metadata": {},
     "output_type": "display_data"
    },
    {
     "data": {
      "text/html": [
       "FALSE"
      ],
      "text/latex": [
       "FALSE"
      ],
      "text/markdown": [
       "FALSE"
      ],
      "text/plain": [
       "[1] FALSE"
      ]
     },
     "metadata": {},
     "output_type": "display_data"
    }
   ],
   "source": [
    "# or\n",
    "TRUE | TRUE\n",
    "TRUE | FALSE\n",
    "FALSE | FALSE"
   ]
  },
  {
   "cell_type": "markdown",
   "id": "d70c8fad",
   "metadata": {},
   "source": [
    "# "
   ]
  },
  {
   "cell_type": "code",
   "execution_count": null,
   "id": "d4facdfa",
   "metadata": {},
   "outputs": [],
   "source": []
  },
  {
   "cell_type": "markdown",
   "id": "f25354a5",
   "metadata": {},
   "source": [
    "# `if`, `else`, and `else if` structure"
   ]
  },
  {
   "cell_type": "code",
   "execution_count": 39,
   "id": "790df4ef",
   "metadata": {},
   "outputs": [
    {
     "name": "stdout",
     "output_type": "stream",
     "text": [
      "[1] \"true\"\n"
     ]
    }
   ],
   "source": [
    "x = TRUE\n",
    "if(x==TRUE){\n",
    "    print(\"true\")\n",
    "}"
   ]
  },
  {
   "cell_type": "code",
   "execution_count": 40,
   "id": "6c049c29",
   "metadata": {},
   "outputs": [
    {
     "name": "stdout",
     "output_type": "stream",
     "text": [
      "[1] \"false\"\n"
     ]
    }
   ],
   "source": [
    "x = FALSE\n",
    "if(x==TRUE){\n",
    "    print(\"true\")\n",
    "} else {\n",
    "    print(\"false\")\n",
    "}"
   ]
  },
  {
   "cell_type": "code",
   "execution_count": 41,
   "id": "bcce998f",
   "metadata": {},
   "outputs": [
    {
     "name": "stdout",
     "output_type": "stream",
     "text": [
      "[1] 3\n"
     ]
    }
   ],
   "source": [
    "# you can play around with the value of x here and rerun the block\n",
    "x = 3\n",
    "if(x==1){\n",
    "    print(1)\n",
    "} else if(x==2){\n",
    "    print(2)\n",
    "} else if(x==3){\n",
    "    print(3)\n",
    "} else {\n",
    "    print(\"out of conditions\")\n",
    "}"
   ]
  },
  {
   "cell_type": "markdown",
   "id": "feadb457",
   "metadata": {},
   "source": [
    "# `while` loop vs `for` loop"
   ]
  },
  {
   "cell_type": "code",
   "execution_count": 42,
   "id": "d6529a5b",
   "metadata": {},
   "outputs": [
    {
     "name": "stdout",
     "output_type": "stream",
     "text": [
      "[1] 1\n",
      "[1] 2\n",
      "[1] 3\n",
      "[1] 4\n"
     ]
    }
   ],
   "source": [
    "x = 1\n",
    "while(x < 5){\n",
    "    print(x)\n",
    "    x=x+1 # if you don't iterate your variable/counter, you will end up in an endless loop\n",
    "}"
   ]
  },
  {
   "cell_type": "code",
   "execution_count": 43,
   "id": "bfc99e21",
   "metadata": {},
   "outputs": [
    {
     "name": "stdout",
     "output_type": "stream",
     "text": [
      "[1] 1\n",
      "[1] 2\n",
      "[1] 3\n",
      "[1] 4\n",
      "[1] 5\n"
     ]
    }
   ],
   "source": [
    "# prints items in a vector, 1:5 is an integer vector meaning 1, 2, 3, 4, 5\n",
    "for(x in 1:5){\n",
    "    print(x)\n",
    "}"
   ]
  },
  {
   "cell_type": "code",
   "execution_count": 44,
   "id": "8d0b0daa",
   "metadata": {},
   "outputs": [
    {
     "name": "stdout",
     "output_type": "stream",
     "text": [
      "[1] \"apple\"\n",
      "[1] \"orange\"\n",
      "[1] \"banana\"\n",
      "[1] \"5\"\n",
      "[1] \"10\"\n"
     ]
    }
   ],
   "source": [
    "# c() combines items into a vector, regardless of type\n",
    "vector = c(\"apple\", \"orange\", \"banana\", 5, 10)\n",
    "for(item in vector){\n",
    "    print(item)\n",
    "}"
   ]
  },
  {
   "cell_type": "code",
   "execution_count": 45,
   "id": "472e2d70",
   "metadata": {},
   "outputs": [
    {
     "name": "stdout",
     "output_type": "stream",
     "text": [
      "[1] 1\n",
      "[1] \"apple\"\n",
      "[1] \"one\"\n",
      "[1] 2\n",
      "[1] \"orange\"\n",
      "[1] \"two\"\n",
      "[1] 3\n",
      "[1] \"banana\"\n",
      "[1] \"3\"\n",
      "[1] 4\n",
      "[1] \"5\"\n",
      "[1] \"TRUE\"\n",
      "[1] 5\n",
      "[1] \"10\"\n",
      "[1] \"FALSE\"\n"
     ]
    }
   ],
   "source": [
    "# a way to get the numerical value instead of the actual vector item, which can be used somewhere else\n",
    "vec2 = c(\"one\",\"two\", 3, TRUE, FALSE)\n",
    "for(i in 1:length(vector)){\n",
    "    print(i)\n",
    "    print( vector[i] )\n",
    "    print( vec2[i])\n",
    "}"
   ]
  },
  {
   "cell_type": "markdown",
   "id": "85af4302",
   "metadata": {},
   "source": [
    "## Nested `for` loops"
   ]
  },
  {
   "cell_type": "code",
   "execution_count": 46,
   "id": "a944f55e",
   "metadata": {
    "scrolled": false
   },
   "outputs": [
    {
     "name": "stdout",
     "output_type": "stream",
     "text": [
      "(1, a)\n",
      "(1, b)\n",
      "(1, c)\n",
      "(2, a)\n",
      "(2, b)\n",
      "(2, c)\n",
      "(3, a)\n",
      "(3, b)\n",
      "(3, c)\n",
      "(4, a)\n",
      "(4, b)\n",
      "(4, c)\n",
      "(5, a)\n",
      "(5, b)\n",
      "(5, c)\n"
     ]
    }
   ],
   "source": [
    "x = 1:5\n",
    "y = c(\"a\", \"b\", \"c\")\n",
    "\n",
    "for(i in x){\n",
    "    for(j in y){\n",
    "        # cat is concatenate and print\n",
    "        # %i is for integer\n",
    "        # \\n is the new line character\n",
    "        cat(sprintf(\"(%i, %s)\\n\", i, j))\n",
    "    }\n",
    "}"
   ]
  },
  {
   "cell_type": "markdown",
   "id": "77e49d03",
   "metadata": {},
   "source": [
    "# Working with the file directory"
   ]
  },
  {
   "cell_type": "markdown",
   "id": "55e53ddc",
   "metadata": {},
   "source": [
    "## Get the current working directory, default is the folder the script is in"
   ]
  },
  {
   "cell_type": "code",
   "execution_count": 47,
   "id": "ab7ca9ab",
   "metadata": {},
   "outputs": [
    {
     "data": {
      "text/html": [
       "'/home/pleocavee/Desktop/code_basics'"
      ],
      "text/latex": [
       "'/home/pleocavee/Desktop/code\\_basics'"
      ],
      "text/markdown": [
       "'/home/pleocavee/Desktop/code_basics'"
      ],
      "text/plain": [
       "[1] \"/home/pleocavee/Desktop/code_basics\""
      ]
     },
     "metadata": {},
     "output_type": "display_data"
    }
   ],
   "source": [
    "wd <- getwd()\n",
    "wd"
   ]
  },
  {
   "cell_type": "markdown",
   "id": "8f4dd0c2",
   "metadata": {},
   "source": [
    "## Get the basename of the input directory path, using the working directory as an example"
   ]
  },
  {
   "cell_type": "code",
   "execution_count": 48,
   "id": "4b5f0bb4",
   "metadata": {},
   "outputs": [
    {
     "data": {
      "text/html": [
       "'code_basics'"
      ],
      "text/latex": [
       "'code\\_basics'"
      ],
      "text/markdown": [
       "'code_basics'"
      ],
      "text/plain": [
       "[1] \"code_basics\""
      ]
     },
     "metadata": {},
     "output_type": "display_data"
    }
   ],
   "source": [
    "basename(wd)"
   ]
  },
  {
   "cell_type": "markdown",
   "id": "28fe6020",
   "metadata": {},
   "source": [
    "## List the files of the input directory path, using the working directory as an example"
   ]
  },
  {
   "cell_type": "code",
   "execution_count": 49,
   "id": "85d6c811",
   "metadata": {},
   "outputs": [
    {
     "data": {
      "text/html": [
       "<style>\n",
       ".list-inline {list-style: none; margin:0; padding: 0}\n",
       ".list-inline>li {display: inline-block}\n",
       ".list-inline>li:not(:last-child)::after {content: \"\\00b7\"; padding: 0 .5ex}\n",
       "</style>\n",
       "<ol class=list-inline><li>'r_basics.ipynb'</li><li>'USGS_earthquakes_all_month.csv'</li></ol>\n"
      ],
      "text/latex": [
       "\\begin{enumerate*}\n",
       "\\item 'r\\_basics.ipynb'\n",
       "\\item 'USGS\\_earthquakes\\_all\\_month.csv'\n",
       "\\end{enumerate*}\n"
      ],
      "text/markdown": [
       "1. 'r_basics.ipynb'\n",
       "2. 'USGS_earthquakes_all_month.csv'\n",
       "\n",
       "\n"
      ],
      "text/plain": [
       "[1] \"r_basics.ipynb\"                 \"USGS_earthquakes_all_month.csv\""
      ]
     },
     "metadata": {},
     "output_type": "display_data"
    }
   ],
   "source": [
    "list.files(wd)"
   ]
  },
  {
   "cell_type": "markdown",
   "id": "8c4b3af2",
   "metadata": {},
   "source": [
    "## Add strings to each other using `paste`"
   ]
  },
  {
   "cell_type": "code",
   "execution_count": 50,
   "id": "c733936d",
   "metadata": {},
   "outputs": [
    {
     "data": {
      "text/html": [
       "'this that and another thing .'"
      ],
      "text/latex": [
       "'this that and another thing .'"
      ],
      "text/markdown": [
       "'this that and another thing .'"
      ],
      "text/plain": [
       "[1] \"this that and another thing .\""
      ]
     },
     "metadata": {},
     "output_type": "display_data"
    },
    {
     "data": {
      "text/html": [
       "'this, that, and another thing, .'"
      ],
      "text/latex": [
       "'this, that, and another thing, .'"
      ],
      "text/markdown": [
       "'this, that, and another thing, .'"
      ],
      "text/plain": [
       "[1] \"this, that, and another thing, .\""
      ]
     },
     "metadata": {},
     "output_type": "display_data"
    }
   ],
   "source": [
    "# default behavior is to separate each string with a space, \" \"\n",
    "paste(\"this\",\"that\",\"and another thing\",\".\")\n",
    "\n",
    "# but you can change that\n",
    "paste(\"this\",\"that\",\"and another thing\",\".\",sep=\", \")"
   ]
  },
  {
   "cell_type": "markdown",
   "id": "157843ab",
   "metadata": {},
   "source": [
    "## Download a file from a URL"
   ]
  },
  {
   "cell_type": "code",
   "execution_count": 51,
   "id": "9ed36221",
   "metadata": {},
   "outputs": [
    {
     "data": {
      "text/html": [
       "<style>\n",
       ".list-inline {list-style: none; margin:0; padding: 0}\n",
       ".list-inline>li {display: inline-block}\n",
       ".list-inline>li:not(:last-child)::after {content: \"\\00b7\"; padding: 0 .5ex}\n",
       "</style>\n",
       "<ol class=list-inline><li>'r_basics.ipynb'</li><li>'USGS_earthquakes_all_month.csv'</li></ol>\n"
      ],
      "text/latex": [
       "\\begin{enumerate*}\n",
       "\\item 'r\\_basics.ipynb'\n",
       "\\item 'USGS\\_earthquakes\\_all\\_month.csv'\n",
       "\\end{enumerate*}\n"
      ],
      "text/markdown": [
       "1. 'r_basics.ipynb'\n",
       "2. 'USGS_earthquakes_all_month.csv'\n",
       "\n",
       "\n"
      ],
      "text/plain": [
       "[1] \"r_basics.ipynb\"                 \"USGS_earthquakes_all_month.csv\""
      ]
     },
     "metadata": {},
     "output_type": "display_data"
    }
   ],
   "source": [
    "# USGS earthquake data for the past 30 days\n",
    "URL = \"https://earthquake.usgs.gov/earthquakes/feed/v1.0/summary/all_month.csv\"\n",
    "\n",
    "# note the / to indicate the path continues into the working directory\n",
    "# you can also rename the file at this point, I'll do so to make it more clear what it is\n",
    "destinationFilePath = paste(wd,\"/USGS_earthquakes_all_month.csv\",sep=\"\")\n",
    "\n",
    "download.file(url = URL, destfile = destinationFilePath)\n",
    "\n",
    "list.files(wd)"
   ]
  },
  {
   "cell_type": "markdown",
   "id": "74e4d3dc",
   "metadata": {},
   "source": [
    "## Open a CSV file (note: can also open .txt files this way)\n",
    "Note that read.csv has other options if lines need to be skipped or if the header is not the first line.\n",
    "See [here](https://www.rdocumentation.org/packages/qtl2/versions/0.24/topics/read_csv)"
   ]
  },
  {
   "cell_type": "code",
   "execution_count": 52,
   "id": "5d26eeaf",
   "metadata": {},
   "outputs": [
    {
     "data": {
      "text/html": [
       "<table class=\"dataframe\">\n",
       "<caption>A data.frame: 10702 × 22</caption>\n",
       "<thead>\n",
       "\t<tr><th scope=col>time</th><th scope=col>latitude</th><th scope=col>longitude</th><th scope=col>depth</th><th scope=col>mag</th><th scope=col>magType</th><th scope=col>nst</th><th scope=col>gap</th><th scope=col>dmin</th><th scope=col>rms</th><th scope=col>⋯</th><th scope=col>updated</th><th scope=col>place</th><th scope=col>type</th><th scope=col>horizontalError</th><th scope=col>depthError</th><th scope=col>magError</th><th scope=col>magNst</th><th scope=col>status</th><th scope=col>locationSource</th><th scope=col>magSource</th></tr>\n",
       "\t<tr><th scope=col>&lt;chr&gt;</th><th scope=col>&lt;dbl&gt;</th><th scope=col>&lt;dbl&gt;</th><th scope=col>&lt;dbl&gt;</th><th scope=col>&lt;dbl&gt;</th><th scope=col>&lt;chr&gt;</th><th scope=col>&lt;int&gt;</th><th scope=col>&lt;dbl&gt;</th><th scope=col>&lt;dbl&gt;</th><th scope=col>&lt;dbl&gt;</th><th scope=col>⋯</th><th scope=col>&lt;chr&gt;</th><th scope=col>&lt;chr&gt;</th><th scope=col>&lt;chr&gt;</th><th scope=col>&lt;dbl&gt;</th><th scope=col>&lt;dbl&gt;</th><th scope=col>&lt;dbl&gt;</th><th scope=col>&lt;int&gt;</th><th scope=col>&lt;chr&gt;</th><th scope=col>&lt;chr&gt;</th><th scope=col>&lt;chr&gt;</th></tr>\n",
       "</thead>\n",
       "<tbody>\n",
       "\t<tr><td>2023-02-22T19:07:13.970Z</td><td> 19.14400</td><td>-155.4250</td><td> 32.080</td><td>2.04</td><td>md </td><td>29</td><td>225.00</td><td>      NA</td><td>0.1000</td><td>⋯</td><td>2023-02-22T19:10:18.630Z</td><td>8 km SE of Pāhala, Hawaii                    </td><td>earthquake  </td><td>0.77</td><td>1.140</td><td>1.0100000</td><td> 3</td><td>automatic</td><td>hv</td><td>hv</td></tr>\n",
       "\t<tr><td>2023-02-22T19:07:02.970Z</td><td> 33.82433</td><td>-117.4813</td><td>  1.710</td><td>1.93</td><td>ml </td><td>43</td><td> 29.00</td><td>0.031020</td><td>0.2700</td><td>⋯</td><td>2023-02-22T19:10:54.720Z</td><td>7km SSE of Home Gardens, CA                  </td><td>quarry blast</td><td>0.29</td><td>0.500</td><td>0.2160000</td><td>29</td><td>automatic</td><td>ci</td><td>ci</td></tr>\n",
       "\t<tr><td>2023-02-22T19:01:47.140Z</td><td> 38.15320</td><td>-117.8772</td><td>  4.600</td><td>2.40</td><td>ml </td><td>11</td><td>125.38</td><td>0.066000</td><td>0.2560</td><td>⋯</td><td>2023-02-22T19:04:48.175Z</td><td>33 km SE of Mina, Nevada                     </td><td>earthquake  </td><td>  NA</td><td>0.700</td><td>0.2300000</td><td> 7</td><td>automatic</td><td>nn</td><td>nn</td></tr>\n",
       "\t<tr><td>2023-02-22T18:52:57.640Z</td><td> 33.06367</td><td>-116.3907</td><td> 12.000</td><td>1.45</td><td>ml </td><td>27</td><td>124.00</td><td>0.093130</td><td>0.1900</td><td>⋯</td><td>2023-02-22T19:19:32.920Z</td><td>20km E of Julian, CA                         </td><td>earthquake  </td><td>0.38</td><td>0.820</td><td>0.1530000</td><td>27</td><td>reviewed </td><td>ci</td><td>ci</td></tr>\n",
       "\t<tr><td>2023-02-22T18:50:16.290Z</td><td> 33.06783</td><td>-116.3900</td><td> 12.940</td><td>1.29</td><td>ml </td><td>18</td><td>124.00</td><td>0.097320</td><td>0.2400</td><td>⋯</td><td>2023-02-22T18:53:43.089Z</td><td>20km E of Julian, CA                         </td><td>earthquake  </td><td>0.51</td><td>1.070</td><td>0.3380000</td><td>11</td><td>automatic</td><td>ci</td><td>ci</td></tr>\n",
       "\t<tr><td>2023-02-22T18:27:54.090Z</td><td> 38.83167</td><td>-122.8167</td><td>  1.630</td><td>0.96</td><td>md </td><td>18</td><td> 53.00</td><td>0.009732</td><td>0.0200</td><td>⋯</td><td>2023-02-22T19:01:14.429Z</td><td>8km NW of The Geysers, CA                    </td><td>earthquake  </td><td>0.20</td><td>0.540</td><td>0.2000000</td><td>19</td><td>automatic</td><td>nc</td><td>nc</td></tr>\n",
       "\t<tr><td>2023-02-22T18:22:12.682Z</td><td> 38.15770</td><td>-117.8891</td><td>  8.700</td><td>3.50</td><td>ml </td><td>13</td><td> 80.53</td><td>0.059000</td><td>0.1197</td><td>⋯</td><td>2023-02-22T18:36:16.009Z</td><td>32 km SE of Mina, Nevada                     </td><td>earthquake  </td><td>  NA</td><td>1.200</td><td>0.2100000</td><td> 9</td><td>reviewed </td><td>nn</td><td>nn</td></tr>\n",
       "\t<tr><td>2023-02-22T18:21:02.308Z</td><td> 60.12800</td><td>-152.6184</td><td> 86.600</td><td>1.80</td><td>ml </td><td>NA</td><td>    NA</td><td>      NA</td><td>0.4800</td><td>⋯</td><td>2023-02-22T18:23:48.382Z</td><td>53 km WNW of Happy Valley, Alaska            </td><td>earthquake  </td><td>  NA</td><td>0.400</td><td>       NA</td><td>NA</td><td>automatic</td><td>ak</td><td>ak</td></tr>\n",
       "\t<tr><td>2023-02-22T18:20:26.610Z</td><td> 19.23533</td><td>-155.4067</td><td> 31.640</td><td>1.85</td><td>md </td><td>31</td><td>146.00</td><td>      NA</td><td>0.1100</td><td>⋯</td><td>2023-02-22T18:23:49.140Z</td><td>8 km ENE of Pāhala, Hawaii                   </td><td>earthquake  </td><td>0.67</td><td>1.190</td><td>0.2100000</td><td> 9</td><td>automatic</td><td>hv</td><td>hv</td></tr>\n",
       "\t<tr><td>2023-02-22T18:16:48.670Z</td><td> 33.52917</td><td>-116.7268</td><td>  4.730</td><td>1.06</td><td>ml </td><td>26</td><td> 62.00</td><td>0.037180</td><td>0.1100</td><td>⋯</td><td>2023-02-22T19:18:57.330Z</td><td>6km WSW of Anza, CA                          </td><td>earthquake  </td><td>0.16</td><td>0.240</td><td>0.1570000</td><td>22</td><td>reviewed </td><td>ci</td><td>ci</td></tr>\n",
       "\t<tr><td>2023-02-22T18:13:07.973Z</td><td> 62.92320</td><td>-150.2684</td><td> 16.500</td><td>1.30</td><td>ml </td><td>NA</td><td>    NA</td><td>      NA</td><td>0.4000</td><td>⋯</td><td>2023-02-22T18:16:07.861Z</td><td>53 km N of Chase, Alaska                     </td><td>earthquake  </td><td>  NA</td><td>0.400</td><td>       NA</td><td>NA</td><td>automatic</td><td>ak</td><td>ak</td></tr>\n",
       "\t<tr><td>2023-02-22T18:10:54.080Z</td><td> 40.05067</td><td>-122.9132</td><td> -0.890</td><td>2.38</td><td>md </td><td>11</td><td> 91.00</td><td>0.158000</td><td>0.3100</td><td>⋯</td><td>2023-02-22T18:29:20.256Z</td><td>40km NE of Covelo, CA                        </td><td>earthquake  </td><td>0.98</td><td>8.490</td><td>0.1600000</td><td>12</td><td>automatic</td><td>nc</td><td>nc</td></tr>\n",
       "\t<tr><td>2023-02-22T17:48:54.920Z</td><td> 40.03783</td><td>-122.9090</td><td>  5.140</td><td>2.07</td><td>md </td><td> 5</td><td>118.00</td><td>0.166600</td><td>0.0600</td><td>⋯</td><td>2023-02-22T18:08:15.116Z</td><td>40km NE of Covelo, CA                        </td><td>earthquake  </td><td>0.55</td><td>3.170</td><td>0.2500000</td><td> 5</td><td>automatic</td><td>nc</td><td>nc</td></tr>\n",
       "\t<tr><td>2023-02-22T17:38:48.350Z</td><td> 38.78733</td><td>-122.9382</td><td>  3.900</td><td>1.50</td><td>md </td><td>26</td><td>111.00</td><td>0.042480</td><td>0.0300</td><td>⋯</td><td>2023-02-22T18:08:14.117Z</td><td>7km ESE of Cloverdale, CA                    </td><td>earthquake  </td><td>0.28</td><td>0.840</td><td>0.2300000</td><td>25</td><td>automatic</td><td>nc</td><td>nc</td></tr>\n",
       "\t<tr><td>2023-02-22T17:38:33.160Z</td><td> 38.79000</td><td>-122.9410</td><td>  4.730</td><td>1.09</td><td>md </td><td>16</td><td>133.00</td><td>0.055060</td><td>0.0300</td><td>⋯</td><td>2023-02-22T17:57:17.046Z</td><td>7km ESE of Cloverdale, CA                    </td><td>earthquake  </td><td>0.40</td><td>1.740</td><td>0.3100000</td><td>16</td><td>automatic</td><td>nc</td><td>nc</td></tr>\n",
       "\t<tr><td>2023-02-22T17:36:03.144Z</td><td> 56.81420</td><td>-153.0611</td><td> 11.300</td><td>2.40</td><td>ml </td><td>NA</td><td>    NA</td><td>      NA</td><td>0.9200</td><td>⋯</td><td>2023-02-22T17:38:54.698Z</td><td>45 km SSE of Old Harbor, Alaska              </td><td>earthquake  </td><td>  NA</td><td>0.700</td><td>       NA</td><td>NA</td><td>automatic</td><td>ak</td><td>ak</td></tr>\n",
       "\t<tr><td>2023-02-22T17:30:50.870Z</td><td> 38.80500</td><td>-122.7715</td><td>  1.200</td><td>0.28</td><td>md </td><td> 6</td><td>112.00</td><td>0.010190</td><td>0.0200</td><td>⋯</td><td>2023-02-22T17:47:15.984Z</td><td>3km NNW of The Geysers, CA                   </td><td>earthquake  </td><td>0.79</td><td>0.870</td><td>0.0700000</td><td> 8</td><td>automatic</td><td>nc</td><td>nc</td></tr>\n",
       "\t<tr><td>2023-02-22T17:07:01.267Z</td><td> 62.45010</td><td>-152.1698</td><td>125.700</td><td>1.90</td><td>ml </td><td>NA</td><td>    NA</td><td>      NA</td><td>0.5500</td><td>⋯</td><td>2023-02-22T17:09:28.211Z</td><td>65 km NW of Skwentna, Alaska                 </td><td>earthquake  </td><td>  NA</td><td>0.700</td><td>       NA</td><td>NA</td><td>automatic</td><td>ak</td><td>ak</td></tr>\n",
       "\t<tr><td>2023-02-22T16:27:25.722Z</td><td> 63.16470</td><td>-149.6905</td><td> 84.000</td><td>1.40</td><td>ml </td><td>NA</td><td>    NA</td><td>      NA</td><td>0.9000</td><td>⋯</td><td>2023-02-22T16:29:27.091Z</td><td>44 km SW of Cantwell, Alaska                 </td><td>earthquake  </td><td>  NA</td><td>0.800</td><td>       NA</td><td>NA</td><td>automatic</td><td>ak</td><td>ak</td></tr>\n",
       "\t<tr><td>2023-02-22T16:20:21.181Z</td><td> 61.79070</td><td>-150.2054</td><td> 10.700</td><td>2.10</td><td>ml </td><td>NA</td><td>    NA</td><td>      NA</td><td>0.3900</td><td>⋯</td><td>2023-02-22T16:22:04.874Z</td><td>10 km WNW of Willow, Alaska                  </td><td>earthquake  </td><td>  NA</td><td>0.200</td><td>       NA</td><td>NA</td><td>automatic</td><td>ak</td><td>ak</td></tr>\n",
       "\t<tr><td>2023-02-22T16:05:52.220Z</td><td> 38.83517</td><td>-122.7857</td><td>  1.520</td><td>0.97</td><td>md </td><td> 9</td><td> 68.00</td><td>0.004881</td><td>0.0100</td><td>⋯</td><td>2023-02-22T16:31:11.484Z</td><td>6km WNW of Cobb, CA                          </td><td>earthquake  </td><td>0.54</td><td>1.330</td><td>0.2800000</td><td>13</td><td>automatic</td><td>nc</td><td>nc</td></tr>\n",
       "\t<tr><td>2023-02-22T15:56:47.583Z</td><td> 61.25700</td><td>-150.3203</td><td>250.000</td><td>2.50</td><td>ml </td><td>NA</td><td>    NA</td><td>      NA</td><td>0.9300</td><td>⋯</td><td>2023-02-22T16:00:02.401Z</td><td>21 km WSW of Point MacKenzie, Alaska         </td><td>earthquake  </td><td>  NA</td><td>5.100</td><td>       NA</td><td>NA</td><td>automatic</td><td>ak</td><td>ak</td></tr>\n",
       "\t<tr><td>2023-02-22T15:52:12.650Z</td><td> 38.77583</td><td>-122.7298</td><td>  1.220</td><td>0.88</td><td>md </td><td> 8</td><td>135.00</td><td>0.009146</td><td>0.0100</td><td>⋯</td><td>2023-02-22T16:10:12.357Z</td><td>2km E of The Geysers, CA                     </td><td>earthquake  </td><td>0.44</td><td>0.560</td><td>0.1600000</td><td> 8</td><td>automatic</td><td>nc</td><td>nc</td></tr>\n",
       "\t<tr><td>2023-02-22T15:51:39.859Z</td><td>-30.03890</td><td> -72.2035</td><td> 12.059</td><td>4.00</td><td>mwr</td><td>23</td><td>179.00</td><td>0.801000</td><td>1.1600</td><td>⋯</td><td>2023-02-22T17:15:55.040Z</td><td>83 km W of Coquimbo, Chile                   </td><td>earthquake  </td><td>2.83</td><td>6.844</td><td>0.0500000</td><td>38</td><td>reviewed </td><td>us</td><td>us</td></tr>\n",
       "\t<tr><td>2023-02-22T15:48:28.209Z</td><td> 61.47460</td><td>-150.0414</td><td> 33.400</td><td>1.30</td><td>ml </td><td>NA</td><td>    NA</td><td>      NA</td><td>0.6800</td><td>⋯</td><td>2023-02-22T15:50:37.214Z</td><td>6 km SW of Big Lake, Alaska                  </td><td>earthquake  </td><td>  NA</td><td>0.300</td><td>       NA</td><td>NA</td><td>automatic</td><td>ak</td><td>ak</td></tr>\n",
       "\t<tr><td>2023-02-22T15:48:21.690Z</td><td> 40.55583</td><td>-124.2127</td><td> 14.430</td><td>3.21</td><td>ml </td><td>21</td><td>177.00</td><td>0.234100</td><td>0.1200</td><td>⋯</td><td>2023-02-22T18:48:30.345Z</td><td>5km ESE of Ferndale, CA                      </td><td>earthquake  </td><td>0.78</td><td>0.740</td><td>0.3020000</td><td>10</td><td>automatic</td><td>nc</td><td>nc</td></tr>\n",
       "\t<tr><td>2023-02-22T15:43:50.160Z</td><td> 36.99650</td><td>-121.8257</td><td> 13.410</td><td>1.54</td><td>md </td><td> 9</td><td>183.00</td><td>0.068940</td><td>0.0600</td><td>⋯</td><td>2023-02-22T18:17:23.178Z</td><td>2km WNW of Corralitos, CA                    </td><td>earthquake  </td><td>0.61</td><td>0.740</td><td>0.0800000</td><td> 9</td><td>automatic</td><td>nc</td><td>nc</td></tr>\n",
       "\t<tr><td>2023-02-22T15:35:30.540Z</td><td> 46.83850</td><td>-121.7125</td><td>  2.490</td><td>1.07</td><td>ml </td><td>12</td><td>224.00</td><td>0.014350</td><td>0.0900</td><td>⋯</td><td>2023-02-22T18:51:07.950Z</td><td>25 km ENE of Ashford, Washington             </td><td>earthquake  </td><td>0.59</td><td>0.790</td><td>0.3115333</td><td> 5</td><td>reviewed </td><td>uw</td><td>uw</td></tr>\n",
       "\t<tr><td>2023-02-22T15:25:51.418Z</td><td> 59.56340</td><td>-152.9980</td><td> 88.500</td><td>1.90</td><td>ml </td><td>NA</td><td>    NA</td><td>      NA</td><td>0.3200</td><td>⋯</td><td>2023-02-22T15:28:04.231Z</td><td>65 km WNW of Nanwalek, Alaska                </td><td>earthquake  </td><td>  NA</td><td>0.700</td><td>       NA</td><td>NA</td><td>automatic</td><td>ak</td><td>ak</td></tr>\n",
       "\t<tr><td>2023-02-22T15:18:06.170Z</td><td> 18.23100</td><td> -68.2605</td><td> 96.000</td><td>3.76</td><td>md </td><td>15</td><td>205.00</td><td>0.307600</td><td>0.2700</td><td>⋯</td><td>2023-02-22T15:54:41.369Z</td><td>40 km ESE of Boca de Yuma, Dominican Republic</td><td>earthquake  </td><td>1.72</td><td>1.080</td><td>0.1100000</td><td>11</td><td>reviewed </td><td>pr</td><td>pr</td></tr>\n",
       "\t<tr><td>⋮</td><td>⋮</td><td>⋮</td><td>⋮</td><td>⋮</td><td>⋮</td><td>⋮</td><td>⋮</td><td>⋮</td><td>⋮</td><td>⋱</td><td>⋮</td><td>⋮</td><td>⋮</td><td>⋮</td><td>⋮</td><td>⋮</td><td>⋮</td><td>⋮</td><td>⋮</td><td>⋮</td></tr>\n",
       "\t<tr><td>2023-01-23T22:03:44.140Z</td><td>35.61767</td><td> -84.21183</td><td> 11.480</td><td> 1.81</td><td>md </td><td> 7</td><td> 78.0</td><td>0.0574900</td><td>0.0700</td><td>⋯</td><td>2023-01-24T14:29:33.740Z</td><td>Tennessee                           </td><td>earthquake  </td><td> 0.29</td><td> 0.720</td><td>0.08082776</td><td> 7</td><td>reviewed </td><td>se</td><td>se</td></tr>\n",
       "\t<tr><td>2023-01-23T22:01:11.060Z</td><td>55.33020</td><td>-159.63360</td><td>  6.800</td><td> 2.40</td><td>ml </td><td>NA</td><td>   NA</td><td>       NA</td><td>0.4800</td><td>⋯</td><td>2023-02-07T00:48:40.179Z</td><td>54 km E of Sand Point, Alaska       </td><td>earthquake  </td><td>   NA</td><td> 0.800</td><td>        NA</td><td>NA</td><td>reviewed </td><td>ak</td><td>ak</td></tr>\n",
       "\t<tr><td>2023-01-23T21:59:37.040Z</td><td>37.53950</td><td>-118.79633</td><td>  4.830</td><td> 0.64</td><td>md </td><td> 7</td><td>314.0</td><td>0.0567700</td><td>0.0200</td><td>⋯</td><td>2023-01-24T00:42:11.798Z</td><td>10km WSW of Toms Place, CA          </td><td>earthquake  </td><td> 2.12</td><td>31.610</td><td>0.05500000</td><td> 6</td><td>reviewed </td><td>nc</td><td>nc</td></tr>\n",
       "\t<tr><td>2023-01-23T21:55:10.289Z</td><td> 1.85880</td><td> 127.36710</td><td>110.943</td><td> 4.20</td><td>mb </td><td>45</td><td>161.0</td><td>1.0800000</td><td>0.5300</td><td>⋯</td><td>2023-02-13T04:43:07.040Z</td><td>72 km WNW of Tobelo, Indonesia      </td><td>earthquake  </td><td>11.22</td><td> 8.301</td><td>0.09100000</td><td>34</td><td>reviewed </td><td>us</td><td>us</td></tr>\n",
       "\t<tr><td>2023-01-23T21:53:51.030Z</td><td>33.66117</td><td>-116.73467</td><td> 14.040</td><td> 1.09</td><td>ml </td><td>22</td><td> 88.0</td><td>0.0527200</td><td>0.1200</td><td>⋯</td><td>2023-01-24T14:59:30.252Z</td><td>9km S of Idyllwild, CA              </td><td>earthquake  </td><td> 0.26</td><td> 0.430</td><td>0.37500000</td><td>22</td><td>reviewed </td><td>ci</td><td>ci</td></tr>\n",
       "\t<tr><td>2023-01-23T21:44:39.795Z</td><td>69.60540</td><td>-144.69790</td><td> 23.400</td><td> 4.10</td><td>mwr</td><td>NA</td><td>   NA</td><td>       NA</td><td>0.6400</td><td>⋯</td><td>2023-02-13T00:08:34.040Z</td><td>71 km SW of Kaktovik, Alaska        </td><td>earthquake  </td><td>   NA</td><td> 0.800</td><td>        NA</td><td>NA</td><td>reviewed </td><td>ak</td><td>ak</td></tr>\n",
       "\t<tr><td>2023-01-23T21:44:07.494Z</td><td>61.09320</td><td>-151.16020</td><td>  2.200</td><td> 1.10</td><td>ml </td><td>NA</td><td>   NA</td><td>       NA</td><td>0.7500</td><td>⋯</td><td>2023-02-07T00:48:39.814Z</td><td>3 km NNW of Tyonek, Alaska          </td><td>earthquake  </td><td>   NA</td><td> 0.900</td><td>        NA</td><td>NA</td><td>reviewed </td><td>ak</td><td>ak</td></tr>\n",
       "\t<tr><td>2023-01-23T21:43:51.120Z</td><td>38.83717</td><td>-122.83750</td><td>  1.480</td><td> 1.09</td><td>md </td><td>15</td><td>109.0</td><td>0.0021200</td><td>0.0300</td><td>⋯</td><td>2023-01-23T22:03:10.753Z</td><td>10km NW of The Geysers, CA          </td><td>earthquake  </td><td> 0.25</td><td> 0.660</td><td>0.32000000</td><td>17</td><td>automatic</td><td>nc</td><td>nc</td></tr>\n",
       "\t<tr><td>2023-01-23T21:41:12.971Z</td><td>60.61710</td><td>-151.11940</td><td> 54.800</td><td> 1.50</td><td>ml </td><td>NA</td><td>   NA</td><td>       NA</td><td>0.4200</td><td>⋯</td><td>2023-02-07T00:48:39.614Z</td><td>9 km N of Ridgeway, Alaska          </td><td>earthquake  </td><td>   NA</td><td> 1.500</td><td>        NA</td><td>NA</td><td>reviewed </td><td>ak</td><td>ak</td></tr>\n",
       "\t<tr><td>2023-01-23T21:30:09.315Z</td><td>60.63930</td><td>-152.02970</td><td> 77.800</td><td> 1.50</td><td>ml </td><td>NA</td><td>   NA</td><td>       NA</td><td>0.2800</td><td>⋯</td><td>2023-02-07T00:48:39.428Z</td><td>38 km W of Salamatof, Alaska        </td><td>earthquake  </td><td>   NA</td><td> 1.300</td><td>        NA</td><td>NA</td><td>reviewed </td><td>ak</td><td>ak</td></tr>\n",
       "\t<tr><td>2023-01-23T21:16:23.027Z</td><td>54.96970</td><td>-160.22350</td><td> 38.649</td><td> 3.00</td><td>ml </td><td>27</td><td>215.0</td><td>0.4070000</td><td>0.5800</td><td>⋯</td><td>2023-02-12T23:30:04.040Z</td><td>44 km SSE of Sand Point, Alaska     </td><td>earthquake  </td><td> 5.97</td><td>14.129</td><td>0.08300000</td><td>19</td><td>reviewed </td><td>us</td><td>us</td></tr>\n",
       "\t<tr><td>2023-01-23T21:10:24.910Z</td><td>38.48917</td><td>-112.84050</td><td>  0.120</td><td>-0.43</td><td>md </td><td> 8</td><td>203.0</td><td>0.0114300</td><td>0.0800</td><td>⋯</td><td>2023-01-23T21:44:42.450Z</td><td>18 km NE of Milford, Utah           </td><td>earthquake  </td><td> 0.53</td><td> 2.240</td><td>0.25600000</td><td> 3</td><td>reviewed </td><td>uu</td><td>uu</td></tr>\n",
       "\t<tr><td>2023-01-23T21:07:41.390Z</td><td>58.24883</td><td>-155.19867</td><td>  4.150</td><td>-0.11</td><td>ml </td><td> 6</td><td>120.0</td><td>       NA</td><td>0.3000</td><td>⋯</td><td>2023-01-25T04:07:35.860Z</td><td>Alaska Peninsula                    </td><td>earthquake  </td><td> 1.28</td><td> 2.940</td><td>0.24060271</td><td> 6</td><td>reviewed </td><td>av</td><td>av</td></tr>\n",
       "\t<tr><td>2023-01-23T21:02:40.410Z</td><td>32.89967</td><td>-116.95667</td><td> -0.310</td><td> 1.50</td><td>ml </td><td>37</td><td>129.0</td><td>0.0938100</td><td>0.2600</td><td>⋯</td><td>2023-01-24T15:46:52.473Z</td><td>6km NW of Lakeside, CA              </td><td>quarry blast</td><td> 0.69</td><td>31.610</td><td>0.09700000</td><td> 7</td><td>reviewed </td><td>ci</td><td>ci</td></tr>\n",
       "\t<tr><td>2023-01-23T20:50:47.455Z</td><td>62.83500</td><td>-149.92610</td><td> 78.000</td><td> 1.10</td><td>ml </td><td>NA</td><td>   NA</td><td>       NA</td><td>0.4400</td><td>⋯</td><td>2023-02-07T00:48:39.225Z</td><td>43 km NNE of Chase, Alaska          </td><td>earthquake  </td><td>   NA</td><td> 0.900</td><td>        NA</td><td>NA</td><td>reviewed </td><td>ak</td><td>ak</td></tr>\n",
       "\t<tr><td>2023-01-23T20:40:15.009Z</td><td>65.01050</td><td>-147.13070</td><td>  0.000</td><td> 0.90</td><td>ml </td><td>NA</td><td>   NA</td><td>       NA</td><td>0.7300</td><td>⋯</td><td>2023-02-07T00:48:35.249Z</td><td>16 km NNW of Two Rivers, Alaska     </td><td>explosion   </td><td>   NA</td><td> 0.000</td><td>        NA</td><td>NA</td><td>reviewed </td><td>ak</td><td>ak</td></tr>\n",
       "\t<tr><td>2023-01-23T20:39:30.334Z</td><td>53.37950</td><td>-163.52230</td><td> 35.000</td><td> 2.40</td><td>ml </td><td>11</td><td>287.0</td><td>1.2630000</td><td>0.4300</td><td>⋯</td><td>2023-02-09T19:12:34.857Z</td><td>164 km S of False Pass, Alaska      </td><td>earthquake  </td><td> 7.19</td><td> 2.025</td><td>0.14800000</td><td> 6</td><td>reviewed </td><td>us</td><td>us</td></tr>\n",
       "\t<tr><td>2023-01-23T20:37:11.752Z</td><td>61.55630</td><td>-141.28500</td><td>  3.300</td><td> 1.30</td><td>ml </td><td>NA</td><td>   NA</td><td>       NA</td><td>0.6700</td><td>⋯</td><td>2023-02-07T00:48:35.059Z</td><td>88 km E of McCarthy, Alaska         </td><td>earthquake  </td><td>   NA</td><td> 0.700</td><td>        NA</td><td>NA</td><td>reviewed </td><td>ak</td><td>ak</td></tr>\n",
       "\t<tr><td>2023-01-23T20:35:23.146Z</td><td>53.87520</td><td>-166.45970</td><td> 11.400</td><td> 1.10</td><td>ml </td><td>NA</td><td>   NA</td><td>       NA</td><td>0.4300</td><td>⋯</td><td>2023-02-09T19:12:33.689Z</td><td>4 km E of Unalaska, Alaska          </td><td>earthquake  </td><td>   NA</td><td> 0.400</td><td>        NA</td><td>NA</td><td>reviewed </td><td>ak</td><td>ak</td></tr>\n",
       "\t<tr><td>2023-01-23T20:33:00.210Z</td><td>38.84350</td><td>-122.82917</td><td>  2.630</td><td> 0.93</td><td>md </td><td> 7</td><td>156.0</td><td>0.0069550</td><td>0.0100</td><td>⋯</td><td>2023-01-23T21:30:14.565Z</td><td>10km WNW of Cobb, CA                </td><td>earthquake  </td><td> 1.75</td><td> 2.980</td><td>0.55000000</td><td> 9</td><td>automatic</td><td>nc</td><td>nc</td></tr>\n",
       "\t<tr><td>2023-01-23T20:32:43.074Z</td><td>52.71210</td><td>-168.20150</td><td> 22.100</td><td> 2.00</td><td>ml </td><td>NA</td><td>   NA</td><td>       NA</td><td>0.4700</td><td>⋯</td><td>2023-02-09T19:12:34.678Z</td><td>51 km ESE of Nikolski, Alaska       </td><td>earthquake  </td><td>   NA</td><td> 0.700</td><td>        NA</td><td>NA</td><td>reviewed </td><td>ak</td><td>ak</td></tr>\n",
       "\t<tr><td>2023-01-23T20:31:51.340Z</td><td>46.14650</td><td>-119.56117</td><td> 12.640</td><td> 0.64</td><td>ml </td><td> 6</td><td>283.0</td><td>0.1095000</td><td>0.0200</td><td>⋯</td><td>2023-01-24T00:33:34.830Z</td><td>14 km SSW of Benton City, Washington</td><td>earthquake  </td><td> 1.11</td><td> 1.580</td><td>0.06585327</td><td> 5</td><td>reviewed </td><td>uw</td><td>uw</td></tr>\n",
       "\t<tr><td>2023-01-23T20:21:46.246Z</td><td>36.99560</td><td>-116.39010</td><td> 11.200</td><td> 0.50</td><td>ml </td><td>12</td><td>102.2</td><td>0.0170000</td><td>0.1098</td><td>⋯</td><td>2023-01-24T00:41:21.627Z</td><td>34 km ENE of Beatty, Nevada         </td><td>earthquake  </td><td>   NA</td><td> 1.200</td><td>1.15000000</td><td> 6</td><td>reviewed </td><td>nn</td><td>nn</td></tr>\n",
       "\t<tr><td>2023-01-23T20:18:36.815Z</td><td>61.13400</td><td>-140.39240</td><td>  7.600</td><td> 1.40</td><td>ml </td><td>NA</td><td>   NA</td><td>       NA</td><td>0.5500</td><td>⋯</td><td>2023-02-07T00:48:38.684Z</td><td>139 km ESE of McCarthy, Alaska      </td><td>earthquake  </td><td>   NA</td><td> 0.600</td><td>        NA</td><td>NA</td><td>reviewed </td><td>ak</td><td>ak</td></tr>\n",
       "\t<tr><td>2023-01-23T20:12:38.040Z</td><td>20.29383</td><td>-156.61083</td><td>  4.540</td><td> 2.51</td><td>md </td><td>47</td><td>167.0</td><td>       NA</td><td>0.2600</td><td>⋯</td><td>2023-02-07T21:52:28.040Z</td><td>43 km SSW of Mākena, Hawaii         </td><td>earthquake  </td><td> 0.53</td><td> 0.980</td><td>0.08510721</td><td>15</td><td>reviewed </td><td>hv</td><td>hv</td></tr>\n",
       "\t<tr><td>2023-01-23T20:11:09.590Z</td><td>56.82130</td><td>-158.00080</td><td>  3.500</td><td> 1.90</td><td>ml </td><td>NA</td><td>   NA</td><td>       NA</td><td>0.5700</td><td>⋯</td><td>2023-02-09T19:12:34.501Z</td><td>40 km ESE of Port Heiden, Alaska    </td><td>earthquake  </td><td>   NA</td><td> 1.600</td><td>        NA</td><td>NA</td><td>reviewed </td><td>ak</td><td>ak</td></tr>\n",
       "\t<tr><td>2023-01-23T20:03:59.530Z</td><td>33.81550</td><td>-117.48300</td><td> -0.620</td><td> 1.56</td><td>ml </td><td>53</td><td> 40.0</td><td>0.0317000</td><td>0.2500</td><td>⋯</td><td>2023-01-24T15:36:23.740Z</td><td>8km SSE of Home Gardens, CA         </td><td>quarry blast</td><td> 0.35</td><td>31.610</td><td>0.21700000</td><td>34</td><td>reviewed </td><td>ci</td><td>ci</td></tr>\n",
       "\t<tr><td>2023-01-23T20:03:16.280Z</td><td>36.70167</td><td> -96.70183</td><td>  0.000</td><td> 1.84</td><td>ml </td><td>34</td><td>101.0</td><td>0.1394726</td><td>0.4400</td><td>⋯</td><td>2023-01-24T17:02:37.479Z</td><td>2 km ENE of Burbank, Oklahoma       </td><td>quarry blast</td><td>   NA</td><td> 0.300</td><td>0.17000000</td><td>13</td><td>reviewed </td><td>ok</td><td>ok</td></tr>\n",
       "\t<tr><td>2023-01-23T19:45:00.466Z</td><td>-6.84170</td><td> 106.97450</td><td> 11.127</td><td> 4.50</td><td>mb </td><td>22</td><td>121.0</td><td>0.6360000</td><td>0.5200</td><td>⋯</td><td>2023-02-21T17:11:53.040Z</td><td>9 km NNE of Sukabumi, Indonesia     </td><td>earthquake  </td><td> 6.81</td><td> 3.489</td><td>0.19100000</td><td> 8</td><td>reviewed </td><td>us</td><td>us</td></tr>\n",
       "\t<tr><td>2023-01-23T19:23:51.600Z</td><td>37.12233</td><td>-121.51200</td><td>  9.230</td><td> 0.94</td><td>md </td><td>16</td><td> 65.0</td><td>0.0565100</td><td>0.0700</td><td>⋯</td><td>2023-01-24T19:41:14.290Z</td><td>10km ENE of San Martin, CA          </td><td>earthquake  </td><td> 0.33</td><td> 0.720</td><td>0.13600000</td><td>14</td><td>reviewed </td><td>nc</td><td>nc</td></tr>\n",
       "</tbody>\n",
       "</table>\n"
      ],
      "text/latex": [
       "A data.frame: 10702 × 22\n",
       "\\begin{tabular}{lllllllllllllllllllll}\n",
       " time & latitude & longitude & depth & mag & magType & nst & gap & dmin & rms & ⋯ & updated & place & type & horizontalError & depthError & magError & magNst & status & locationSource & magSource\\\\\n",
       " <chr> & <dbl> & <dbl> & <dbl> & <dbl> & <chr> & <int> & <dbl> & <dbl> & <dbl> & ⋯ & <chr> & <chr> & <chr> & <dbl> & <dbl> & <dbl> & <int> & <chr> & <chr> & <chr>\\\\\n",
       "\\hline\n",
       "\t 2023-02-22T19:07:13.970Z &  19.14400 & -155.4250 &  32.080 & 2.04 & md  & 29 & 225.00 &       NA & 0.1000 & ⋯ & 2023-02-22T19:10:18.630Z & 8 km SE of Pāhala, Hawaii                     & earthquake   & 0.77 & 1.140 & 1.0100000 &  3 & automatic & hv & hv\\\\\n",
       "\t 2023-02-22T19:07:02.970Z &  33.82433 & -117.4813 &   1.710 & 1.93 & ml  & 43 &  29.00 & 0.031020 & 0.2700 & ⋯ & 2023-02-22T19:10:54.720Z & 7km SSE of Home Gardens, CA                   & quarry blast & 0.29 & 0.500 & 0.2160000 & 29 & automatic & ci & ci\\\\\n",
       "\t 2023-02-22T19:01:47.140Z &  38.15320 & -117.8772 &   4.600 & 2.40 & ml  & 11 & 125.38 & 0.066000 & 0.2560 & ⋯ & 2023-02-22T19:04:48.175Z & 33 km SE of Mina, Nevada                      & earthquake   &   NA & 0.700 & 0.2300000 &  7 & automatic & nn & nn\\\\\n",
       "\t 2023-02-22T18:52:57.640Z &  33.06367 & -116.3907 &  12.000 & 1.45 & ml  & 27 & 124.00 & 0.093130 & 0.1900 & ⋯ & 2023-02-22T19:19:32.920Z & 20km E of Julian, CA                          & earthquake   & 0.38 & 0.820 & 0.1530000 & 27 & reviewed  & ci & ci\\\\\n",
       "\t 2023-02-22T18:50:16.290Z &  33.06783 & -116.3900 &  12.940 & 1.29 & ml  & 18 & 124.00 & 0.097320 & 0.2400 & ⋯ & 2023-02-22T18:53:43.089Z & 20km E of Julian, CA                          & earthquake   & 0.51 & 1.070 & 0.3380000 & 11 & automatic & ci & ci\\\\\n",
       "\t 2023-02-22T18:27:54.090Z &  38.83167 & -122.8167 &   1.630 & 0.96 & md  & 18 &  53.00 & 0.009732 & 0.0200 & ⋯ & 2023-02-22T19:01:14.429Z & 8km NW of The Geysers, CA                     & earthquake   & 0.20 & 0.540 & 0.2000000 & 19 & automatic & nc & nc\\\\\n",
       "\t 2023-02-22T18:22:12.682Z &  38.15770 & -117.8891 &   8.700 & 3.50 & ml  & 13 &  80.53 & 0.059000 & 0.1197 & ⋯ & 2023-02-22T18:36:16.009Z & 32 km SE of Mina, Nevada                      & earthquake   &   NA & 1.200 & 0.2100000 &  9 & reviewed  & nn & nn\\\\\n",
       "\t 2023-02-22T18:21:02.308Z &  60.12800 & -152.6184 &  86.600 & 1.80 & ml  & NA &     NA &       NA & 0.4800 & ⋯ & 2023-02-22T18:23:48.382Z & 53 km WNW of Happy Valley, Alaska             & earthquake   &   NA & 0.400 &        NA & NA & automatic & ak & ak\\\\\n",
       "\t 2023-02-22T18:20:26.610Z &  19.23533 & -155.4067 &  31.640 & 1.85 & md  & 31 & 146.00 &       NA & 0.1100 & ⋯ & 2023-02-22T18:23:49.140Z & 8 km ENE of Pāhala, Hawaii                    & earthquake   & 0.67 & 1.190 & 0.2100000 &  9 & automatic & hv & hv\\\\\n",
       "\t 2023-02-22T18:16:48.670Z &  33.52917 & -116.7268 &   4.730 & 1.06 & ml  & 26 &  62.00 & 0.037180 & 0.1100 & ⋯ & 2023-02-22T19:18:57.330Z & 6km WSW of Anza, CA                           & earthquake   & 0.16 & 0.240 & 0.1570000 & 22 & reviewed  & ci & ci\\\\\n",
       "\t 2023-02-22T18:13:07.973Z &  62.92320 & -150.2684 &  16.500 & 1.30 & ml  & NA &     NA &       NA & 0.4000 & ⋯ & 2023-02-22T18:16:07.861Z & 53 km N of Chase, Alaska                      & earthquake   &   NA & 0.400 &        NA & NA & automatic & ak & ak\\\\\n",
       "\t 2023-02-22T18:10:54.080Z &  40.05067 & -122.9132 &  -0.890 & 2.38 & md  & 11 &  91.00 & 0.158000 & 0.3100 & ⋯ & 2023-02-22T18:29:20.256Z & 40km NE of Covelo, CA                         & earthquake   & 0.98 & 8.490 & 0.1600000 & 12 & automatic & nc & nc\\\\\n",
       "\t 2023-02-22T17:48:54.920Z &  40.03783 & -122.9090 &   5.140 & 2.07 & md  &  5 & 118.00 & 0.166600 & 0.0600 & ⋯ & 2023-02-22T18:08:15.116Z & 40km NE of Covelo, CA                         & earthquake   & 0.55 & 3.170 & 0.2500000 &  5 & automatic & nc & nc\\\\\n",
       "\t 2023-02-22T17:38:48.350Z &  38.78733 & -122.9382 &   3.900 & 1.50 & md  & 26 & 111.00 & 0.042480 & 0.0300 & ⋯ & 2023-02-22T18:08:14.117Z & 7km ESE of Cloverdale, CA                     & earthquake   & 0.28 & 0.840 & 0.2300000 & 25 & automatic & nc & nc\\\\\n",
       "\t 2023-02-22T17:38:33.160Z &  38.79000 & -122.9410 &   4.730 & 1.09 & md  & 16 & 133.00 & 0.055060 & 0.0300 & ⋯ & 2023-02-22T17:57:17.046Z & 7km ESE of Cloverdale, CA                     & earthquake   & 0.40 & 1.740 & 0.3100000 & 16 & automatic & nc & nc\\\\\n",
       "\t 2023-02-22T17:36:03.144Z &  56.81420 & -153.0611 &  11.300 & 2.40 & ml  & NA &     NA &       NA & 0.9200 & ⋯ & 2023-02-22T17:38:54.698Z & 45 km SSE of Old Harbor, Alaska               & earthquake   &   NA & 0.700 &        NA & NA & automatic & ak & ak\\\\\n",
       "\t 2023-02-22T17:30:50.870Z &  38.80500 & -122.7715 &   1.200 & 0.28 & md  &  6 & 112.00 & 0.010190 & 0.0200 & ⋯ & 2023-02-22T17:47:15.984Z & 3km NNW of The Geysers, CA                    & earthquake   & 0.79 & 0.870 & 0.0700000 &  8 & automatic & nc & nc\\\\\n",
       "\t 2023-02-22T17:07:01.267Z &  62.45010 & -152.1698 & 125.700 & 1.90 & ml  & NA &     NA &       NA & 0.5500 & ⋯ & 2023-02-22T17:09:28.211Z & 65 km NW of Skwentna, Alaska                  & earthquake   &   NA & 0.700 &        NA & NA & automatic & ak & ak\\\\\n",
       "\t 2023-02-22T16:27:25.722Z &  63.16470 & -149.6905 &  84.000 & 1.40 & ml  & NA &     NA &       NA & 0.9000 & ⋯ & 2023-02-22T16:29:27.091Z & 44 km SW of Cantwell, Alaska                  & earthquake   &   NA & 0.800 &        NA & NA & automatic & ak & ak\\\\\n",
       "\t 2023-02-22T16:20:21.181Z &  61.79070 & -150.2054 &  10.700 & 2.10 & ml  & NA &     NA &       NA & 0.3900 & ⋯ & 2023-02-22T16:22:04.874Z & 10 km WNW of Willow, Alaska                   & earthquake   &   NA & 0.200 &        NA & NA & automatic & ak & ak\\\\\n",
       "\t 2023-02-22T16:05:52.220Z &  38.83517 & -122.7857 &   1.520 & 0.97 & md  &  9 &  68.00 & 0.004881 & 0.0100 & ⋯ & 2023-02-22T16:31:11.484Z & 6km WNW of Cobb, CA                           & earthquake   & 0.54 & 1.330 & 0.2800000 & 13 & automatic & nc & nc\\\\\n",
       "\t 2023-02-22T15:56:47.583Z &  61.25700 & -150.3203 & 250.000 & 2.50 & ml  & NA &     NA &       NA & 0.9300 & ⋯ & 2023-02-22T16:00:02.401Z & 21 km WSW of Point MacKenzie, Alaska          & earthquake   &   NA & 5.100 &        NA & NA & automatic & ak & ak\\\\\n",
       "\t 2023-02-22T15:52:12.650Z &  38.77583 & -122.7298 &   1.220 & 0.88 & md  &  8 & 135.00 & 0.009146 & 0.0100 & ⋯ & 2023-02-22T16:10:12.357Z & 2km E of The Geysers, CA                      & earthquake   & 0.44 & 0.560 & 0.1600000 &  8 & automatic & nc & nc\\\\\n",
       "\t 2023-02-22T15:51:39.859Z & -30.03890 &  -72.2035 &  12.059 & 4.00 & mwr & 23 & 179.00 & 0.801000 & 1.1600 & ⋯ & 2023-02-22T17:15:55.040Z & 83 km W of Coquimbo, Chile                    & earthquake   & 2.83 & 6.844 & 0.0500000 & 38 & reviewed  & us & us\\\\\n",
       "\t 2023-02-22T15:48:28.209Z &  61.47460 & -150.0414 &  33.400 & 1.30 & ml  & NA &     NA &       NA & 0.6800 & ⋯ & 2023-02-22T15:50:37.214Z & 6 km SW of Big Lake, Alaska                   & earthquake   &   NA & 0.300 &        NA & NA & automatic & ak & ak\\\\\n",
       "\t 2023-02-22T15:48:21.690Z &  40.55583 & -124.2127 &  14.430 & 3.21 & ml  & 21 & 177.00 & 0.234100 & 0.1200 & ⋯ & 2023-02-22T18:48:30.345Z & 5km ESE of Ferndale, CA                       & earthquake   & 0.78 & 0.740 & 0.3020000 & 10 & automatic & nc & nc\\\\\n",
       "\t 2023-02-22T15:43:50.160Z &  36.99650 & -121.8257 &  13.410 & 1.54 & md  &  9 & 183.00 & 0.068940 & 0.0600 & ⋯ & 2023-02-22T18:17:23.178Z & 2km WNW of Corralitos, CA                     & earthquake   & 0.61 & 0.740 & 0.0800000 &  9 & automatic & nc & nc\\\\\n",
       "\t 2023-02-22T15:35:30.540Z &  46.83850 & -121.7125 &   2.490 & 1.07 & ml  & 12 & 224.00 & 0.014350 & 0.0900 & ⋯ & 2023-02-22T18:51:07.950Z & 25 km ENE of Ashford, Washington              & earthquake   & 0.59 & 0.790 & 0.3115333 &  5 & reviewed  & uw & uw\\\\\n",
       "\t 2023-02-22T15:25:51.418Z &  59.56340 & -152.9980 &  88.500 & 1.90 & ml  & NA &     NA &       NA & 0.3200 & ⋯ & 2023-02-22T15:28:04.231Z & 65 km WNW of Nanwalek, Alaska                 & earthquake   &   NA & 0.700 &        NA & NA & automatic & ak & ak\\\\\n",
       "\t 2023-02-22T15:18:06.170Z &  18.23100 &  -68.2605 &  96.000 & 3.76 & md  & 15 & 205.00 & 0.307600 & 0.2700 & ⋯ & 2023-02-22T15:54:41.369Z & 40 km ESE of Boca de Yuma, Dominican Republic & earthquake   & 1.72 & 1.080 & 0.1100000 & 11 & reviewed  & pr & pr\\\\\n",
       "\t ⋮ & ⋮ & ⋮ & ⋮ & ⋮ & ⋮ & ⋮ & ⋮ & ⋮ & ⋮ & ⋱ & ⋮ & ⋮ & ⋮ & ⋮ & ⋮ & ⋮ & ⋮ & ⋮ & ⋮ & ⋮\\\\\n",
       "\t 2023-01-23T22:03:44.140Z & 35.61767 &  -84.21183 &  11.480 &  1.81 & md  &  7 &  78.0 & 0.0574900 & 0.0700 & ⋯ & 2023-01-24T14:29:33.740Z & Tennessee                            & earthquake   &  0.29 &  0.720 & 0.08082776 &  7 & reviewed  & se & se\\\\\n",
       "\t 2023-01-23T22:01:11.060Z & 55.33020 & -159.63360 &   6.800 &  2.40 & ml  & NA &    NA &        NA & 0.4800 & ⋯ & 2023-02-07T00:48:40.179Z & 54 km E of Sand Point, Alaska        & earthquake   &    NA &  0.800 &         NA & NA & reviewed  & ak & ak\\\\\n",
       "\t 2023-01-23T21:59:37.040Z & 37.53950 & -118.79633 &   4.830 &  0.64 & md  &  7 & 314.0 & 0.0567700 & 0.0200 & ⋯ & 2023-01-24T00:42:11.798Z & 10km WSW of Toms Place, CA           & earthquake   &  2.12 & 31.610 & 0.05500000 &  6 & reviewed  & nc & nc\\\\\n",
       "\t 2023-01-23T21:55:10.289Z &  1.85880 &  127.36710 & 110.943 &  4.20 & mb  & 45 & 161.0 & 1.0800000 & 0.5300 & ⋯ & 2023-02-13T04:43:07.040Z & 72 km WNW of Tobelo, Indonesia       & earthquake   & 11.22 &  8.301 & 0.09100000 & 34 & reviewed  & us & us\\\\\n",
       "\t 2023-01-23T21:53:51.030Z & 33.66117 & -116.73467 &  14.040 &  1.09 & ml  & 22 &  88.0 & 0.0527200 & 0.1200 & ⋯ & 2023-01-24T14:59:30.252Z & 9km S of Idyllwild, CA               & earthquake   &  0.26 &  0.430 & 0.37500000 & 22 & reviewed  & ci & ci\\\\\n",
       "\t 2023-01-23T21:44:39.795Z & 69.60540 & -144.69790 &  23.400 &  4.10 & mwr & NA &    NA &        NA & 0.6400 & ⋯ & 2023-02-13T00:08:34.040Z & 71 km SW of Kaktovik, Alaska         & earthquake   &    NA &  0.800 &         NA & NA & reviewed  & ak & ak\\\\\n",
       "\t 2023-01-23T21:44:07.494Z & 61.09320 & -151.16020 &   2.200 &  1.10 & ml  & NA &    NA &        NA & 0.7500 & ⋯ & 2023-02-07T00:48:39.814Z & 3 km NNW of Tyonek, Alaska           & earthquake   &    NA &  0.900 &         NA & NA & reviewed  & ak & ak\\\\\n",
       "\t 2023-01-23T21:43:51.120Z & 38.83717 & -122.83750 &   1.480 &  1.09 & md  & 15 & 109.0 & 0.0021200 & 0.0300 & ⋯ & 2023-01-23T22:03:10.753Z & 10km NW of The Geysers, CA           & earthquake   &  0.25 &  0.660 & 0.32000000 & 17 & automatic & nc & nc\\\\\n",
       "\t 2023-01-23T21:41:12.971Z & 60.61710 & -151.11940 &  54.800 &  1.50 & ml  & NA &    NA &        NA & 0.4200 & ⋯ & 2023-02-07T00:48:39.614Z & 9 km N of Ridgeway, Alaska           & earthquake   &    NA &  1.500 &         NA & NA & reviewed  & ak & ak\\\\\n",
       "\t 2023-01-23T21:30:09.315Z & 60.63930 & -152.02970 &  77.800 &  1.50 & ml  & NA &    NA &        NA & 0.2800 & ⋯ & 2023-02-07T00:48:39.428Z & 38 km W of Salamatof, Alaska         & earthquake   &    NA &  1.300 &         NA & NA & reviewed  & ak & ak\\\\\n",
       "\t 2023-01-23T21:16:23.027Z & 54.96970 & -160.22350 &  38.649 &  3.00 & ml  & 27 & 215.0 & 0.4070000 & 0.5800 & ⋯ & 2023-02-12T23:30:04.040Z & 44 km SSE of Sand Point, Alaska      & earthquake   &  5.97 & 14.129 & 0.08300000 & 19 & reviewed  & us & us\\\\\n",
       "\t 2023-01-23T21:10:24.910Z & 38.48917 & -112.84050 &   0.120 & -0.43 & md  &  8 & 203.0 & 0.0114300 & 0.0800 & ⋯ & 2023-01-23T21:44:42.450Z & 18 km NE of Milford, Utah            & earthquake   &  0.53 &  2.240 & 0.25600000 &  3 & reviewed  & uu & uu\\\\\n",
       "\t 2023-01-23T21:07:41.390Z & 58.24883 & -155.19867 &   4.150 & -0.11 & ml  &  6 & 120.0 &        NA & 0.3000 & ⋯ & 2023-01-25T04:07:35.860Z & Alaska Peninsula                     & earthquake   &  1.28 &  2.940 & 0.24060271 &  6 & reviewed  & av & av\\\\\n",
       "\t 2023-01-23T21:02:40.410Z & 32.89967 & -116.95667 &  -0.310 &  1.50 & ml  & 37 & 129.0 & 0.0938100 & 0.2600 & ⋯ & 2023-01-24T15:46:52.473Z & 6km NW of Lakeside, CA               & quarry blast &  0.69 & 31.610 & 0.09700000 &  7 & reviewed  & ci & ci\\\\\n",
       "\t 2023-01-23T20:50:47.455Z & 62.83500 & -149.92610 &  78.000 &  1.10 & ml  & NA &    NA &        NA & 0.4400 & ⋯ & 2023-02-07T00:48:39.225Z & 43 km NNE of Chase, Alaska           & earthquake   &    NA &  0.900 &         NA & NA & reviewed  & ak & ak\\\\\n",
       "\t 2023-01-23T20:40:15.009Z & 65.01050 & -147.13070 &   0.000 &  0.90 & ml  & NA &    NA &        NA & 0.7300 & ⋯ & 2023-02-07T00:48:35.249Z & 16 km NNW of Two Rivers, Alaska      & explosion    &    NA &  0.000 &         NA & NA & reviewed  & ak & ak\\\\\n",
       "\t 2023-01-23T20:39:30.334Z & 53.37950 & -163.52230 &  35.000 &  2.40 & ml  & 11 & 287.0 & 1.2630000 & 0.4300 & ⋯ & 2023-02-09T19:12:34.857Z & 164 km S of False Pass, Alaska       & earthquake   &  7.19 &  2.025 & 0.14800000 &  6 & reviewed  & us & us\\\\\n",
       "\t 2023-01-23T20:37:11.752Z & 61.55630 & -141.28500 &   3.300 &  1.30 & ml  & NA &    NA &        NA & 0.6700 & ⋯ & 2023-02-07T00:48:35.059Z & 88 km E of McCarthy, Alaska          & earthquake   &    NA &  0.700 &         NA & NA & reviewed  & ak & ak\\\\\n",
       "\t 2023-01-23T20:35:23.146Z & 53.87520 & -166.45970 &  11.400 &  1.10 & ml  & NA &    NA &        NA & 0.4300 & ⋯ & 2023-02-09T19:12:33.689Z & 4 km E of Unalaska, Alaska           & earthquake   &    NA &  0.400 &         NA & NA & reviewed  & ak & ak\\\\\n",
       "\t 2023-01-23T20:33:00.210Z & 38.84350 & -122.82917 &   2.630 &  0.93 & md  &  7 & 156.0 & 0.0069550 & 0.0100 & ⋯ & 2023-01-23T21:30:14.565Z & 10km WNW of Cobb, CA                 & earthquake   &  1.75 &  2.980 & 0.55000000 &  9 & automatic & nc & nc\\\\\n",
       "\t 2023-01-23T20:32:43.074Z & 52.71210 & -168.20150 &  22.100 &  2.00 & ml  & NA &    NA &        NA & 0.4700 & ⋯ & 2023-02-09T19:12:34.678Z & 51 km ESE of Nikolski, Alaska        & earthquake   &    NA &  0.700 &         NA & NA & reviewed  & ak & ak\\\\\n",
       "\t 2023-01-23T20:31:51.340Z & 46.14650 & -119.56117 &  12.640 &  0.64 & ml  &  6 & 283.0 & 0.1095000 & 0.0200 & ⋯ & 2023-01-24T00:33:34.830Z & 14 km SSW of Benton City, Washington & earthquake   &  1.11 &  1.580 & 0.06585327 &  5 & reviewed  & uw & uw\\\\\n",
       "\t 2023-01-23T20:21:46.246Z & 36.99560 & -116.39010 &  11.200 &  0.50 & ml  & 12 & 102.2 & 0.0170000 & 0.1098 & ⋯ & 2023-01-24T00:41:21.627Z & 34 km ENE of Beatty, Nevada          & earthquake   &    NA &  1.200 & 1.15000000 &  6 & reviewed  & nn & nn\\\\\n",
       "\t 2023-01-23T20:18:36.815Z & 61.13400 & -140.39240 &   7.600 &  1.40 & ml  & NA &    NA &        NA & 0.5500 & ⋯ & 2023-02-07T00:48:38.684Z & 139 km ESE of McCarthy, Alaska       & earthquake   &    NA &  0.600 &         NA & NA & reviewed  & ak & ak\\\\\n",
       "\t 2023-01-23T20:12:38.040Z & 20.29383 & -156.61083 &   4.540 &  2.51 & md  & 47 & 167.0 &        NA & 0.2600 & ⋯ & 2023-02-07T21:52:28.040Z & 43 km SSW of Mākena, Hawaii          & earthquake   &  0.53 &  0.980 & 0.08510721 & 15 & reviewed  & hv & hv\\\\\n",
       "\t 2023-01-23T20:11:09.590Z & 56.82130 & -158.00080 &   3.500 &  1.90 & ml  & NA &    NA &        NA & 0.5700 & ⋯ & 2023-02-09T19:12:34.501Z & 40 km ESE of Port Heiden, Alaska     & earthquake   &    NA &  1.600 &         NA & NA & reviewed  & ak & ak\\\\\n",
       "\t 2023-01-23T20:03:59.530Z & 33.81550 & -117.48300 &  -0.620 &  1.56 & ml  & 53 &  40.0 & 0.0317000 & 0.2500 & ⋯ & 2023-01-24T15:36:23.740Z & 8km SSE of Home Gardens, CA          & quarry blast &  0.35 & 31.610 & 0.21700000 & 34 & reviewed  & ci & ci\\\\\n",
       "\t 2023-01-23T20:03:16.280Z & 36.70167 &  -96.70183 &   0.000 &  1.84 & ml  & 34 & 101.0 & 0.1394726 & 0.4400 & ⋯ & 2023-01-24T17:02:37.479Z & 2 km ENE of Burbank, Oklahoma        & quarry blast &    NA &  0.300 & 0.17000000 & 13 & reviewed  & ok & ok\\\\\n",
       "\t 2023-01-23T19:45:00.466Z & -6.84170 &  106.97450 &  11.127 &  4.50 & mb  & 22 & 121.0 & 0.6360000 & 0.5200 & ⋯ & 2023-02-21T17:11:53.040Z & 9 km NNE of Sukabumi, Indonesia      & earthquake   &  6.81 &  3.489 & 0.19100000 &  8 & reviewed  & us & us\\\\\n",
       "\t 2023-01-23T19:23:51.600Z & 37.12233 & -121.51200 &   9.230 &  0.94 & md  & 16 &  65.0 & 0.0565100 & 0.0700 & ⋯ & 2023-01-24T19:41:14.290Z & 10km ENE of San Martin, CA           & earthquake   &  0.33 &  0.720 & 0.13600000 & 14 & reviewed  & nc & nc\\\\\n",
       "\\end{tabular}\n"
      ],
      "text/markdown": [
       "\n",
       "A data.frame: 10702 × 22\n",
       "\n",
       "| time &lt;chr&gt; | latitude &lt;dbl&gt; | longitude &lt;dbl&gt; | depth &lt;dbl&gt; | mag &lt;dbl&gt; | magType &lt;chr&gt; | nst &lt;int&gt; | gap &lt;dbl&gt; | dmin &lt;dbl&gt; | rms &lt;dbl&gt; | ⋯ ⋯ | updated &lt;chr&gt; | place &lt;chr&gt; | type &lt;chr&gt; | horizontalError &lt;dbl&gt; | depthError &lt;dbl&gt; | magError &lt;dbl&gt; | magNst &lt;int&gt; | status &lt;chr&gt; | locationSource &lt;chr&gt; | magSource &lt;chr&gt; |\n",
       "|---|---|---|---|---|---|---|---|---|---|---|---|---|---|---|---|---|---|---|---|---|\n",
       "| 2023-02-22T19:07:13.970Z |  19.14400 | -155.4250 |  32.080 | 2.04 | md  | 29 | 225.00 |       NA | 0.1000 | ⋯ | 2023-02-22T19:10:18.630Z | 8 km SE of Pāhala, Hawaii                     | earthquake   | 0.77 | 1.140 | 1.0100000 |  3 | automatic | hv | hv |\n",
       "| 2023-02-22T19:07:02.970Z |  33.82433 | -117.4813 |   1.710 | 1.93 | ml  | 43 |  29.00 | 0.031020 | 0.2700 | ⋯ | 2023-02-22T19:10:54.720Z | 7km SSE of Home Gardens, CA                   | quarry blast | 0.29 | 0.500 | 0.2160000 | 29 | automatic | ci | ci |\n",
       "| 2023-02-22T19:01:47.140Z |  38.15320 | -117.8772 |   4.600 | 2.40 | ml  | 11 | 125.38 | 0.066000 | 0.2560 | ⋯ | 2023-02-22T19:04:48.175Z | 33 km SE of Mina, Nevada                      | earthquake   |   NA | 0.700 | 0.2300000 |  7 | automatic | nn | nn |\n",
       "| 2023-02-22T18:52:57.640Z |  33.06367 | -116.3907 |  12.000 | 1.45 | ml  | 27 | 124.00 | 0.093130 | 0.1900 | ⋯ | 2023-02-22T19:19:32.920Z | 20km E of Julian, CA                          | earthquake   | 0.38 | 0.820 | 0.1530000 | 27 | reviewed  | ci | ci |\n",
       "| 2023-02-22T18:50:16.290Z |  33.06783 | -116.3900 |  12.940 | 1.29 | ml  | 18 | 124.00 | 0.097320 | 0.2400 | ⋯ | 2023-02-22T18:53:43.089Z | 20km E of Julian, CA                          | earthquake   | 0.51 | 1.070 | 0.3380000 | 11 | automatic | ci | ci |\n",
       "| 2023-02-22T18:27:54.090Z |  38.83167 | -122.8167 |   1.630 | 0.96 | md  | 18 |  53.00 | 0.009732 | 0.0200 | ⋯ | 2023-02-22T19:01:14.429Z | 8km NW of The Geysers, CA                     | earthquake   | 0.20 | 0.540 | 0.2000000 | 19 | automatic | nc | nc |\n",
       "| 2023-02-22T18:22:12.682Z |  38.15770 | -117.8891 |   8.700 | 3.50 | ml  | 13 |  80.53 | 0.059000 | 0.1197 | ⋯ | 2023-02-22T18:36:16.009Z | 32 km SE of Mina, Nevada                      | earthquake   |   NA | 1.200 | 0.2100000 |  9 | reviewed  | nn | nn |\n",
       "| 2023-02-22T18:21:02.308Z |  60.12800 | -152.6184 |  86.600 | 1.80 | ml  | NA |     NA |       NA | 0.4800 | ⋯ | 2023-02-22T18:23:48.382Z | 53 km WNW of Happy Valley, Alaska             | earthquake   |   NA | 0.400 |        NA | NA | automatic | ak | ak |\n",
       "| 2023-02-22T18:20:26.610Z |  19.23533 | -155.4067 |  31.640 | 1.85 | md  | 31 | 146.00 |       NA | 0.1100 | ⋯ | 2023-02-22T18:23:49.140Z | 8 km ENE of Pāhala, Hawaii                    | earthquake   | 0.67 | 1.190 | 0.2100000 |  9 | automatic | hv | hv |\n",
       "| 2023-02-22T18:16:48.670Z |  33.52917 | -116.7268 |   4.730 | 1.06 | ml  | 26 |  62.00 | 0.037180 | 0.1100 | ⋯ | 2023-02-22T19:18:57.330Z | 6km WSW of Anza, CA                           | earthquake   | 0.16 | 0.240 | 0.1570000 | 22 | reviewed  | ci | ci |\n",
       "| 2023-02-22T18:13:07.973Z |  62.92320 | -150.2684 |  16.500 | 1.30 | ml  | NA |     NA |       NA | 0.4000 | ⋯ | 2023-02-22T18:16:07.861Z | 53 km N of Chase, Alaska                      | earthquake   |   NA | 0.400 |        NA | NA | automatic | ak | ak |\n",
       "| 2023-02-22T18:10:54.080Z |  40.05067 | -122.9132 |  -0.890 | 2.38 | md  | 11 |  91.00 | 0.158000 | 0.3100 | ⋯ | 2023-02-22T18:29:20.256Z | 40km NE of Covelo, CA                         | earthquake   | 0.98 | 8.490 | 0.1600000 | 12 | automatic | nc | nc |\n",
       "| 2023-02-22T17:48:54.920Z |  40.03783 | -122.9090 |   5.140 | 2.07 | md  |  5 | 118.00 | 0.166600 | 0.0600 | ⋯ | 2023-02-22T18:08:15.116Z | 40km NE of Covelo, CA                         | earthquake   | 0.55 | 3.170 | 0.2500000 |  5 | automatic | nc | nc |\n",
       "| 2023-02-22T17:38:48.350Z |  38.78733 | -122.9382 |   3.900 | 1.50 | md  | 26 | 111.00 | 0.042480 | 0.0300 | ⋯ | 2023-02-22T18:08:14.117Z | 7km ESE of Cloverdale, CA                     | earthquake   | 0.28 | 0.840 | 0.2300000 | 25 | automatic | nc | nc |\n",
       "| 2023-02-22T17:38:33.160Z |  38.79000 | -122.9410 |   4.730 | 1.09 | md  | 16 | 133.00 | 0.055060 | 0.0300 | ⋯ | 2023-02-22T17:57:17.046Z | 7km ESE of Cloverdale, CA                     | earthquake   | 0.40 | 1.740 | 0.3100000 | 16 | automatic | nc | nc |\n",
       "| 2023-02-22T17:36:03.144Z |  56.81420 | -153.0611 |  11.300 | 2.40 | ml  | NA |     NA |       NA | 0.9200 | ⋯ | 2023-02-22T17:38:54.698Z | 45 km SSE of Old Harbor, Alaska               | earthquake   |   NA | 0.700 |        NA | NA | automatic | ak | ak |\n",
       "| 2023-02-22T17:30:50.870Z |  38.80500 | -122.7715 |   1.200 | 0.28 | md  |  6 | 112.00 | 0.010190 | 0.0200 | ⋯ | 2023-02-22T17:47:15.984Z | 3km NNW of The Geysers, CA                    | earthquake   | 0.79 | 0.870 | 0.0700000 |  8 | automatic | nc | nc |\n",
       "| 2023-02-22T17:07:01.267Z |  62.45010 | -152.1698 | 125.700 | 1.90 | ml  | NA |     NA |       NA | 0.5500 | ⋯ | 2023-02-22T17:09:28.211Z | 65 km NW of Skwentna, Alaska                  | earthquake   |   NA | 0.700 |        NA | NA | automatic | ak | ak |\n",
       "| 2023-02-22T16:27:25.722Z |  63.16470 | -149.6905 |  84.000 | 1.40 | ml  | NA |     NA |       NA | 0.9000 | ⋯ | 2023-02-22T16:29:27.091Z | 44 km SW of Cantwell, Alaska                  | earthquake   |   NA | 0.800 |        NA | NA | automatic | ak | ak |\n",
       "| 2023-02-22T16:20:21.181Z |  61.79070 | -150.2054 |  10.700 | 2.10 | ml  | NA |     NA |       NA | 0.3900 | ⋯ | 2023-02-22T16:22:04.874Z | 10 km WNW of Willow, Alaska                   | earthquake   |   NA | 0.200 |        NA | NA | automatic | ak | ak |\n",
       "| 2023-02-22T16:05:52.220Z |  38.83517 | -122.7857 |   1.520 | 0.97 | md  |  9 |  68.00 | 0.004881 | 0.0100 | ⋯ | 2023-02-22T16:31:11.484Z | 6km WNW of Cobb, CA                           | earthquake   | 0.54 | 1.330 | 0.2800000 | 13 | automatic | nc | nc |\n",
       "| 2023-02-22T15:56:47.583Z |  61.25700 | -150.3203 | 250.000 | 2.50 | ml  | NA |     NA |       NA | 0.9300 | ⋯ | 2023-02-22T16:00:02.401Z | 21 km WSW of Point MacKenzie, Alaska          | earthquake   |   NA | 5.100 |        NA | NA | automatic | ak | ak |\n",
       "| 2023-02-22T15:52:12.650Z |  38.77583 | -122.7298 |   1.220 | 0.88 | md  |  8 | 135.00 | 0.009146 | 0.0100 | ⋯ | 2023-02-22T16:10:12.357Z | 2km E of The Geysers, CA                      | earthquake   | 0.44 | 0.560 | 0.1600000 |  8 | automatic | nc | nc |\n",
       "| 2023-02-22T15:51:39.859Z | -30.03890 |  -72.2035 |  12.059 | 4.00 | mwr | 23 | 179.00 | 0.801000 | 1.1600 | ⋯ | 2023-02-22T17:15:55.040Z | 83 km W of Coquimbo, Chile                    | earthquake   | 2.83 | 6.844 | 0.0500000 | 38 | reviewed  | us | us |\n",
       "| 2023-02-22T15:48:28.209Z |  61.47460 | -150.0414 |  33.400 | 1.30 | ml  | NA |     NA |       NA | 0.6800 | ⋯ | 2023-02-22T15:50:37.214Z | 6 km SW of Big Lake, Alaska                   | earthquake   |   NA | 0.300 |        NA | NA | automatic | ak | ak |\n",
       "| 2023-02-22T15:48:21.690Z |  40.55583 | -124.2127 |  14.430 | 3.21 | ml  | 21 | 177.00 | 0.234100 | 0.1200 | ⋯ | 2023-02-22T18:48:30.345Z | 5km ESE of Ferndale, CA                       | earthquake   | 0.78 | 0.740 | 0.3020000 | 10 | automatic | nc | nc |\n",
       "| 2023-02-22T15:43:50.160Z |  36.99650 | -121.8257 |  13.410 | 1.54 | md  |  9 | 183.00 | 0.068940 | 0.0600 | ⋯ | 2023-02-22T18:17:23.178Z | 2km WNW of Corralitos, CA                     | earthquake   | 0.61 | 0.740 | 0.0800000 |  9 | automatic | nc | nc |\n",
       "| 2023-02-22T15:35:30.540Z |  46.83850 | -121.7125 |   2.490 | 1.07 | ml  | 12 | 224.00 | 0.014350 | 0.0900 | ⋯ | 2023-02-22T18:51:07.950Z | 25 km ENE of Ashford, Washington              | earthquake   | 0.59 | 0.790 | 0.3115333 |  5 | reviewed  | uw | uw |\n",
       "| 2023-02-22T15:25:51.418Z |  59.56340 | -152.9980 |  88.500 | 1.90 | ml  | NA |     NA |       NA | 0.3200 | ⋯ | 2023-02-22T15:28:04.231Z | 65 km WNW of Nanwalek, Alaska                 | earthquake   |   NA | 0.700 |        NA | NA | automatic | ak | ak |\n",
       "| 2023-02-22T15:18:06.170Z |  18.23100 |  -68.2605 |  96.000 | 3.76 | md  | 15 | 205.00 | 0.307600 | 0.2700 | ⋯ | 2023-02-22T15:54:41.369Z | 40 km ESE of Boca de Yuma, Dominican Republic | earthquake   | 1.72 | 1.080 | 0.1100000 | 11 | reviewed  | pr | pr |\n",
       "| ⋮ | ⋮ | ⋮ | ⋮ | ⋮ | ⋮ | ⋮ | ⋮ | ⋮ | ⋮ | ⋱ | ⋮ | ⋮ | ⋮ | ⋮ | ⋮ | ⋮ | ⋮ | ⋮ | ⋮ | ⋮ |\n",
       "| 2023-01-23T22:03:44.140Z | 35.61767 |  -84.21183 |  11.480 |  1.81 | md  |  7 |  78.0 | 0.0574900 | 0.0700 | ⋯ | 2023-01-24T14:29:33.740Z | Tennessee                            | earthquake   |  0.29 |  0.720 | 0.08082776 |  7 | reviewed  | se | se |\n",
       "| 2023-01-23T22:01:11.060Z | 55.33020 | -159.63360 |   6.800 |  2.40 | ml  | NA |    NA |        NA | 0.4800 | ⋯ | 2023-02-07T00:48:40.179Z | 54 km E of Sand Point, Alaska        | earthquake   |    NA |  0.800 |         NA | NA | reviewed  | ak | ak |\n",
       "| 2023-01-23T21:59:37.040Z | 37.53950 | -118.79633 |   4.830 |  0.64 | md  |  7 | 314.0 | 0.0567700 | 0.0200 | ⋯ | 2023-01-24T00:42:11.798Z | 10km WSW of Toms Place, CA           | earthquake   |  2.12 | 31.610 | 0.05500000 |  6 | reviewed  | nc | nc |\n",
       "| 2023-01-23T21:55:10.289Z |  1.85880 |  127.36710 | 110.943 |  4.20 | mb  | 45 | 161.0 | 1.0800000 | 0.5300 | ⋯ | 2023-02-13T04:43:07.040Z | 72 km WNW of Tobelo, Indonesia       | earthquake   | 11.22 |  8.301 | 0.09100000 | 34 | reviewed  | us | us |\n",
       "| 2023-01-23T21:53:51.030Z | 33.66117 | -116.73467 |  14.040 |  1.09 | ml  | 22 |  88.0 | 0.0527200 | 0.1200 | ⋯ | 2023-01-24T14:59:30.252Z | 9km S of Idyllwild, CA               | earthquake   |  0.26 |  0.430 | 0.37500000 | 22 | reviewed  | ci | ci |\n",
       "| 2023-01-23T21:44:39.795Z | 69.60540 | -144.69790 |  23.400 |  4.10 | mwr | NA |    NA |        NA | 0.6400 | ⋯ | 2023-02-13T00:08:34.040Z | 71 km SW of Kaktovik, Alaska         | earthquake   |    NA |  0.800 |         NA | NA | reviewed  | ak | ak |\n",
       "| 2023-01-23T21:44:07.494Z | 61.09320 | -151.16020 |   2.200 |  1.10 | ml  | NA |    NA |        NA | 0.7500 | ⋯ | 2023-02-07T00:48:39.814Z | 3 km NNW of Tyonek, Alaska           | earthquake   |    NA |  0.900 |         NA | NA | reviewed  | ak | ak |\n",
       "| 2023-01-23T21:43:51.120Z | 38.83717 | -122.83750 |   1.480 |  1.09 | md  | 15 | 109.0 | 0.0021200 | 0.0300 | ⋯ | 2023-01-23T22:03:10.753Z | 10km NW of The Geysers, CA           | earthquake   |  0.25 |  0.660 | 0.32000000 | 17 | automatic | nc | nc |\n",
       "| 2023-01-23T21:41:12.971Z | 60.61710 | -151.11940 |  54.800 |  1.50 | ml  | NA |    NA |        NA | 0.4200 | ⋯ | 2023-02-07T00:48:39.614Z | 9 km N of Ridgeway, Alaska           | earthquake   |    NA |  1.500 |         NA | NA | reviewed  | ak | ak |\n",
       "| 2023-01-23T21:30:09.315Z | 60.63930 | -152.02970 |  77.800 |  1.50 | ml  | NA |    NA |        NA | 0.2800 | ⋯ | 2023-02-07T00:48:39.428Z | 38 km W of Salamatof, Alaska         | earthquake   |    NA |  1.300 |         NA | NA | reviewed  | ak | ak |\n",
       "| 2023-01-23T21:16:23.027Z | 54.96970 | -160.22350 |  38.649 |  3.00 | ml  | 27 | 215.0 | 0.4070000 | 0.5800 | ⋯ | 2023-02-12T23:30:04.040Z | 44 km SSE of Sand Point, Alaska      | earthquake   |  5.97 | 14.129 | 0.08300000 | 19 | reviewed  | us | us |\n",
       "| 2023-01-23T21:10:24.910Z | 38.48917 | -112.84050 |   0.120 | -0.43 | md  |  8 | 203.0 | 0.0114300 | 0.0800 | ⋯ | 2023-01-23T21:44:42.450Z | 18 km NE of Milford, Utah            | earthquake   |  0.53 |  2.240 | 0.25600000 |  3 | reviewed  | uu | uu |\n",
       "| 2023-01-23T21:07:41.390Z | 58.24883 | -155.19867 |   4.150 | -0.11 | ml  |  6 | 120.0 |        NA | 0.3000 | ⋯ | 2023-01-25T04:07:35.860Z | Alaska Peninsula                     | earthquake   |  1.28 |  2.940 | 0.24060271 |  6 | reviewed  | av | av |\n",
       "| 2023-01-23T21:02:40.410Z | 32.89967 | -116.95667 |  -0.310 |  1.50 | ml  | 37 | 129.0 | 0.0938100 | 0.2600 | ⋯ | 2023-01-24T15:46:52.473Z | 6km NW of Lakeside, CA               | quarry blast |  0.69 | 31.610 | 0.09700000 |  7 | reviewed  | ci | ci |\n",
       "| 2023-01-23T20:50:47.455Z | 62.83500 | -149.92610 |  78.000 |  1.10 | ml  | NA |    NA |        NA | 0.4400 | ⋯ | 2023-02-07T00:48:39.225Z | 43 km NNE of Chase, Alaska           | earthquake   |    NA |  0.900 |         NA | NA | reviewed  | ak | ak |\n",
       "| 2023-01-23T20:40:15.009Z | 65.01050 | -147.13070 |   0.000 |  0.90 | ml  | NA |    NA |        NA | 0.7300 | ⋯ | 2023-02-07T00:48:35.249Z | 16 km NNW of Two Rivers, Alaska      | explosion    |    NA |  0.000 |         NA | NA | reviewed  | ak | ak |\n",
       "| 2023-01-23T20:39:30.334Z | 53.37950 | -163.52230 |  35.000 |  2.40 | ml  | 11 | 287.0 | 1.2630000 | 0.4300 | ⋯ | 2023-02-09T19:12:34.857Z | 164 km S of False Pass, Alaska       | earthquake   |  7.19 |  2.025 | 0.14800000 |  6 | reviewed  | us | us |\n",
       "| 2023-01-23T20:37:11.752Z | 61.55630 | -141.28500 |   3.300 |  1.30 | ml  | NA |    NA |        NA | 0.6700 | ⋯ | 2023-02-07T00:48:35.059Z | 88 km E of McCarthy, Alaska          | earthquake   |    NA |  0.700 |         NA | NA | reviewed  | ak | ak |\n",
       "| 2023-01-23T20:35:23.146Z | 53.87520 | -166.45970 |  11.400 |  1.10 | ml  | NA |    NA |        NA | 0.4300 | ⋯ | 2023-02-09T19:12:33.689Z | 4 km E of Unalaska, Alaska           | earthquake   |    NA |  0.400 |         NA | NA | reviewed  | ak | ak |\n",
       "| 2023-01-23T20:33:00.210Z | 38.84350 | -122.82917 |   2.630 |  0.93 | md  |  7 | 156.0 | 0.0069550 | 0.0100 | ⋯ | 2023-01-23T21:30:14.565Z | 10km WNW of Cobb, CA                 | earthquake   |  1.75 |  2.980 | 0.55000000 |  9 | automatic | nc | nc |\n",
       "| 2023-01-23T20:32:43.074Z | 52.71210 | -168.20150 |  22.100 |  2.00 | ml  | NA |    NA |        NA | 0.4700 | ⋯ | 2023-02-09T19:12:34.678Z | 51 km ESE of Nikolski, Alaska        | earthquake   |    NA |  0.700 |         NA | NA | reviewed  | ak | ak |\n",
       "| 2023-01-23T20:31:51.340Z | 46.14650 | -119.56117 |  12.640 |  0.64 | ml  |  6 | 283.0 | 0.1095000 | 0.0200 | ⋯ | 2023-01-24T00:33:34.830Z | 14 km SSW of Benton City, Washington | earthquake   |  1.11 |  1.580 | 0.06585327 |  5 | reviewed  | uw | uw |\n",
       "| 2023-01-23T20:21:46.246Z | 36.99560 | -116.39010 |  11.200 |  0.50 | ml  | 12 | 102.2 | 0.0170000 | 0.1098 | ⋯ | 2023-01-24T00:41:21.627Z | 34 km ENE of Beatty, Nevada          | earthquake   |    NA |  1.200 | 1.15000000 |  6 | reviewed  | nn | nn |\n",
       "| 2023-01-23T20:18:36.815Z | 61.13400 | -140.39240 |   7.600 |  1.40 | ml  | NA |    NA |        NA | 0.5500 | ⋯ | 2023-02-07T00:48:38.684Z | 139 km ESE of McCarthy, Alaska       | earthquake   |    NA |  0.600 |         NA | NA | reviewed  | ak | ak |\n",
       "| 2023-01-23T20:12:38.040Z | 20.29383 | -156.61083 |   4.540 |  2.51 | md  | 47 | 167.0 |        NA | 0.2600 | ⋯ | 2023-02-07T21:52:28.040Z | 43 km SSW of Mākena, Hawaii          | earthquake   |  0.53 |  0.980 | 0.08510721 | 15 | reviewed  | hv | hv |\n",
       "| 2023-01-23T20:11:09.590Z | 56.82130 | -158.00080 |   3.500 |  1.90 | ml  | NA |    NA |        NA | 0.5700 | ⋯ | 2023-02-09T19:12:34.501Z | 40 km ESE of Port Heiden, Alaska     | earthquake   |    NA |  1.600 |         NA | NA | reviewed  | ak | ak |\n",
       "| 2023-01-23T20:03:59.530Z | 33.81550 | -117.48300 |  -0.620 |  1.56 | ml  | 53 |  40.0 | 0.0317000 | 0.2500 | ⋯ | 2023-01-24T15:36:23.740Z | 8km SSE of Home Gardens, CA          | quarry blast |  0.35 | 31.610 | 0.21700000 | 34 | reviewed  | ci | ci |\n",
       "| 2023-01-23T20:03:16.280Z | 36.70167 |  -96.70183 |   0.000 |  1.84 | ml  | 34 | 101.0 | 0.1394726 | 0.4400 | ⋯ | 2023-01-24T17:02:37.479Z | 2 km ENE of Burbank, Oklahoma        | quarry blast |    NA |  0.300 | 0.17000000 | 13 | reviewed  | ok | ok |\n",
       "| 2023-01-23T19:45:00.466Z | -6.84170 |  106.97450 |  11.127 |  4.50 | mb  | 22 | 121.0 | 0.6360000 | 0.5200 | ⋯ | 2023-02-21T17:11:53.040Z | 9 km NNE of Sukabumi, Indonesia      | earthquake   |  6.81 |  3.489 | 0.19100000 |  8 | reviewed  | us | us |\n",
       "| 2023-01-23T19:23:51.600Z | 37.12233 | -121.51200 |   9.230 |  0.94 | md  | 16 |  65.0 | 0.0565100 | 0.0700 | ⋯ | 2023-01-24T19:41:14.290Z | 10km ENE of San Martin, CA           | earthquake   |  0.33 |  0.720 | 0.13600000 | 14 | reviewed  | nc | nc |\n",
       "\n"
      ],
      "text/plain": [
       "      time                     latitude  longitude  depth   mag   magType nst\n",
       "1     2023-02-22T19:07:13.970Z  19.14400 -155.4250   32.080 2.04  md      29 \n",
       "2     2023-02-22T19:07:02.970Z  33.82433 -117.4813    1.710 1.93  ml      43 \n",
       "3     2023-02-22T19:01:47.140Z  38.15320 -117.8772    4.600 2.40  ml      11 \n",
       "4     2023-02-22T18:52:57.640Z  33.06367 -116.3907   12.000 1.45  ml      27 \n",
       "5     2023-02-22T18:50:16.290Z  33.06783 -116.3900   12.940 1.29  ml      18 \n",
       "6     2023-02-22T18:27:54.090Z  38.83167 -122.8167    1.630 0.96  md      18 \n",
       "7     2023-02-22T18:22:12.682Z  38.15770 -117.8891    8.700 3.50  ml      13 \n",
       "8     2023-02-22T18:21:02.308Z  60.12800 -152.6184   86.600 1.80  ml      NA \n",
       "9     2023-02-22T18:20:26.610Z  19.23533 -155.4067   31.640 1.85  md      31 \n",
       "10    2023-02-22T18:16:48.670Z  33.52917 -116.7268    4.730 1.06  ml      26 \n",
       "11    2023-02-22T18:13:07.973Z  62.92320 -150.2684   16.500 1.30  ml      NA \n",
       "12    2023-02-22T18:10:54.080Z  40.05067 -122.9132   -0.890 2.38  md      11 \n",
       "13    2023-02-22T17:48:54.920Z  40.03783 -122.9090    5.140 2.07  md       5 \n",
       "14    2023-02-22T17:38:48.350Z  38.78733 -122.9382    3.900 1.50  md      26 \n",
       "15    2023-02-22T17:38:33.160Z  38.79000 -122.9410    4.730 1.09  md      16 \n",
       "16    2023-02-22T17:36:03.144Z  56.81420 -153.0611   11.300 2.40  ml      NA \n",
       "17    2023-02-22T17:30:50.870Z  38.80500 -122.7715    1.200 0.28  md       6 \n",
       "18    2023-02-22T17:07:01.267Z  62.45010 -152.1698  125.700 1.90  ml      NA \n",
       "19    2023-02-22T16:27:25.722Z  63.16470 -149.6905   84.000 1.40  ml      NA \n",
       "20    2023-02-22T16:20:21.181Z  61.79070 -150.2054   10.700 2.10  ml      NA \n",
       "21    2023-02-22T16:05:52.220Z  38.83517 -122.7857    1.520 0.97  md       9 \n",
       "22    2023-02-22T15:56:47.583Z  61.25700 -150.3203  250.000 2.50  ml      NA \n",
       "23    2023-02-22T15:52:12.650Z  38.77583 -122.7298    1.220 0.88  md       8 \n",
       "24    2023-02-22T15:51:39.859Z -30.03890  -72.2035   12.059 4.00  mwr     23 \n",
       "25    2023-02-22T15:48:28.209Z  61.47460 -150.0414   33.400 1.30  ml      NA \n",
       "26    2023-02-22T15:48:21.690Z  40.55583 -124.2127   14.430 3.21  ml      21 \n",
       "27    2023-02-22T15:43:50.160Z  36.99650 -121.8257   13.410 1.54  md       9 \n",
       "28    2023-02-22T15:35:30.540Z  46.83850 -121.7125    2.490 1.07  ml      12 \n",
       "29    2023-02-22T15:25:51.418Z  59.56340 -152.9980   88.500 1.90  ml      NA \n",
       "30    2023-02-22T15:18:06.170Z  18.23100  -68.2605   96.000 3.76  md      15 \n",
       "⋮     ⋮                        ⋮         ⋮          ⋮       ⋮     ⋮       ⋮  \n",
       "10673 2023-01-23T22:03:44.140Z 35.61767   -84.21183  11.480  1.81 md       7 \n",
       "10674 2023-01-23T22:01:11.060Z 55.33020  -159.63360   6.800  2.40 ml      NA \n",
       "10675 2023-01-23T21:59:37.040Z 37.53950  -118.79633   4.830  0.64 md       7 \n",
       "10676 2023-01-23T21:55:10.289Z  1.85880   127.36710 110.943  4.20 mb      45 \n",
       "10677 2023-01-23T21:53:51.030Z 33.66117  -116.73467  14.040  1.09 ml      22 \n",
       "10678 2023-01-23T21:44:39.795Z 69.60540  -144.69790  23.400  4.10 mwr     NA \n",
       "10679 2023-01-23T21:44:07.494Z 61.09320  -151.16020   2.200  1.10 ml      NA \n",
       "10680 2023-01-23T21:43:51.120Z 38.83717  -122.83750   1.480  1.09 md      15 \n",
       "10681 2023-01-23T21:41:12.971Z 60.61710  -151.11940  54.800  1.50 ml      NA \n",
       "10682 2023-01-23T21:30:09.315Z 60.63930  -152.02970  77.800  1.50 ml      NA \n",
       "10683 2023-01-23T21:16:23.027Z 54.96970  -160.22350  38.649  3.00 ml      27 \n",
       "10684 2023-01-23T21:10:24.910Z 38.48917  -112.84050   0.120 -0.43 md       8 \n",
       "10685 2023-01-23T21:07:41.390Z 58.24883  -155.19867   4.150 -0.11 ml       6 \n",
       "10686 2023-01-23T21:02:40.410Z 32.89967  -116.95667  -0.310  1.50 ml      37 \n",
       "10687 2023-01-23T20:50:47.455Z 62.83500  -149.92610  78.000  1.10 ml      NA \n",
       "10688 2023-01-23T20:40:15.009Z 65.01050  -147.13070   0.000  0.90 ml      NA \n",
       "10689 2023-01-23T20:39:30.334Z 53.37950  -163.52230  35.000  2.40 ml      11 \n",
       "10690 2023-01-23T20:37:11.752Z 61.55630  -141.28500   3.300  1.30 ml      NA \n",
       "10691 2023-01-23T20:35:23.146Z 53.87520  -166.45970  11.400  1.10 ml      NA \n",
       "10692 2023-01-23T20:33:00.210Z 38.84350  -122.82917   2.630  0.93 md       7 \n",
       "10693 2023-01-23T20:32:43.074Z 52.71210  -168.20150  22.100  2.00 ml      NA \n",
       "10694 2023-01-23T20:31:51.340Z 46.14650  -119.56117  12.640  0.64 ml       6 \n",
       "10695 2023-01-23T20:21:46.246Z 36.99560  -116.39010  11.200  0.50 ml      12 \n",
       "10696 2023-01-23T20:18:36.815Z 61.13400  -140.39240   7.600  1.40 ml      NA \n",
       "10697 2023-01-23T20:12:38.040Z 20.29383  -156.61083   4.540  2.51 md      47 \n",
       "10698 2023-01-23T20:11:09.590Z 56.82130  -158.00080   3.500  1.90 ml      NA \n",
       "10699 2023-01-23T20:03:59.530Z 33.81550  -117.48300  -0.620  1.56 ml      53 \n",
       "10700 2023-01-23T20:03:16.280Z 36.70167   -96.70183   0.000  1.84 ml      34 \n",
       "10701 2023-01-23T19:45:00.466Z -6.84170   106.97450  11.127  4.50 mb      22 \n",
       "10702 2023-01-23T19:23:51.600Z 37.12233  -121.51200   9.230  0.94 md      16 \n",
       "      gap    dmin      rms    ⋯ updated                 \n",
       "1     225.00       NA  0.1000 ⋯ 2023-02-22T19:10:18.630Z\n",
       "2      29.00 0.031020  0.2700 ⋯ 2023-02-22T19:10:54.720Z\n",
       "3     125.38 0.066000  0.2560 ⋯ 2023-02-22T19:04:48.175Z\n",
       "4     124.00 0.093130  0.1900 ⋯ 2023-02-22T19:19:32.920Z\n",
       "5     124.00 0.097320  0.2400 ⋯ 2023-02-22T18:53:43.089Z\n",
       "6      53.00 0.009732  0.0200 ⋯ 2023-02-22T19:01:14.429Z\n",
       "7      80.53 0.059000  0.1197 ⋯ 2023-02-22T18:36:16.009Z\n",
       "8         NA       NA  0.4800 ⋯ 2023-02-22T18:23:48.382Z\n",
       "9     146.00       NA  0.1100 ⋯ 2023-02-22T18:23:49.140Z\n",
       "10     62.00 0.037180  0.1100 ⋯ 2023-02-22T19:18:57.330Z\n",
       "11        NA       NA  0.4000 ⋯ 2023-02-22T18:16:07.861Z\n",
       "12     91.00 0.158000  0.3100 ⋯ 2023-02-22T18:29:20.256Z\n",
       "13    118.00 0.166600  0.0600 ⋯ 2023-02-22T18:08:15.116Z\n",
       "14    111.00 0.042480  0.0300 ⋯ 2023-02-22T18:08:14.117Z\n",
       "15    133.00 0.055060  0.0300 ⋯ 2023-02-22T17:57:17.046Z\n",
       "16        NA       NA  0.9200 ⋯ 2023-02-22T17:38:54.698Z\n",
       "17    112.00 0.010190  0.0200 ⋯ 2023-02-22T17:47:15.984Z\n",
       "18        NA       NA  0.5500 ⋯ 2023-02-22T17:09:28.211Z\n",
       "19        NA       NA  0.9000 ⋯ 2023-02-22T16:29:27.091Z\n",
       "20        NA       NA  0.3900 ⋯ 2023-02-22T16:22:04.874Z\n",
       "21     68.00 0.004881  0.0100 ⋯ 2023-02-22T16:31:11.484Z\n",
       "22        NA       NA  0.9300 ⋯ 2023-02-22T16:00:02.401Z\n",
       "23    135.00 0.009146  0.0100 ⋯ 2023-02-22T16:10:12.357Z\n",
       "24    179.00 0.801000  1.1600 ⋯ 2023-02-22T17:15:55.040Z\n",
       "25        NA       NA  0.6800 ⋯ 2023-02-22T15:50:37.214Z\n",
       "26    177.00 0.234100  0.1200 ⋯ 2023-02-22T18:48:30.345Z\n",
       "27    183.00 0.068940  0.0600 ⋯ 2023-02-22T18:17:23.178Z\n",
       "28    224.00 0.014350  0.0900 ⋯ 2023-02-22T18:51:07.950Z\n",
       "29        NA       NA  0.3200 ⋯ 2023-02-22T15:28:04.231Z\n",
       "30    205.00 0.307600  0.2700 ⋯ 2023-02-22T15:54:41.369Z\n",
       "⋮     ⋮      ⋮         ⋮      ⋱ ⋮                       \n",
       "10673  78.0  0.0574900 0.0700 ⋯ 2023-01-24T14:29:33.740Z\n",
       "10674    NA         NA 0.4800 ⋯ 2023-02-07T00:48:40.179Z\n",
       "10675 314.0  0.0567700 0.0200 ⋯ 2023-01-24T00:42:11.798Z\n",
       "10676 161.0  1.0800000 0.5300 ⋯ 2023-02-13T04:43:07.040Z\n",
       "10677  88.0  0.0527200 0.1200 ⋯ 2023-01-24T14:59:30.252Z\n",
       "10678    NA         NA 0.6400 ⋯ 2023-02-13T00:08:34.040Z\n",
       "10679    NA         NA 0.7500 ⋯ 2023-02-07T00:48:39.814Z\n",
       "10680 109.0  0.0021200 0.0300 ⋯ 2023-01-23T22:03:10.753Z\n",
       "10681    NA         NA 0.4200 ⋯ 2023-02-07T00:48:39.614Z\n",
       "10682    NA         NA 0.2800 ⋯ 2023-02-07T00:48:39.428Z\n",
       "10683 215.0  0.4070000 0.5800 ⋯ 2023-02-12T23:30:04.040Z\n",
       "10684 203.0  0.0114300 0.0800 ⋯ 2023-01-23T21:44:42.450Z\n",
       "10685 120.0         NA 0.3000 ⋯ 2023-01-25T04:07:35.860Z\n",
       "10686 129.0  0.0938100 0.2600 ⋯ 2023-01-24T15:46:52.473Z\n",
       "10687    NA         NA 0.4400 ⋯ 2023-02-07T00:48:39.225Z\n",
       "10688    NA         NA 0.7300 ⋯ 2023-02-07T00:48:35.249Z\n",
       "10689 287.0  1.2630000 0.4300 ⋯ 2023-02-09T19:12:34.857Z\n",
       "10690    NA         NA 0.6700 ⋯ 2023-02-07T00:48:35.059Z\n",
       "10691    NA         NA 0.4300 ⋯ 2023-02-09T19:12:33.689Z\n",
       "10692 156.0  0.0069550 0.0100 ⋯ 2023-01-23T21:30:14.565Z\n",
       "10693    NA         NA 0.4700 ⋯ 2023-02-09T19:12:34.678Z\n",
       "10694 283.0  0.1095000 0.0200 ⋯ 2023-01-24T00:33:34.830Z\n",
       "10695 102.2  0.0170000 0.1098 ⋯ 2023-01-24T00:41:21.627Z\n",
       "10696    NA         NA 0.5500 ⋯ 2023-02-07T00:48:38.684Z\n",
       "10697 167.0         NA 0.2600 ⋯ 2023-02-07T21:52:28.040Z\n",
       "10698    NA         NA 0.5700 ⋯ 2023-02-09T19:12:34.501Z\n",
       "10699  40.0  0.0317000 0.2500 ⋯ 2023-01-24T15:36:23.740Z\n",
       "10700 101.0  0.1394726 0.4400 ⋯ 2023-01-24T17:02:37.479Z\n",
       "10701 121.0  0.6360000 0.5200 ⋯ 2023-02-21T17:11:53.040Z\n",
       "10702  65.0  0.0565100 0.0700 ⋯ 2023-01-24T19:41:14.290Z\n",
       "      place                                         type        \n",
       "1     8 km SE of Pāhala, Hawaii                     earthquake  \n",
       "2     7km SSE of Home Gardens, CA                   quarry blast\n",
       "3     33 km SE of Mina, Nevada                      earthquake  \n",
       "4     20km E of Julian, CA                          earthquake  \n",
       "5     20km E of Julian, CA                          earthquake  \n",
       "6     8km NW of The Geysers, CA                     earthquake  \n",
       "7     32 km SE of Mina, Nevada                      earthquake  \n",
       "8     53 km WNW of Happy Valley, Alaska             earthquake  \n",
       "9     8 km ENE of Pāhala, Hawaii                    earthquake  \n",
       "10    6km WSW of Anza, CA                           earthquake  \n",
       "11    53 km N of Chase, Alaska                      earthquake  \n",
       "12    40km NE of Covelo, CA                         earthquake  \n",
       "13    40km NE of Covelo, CA                         earthquake  \n",
       "14    7km ESE of Cloverdale, CA                     earthquake  \n",
       "15    7km ESE of Cloverdale, CA                     earthquake  \n",
       "16    45 km SSE of Old Harbor, Alaska               earthquake  \n",
       "17    3km NNW of The Geysers, CA                    earthquake  \n",
       "18    65 km NW of Skwentna, Alaska                  earthquake  \n",
       "19    44 km SW of Cantwell, Alaska                  earthquake  \n",
       "20    10 km WNW of Willow, Alaska                   earthquake  \n",
       "21    6km WNW of Cobb, CA                           earthquake  \n",
       "22    21 km WSW of Point MacKenzie, Alaska          earthquake  \n",
       "23    2km E of The Geysers, CA                      earthquake  \n",
       "24    83 km W of Coquimbo, Chile                    earthquake  \n",
       "25    6 km SW of Big Lake, Alaska                   earthquake  \n",
       "26    5km ESE of Ferndale, CA                       earthquake  \n",
       "27    2km WNW of Corralitos, CA                     earthquake  \n",
       "28    25 km ENE of Ashford, Washington              earthquake  \n",
       "29    65 km WNW of Nanwalek, Alaska                 earthquake  \n",
       "30    40 km ESE of Boca de Yuma, Dominican Republic earthquake  \n",
       "⋮     ⋮                                             ⋮           \n",
       "10673 Tennessee                                     earthquake  \n",
       "10674 54 km E of Sand Point, Alaska                 earthquake  \n",
       "10675 10km WSW of Toms Place, CA                    earthquake  \n",
       "10676 72 km WNW of Tobelo, Indonesia                earthquake  \n",
       "10677 9km S of Idyllwild, CA                        earthquake  \n",
       "10678 71 km SW of Kaktovik, Alaska                  earthquake  \n",
       "10679 3 km NNW of Tyonek, Alaska                    earthquake  \n",
       "10680 10km NW of The Geysers, CA                    earthquake  \n",
       "10681 9 km N of Ridgeway, Alaska                    earthquake  \n",
       "10682 38 km W of Salamatof, Alaska                  earthquake  \n",
       "10683 44 km SSE of Sand Point, Alaska               earthquake  \n",
       "10684 18 km NE of Milford, Utah                     earthquake  \n",
       "10685 Alaska Peninsula                              earthquake  \n",
       "10686 6km NW of Lakeside, CA                        quarry blast\n",
       "10687 43 km NNE of Chase, Alaska                    earthquake  \n",
       "10688 16 km NNW of Two Rivers, Alaska               explosion   \n",
       "10689 164 km S of False Pass, Alaska                earthquake  \n",
       "10690 88 km E of McCarthy, Alaska                   earthquake  \n",
       "10691 4 km E of Unalaska, Alaska                    earthquake  \n",
       "10692 10km WNW of Cobb, CA                          earthquake  \n",
       "10693 51 km ESE of Nikolski, Alaska                 earthquake  \n",
       "10694 14 km SSW of Benton City, Washington          earthquake  \n",
       "10695 34 km ENE of Beatty, Nevada                   earthquake  \n",
       "10696 139 km ESE of McCarthy, Alaska                earthquake  \n",
       "10697 43 km SSW of Mākena, Hawaii                   earthquake  \n",
       "10698 40 km ESE of Port Heiden, Alaska              earthquake  \n",
       "10699 8km SSE of Home Gardens, CA                   quarry blast\n",
       "10700 2 km ENE of Burbank, Oklahoma                 quarry blast\n",
       "10701 9 km NNE of Sukabumi, Indonesia               earthquake  \n",
       "10702 10km ENE of San Martin, CA                    earthquake  \n",
       "      horizontalError depthError magError   magNst status    locationSource\n",
       "1     0.77            1.140      1.0100000   3     automatic hv            \n",
       "2     0.29            0.500      0.2160000  29     automatic ci            \n",
       "3       NA            0.700      0.2300000   7     automatic nn            \n",
       "4     0.38            0.820      0.1530000  27     reviewed  ci            \n",
       "5     0.51            1.070      0.3380000  11     automatic ci            \n",
       "6     0.20            0.540      0.2000000  19     automatic nc            \n",
       "7       NA            1.200      0.2100000   9     reviewed  nn            \n",
       "8       NA            0.400             NA  NA     automatic ak            \n",
       "9     0.67            1.190      0.2100000   9     automatic hv            \n",
       "10    0.16            0.240      0.1570000  22     reviewed  ci            \n",
       "11      NA            0.400             NA  NA     automatic ak            \n",
       "12    0.98            8.490      0.1600000  12     automatic nc            \n",
       "13    0.55            3.170      0.2500000   5     automatic nc            \n",
       "14    0.28            0.840      0.2300000  25     automatic nc            \n",
       "15    0.40            1.740      0.3100000  16     automatic nc            \n",
       "16      NA            0.700             NA  NA     automatic ak            \n",
       "17    0.79            0.870      0.0700000   8     automatic nc            \n",
       "18      NA            0.700             NA  NA     automatic ak            \n",
       "19      NA            0.800             NA  NA     automatic ak            \n",
       "20      NA            0.200             NA  NA     automatic ak            \n",
       "21    0.54            1.330      0.2800000  13     automatic nc            \n",
       "22      NA            5.100             NA  NA     automatic ak            \n",
       "23    0.44            0.560      0.1600000   8     automatic nc            \n",
       "24    2.83            6.844      0.0500000  38     reviewed  us            \n",
       "25      NA            0.300             NA  NA     automatic ak            \n",
       "26    0.78            0.740      0.3020000  10     automatic nc            \n",
       "27    0.61            0.740      0.0800000   9     automatic nc            \n",
       "28    0.59            0.790      0.3115333   5     reviewed  uw            \n",
       "29      NA            0.700             NA  NA     automatic ak            \n",
       "30    1.72            1.080      0.1100000  11     reviewed  pr            \n",
       "⋮     ⋮               ⋮          ⋮          ⋮      ⋮         ⋮             \n",
       "10673  0.29            0.720     0.08082776  7     reviewed  se            \n",
       "10674    NA            0.800             NA NA     reviewed  ak            \n",
       "10675  2.12           31.610     0.05500000  6     reviewed  nc            \n",
       "10676 11.22            8.301     0.09100000 34     reviewed  us            \n",
       "10677  0.26            0.430     0.37500000 22     reviewed  ci            \n",
       "10678    NA            0.800             NA NA     reviewed  ak            \n",
       "10679    NA            0.900             NA NA     reviewed  ak            \n",
       "10680  0.25            0.660     0.32000000 17     automatic nc            \n",
       "10681    NA            1.500             NA NA     reviewed  ak            \n",
       "10682    NA            1.300             NA NA     reviewed  ak            \n",
       "10683  5.97           14.129     0.08300000 19     reviewed  us            \n",
       "10684  0.53            2.240     0.25600000  3     reviewed  uu            \n",
       "10685  1.28            2.940     0.24060271  6     reviewed  av            \n",
       "10686  0.69           31.610     0.09700000  7     reviewed  ci            \n",
       "10687    NA            0.900             NA NA     reviewed  ak            \n",
       "10688    NA            0.000             NA NA     reviewed  ak            \n",
       "10689  7.19            2.025     0.14800000  6     reviewed  us            \n",
       "10690    NA            0.700             NA NA     reviewed  ak            \n",
       "10691    NA            0.400             NA NA     reviewed  ak            \n",
       "10692  1.75            2.980     0.55000000  9     automatic nc            \n",
       "10693    NA            0.700             NA NA     reviewed  ak            \n",
       "10694  1.11            1.580     0.06585327  5     reviewed  uw            \n",
       "10695    NA            1.200     1.15000000  6     reviewed  nn            \n",
       "10696    NA            0.600             NA NA     reviewed  ak            \n",
       "10697  0.53            0.980     0.08510721 15     reviewed  hv            \n",
       "10698    NA            1.600             NA NA     reviewed  ak            \n",
       "10699  0.35           31.610     0.21700000 34     reviewed  ci            \n",
       "10700    NA            0.300     0.17000000 13     reviewed  ok            \n",
       "10701  6.81            3.489     0.19100000  8     reviewed  us            \n",
       "10702  0.33            0.720     0.13600000 14     reviewed  nc            \n",
       "      magSource\n",
       "1     hv       \n",
       "2     ci       \n",
       "3     nn       \n",
       "4     ci       \n",
       "5     ci       \n",
       "6     nc       \n",
       "7     nn       \n",
       "8     ak       \n",
       "9     hv       \n",
       "10    ci       \n",
       "11    ak       \n",
       "12    nc       \n",
       "13    nc       \n",
       "14    nc       \n",
       "15    nc       \n",
       "16    ak       \n",
       "17    nc       \n",
       "18    ak       \n",
       "19    ak       \n",
       "20    ak       \n",
       "21    nc       \n",
       "22    ak       \n",
       "23    nc       \n",
       "24    us       \n",
       "25    ak       \n",
       "26    nc       \n",
       "27    nc       \n",
       "28    uw       \n",
       "29    ak       \n",
       "30    pr       \n",
       "⋮     ⋮        \n",
       "10673 se       \n",
       "10674 ak       \n",
       "10675 nc       \n",
       "10676 us       \n",
       "10677 ci       \n",
       "10678 ak       \n",
       "10679 ak       \n",
       "10680 nc       \n",
       "10681 ak       \n",
       "10682 ak       \n",
       "10683 us       \n",
       "10684 uu       \n",
       "10685 av       \n",
       "10686 ci       \n",
       "10687 ak       \n",
       "10688 ak       \n",
       "10689 us       \n",
       "10690 ak       \n",
       "10691 ak       \n",
       "10692 nc       \n",
       "10693 ak       \n",
       "10694 uw       \n",
       "10695 nn       \n",
       "10696 ak       \n",
       "10697 hv       \n",
       "10698 ak       \n",
       "10699 ci       \n",
       "10700 ok       \n",
       "10701 us       \n",
       "10702 nc       "
      ]
     },
     "metadata": {},
     "output_type": "display_data"
    }
   ],
   "source": [
    "fileToOpen = destinationFilePath\n",
    "read.csv(fileToOpen)"
   ]
  },
  {
   "cell_type": "markdown",
   "id": "69b30383",
   "metadata": {},
   "source": [
    "### The output of read.csv() is a data frame, which needs to be saved to work with"
   ]
  },
  {
   "cell_type": "code",
   "execution_count": 53,
   "id": "4b26c542",
   "metadata": {},
   "outputs": [
    {
     "data": {
      "text/html": [
       "'data.frame'"
      ],
      "text/latex": [
       "'data.frame'"
      ],
      "text/markdown": [
       "'data.frame'"
      ],
      "text/plain": [
       "[1] \"data.frame\""
      ]
     },
     "metadata": {},
     "output_type": "display_data"
    },
    {
     "data": {
      "text/html": [
       "<table class=\"dataframe\">\n",
       "<caption>A data.frame: 10702 × 22</caption>\n",
       "<thead>\n",
       "\t<tr><th scope=col>time</th><th scope=col>latitude</th><th scope=col>longitude</th><th scope=col>depth</th><th scope=col>mag</th><th scope=col>magType</th><th scope=col>nst</th><th scope=col>gap</th><th scope=col>dmin</th><th scope=col>rms</th><th scope=col>⋯</th><th scope=col>updated</th><th scope=col>place</th><th scope=col>type</th><th scope=col>horizontalError</th><th scope=col>depthError</th><th scope=col>magError</th><th scope=col>magNst</th><th scope=col>status</th><th scope=col>locationSource</th><th scope=col>magSource</th></tr>\n",
       "\t<tr><th scope=col>&lt;chr&gt;</th><th scope=col>&lt;dbl&gt;</th><th scope=col>&lt;dbl&gt;</th><th scope=col>&lt;dbl&gt;</th><th scope=col>&lt;dbl&gt;</th><th scope=col>&lt;chr&gt;</th><th scope=col>&lt;int&gt;</th><th scope=col>&lt;dbl&gt;</th><th scope=col>&lt;dbl&gt;</th><th scope=col>&lt;dbl&gt;</th><th scope=col>⋯</th><th scope=col>&lt;chr&gt;</th><th scope=col>&lt;chr&gt;</th><th scope=col>&lt;chr&gt;</th><th scope=col>&lt;dbl&gt;</th><th scope=col>&lt;dbl&gt;</th><th scope=col>&lt;dbl&gt;</th><th scope=col>&lt;int&gt;</th><th scope=col>&lt;chr&gt;</th><th scope=col>&lt;chr&gt;</th><th scope=col>&lt;chr&gt;</th></tr>\n",
       "</thead>\n",
       "<tbody>\n",
       "\t<tr><td>2023-02-22T19:07:13.970Z</td><td> 19.14400</td><td>-155.4250</td><td> 32.080</td><td>2.04</td><td>md </td><td>29</td><td>225.00</td><td>      NA</td><td>0.1000</td><td>⋯</td><td>2023-02-22T19:10:18.630Z</td><td>8 km SE of Pāhala, Hawaii                    </td><td>earthquake  </td><td>0.77</td><td>1.140</td><td>1.0100000</td><td> 3</td><td>automatic</td><td>hv</td><td>hv</td></tr>\n",
       "\t<tr><td>2023-02-22T19:07:02.970Z</td><td> 33.82433</td><td>-117.4813</td><td>  1.710</td><td>1.93</td><td>ml </td><td>43</td><td> 29.00</td><td>0.031020</td><td>0.2700</td><td>⋯</td><td>2023-02-22T19:10:54.720Z</td><td>7km SSE of Home Gardens, CA                  </td><td>quarry blast</td><td>0.29</td><td>0.500</td><td>0.2160000</td><td>29</td><td>automatic</td><td>ci</td><td>ci</td></tr>\n",
       "\t<tr><td>2023-02-22T19:01:47.140Z</td><td> 38.15320</td><td>-117.8772</td><td>  4.600</td><td>2.40</td><td>ml </td><td>11</td><td>125.38</td><td>0.066000</td><td>0.2560</td><td>⋯</td><td>2023-02-22T19:04:48.175Z</td><td>33 km SE of Mina, Nevada                     </td><td>earthquake  </td><td>  NA</td><td>0.700</td><td>0.2300000</td><td> 7</td><td>automatic</td><td>nn</td><td>nn</td></tr>\n",
       "\t<tr><td>2023-02-22T18:52:57.640Z</td><td> 33.06367</td><td>-116.3907</td><td> 12.000</td><td>1.45</td><td>ml </td><td>27</td><td>124.00</td><td>0.093130</td><td>0.1900</td><td>⋯</td><td>2023-02-22T19:19:32.920Z</td><td>20km E of Julian, CA                         </td><td>earthquake  </td><td>0.38</td><td>0.820</td><td>0.1530000</td><td>27</td><td>reviewed </td><td>ci</td><td>ci</td></tr>\n",
       "\t<tr><td>2023-02-22T18:50:16.290Z</td><td> 33.06783</td><td>-116.3900</td><td> 12.940</td><td>1.29</td><td>ml </td><td>18</td><td>124.00</td><td>0.097320</td><td>0.2400</td><td>⋯</td><td>2023-02-22T18:53:43.089Z</td><td>20km E of Julian, CA                         </td><td>earthquake  </td><td>0.51</td><td>1.070</td><td>0.3380000</td><td>11</td><td>automatic</td><td>ci</td><td>ci</td></tr>\n",
       "\t<tr><td>2023-02-22T18:27:54.090Z</td><td> 38.83167</td><td>-122.8167</td><td>  1.630</td><td>0.96</td><td>md </td><td>18</td><td> 53.00</td><td>0.009732</td><td>0.0200</td><td>⋯</td><td>2023-02-22T19:01:14.429Z</td><td>8km NW of The Geysers, CA                    </td><td>earthquake  </td><td>0.20</td><td>0.540</td><td>0.2000000</td><td>19</td><td>automatic</td><td>nc</td><td>nc</td></tr>\n",
       "\t<tr><td>2023-02-22T18:22:12.682Z</td><td> 38.15770</td><td>-117.8891</td><td>  8.700</td><td>3.50</td><td>ml </td><td>13</td><td> 80.53</td><td>0.059000</td><td>0.1197</td><td>⋯</td><td>2023-02-22T18:36:16.009Z</td><td>32 km SE of Mina, Nevada                     </td><td>earthquake  </td><td>  NA</td><td>1.200</td><td>0.2100000</td><td> 9</td><td>reviewed </td><td>nn</td><td>nn</td></tr>\n",
       "\t<tr><td>2023-02-22T18:21:02.308Z</td><td> 60.12800</td><td>-152.6184</td><td> 86.600</td><td>1.80</td><td>ml </td><td>NA</td><td>    NA</td><td>      NA</td><td>0.4800</td><td>⋯</td><td>2023-02-22T18:23:48.382Z</td><td>53 km WNW of Happy Valley, Alaska            </td><td>earthquake  </td><td>  NA</td><td>0.400</td><td>       NA</td><td>NA</td><td>automatic</td><td>ak</td><td>ak</td></tr>\n",
       "\t<tr><td>2023-02-22T18:20:26.610Z</td><td> 19.23533</td><td>-155.4067</td><td> 31.640</td><td>1.85</td><td>md </td><td>31</td><td>146.00</td><td>      NA</td><td>0.1100</td><td>⋯</td><td>2023-02-22T18:23:49.140Z</td><td>8 km ENE of Pāhala, Hawaii                   </td><td>earthquake  </td><td>0.67</td><td>1.190</td><td>0.2100000</td><td> 9</td><td>automatic</td><td>hv</td><td>hv</td></tr>\n",
       "\t<tr><td>2023-02-22T18:16:48.670Z</td><td> 33.52917</td><td>-116.7268</td><td>  4.730</td><td>1.06</td><td>ml </td><td>26</td><td> 62.00</td><td>0.037180</td><td>0.1100</td><td>⋯</td><td>2023-02-22T19:18:57.330Z</td><td>6km WSW of Anza, CA                          </td><td>earthquake  </td><td>0.16</td><td>0.240</td><td>0.1570000</td><td>22</td><td>reviewed </td><td>ci</td><td>ci</td></tr>\n",
       "\t<tr><td>2023-02-22T18:13:07.973Z</td><td> 62.92320</td><td>-150.2684</td><td> 16.500</td><td>1.30</td><td>ml </td><td>NA</td><td>    NA</td><td>      NA</td><td>0.4000</td><td>⋯</td><td>2023-02-22T18:16:07.861Z</td><td>53 km N of Chase, Alaska                     </td><td>earthquake  </td><td>  NA</td><td>0.400</td><td>       NA</td><td>NA</td><td>automatic</td><td>ak</td><td>ak</td></tr>\n",
       "\t<tr><td>2023-02-22T18:10:54.080Z</td><td> 40.05067</td><td>-122.9132</td><td> -0.890</td><td>2.38</td><td>md </td><td>11</td><td> 91.00</td><td>0.158000</td><td>0.3100</td><td>⋯</td><td>2023-02-22T18:29:20.256Z</td><td>40km NE of Covelo, CA                        </td><td>earthquake  </td><td>0.98</td><td>8.490</td><td>0.1600000</td><td>12</td><td>automatic</td><td>nc</td><td>nc</td></tr>\n",
       "\t<tr><td>2023-02-22T17:48:54.920Z</td><td> 40.03783</td><td>-122.9090</td><td>  5.140</td><td>2.07</td><td>md </td><td> 5</td><td>118.00</td><td>0.166600</td><td>0.0600</td><td>⋯</td><td>2023-02-22T18:08:15.116Z</td><td>40km NE of Covelo, CA                        </td><td>earthquake  </td><td>0.55</td><td>3.170</td><td>0.2500000</td><td> 5</td><td>automatic</td><td>nc</td><td>nc</td></tr>\n",
       "\t<tr><td>2023-02-22T17:38:48.350Z</td><td> 38.78733</td><td>-122.9382</td><td>  3.900</td><td>1.50</td><td>md </td><td>26</td><td>111.00</td><td>0.042480</td><td>0.0300</td><td>⋯</td><td>2023-02-22T18:08:14.117Z</td><td>7km ESE of Cloverdale, CA                    </td><td>earthquake  </td><td>0.28</td><td>0.840</td><td>0.2300000</td><td>25</td><td>automatic</td><td>nc</td><td>nc</td></tr>\n",
       "\t<tr><td>2023-02-22T17:38:33.160Z</td><td> 38.79000</td><td>-122.9410</td><td>  4.730</td><td>1.09</td><td>md </td><td>16</td><td>133.00</td><td>0.055060</td><td>0.0300</td><td>⋯</td><td>2023-02-22T17:57:17.046Z</td><td>7km ESE of Cloverdale, CA                    </td><td>earthquake  </td><td>0.40</td><td>1.740</td><td>0.3100000</td><td>16</td><td>automatic</td><td>nc</td><td>nc</td></tr>\n",
       "\t<tr><td>2023-02-22T17:36:03.144Z</td><td> 56.81420</td><td>-153.0611</td><td> 11.300</td><td>2.40</td><td>ml </td><td>NA</td><td>    NA</td><td>      NA</td><td>0.9200</td><td>⋯</td><td>2023-02-22T17:38:54.698Z</td><td>45 km SSE of Old Harbor, Alaska              </td><td>earthquake  </td><td>  NA</td><td>0.700</td><td>       NA</td><td>NA</td><td>automatic</td><td>ak</td><td>ak</td></tr>\n",
       "\t<tr><td>2023-02-22T17:30:50.870Z</td><td> 38.80500</td><td>-122.7715</td><td>  1.200</td><td>0.28</td><td>md </td><td> 6</td><td>112.00</td><td>0.010190</td><td>0.0200</td><td>⋯</td><td>2023-02-22T17:47:15.984Z</td><td>3km NNW of The Geysers, CA                   </td><td>earthquake  </td><td>0.79</td><td>0.870</td><td>0.0700000</td><td> 8</td><td>automatic</td><td>nc</td><td>nc</td></tr>\n",
       "\t<tr><td>2023-02-22T17:07:01.267Z</td><td> 62.45010</td><td>-152.1698</td><td>125.700</td><td>1.90</td><td>ml </td><td>NA</td><td>    NA</td><td>      NA</td><td>0.5500</td><td>⋯</td><td>2023-02-22T17:09:28.211Z</td><td>65 km NW of Skwentna, Alaska                 </td><td>earthquake  </td><td>  NA</td><td>0.700</td><td>       NA</td><td>NA</td><td>automatic</td><td>ak</td><td>ak</td></tr>\n",
       "\t<tr><td>2023-02-22T16:27:25.722Z</td><td> 63.16470</td><td>-149.6905</td><td> 84.000</td><td>1.40</td><td>ml </td><td>NA</td><td>    NA</td><td>      NA</td><td>0.9000</td><td>⋯</td><td>2023-02-22T16:29:27.091Z</td><td>44 km SW of Cantwell, Alaska                 </td><td>earthquake  </td><td>  NA</td><td>0.800</td><td>       NA</td><td>NA</td><td>automatic</td><td>ak</td><td>ak</td></tr>\n",
       "\t<tr><td>2023-02-22T16:20:21.181Z</td><td> 61.79070</td><td>-150.2054</td><td> 10.700</td><td>2.10</td><td>ml </td><td>NA</td><td>    NA</td><td>      NA</td><td>0.3900</td><td>⋯</td><td>2023-02-22T16:22:04.874Z</td><td>10 km WNW of Willow, Alaska                  </td><td>earthquake  </td><td>  NA</td><td>0.200</td><td>       NA</td><td>NA</td><td>automatic</td><td>ak</td><td>ak</td></tr>\n",
       "\t<tr><td>2023-02-22T16:05:52.220Z</td><td> 38.83517</td><td>-122.7857</td><td>  1.520</td><td>0.97</td><td>md </td><td> 9</td><td> 68.00</td><td>0.004881</td><td>0.0100</td><td>⋯</td><td>2023-02-22T16:31:11.484Z</td><td>6km WNW of Cobb, CA                          </td><td>earthquake  </td><td>0.54</td><td>1.330</td><td>0.2800000</td><td>13</td><td>automatic</td><td>nc</td><td>nc</td></tr>\n",
       "\t<tr><td>2023-02-22T15:56:47.583Z</td><td> 61.25700</td><td>-150.3203</td><td>250.000</td><td>2.50</td><td>ml </td><td>NA</td><td>    NA</td><td>      NA</td><td>0.9300</td><td>⋯</td><td>2023-02-22T16:00:02.401Z</td><td>21 km WSW of Point MacKenzie, Alaska         </td><td>earthquake  </td><td>  NA</td><td>5.100</td><td>       NA</td><td>NA</td><td>automatic</td><td>ak</td><td>ak</td></tr>\n",
       "\t<tr><td>2023-02-22T15:52:12.650Z</td><td> 38.77583</td><td>-122.7298</td><td>  1.220</td><td>0.88</td><td>md </td><td> 8</td><td>135.00</td><td>0.009146</td><td>0.0100</td><td>⋯</td><td>2023-02-22T16:10:12.357Z</td><td>2km E of The Geysers, CA                     </td><td>earthquake  </td><td>0.44</td><td>0.560</td><td>0.1600000</td><td> 8</td><td>automatic</td><td>nc</td><td>nc</td></tr>\n",
       "\t<tr><td>2023-02-22T15:51:39.859Z</td><td>-30.03890</td><td> -72.2035</td><td> 12.059</td><td>4.00</td><td>mwr</td><td>23</td><td>179.00</td><td>0.801000</td><td>1.1600</td><td>⋯</td><td>2023-02-22T17:15:55.040Z</td><td>83 km W of Coquimbo, Chile                   </td><td>earthquake  </td><td>2.83</td><td>6.844</td><td>0.0500000</td><td>38</td><td>reviewed </td><td>us</td><td>us</td></tr>\n",
       "\t<tr><td>2023-02-22T15:48:28.209Z</td><td> 61.47460</td><td>-150.0414</td><td> 33.400</td><td>1.30</td><td>ml </td><td>NA</td><td>    NA</td><td>      NA</td><td>0.6800</td><td>⋯</td><td>2023-02-22T15:50:37.214Z</td><td>6 km SW of Big Lake, Alaska                  </td><td>earthquake  </td><td>  NA</td><td>0.300</td><td>       NA</td><td>NA</td><td>automatic</td><td>ak</td><td>ak</td></tr>\n",
       "\t<tr><td>2023-02-22T15:48:21.690Z</td><td> 40.55583</td><td>-124.2127</td><td> 14.430</td><td>3.21</td><td>ml </td><td>21</td><td>177.00</td><td>0.234100</td><td>0.1200</td><td>⋯</td><td>2023-02-22T18:48:30.345Z</td><td>5km ESE of Ferndale, CA                      </td><td>earthquake  </td><td>0.78</td><td>0.740</td><td>0.3020000</td><td>10</td><td>automatic</td><td>nc</td><td>nc</td></tr>\n",
       "\t<tr><td>2023-02-22T15:43:50.160Z</td><td> 36.99650</td><td>-121.8257</td><td> 13.410</td><td>1.54</td><td>md </td><td> 9</td><td>183.00</td><td>0.068940</td><td>0.0600</td><td>⋯</td><td>2023-02-22T18:17:23.178Z</td><td>2km WNW of Corralitos, CA                    </td><td>earthquake  </td><td>0.61</td><td>0.740</td><td>0.0800000</td><td> 9</td><td>automatic</td><td>nc</td><td>nc</td></tr>\n",
       "\t<tr><td>2023-02-22T15:35:30.540Z</td><td> 46.83850</td><td>-121.7125</td><td>  2.490</td><td>1.07</td><td>ml </td><td>12</td><td>224.00</td><td>0.014350</td><td>0.0900</td><td>⋯</td><td>2023-02-22T18:51:07.950Z</td><td>25 km ENE of Ashford, Washington             </td><td>earthquake  </td><td>0.59</td><td>0.790</td><td>0.3115333</td><td> 5</td><td>reviewed </td><td>uw</td><td>uw</td></tr>\n",
       "\t<tr><td>2023-02-22T15:25:51.418Z</td><td> 59.56340</td><td>-152.9980</td><td> 88.500</td><td>1.90</td><td>ml </td><td>NA</td><td>    NA</td><td>      NA</td><td>0.3200</td><td>⋯</td><td>2023-02-22T15:28:04.231Z</td><td>65 km WNW of Nanwalek, Alaska                </td><td>earthquake  </td><td>  NA</td><td>0.700</td><td>       NA</td><td>NA</td><td>automatic</td><td>ak</td><td>ak</td></tr>\n",
       "\t<tr><td>2023-02-22T15:18:06.170Z</td><td> 18.23100</td><td> -68.2605</td><td> 96.000</td><td>3.76</td><td>md </td><td>15</td><td>205.00</td><td>0.307600</td><td>0.2700</td><td>⋯</td><td>2023-02-22T15:54:41.369Z</td><td>40 km ESE of Boca de Yuma, Dominican Republic</td><td>earthquake  </td><td>1.72</td><td>1.080</td><td>0.1100000</td><td>11</td><td>reviewed </td><td>pr</td><td>pr</td></tr>\n",
       "\t<tr><td>⋮</td><td>⋮</td><td>⋮</td><td>⋮</td><td>⋮</td><td>⋮</td><td>⋮</td><td>⋮</td><td>⋮</td><td>⋮</td><td>⋱</td><td>⋮</td><td>⋮</td><td>⋮</td><td>⋮</td><td>⋮</td><td>⋮</td><td>⋮</td><td>⋮</td><td>⋮</td><td>⋮</td></tr>\n",
       "\t<tr><td>2023-01-23T22:03:44.140Z</td><td>35.61767</td><td> -84.21183</td><td> 11.480</td><td> 1.81</td><td>md </td><td> 7</td><td> 78.0</td><td>0.0574900</td><td>0.0700</td><td>⋯</td><td>2023-01-24T14:29:33.740Z</td><td>Tennessee                           </td><td>earthquake  </td><td> 0.29</td><td> 0.720</td><td>0.08082776</td><td> 7</td><td>reviewed </td><td>se</td><td>se</td></tr>\n",
       "\t<tr><td>2023-01-23T22:01:11.060Z</td><td>55.33020</td><td>-159.63360</td><td>  6.800</td><td> 2.40</td><td>ml </td><td>NA</td><td>   NA</td><td>       NA</td><td>0.4800</td><td>⋯</td><td>2023-02-07T00:48:40.179Z</td><td>54 km E of Sand Point, Alaska       </td><td>earthquake  </td><td>   NA</td><td> 0.800</td><td>        NA</td><td>NA</td><td>reviewed </td><td>ak</td><td>ak</td></tr>\n",
       "\t<tr><td>2023-01-23T21:59:37.040Z</td><td>37.53950</td><td>-118.79633</td><td>  4.830</td><td> 0.64</td><td>md </td><td> 7</td><td>314.0</td><td>0.0567700</td><td>0.0200</td><td>⋯</td><td>2023-01-24T00:42:11.798Z</td><td>10km WSW of Toms Place, CA          </td><td>earthquake  </td><td> 2.12</td><td>31.610</td><td>0.05500000</td><td> 6</td><td>reviewed </td><td>nc</td><td>nc</td></tr>\n",
       "\t<tr><td>2023-01-23T21:55:10.289Z</td><td> 1.85880</td><td> 127.36710</td><td>110.943</td><td> 4.20</td><td>mb </td><td>45</td><td>161.0</td><td>1.0800000</td><td>0.5300</td><td>⋯</td><td>2023-02-13T04:43:07.040Z</td><td>72 km WNW of Tobelo, Indonesia      </td><td>earthquake  </td><td>11.22</td><td> 8.301</td><td>0.09100000</td><td>34</td><td>reviewed </td><td>us</td><td>us</td></tr>\n",
       "\t<tr><td>2023-01-23T21:53:51.030Z</td><td>33.66117</td><td>-116.73467</td><td> 14.040</td><td> 1.09</td><td>ml </td><td>22</td><td> 88.0</td><td>0.0527200</td><td>0.1200</td><td>⋯</td><td>2023-01-24T14:59:30.252Z</td><td>9km S of Idyllwild, CA              </td><td>earthquake  </td><td> 0.26</td><td> 0.430</td><td>0.37500000</td><td>22</td><td>reviewed </td><td>ci</td><td>ci</td></tr>\n",
       "\t<tr><td>2023-01-23T21:44:39.795Z</td><td>69.60540</td><td>-144.69790</td><td> 23.400</td><td> 4.10</td><td>mwr</td><td>NA</td><td>   NA</td><td>       NA</td><td>0.6400</td><td>⋯</td><td>2023-02-13T00:08:34.040Z</td><td>71 km SW of Kaktovik, Alaska        </td><td>earthquake  </td><td>   NA</td><td> 0.800</td><td>        NA</td><td>NA</td><td>reviewed </td><td>ak</td><td>ak</td></tr>\n",
       "\t<tr><td>2023-01-23T21:44:07.494Z</td><td>61.09320</td><td>-151.16020</td><td>  2.200</td><td> 1.10</td><td>ml </td><td>NA</td><td>   NA</td><td>       NA</td><td>0.7500</td><td>⋯</td><td>2023-02-07T00:48:39.814Z</td><td>3 km NNW of Tyonek, Alaska          </td><td>earthquake  </td><td>   NA</td><td> 0.900</td><td>        NA</td><td>NA</td><td>reviewed </td><td>ak</td><td>ak</td></tr>\n",
       "\t<tr><td>2023-01-23T21:43:51.120Z</td><td>38.83717</td><td>-122.83750</td><td>  1.480</td><td> 1.09</td><td>md </td><td>15</td><td>109.0</td><td>0.0021200</td><td>0.0300</td><td>⋯</td><td>2023-01-23T22:03:10.753Z</td><td>10km NW of The Geysers, CA          </td><td>earthquake  </td><td> 0.25</td><td> 0.660</td><td>0.32000000</td><td>17</td><td>automatic</td><td>nc</td><td>nc</td></tr>\n",
       "\t<tr><td>2023-01-23T21:41:12.971Z</td><td>60.61710</td><td>-151.11940</td><td> 54.800</td><td> 1.50</td><td>ml </td><td>NA</td><td>   NA</td><td>       NA</td><td>0.4200</td><td>⋯</td><td>2023-02-07T00:48:39.614Z</td><td>9 km N of Ridgeway, Alaska          </td><td>earthquake  </td><td>   NA</td><td> 1.500</td><td>        NA</td><td>NA</td><td>reviewed </td><td>ak</td><td>ak</td></tr>\n",
       "\t<tr><td>2023-01-23T21:30:09.315Z</td><td>60.63930</td><td>-152.02970</td><td> 77.800</td><td> 1.50</td><td>ml </td><td>NA</td><td>   NA</td><td>       NA</td><td>0.2800</td><td>⋯</td><td>2023-02-07T00:48:39.428Z</td><td>38 km W of Salamatof, Alaska        </td><td>earthquake  </td><td>   NA</td><td> 1.300</td><td>        NA</td><td>NA</td><td>reviewed </td><td>ak</td><td>ak</td></tr>\n",
       "\t<tr><td>2023-01-23T21:16:23.027Z</td><td>54.96970</td><td>-160.22350</td><td> 38.649</td><td> 3.00</td><td>ml </td><td>27</td><td>215.0</td><td>0.4070000</td><td>0.5800</td><td>⋯</td><td>2023-02-12T23:30:04.040Z</td><td>44 km SSE of Sand Point, Alaska     </td><td>earthquake  </td><td> 5.97</td><td>14.129</td><td>0.08300000</td><td>19</td><td>reviewed </td><td>us</td><td>us</td></tr>\n",
       "\t<tr><td>2023-01-23T21:10:24.910Z</td><td>38.48917</td><td>-112.84050</td><td>  0.120</td><td>-0.43</td><td>md </td><td> 8</td><td>203.0</td><td>0.0114300</td><td>0.0800</td><td>⋯</td><td>2023-01-23T21:44:42.450Z</td><td>18 km NE of Milford, Utah           </td><td>earthquake  </td><td> 0.53</td><td> 2.240</td><td>0.25600000</td><td> 3</td><td>reviewed </td><td>uu</td><td>uu</td></tr>\n",
       "\t<tr><td>2023-01-23T21:07:41.390Z</td><td>58.24883</td><td>-155.19867</td><td>  4.150</td><td>-0.11</td><td>ml </td><td> 6</td><td>120.0</td><td>       NA</td><td>0.3000</td><td>⋯</td><td>2023-01-25T04:07:35.860Z</td><td>Alaska Peninsula                    </td><td>earthquake  </td><td> 1.28</td><td> 2.940</td><td>0.24060271</td><td> 6</td><td>reviewed </td><td>av</td><td>av</td></tr>\n",
       "\t<tr><td>2023-01-23T21:02:40.410Z</td><td>32.89967</td><td>-116.95667</td><td> -0.310</td><td> 1.50</td><td>ml </td><td>37</td><td>129.0</td><td>0.0938100</td><td>0.2600</td><td>⋯</td><td>2023-01-24T15:46:52.473Z</td><td>6km NW of Lakeside, CA              </td><td>quarry blast</td><td> 0.69</td><td>31.610</td><td>0.09700000</td><td> 7</td><td>reviewed </td><td>ci</td><td>ci</td></tr>\n",
       "\t<tr><td>2023-01-23T20:50:47.455Z</td><td>62.83500</td><td>-149.92610</td><td> 78.000</td><td> 1.10</td><td>ml </td><td>NA</td><td>   NA</td><td>       NA</td><td>0.4400</td><td>⋯</td><td>2023-02-07T00:48:39.225Z</td><td>43 km NNE of Chase, Alaska          </td><td>earthquake  </td><td>   NA</td><td> 0.900</td><td>        NA</td><td>NA</td><td>reviewed </td><td>ak</td><td>ak</td></tr>\n",
       "\t<tr><td>2023-01-23T20:40:15.009Z</td><td>65.01050</td><td>-147.13070</td><td>  0.000</td><td> 0.90</td><td>ml </td><td>NA</td><td>   NA</td><td>       NA</td><td>0.7300</td><td>⋯</td><td>2023-02-07T00:48:35.249Z</td><td>16 km NNW of Two Rivers, Alaska     </td><td>explosion   </td><td>   NA</td><td> 0.000</td><td>        NA</td><td>NA</td><td>reviewed </td><td>ak</td><td>ak</td></tr>\n",
       "\t<tr><td>2023-01-23T20:39:30.334Z</td><td>53.37950</td><td>-163.52230</td><td> 35.000</td><td> 2.40</td><td>ml </td><td>11</td><td>287.0</td><td>1.2630000</td><td>0.4300</td><td>⋯</td><td>2023-02-09T19:12:34.857Z</td><td>164 km S of False Pass, Alaska      </td><td>earthquake  </td><td> 7.19</td><td> 2.025</td><td>0.14800000</td><td> 6</td><td>reviewed </td><td>us</td><td>us</td></tr>\n",
       "\t<tr><td>2023-01-23T20:37:11.752Z</td><td>61.55630</td><td>-141.28500</td><td>  3.300</td><td> 1.30</td><td>ml </td><td>NA</td><td>   NA</td><td>       NA</td><td>0.6700</td><td>⋯</td><td>2023-02-07T00:48:35.059Z</td><td>88 km E of McCarthy, Alaska         </td><td>earthquake  </td><td>   NA</td><td> 0.700</td><td>        NA</td><td>NA</td><td>reviewed </td><td>ak</td><td>ak</td></tr>\n",
       "\t<tr><td>2023-01-23T20:35:23.146Z</td><td>53.87520</td><td>-166.45970</td><td> 11.400</td><td> 1.10</td><td>ml </td><td>NA</td><td>   NA</td><td>       NA</td><td>0.4300</td><td>⋯</td><td>2023-02-09T19:12:33.689Z</td><td>4 km E of Unalaska, Alaska          </td><td>earthquake  </td><td>   NA</td><td> 0.400</td><td>        NA</td><td>NA</td><td>reviewed </td><td>ak</td><td>ak</td></tr>\n",
       "\t<tr><td>2023-01-23T20:33:00.210Z</td><td>38.84350</td><td>-122.82917</td><td>  2.630</td><td> 0.93</td><td>md </td><td> 7</td><td>156.0</td><td>0.0069550</td><td>0.0100</td><td>⋯</td><td>2023-01-23T21:30:14.565Z</td><td>10km WNW of Cobb, CA                </td><td>earthquake  </td><td> 1.75</td><td> 2.980</td><td>0.55000000</td><td> 9</td><td>automatic</td><td>nc</td><td>nc</td></tr>\n",
       "\t<tr><td>2023-01-23T20:32:43.074Z</td><td>52.71210</td><td>-168.20150</td><td> 22.100</td><td> 2.00</td><td>ml </td><td>NA</td><td>   NA</td><td>       NA</td><td>0.4700</td><td>⋯</td><td>2023-02-09T19:12:34.678Z</td><td>51 km ESE of Nikolski, Alaska       </td><td>earthquake  </td><td>   NA</td><td> 0.700</td><td>        NA</td><td>NA</td><td>reviewed </td><td>ak</td><td>ak</td></tr>\n",
       "\t<tr><td>2023-01-23T20:31:51.340Z</td><td>46.14650</td><td>-119.56117</td><td> 12.640</td><td> 0.64</td><td>ml </td><td> 6</td><td>283.0</td><td>0.1095000</td><td>0.0200</td><td>⋯</td><td>2023-01-24T00:33:34.830Z</td><td>14 km SSW of Benton City, Washington</td><td>earthquake  </td><td> 1.11</td><td> 1.580</td><td>0.06585327</td><td> 5</td><td>reviewed </td><td>uw</td><td>uw</td></tr>\n",
       "\t<tr><td>2023-01-23T20:21:46.246Z</td><td>36.99560</td><td>-116.39010</td><td> 11.200</td><td> 0.50</td><td>ml </td><td>12</td><td>102.2</td><td>0.0170000</td><td>0.1098</td><td>⋯</td><td>2023-01-24T00:41:21.627Z</td><td>34 km ENE of Beatty, Nevada         </td><td>earthquake  </td><td>   NA</td><td> 1.200</td><td>1.15000000</td><td> 6</td><td>reviewed </td><td>nn</td><td>nn</td></tr>\n",
       "\t<tr><td>2023-01-23T20:18:36.815Z</td><td>61.13400</td><td>-140.39240</td><td>  7.600</td><td> 1.40</td><td>ml </td><td>NA</td><td>   NA</td><td>       NA</td><td>0.5500</td><td>⋯</td><td>2023-02-07T00:48:38.684Z</td><td>139 km ESE of McCarthy, Alaska      </td><td>earthquake  </td><td>   NA</td><td> 0.600</td><td>        NA</td><td>NA</td><td>reviewed </td><td>ak</td><td>ak</td></tr>\n",
       "\t<tr><td>2023-01-23T20:12:38.040Z</td><td>20.29383</td><td>-156.61083</td><td>  4.540</td><td> 2.51</td><td>md </td><td>47</td><td>167.0</td><td>       NA</td><td>0.2600</td><td>⋯</td><td>2023-02-07T21:52:28.040Z</td><td>43 km SSW of Mākena, Hawaii         </td><td>earthquake  </td><td> 0.53</td><td> 0.980</td><td>0.08510721</td><td>15</td><td>reviewed </td><td>hv</td><td>hv</td></tr>\n",
       "\t<tr><td>2023-01-23T20:11:09.590Z</td><td>56.82130</td><td>-158.00080</td><td>  3.500</td><td> 1.90</td><td>ml </td><td>NA</td><td>   NA</td><td>       NA</td><td>0.5700</td><td>⋯</td><td>2023-02-09T19:12:34.501Z</td><td>40 km ESE of Port Heiden, Alaska    </td><td>earthquake  </td><td>   NA</td><td> 1.600</td><td>        NA</td><td>NA</td><td>reviewed </td><td>ak</td><td>ak</td></tr>\n",
       "\t<tr><td>2023-01-23T20:03:59.530Z</td><td>33.81550</td><td>-117.48300</td><td> -0.620</td><td> 1.56</td><td>ml </td><td>53</td><td> 40.0</td><td>0.0317000</td><td>0.2500</td><td>⋯</td><td>2023-01-24T15:36:23.740Z</td><td>8km SSE of Home Gardens, CA         </td><td>quarry blast</td><td> 0.35</td><td>31.610</td><td>0.21700000</td><td>34</td><td>reviewed </td><td>ci</td><td>ci</td></tr>\n",
       "\t<tr><td>2023-01-23T20:03:16.280Z</td><td>36.70167</td><td> -96.70183</td><td>  0.000</td><td> 1.84</td><td>ml </td><td>34</td><td>101.0</td><td>0.1394726</td><td>0.4400</td><td>⋯</td><td>2023-01-24T17:02:37.479Z</td><td>2 km ENE of Burbank, Oklahoma       </td><td>quarry blast</td><td>   NA</td><td> 0.300</td><td>0.17000000</td><td>13</td><td>reviewed </td><td>ok</td><td>ok</td></tr>\n",
       "\t<tr><td>2023-01-23T19:45:00.466Z</td><td>-6.84170</td><td> 106.97450</td><td> 11.127</td><td> 4.50</td><td>mb </td><td>22</td><td>121.0</td><td>0.6360000</td><td>0.5200</td><td>⋯</td><td>2023-02-21T17:11:53.040Z</td><td>9 km NNE of Sukabumi, Indonesia     </td><td>earthquake  </td><td> 6.81</td><td> 3.489</td><td>0.19100000</td><td> 8</td><td>reviewed </td><td>us</td><td>us</td></tr>\n",
       "\t<tr><td>2023-01-23T19:23:51.600Z</td><td>37.12233</td><td>-121.51200</td><td>  9.230</td><td> 0.94</td><td>md </td><td>16</td><td> 65.0</td><td>0.0565100</td><td>0.0700</td><td>⋯</td><td>2023-01-24T19:41:14.290Z</td><td>10km ENE of San Martin, CA          </td><td>earthquake  </td><td> 0.33</td><td> 0.720</td><td>0.13600000</td><td>14</td><td>reviewed </td><td>nc</td><td>nc</td></tr>\n",
       "</tbody>\n",
       "</table>\n"
      ],
      "text/latex": [
       "A data.frame: 10702 × 22\n",
       "\\begin{tabular}{lllllllllllllllllllll}\n",
       " time & latitude & longitude & depth & mag & magType & nst & gap & dmin & rms & ⋯ & updated & place & type & horizontalError & depthError & magError & magNst & status & locationSource & magSource\\\\\n",
       " <chr> & <dbl> & <dbl> & <dbl> & <dbl> & <chr> & <int> & <dbl> & <dbl> & <dbl> & ⋯ & <chr> & <chr> & <chr> & <dbl> & <dbl> & <dbl> & <int> & <chr> & <chr> & <chr>\\\\\n",
       "\\hline\n",
       "\t 2023-02-22T19:07:13.970Z &  19.14400 & -155.4250 &  32.080 & 2.04 & md  & 29 & 225.00 &       NA & 0.1000 & ⋯ & 2023-02-22T19:10:18.630Z & 8 km SE of Pāhala, Hawaii                     & earthquake   & 0.77 & 1.140 & 1.0100000 &  3 & automatic & hv & hv\\\\\n",
       "\t 2023-02-22T19:07:02.970Z &  33.82433 & -117.4813 &   1.710 & 1.93 & ml  & 43 &  29.00 & 0.031020 & 0.2700 & ⋯ & 2023-02-22T19:10:54.720Z & 7km SSE of Home Gardens, CA                   & quarry blast & 0.29 & 0.500 & 0.2160000 & 29 & automatic & ci & ci\\\\\n",
       "\t 2023-02-22T19:01:47.140Z &  38.15320 & -117.8772 &   4.600 & 2.40 & ml  & 11 & 125.38 & 0.066000 & 0.2560 & ⋯ & 2023-02-22T19:04:48.175Z & 33 km SE of Mina, Nevada                      & earthquake   &   NA & 0.700 & 0.2300000 &  7 & automatic & nn & nn\\\\\n",
       "\t 2023-02-22T18:52:57.640Z &  33.06367 & -116.3907 &  12.000 & 1.45 & ml  & 27 & 124.00 & 0.093130 & 0.1900 & ⋯ & 2023-02-22T19:19:32.920Z & 20km E of Julian, CA                          & earthquake   & 0.38 & 0.820 & 0.1530000 & 27 & reviewed  & ci & ci\\\\\n",
       "\t 2023-02-22T18:50:16.290Z &  33.06783 & -116.3900 &  12.940 & 1.29 & ml  & 18 & 124.00 & 0.097320 & 0.2400 & ⋯ & 2023-02-22T18:53:43.089Z & 20km E of Julian, CA                          & earthquake   & 0.51 & 1.070 & 0.3380000 & 11 & automatic & ci & ci\\\\\n",
       "\t 2023-02-22T18:27:54.090Z &  38.83167 & -122.8167 &   1.630 & 0.96 & md  & 18 &  53.00 & 0.009732 & 0.0200 & ⋯ & 2023-02-22T19:01:14.429Z & 8km NW of The Geysers, CA                     & earthquake   & 0.20 & 0.540 & 0.2000000 & 19 & automatic & nc & nc\\\\\n",
       "\t 2023-02-22T18:22:12.682Z &  38.15770 & -117.8891 &   8.700 & 3.50 & ml  & 13 &  80.53 & 0.059000 & 0.1197 & ⋯ & 2023-02-22T18:36:16.009Z & 32 km SE of Mina, Nevada                      & earthquake   &   NA & 1.200 & 0.2100000 &  9 & reviewed  & nn & nn\\\\\n",
       "\t 2023-02-22T18:21:02.308Z &  60.12800 & -152.6184 &  86.600 & 1.80 & ml  & NA &     NA &       NA & 0.4800 & ⋯ & 2023-02-22T18:23:48.382Z & 53 km WNW of Happy Valley, Alaska             & earthquake   &   NA & 0.400 &        NA & NA & automatic & ak & ak\\\\\n",
       "\t 2023-02-22T18:20:26.610Z &  19.23533 & -155.4067 &  31.640 & 1.85 & md  & 31 & 146.00 &       NA & 0.1100 & ⋯ & 2023-02-22T18:23:49.140Z & 8 km ENE of Pāhala, Hawaii                    & earthquake   & 0.67 & 1.190 & 0.2100000 &  9 & automatic & hv & hv\\\\\n",
       "\t 2023-02-22T18:16:48.670Z &  33.52917 & -116.7268 &   4.730 & 1.06 & ml  & 26 &  62.00 & 0.037180 & 0.1100 & ⋯ & 2023-02-22T19:18:57.330Z & 6km WSW of Anza, CA                           & earthquake   & 0.16 & 0.240 & 0.1570000 & 22 & reviewed  & ci & ci\\\\\n",
       "\t 2023-02-22T18:13:07.973Z &  62.92320 & -150.2684 &  16.500 & 1.30 & ml  & NA &     NA &       NA & 0.4000 & ⋯ & 2023-02-22T18:16:07.861Z & 53 km N of Chase, Alaska                      & earthquake   &   NA & 0.400 &        NA & NA & automatic & ak & ak\\\\\n",
       "\t 2023-02-22T18:10:54.080Z &  40.05067 & -122.9132 &  -0.890 & 2.38 & md  & 11 &  91.00 & 0.158000 & 0.3100 & ⋯ & 2023-02-22T18:29:20.256Z & 40km NE of Covelo, CA                         & earthquake   & 0.98 & 8.490 & 0.1600000 & 12 & automatic & nc & nc\\\\\n",
       "\t 2023-02-22T17:48:54.920Z &  40.03783 & -122.9090 &   5.140 & 2.07 & md  &  5 & 118.00 & 0.166600 & 0.0600 & ⋯ & 2023-02-22T18:08:15.116Z & 40km NE of Covelo, CA                         & earthquake   & 0.55 & 3.170 & 0.2500000 &  5 & automatic & nc & nc\\\\\n",
       "\t 2023-02-22T17:38:48.350Z &  38.78733 & -122.9382 &   3.900 & 1.50 & md  & 26 & 111.00 & 0.042480 & 0.0300 & ⋯ & 2023-02-22T18:08:14.117Z & 7km ESE of Cloverdale, CA                     & earthquake   & 0.28 & 0.840 & 0.2300000 & 25 & automatic & nc & nc\\\\\n",
       "\t 2023-02-22T17:38:33.160Z &  38.79000 & -122.9410 &   4.730 & 1.09 & md  & 16 & 133.00 & 0.055060 & 0.0300 & ⋯ & 2023-02-22T17:57:17.046Z & 7km ESE of Cloverdale, CA                     & earthquake   & 0.40 & 1.740 & 0.3100000 & 16 & automatic & nc & nc\\\\\n",
       "\t 2023-02-22T17:36:03.144Z &  56.81420 & -153.0611 &  11.300 & 2.40 & ml  & NA &     NA &       NA & 0.9200 & ⋯ & 2023-02-22T17:38:54.698Z & 45 km SSE of Old Harbor, Alaska               & earthquake   &   NA & 0.700 &        NA & NA & automatic & ak & ak\\\\\n",
       "\t 2023-02-22T17:30:50.870Z &  38.80500 & -122.7715 &   1.200 & 0.28 & md  &  6 & 112.00 & 0.010190 & 0.0200 & ⋯ & 2023-02-22T17:47:15.984Z & 3km NNW of The Geysers, CA                    & earthquake   & 0.79 & 0.870 & 0.0700000 &  8 & automatic & nc & nc\\\\\n",
       "\t 2023-02-22T17:07:01.267Z &  62.45010 & -152.1698 & 125.700 & 1.90 & ml  & NA &     NA &       NA & 0.5500 & ⋯ & 2023-02-22T17:09:28.211Z & 65 km NW of Skwentna, Alaska                  & earthquake   &   NA & 0.700 &        NA & NA & automatic & ak & ak\\\\\n",
       "\t 2023-02-22T16:27:25.722Z &  63.16470 & -149.6905 &  84.000 & 1.40 & ml  & NA &     NA &       NA & 0.9000 & ⋯ & 2023-02-22T16:29:27.091Z & 44 km SW of Cantwell, Alaska                  & earthquake   &   NA & 0.800 &        NA & NA & automatic & ak & ak\\\\\n",
       "\t 2023-02-22T16:20:21.181Z &  61.79070 & -150.2054 &  10.700 & 2.10 & ml  & NA &     NA &       NA & 0.3900 & ⋯ & 2023-02-22T16:22:04.874Z & 10 km WNW of Willow, Alaska                   & earthquake   &   NA & 0.200 &        NA & NA & automatic & ak & ak\\\\\n",
       "\t 2023-02-22T16:05:52.220Z &  38.83517 & -122.7857 &   1.520 & 0.97 & md  &  9 &  68.00 & 0.004881 & 0.0100 & ⋯ & 2023-02-22T16:31:11.484Z & 6km WNW of Cobb, CA                           & earthquake   & 0.54 & 1.330 & 0.2800000 & 13 & automatic & nc & nc\\\\\n",
       "\t 2023-02-22T15:56:47.583Z &  61.25700 & -150.3203 & 250.000 & 2.50 & ml  & NA &     NA &       NA & 0.9300 & ⋯ & 2023-02-22T16:00:02.401Z & 21 km WSW of Point MacKenzie, Alaska          & earthquake   &   NA & 5.100 &        NA & NA & automatic & ak & ak\\\\\n",
       "\t 2023-02-22T15:52:12.650Z &  38.77583 & -122.7298 &   1.220 & 0.88 & md  &  8 & 135.00 & 0.009146 & 0.0100 & ⋯ & 2023-02-22T16:10:12.357Z & 2km E of The Geysers, CA                      & earthquake   & 0.44 & 0.560 & 0.1600000 &  8 & automatic & nc & nc\\\\\n",
       "\t 2023-02-22T15:51:39.859Z & -30.03890 &  -72.2035 &  12.059 & 4.00 & mwr & 23 & 179.00 & 0.801000 & 1.1600 & ⋯ & 2023-02-22T17:15:55.040Z & 83 km W of Coquimbo, Chile                    & earthquake   & 2.83 & 6.844 & 0.0500000 & 38 & reviewed  & us & us\\\\\n",
       "\t 2023-02-22T15:48:28.209Z &  61.47460 & -150.0414 &  33.400 & 1.30 & ml  & NA &     NA &       NA & 0.6800 & ⋯ & 2023-02-22T15:50:37.214Z & 6 km SW of Big Lake, Alaska                   & earthquake   &   NA & 0.300 &        NA & NA & automatic & ak & ak\\\\\n",
       "\t 2023-02-22T15:48:21.690Z &  40.55583 & -124.2127 &  14.430 & 3.21 & ml  & 21 & 177.00 & 0.234100 & 0.1200 & ⋯ & 2023-02-22T18:48:30.345Z & 5km ESE of Ferndale, CA                       & earthquake   & 0.78 & 0.740 & 0.3020000 & 10 & automatic & nc & nc\\\\\n",
       "\t 2023-02-22T15:43:50.160Z &  36.99650 & -121.8257 &  13.410 & 1.54 & md  &  9 & 183.00 & 0.068940 & 0.0600 & ⋯ & 2023-02-22T18:17:23.178Z & 2km WNW of Corralitos, CA                     & earthquake   & 0.61 & 0.740 & 0.0800000 &  9 & automatic & nc & nc\\\\\n",
       "\t 2023-02-22T15:35:30.540Z &  46.83850 & -121.7125 &   2.490 & 1.07 & ml  & 12 & 224.00 & 0.014350 & 0.0900 & ⋯ & 2023-02-22T18:51:07.950Z & 25 km ENE of Ashford, Washington              & earthquake   & 0.59 & 0.790 & 0.3115333 &  5 & reviewed  & uw & uw\\\\\n",
       "\t 2023-02-22T15:25:51.418Z &  59.56340 & -152.9980 &  88.500 & 1.90 & ml  & NA &     NA &       NA & 0.3200 & ⋯ & 2023-02-22T15:28:04.231Z & 65 km WNW of Nanwalek, Alaska                 & earthquake   &   NA & 0.700 &        NA & NA & automatic & ak & ak\\\\\n",
       "\t 2023-02-22T15:18:06.170Z &  18.23100 &  -68.2605 &  96.000 & 3.76 & md  & 15 & 205.00 & 0.307600 & 0.2700 & ⋯ & 2023-02-22T15:54:41.369Z & 40 km ESE of Boca de Yuma, Dominican Republic & earthquake   & 1.72 & 1.080 & 0.1100000 & 11 & reviewed  & pr & pr\\\\\n",
       "\t ⋮ & ⋮ & ⋮ & ⋮ & ⋮ & ⋮ & ⋮ & ⋮ & ⋮ & ⋮ & ⋱ & ⋮ & ⋮ & ⋮ & ⋮ & ⋮ & ⋮ & ⋮ & ⋮ & ⋮ & ⋮\\\\\n",
       "\t 2023-01-23T22:03:44.140Z & 35.61767 &  -84.21183 &  11.480 &  1.81 & md  &  7 &  78.0 & 0.0574900 & 0.0700 & ⋯ & 2023-01-24T14:29:33.740Z & Tennessee                            & earthquake   &  0.29 &  0.720 & 0.08082776 &  7 & reviewed  & se & se\\\\\n",
       "\t 2023-01-23T22:01:11.060Z & 55.33020 & -159.63360 &   6.800 &  2.40 & ml  & NA &    NA &        NA & 0.4800 & ⋯ & 2023-02-07T00:48:40.179Z & 54 km E of Sand Point, Alaska        & earthquake   &    NA &  0.800 &         NA & NA & reviewed  & ak & ak\\\\\n",
       "\t 2023-01-23T21:59:37.040Z & 37.53950 & -118.79633 &   4.830 &  0.64 & md  &  7 & 314.0 & 0.0567700 & 0.0200 & ⋯ & 2023-01-24T00:42:11.798Z & 10km WSW of Toms Place, CA           & earthquake   &  2.12 & 31.610 & 0.05500000 &  6 & reviewed  & nc & nc\\\\\n",
       "\t 2023-01-23T21:55:10.289Z &  1.85880 &  127.36710 & 110.943 &  4.20 & mb  & 45 & 161.0 & 1.0800000 & 0.5300 & ⋯ & 2023-02-13T04:43:07.040Z & 72 km WNW of Tobelo, Indonesia       & earthquake   & 11.22 &  8.301 & 0.09100000 & 34 & reviewed  & us & us\\\\\n",
       "\t 2023-01-23T21:53:51.030Z & 33.66117 & -116.73467 &  14.040 &  1.09 & ml  & 22 &  88.0 & 0.0527200 & 0.1200 & ⋯ & 2023-01-24T14:59:30.252Z & 9km S of Idyllwild, CA               & earthquake   &  0.26 &  0.430 & 0.37500000 & 22 & reviewed  & ci & ci\\\\\n",
       "\t 2023-01-23T21:44:39.795Z & 69.60540 & -144.69790 &  23.400 &  4.10 & mwr & NA &    NA &        NA & 0.6400 & ⋯ & 2023-02-13T00:08:34.040Z & 71 km SW of Kaktovik, Alaska         & earthquake   &    NA &  0.800 &         NA & NA & reviewed  & ak & ak\\\\\n",
       "\t 2023-01-23T21:44:07.494Z & 61.09320 & -151.16020 &   2.200 &  1.10 & ml  & NA &    NA &        NA & 0.7500 & ⋯ & 2023-02-07T00:48:39.814Z & 3 km NNW of Tyonek, Alaska           & earthquake   &    NA &  0.900 &         NA & NA & reviewed  & ak & ak\\\\\n",
       "\t 2023-01-23T21:43:51.120Z & 38.83717 & -122.83750 &   1.480 &  1.09 & md  & 15 & 109.0 & 0.0021200 & 0.0300 & ⋯ & 2023-01-23T22:03:10.753Z & 10km NW of The Geysers, CA           & earthquake   &  0.25 &  0.660 & 0.32000000 & 17 & automatic & nc & nc\\\\\n",
       "\t 2023-01-23T21:41:12.971Z & 60.61710 & -151.11940 &  54.800 &  1.50 & ml  & NA &    NA &        NA & 0.4200 & ⋯ & 2023-02-07T00:48:39.614Z & 9 km N of Ridgeway, Alaska           & earthquake   &    NA &  1.500 &         NA & NA & reviewed  & ak & ak\\\\\n",
       "\t 2023-01-23T21:30:09.315Z & 60.63930 & -152.02970 &  77.800 &  1.50 & ml  & NA &    NA &        NA & 0.2800 & ⋯ & 2023-02-07T00:48:39.428Z & 38 km W of Salamatof, Alaska         & earthquake   &    NA &  1.300 &         NA & NA & reviewed  & ak & ak\\\\\n",
       "\t 2023-01-23T21:16:23.027Z & 54.96970 & -160.22350 &  38.649 &  3.00 & ml  & 27 & 215.0 & 0.4070000 & 0.5800 & ⋯ & 2023-02-12T23:30:04.040Z & 44 km SSE of Sand Point, Alaska      & earthquake   &  5.97 & 14.129 & 0.08300000 & 19 & reviewed  & us & us\\\\\n",
       "\t 2023-01-23T21:10:24.910Z & 38.48917 & -112.84050 &   0.120 & -0.43 & md  &  8 & 203.0 & 0.0114300 & 0.0800 & ⋯ & 2023-01-23T21:44:42.450Z & 18 km NE of Milford, Utah            & earthquake   &  0.53 &  2.240 & 0.25600000 &  3 & reviewed  & uu & uu\\\\\n",
       "\t 2023-01-23T21:07:41.390Z & 58.24883 & -155.19867 &   4.150 & -0.11 & ml  &  6 & 120.0 &        NA & 0.3000 & ⋯ & 2023-01-25T04:07:35.860Z & Alaska Peninsula                     & earthquake   &  1.28 &  2.940 & 0.24060271 &  6 & reviewed  & av & av\\\\\n",
       "\t 2023-01-23T21:02:40.410Z & 32.89967 & -116.95667 &  -0.310 &  1.50 & ml  & 37 & 129.0 & 0.0938100 & 0.2600 & ⋯ & 2023-01-24T15:46:52.473Z & 6km NW of Lakeside, CA               & quarry blast &  0.69 & 31.610 & 0.09700000 &  7 & reviewed  & ci & ci\\\\\n",
       "\t 2023-01-23T20:50:47.455Z & 62.83500 & -149.92610 &  78.000 &  1.10 & ml  & NA &    NA &        NA & 0.4400 & ⋯ & 2023-02-07T00:48:39.225Z & 43 km NNE of Chase, Alaska           & earthquake   &    NA &  0.900 &         NA & NA & reviewed  & ak & ak\\\\\n",
       "\t 2023-01-23T20:40:15.009Z & 65.01050 & -147.13070 &   0.000 &  0.90 & ml  & NA &    NA &        NA & 0.7300 & ⋯ & 2023-02-07T00:48:35.249Z & 16 km NNW of Two Rivers, Alaska      & explosion    &    NA &  0.000 &         NA & NA & reviewed  & ak & ak\\\\\n",
       "\t 2023-01-23T20:39:30.334Z & 53.37950 & -163.52230 &  35.000 &  2.40 & ml  & 11 & 287.0 & 1.2630000 & 0.4300 & ⋯ & 2023-02-09T19:12:34.857Z & 164 km S of False Pass, Alaska       & earthquake   &  7.19 &  2.025 & 0.14800000 &  6 & reviewed  & us & us\\\\\n",
       "\t 2023-01-23T20:37:11.752Z & 61.55630 & -141.28500 &   3.300 &  1.30 & ml  & NA &    NA &        NA & 0.6700 & ⋯ & 2023-02-07T00:48:35.059Z & 88 km E of McCarthy, Alaska          & earthquake   &    NA &  0.700 &         NA & NA & reviewed  & ak & ak\\\\\n",
       "\t 2023-01-23T20:35:23.146Z & 53.87520 & -166.45970 &  11.400 &  1.10 & ml  & NA &    NA &        NA & 0.4300 & ⋯ & 2023-02-09T19:12:33.689Z & 4 km E of Unalaska, Alaska           & earthquake   &    NA &  0.400 &         NA & NA & reviewed  & ak & ak\\\\\n",
       "\t 2023-01-23T20:33:00.210Z & 38.84350 & -122.82917 &   2.630 &  0.93 & md  &  7 & 156.0 & 0.0069550 & 0.0100 & ⋯ & 2023-01-23T21:30:14.565Z & 10km WNW of Cobb, CA                 & earthquake   &  1.75 &  2.980 & 0.55000000 &  9 & automatic & nc & nc\\\\\n",
       "\t 2023-01-23T20:32:43.074Z & 52.71210 & -168.20150 &  22.100 &  2.00 & ml  & NA &    NA &        NA & 0.4700 & ⋯ & 2023-02-09T19:12:34.678Z & 51 km ESE of Nikolski, Alaska        & earthquake   &    NA &  0.700 &         NA & NA & reviewed  & ak & ak\\\\\n",
       "\t 2023-01-23T20:31:51.340Z & 46.14650 & -119.56117 &  12.640 &  0.64 & ml  &  6 & 283.0 & 0.1095000 & 0.0200 & ⋯ & 2023-01-24T00:33:34.830Z & 14 km SSW of Benton City, Washington & earthquake   &  1.11 &  1.580 & 0.06585327 &  5 & reviewed  & uw & uw\\\\\n",
       "\t 2023-01-23T20:21:46.246Z & 36.99560 & -116.39010 &  11.200 &  0.50 & ml  & 12 & 102.2 & 0.0170000 & 0.1098 & ⋯ & 2023-01-24T00:41:21.627Z & 34 km ENE of Beatty, Nevada          & earthquake   &    NA &  1.200 & 1.15000000 &  6 & reviewed  & nn & nn\\\\\n",
       "\t 2023-01-23T20:18:36.815Z & 61.13400 & -140.39240 &   7.600 &  1.40 & ml  & NA &    NA &        NA & 0.5500 & ⋯ & 2023-02-07T00:48:38.684Z & 139 km ESE of McCarthy, Alaska       & earthquake   &    NA &  0.600 &         NA & NA & reviewed  & ak & ak\\\\\n",
       "\t 2023-01-23T20:12:38.040Z & 20.29383 & -156.61083 &   4.540 &  2.51 & md  & 47 & 167.0 &        NA & 0.2600 & ⋯ & 2023-02-07T21:52:28.040Z & 43 km SSW of Mākena, Hawaii          & earthquake   &  0.53 &  0.980 & 0.08510721 & 15 & reviewed  & hv & hv\\\\\n",
       "\t 2023-01-23T20:11:09.590Z & 56.82130 & -158.00080 &   3.500 &  1.90 & ml  & NA &    NA &        NA & 0.5700 & ⋯ & 2023-02-09T19:12:34.501Z & 40 km ESE of Port Heiden, Alaska     & earthquake   &    NA &  1.600 &         NA & NA & reviewed  & ak & ak\\\\\n",
       "\t 2023-01-23T20:03:59.530Z & 33.81550 & -117.48300 &  -0.620 &  1.56 & ml  & 53 &  40.0 & 0.0317000 & 0.2500 & ⋯ & 2023-01-24T15:36:23.740Z & 8km SSE of Home Gardens, CA          & quarry blast &  0.35 & 31.610 & 0.21700000 & 34 & reviewed  & ci & ci\\\\\n",
       "\t 2023-01-23T20:03:16.280Z & 36.70167 &  -96.70183 &   0.000 &  1.84 & ml  & 34 & 101.0 & 0.1394726 & 0.4400 & ⋯ & 2023-01-24T17:02:37.479Z & 2 km ENE of Burbank, Oklahoma        & quarry blast &    NA &  0.300 & 0.17000000 & 13 & reviewed  & ok & ok\\\\\n",
       "\t 2023-01-23T19:45:00.466Z & -6.84170 &  106.97450 &  11.127 &  4.50 & mb  & 22 & 121.0 & 0.6360000 & 0.5200 & ⋯ & 2023-02-21T17:11:53.040Z & 9 km NNE of Sukabumi, Indonesia      & earthquake   &  6.81 &  3.489 & 0.19100000 &  8 & reviewed  & us & us\\\\\n",
       "\t 2023-01-23T19:23:51.600Z & 37.12233 & -121.51200 &   9.230 &  0.94 & md  & 16 &  65.0 & 0.0565100 & 0.0700 & ⋯ & 2023-01-24T19:41:14.290Z & 10km ENE of San Martin, CA           & earthquake   &  0.33 &  0.720 & 0.13600000 & 14 & reviewed  & nc & nc\\\\\n",
       "\\end{tabular}\n"
      ],
      "text/markdown": [
       "\n",
       "A data.frame: 10702 × 22\n",
       "\n",
       "| time &lt;chr&gt; | latitude &lt;dbl&gt; | longitude &lt;dbl&gt; | depth &lt;dbl&gt; | mag &lt;dbl&gt; | magType &lt;chr&gt; | nst &lt;int&gt; | gap &lt;dbl&gt; | dmin &lt;dbl&gt; | rms &lt;dbl&gt; | ⋯ ⋯ | updated &lt;chr&gt; | place &lt;chr&gt; | type &lt;chr&gt; | horizontalError &lt;dbl&gt; | depthError &lt;dbl&gt; | magError &lt;dbl&gt; | magNst &lt;int&gt; | status &lt;chr&gt; | locationSource &lt;chr&gt; | magSource &lt;chr&gt; |\n",
       "|---|---|---|---|---|---|---|---|---|---|---|---|---|---|---|---|---|---|---|---|---|\n",
       "| 2023-02-22T19:07:13.970Z |  19.14400 | -155.4250 |  32.080 | 2.04 | md  | 29 | 225.00 |       NA | 0.1000 | ⋯ | 2023-02-22T19:10:18.630Z | 8 km SE of Pāhala, Hawaii                     | earthquake   | 0.77 | 1.140 | 1.0100000 |  3 | automatic | hv | hv |\n",
       "| 2023-02-22T19:07:02.970Z |  33.82433 | -117.4813 |   1.710 | 1.93 | ml  | 43 |  29.00 | 0.031020 | 0.2700 | ⋯ | 2023-02-22T19:10:54.720Z | 7km SSE of Home Gardens, CA                   | quarry blast | 0.29 | 0.500 | 0.2160000 | 29 | automatic | ci | ci |\n",
       "| 2023-02-22T19:01:47.140Z |  38.15320 | -117.8772 |   4.600 | 2.40 | ml  | 11 | 125.38 | 0.066000 | 0.2560 | ⋯ | 2023-02-22T19:04:48.175Z | 33 km SE of Mina, Nevada                      | earthquake   |   NA | 0.700 | 0.2300000 |  7 | automatic | nn | nn |\n",
       "| 2023-02-22T18:52:57.640Z |  33.06367 | -116.3907 |  12.000 | 1.45 | ml  | 27 | 124.00 | 0.093130 | 0.1900 | ⋯ | 2023-02-22T19:19:32.920Z | 20km E of Julian, CA                          | earthquake   | 0.38 | 0.820 | 0.1530000 | 27 | reviewed  | ci | ci |\n",
       "| 2023-02-22T18:50:16.290Z |  33.06783 | -116.3900 |  12.940 | 1.29 | ml  | 18 | 124.00 | 0.097320 | 0.2400 | ⋯ | 2023-02-22T18:53:43.089Z | 20km E of Julian, CA                          | earthquake   | 0.51 | 1.070 | 0.3380000 | 11 | automatic | ci | ci |\n",
       "| 2023-02-22T18:27:54.090Z |  38.83167 | -122.8167 |   1.630 | 0.96 | md  | 18 |  53.00 | 0.009732 | 0.0200 | ⋯ | 2023-02-22T19:01:14.429Z | 8km NW of The Geysers, CA                     | earthquake   | 0.20 | 0.540 | 0.2000000 | 19 | automatic | nc | nc |\n",
       "| 2023-02-22T18:22:12.682Z |  38.15770 | -117.8891 |   8.700 | 3.50 | ml  | 13 |  80.53 | 0.059000 | 0.1197 | ⋯ | 2023-02-22T18:36:16.009Z | 32 km SE of Mina, Nevada                      | earthquake   |   NA | 1.200 | 0.2100000 |  9 | reviewed  | nn | nn |\n",
       "| 2023-02-22T18:21:02.308Z |  60.12800 | -152.6184 |  86.600 | 1.80 | ml  | NA |     NA |       NA | 0.4800 | ⋯ | 2023-02-22T18:23:48.382Z | 53 km WNW of Happy Valley, Alaska             | earthquake   |   NA | 0.400 |        NA | NA | automatic | ak | ak |\n",
       "| 2023-02-22T18:20:26.610Z |  19.23533 | -155.4067 |  31.640 | 1.85 | md  | 31 | 146.00 |       NA | 0.1100 | ⋯ | 2023-02-22T18:23:49.140Z | 8 km ENE of Pāhala, Hawaii                    | earthquake   | 0.67 | 1.190 | 0.2100000 |  9 | automatic | hv | hv |\n",
       "| 2023-02-22T18:16:48.670Z |  33.52917 | -116.7268 |   4.730 | 1.06 | ml  | 26 |  62.00 | 0.037180 | 0.1100 | ⋯ | 2023-02-22T19:18:57.330Z | 6km WSW of Anza, CA                           | earthquake   | 0.16 | 0.240 | 0.1570000 | 22 | reviewed  | ci | ci |\n",
       "| 2023-02-22T18:13:07.973Z |  62.92320 | -150.2684 |  16.500 | 1.30 | ml  | NA |     NA |       NA | 0.4000 | ⋯ | 2023-02-22T18:16:07.861Z | 53 km N of Chase, Alaska                      | earthquake   |   NA | 0.400 |        NA | NA | automatic | ak | ak |\n",
       "| 2023-02-22T18:10:54.080Z |  40.05067 | -122.9132 |  -0.890 | 2.38 | md  | 11 |  91.00 | 0.158000 | 0.3100 | ⋯ | 2023-02-22T18:29:20.256Z | 40km NE of Covelo, CA                         | earthquake   | 0.98 | 8.490 | 0.1600000 | 12 | automatic | nc | nc |\n",
       "| 2023-02-22T17:48:54.920Z |  40.03783 | -122.9090 |   5.140 | 2.07 | md  |  5 | 118.00 | 0.166600 | 0.0600 | ⋯ | 2023-02-22T18:08:15.116Z | 40km NE of Covelo, CA                         | earthquake   | 0.55 | 3.170 | 0.2500000 |  5 | automatic | nc | nc |\n",
       "| 2023-02-22T17:38:48.350Z |  38.78733 | -122.9382 |   3.900 | 1.50 | md  | 26 | 111.00 | 0.042480 | 0.0300 | ⋯ | 2023-02-22T18:08:14.117Z | 7km ESE of Cloverdale, CA                     | earthquake   | 0.28 | 0.840 | 0.2300000 | 25 | automatic | nc | nc |\n",
       "| 2023-02-22T17:38:33.160Z |  38.79000 | -122.9410 |   4.730 | 1.09 | md  | 16 | 133.00 | 0.055060 | 0.0300 | ⋯ | 2023-02-22T17:57:17.046Z | 7km ESE of Cloverdale, CA                     | earthquake   | 0.40 | 1.740 | 0.3100000 | 16 | automatic | nc | nc |\n",
       "| 2023-02-22T17:36:03.144Z |  56.81420 | -153.0611 |  11.300 | 2.40 | ml  | NA |     NA |       NA | 0.9200 | ⋯ | 2023-02-22T17:38:54.698Z | 45 km SSE of Old Harbor, Alaska               | earthquake   |   NA | 0.700 |        NA | NA | automatic | ak | ak |\n",
       "| 2023-02-22T17:30:50.870Z |  38.80500 | -122.7715 |   1.200 | 0.28 | md  |  6 | 112.00 | 0.010190 | 0.0200 | ⋯ | 2023-02-22T17:47:15.984Z | 3km NNW of The Geysers, CA                    | earthquake   | 0.79 | 0.870 | 0.0700000 |  8 | automatic | nc | nc |\n",
       "| 2023-02-22T17:07:01.267Z |  62.45010 | -152.1698 | 125.700 | 1.90 | ml  | NA |     NA |       NA | 0.5500 | ⋯ | 2023-02-22T17:09:28.211Z | 65 km NW of Skwentna, Alaska                  | earthquake   |   NA | 0.700 |        NA | NA | automatic | ak | ak |\n",
       "| 2023-02-22T16:27:25.722Z |  63.16470 | -149.6905 |  84.000 | 1.40 | ml  | NA |     NA |       NA | 0.9000 | ⋯ | 2023-02-22T16:29:27.091Z | 44 km SW of Cantwell, Alaska                  | earthquake   |   NA | 0.800 |        NA | NA | automatic | ak | ak |\n",
       "| 2023-02-22T16:20:21.181Z |  61.79070 | -150.2054 |  10.700 | 2.10 | ml  | NA |     NA |       NA | 0.3900 | ⋯ | 2023-02-22T16:22:04.874Z | 10 km WNW of Willow, Alaska                   | earthquake   |   NA | 0.200 |        NA | NA | automatic | ak | ak |\n",
       "| 2023-02-22T16:05:52.220Z |  38.83517 | -122.7857 |   1.520 | 0.97 | md  |  9 |  68.00 | 0.004881 | 0.0100 | ⋯ | 2023-02-22T16:31:11.484Z | 6km WNW of Cobb, CA                           | earthquake   | 0.54 | 1.330 | 0.2800000 | 13 | automatic | nc | nc |\n",
       "| 2023-02-22T15:56:47.583Z |  61.25700 | -150.3203 | 250.000 | 2.50 | ml  | NA |     NA |       NA | 0.9300 | ⋯ | 2023-02-22T16:00:02.401Z | 21 km WSW of Point MacKenzie, Alaska          | earthquake   |   NA | 5.100 |        NA | NA | automatic | ak | ak |\n",
       "| 2023-02-22T15:52:12.650Z |  38.77583 | -122.7298 |   1.220 | 0.88 | md  |  8 | 135.00 | 0.009146 | 0.0100 | ⋯ | 2023-02-22T16:10:12.357Z | 2km E of The Geysers, CA                      | earthquake   | 0.44 | 0.560 | 0.1600000 |  8 | automatic | nc | nc |\n",
       "| 2023-02-22T15:51:39.859Z | -30.03890 |  -72.2035 |  12.059 | 4.00 | mwr | 23 | 179.00 | 0.801000 | 1.1600 | ⋯ | 2023-02-22T17:15:55.040Z | 83 km W of Coquimbo, Chile                    | earthquake   | 2.83 | 6.844 | 0.0500000 | 38 | reviewed  | us | us |\n",
       "| 2023-02-22T15:48:28.209Z |  61.47460 | -150.0414 |  33.400 | 1.30 | ml  | NA |     NA |       NA | 0.6800 | ⋯ | 2023-02-22T15:50:37.214Z | 6 km SW of Big Lake, Alaska                   | earthquake   |   NA | 0.300 |        NA | NA | automatic | ak | ak |\n",
       "| 2023-02-22T15:48:21.690Z |  40.55583 | -124.2127 |  14.430 | 3.21 | ml  | 21 | 177.00 | 0.234100 | 0.1200 | ⋯ | 2023-02-22T18:48:30.345Z | 5km ESE of Ferndale, CA                       | earthquake   | 0.78 | 0.740 | 0.3020000 | 10 | automatic | nc | nc |\n",
       "| 2023-02-22T15:43:50.160Z |  36.99650 | -121.8257 |  13.410 | 1.54 | md  |  9 | 183.00 | 0.068940 | 0.0600 | ⋯ | 2023-02-22T18:17:23.178Z | 2km WNW of Corralitos, CA                     | earthquake   | 0.61 | 0.740 | 0.0800000 |  9 | automatic | nc | nc |\n",
       "| 2023-02-22T15:35:30.540Z |  46.83850 | -121.7125 |   2.490 | 1.07 | ml  | 12 | 224.00 | 0.014350 | 0.0900 | ⋯ | 2023-02-22T18:51:07.950Z | 25 km ENE of Ashford, Washington              | earthquake   | 0.59 | 0.790 | 0.3115333 |  5 | reviewed  | uw | uw |\n",
       "| 2023-02-22T15:25:51.418Z |  59.56340 | -152.9980 |  88.500 | 1.90 | ml  | NA |     NA |       NA | 0.3200 | ⋯ | 2023-02-22T15:28:04.231Z | 65 km WNW of Nanwalek, Alaska                 | earthquake   |   NA | 0.700 |        NA | NA | automatic | ak | ak |\n",
       "| 2023-02-22T15:18:06.170Z |  18.23100 |  -68.2605 |  96.000 | 3.76 | md  | 15 | 205.00 | 0.307600 | 0.2700 | ⋯ | 2023-02-22T15:54:41.369Z | 40 km ESE of Boca de Yuma, Dominican Republic | earthquake   | 1.72 | 1.080 | 0.1100000 | 11 | reviewed  | pr | pr |\n",
       "| ⋮ | ⋮ | ⋮ | ⋮ | ⋮ | ⋮ | ⋮ | ⋮ | ⋮ | ⋮ | ⋱ | ⋮ | ⋮ | ⋮ | ⋮ | ⋮ | ⋮ | ⋮ | ⋮ | ⋮ | ⋮ |\n",
       "| 2023-01-23T22:03:44.140Z | 35.61767 |  -84.21183 |  11.480 |  1.81 | md  |  7 |  78.0 | 0.0574900 | 0.0700 | ⋯ | 2023-01-24T14:29:33.740Z | Tennessee                            | earthquake   |  0.29 |  0.720 | 0.08082776 |  7 | reviewed  | se | se |\n",
       "| 2023-01-23T22:01:11.060Z | 55.33020 | -159.63360 |   6.800 |  2.40 | ml  | NA |    NA |        NA | 0.4800 | ⋯ | 2023-02-07T00:48:40.179Z | 54 km E of Sand Point, Alaska        | earthquake   |    NA |  0.800 |         NA | NA | reviewed  | ak | ak |\n",
       "| 2023-01-23T21:59:37.040Z | 37.53950 | -118.79633 |   4.830 |  0.64 | md  |  7 | 314.0 | 0.0567700 | 0.0200 | ⋯ | 2023-01-24T00:42:11.798Z | 10km WSW of Toms Place, CA           | earthquake   |  2.12 | 31.610 | 0.05500000 |  6 | reviewed  | nc | nc |\n",
       "| 2023-01-23T21:55:10.289Z |  1.85880 |  127.36710 | 110.943 |  4.20 | mb  | 45 | 161.0 | 1.0800000 | 0.5300 | ⋯ | 2023-02-13T04:43:07.040Z | 72 km WNW of Tobelo, Indonesia       | earthquake   | 11.22 |  8.301 | 0.09100000 | 34 | reviewed  | us | us |\n",
       "| 2023-01-23T21:53:51.030Z | 33.66117 | -116.73467 |  14.040 |  1.09 | ml  | 22 |  88.0 | 0.0527200 | 0.1200 | ⋯ | 2023-01-24T14:59:30.252Z | 9km S of Idyllwild, CA               | earthquake   |  0.26 |  0.430 | 0.37500000 | 22 | reviewed  | ci | ci |\n",
       "| 2023-01-23T21:44:39.795Z | 69.60540 | -144.69790 |  23.400 |  4.10 | mwr | NA |    NA |        NA | 0.6400 | ⋯ | 2023-02-13T00:08:34.040Z | 71 km SW of Kaktovik, Alaska         | earthquake   |    NA |  0.800 |         NA | NA | reviewed  | ak | ak |\n",
       "| 2023-01-23T21:44:07.494Z | 61.09320 | -151.16020 |   2.200 |  1.10 | ml  | NA |    NA |        NA | 0.7500 | ⋯ | 2023-02-07T00:48:39.814Z | 3 km NNW of Tyonek, Alaska           | earthquake   |    NA |  0.900 |         NA | NA | reviewed  | ak | ak |\n",
       "| 2023-01-23T21:43:51.120Z | 38.83717 | -122.83750 |   1.480 |  1.09 | md  | 15 | 109.0 | 0.0021200 | 0.0300 | ⋯ | 2023-01-23T22:03:10.753Z | 10km NW of The Geysers, CA           | earthquake   |  0.25 |  0.660 | 0.32000000 | 17 | automatic | nc | nc |\n",
       "| 2023-01-23T21:41:12.971Z | 60.61710 | -151.11940 |  54.800 |  1.50 | ml  | NA |    NA |        NA | 0.4200 | ⋯ | 2023-02-07T00:48:39.614Z | 9 km N of Ridgeway, Alaska           | earthquake   |    NA |  1.500 |         NA | NA | reviewed  | ak | ak |\n",
       "| 2023-01-23T21:30:09.315Z | 60.63930 | -152.02970 |  77.800 |  1.50 | ml  | NA |    NA |        NA | 0.2800 | ⋯ | 2023-02-07T00:48:39.428Z | 38 km W of Salamatof, Alaska         | earthquake   |    NA |  1.300 |         NA | NA | reviewed  | ak | ak |\n",
       "| 2023-01-23T21:16:23.027Z | 54.96970 | -160.22350 |  38.649 |  3.00 | ml  | 27 | 215.0 | 0.4070000 | 0.5800 | ⋯ | 2023-02-12T23:30:04.040Z | 44 km SSE of Sand Point, Alaska      | earthquake   |  5.97 | 14.129 | 0.08300000 | 19 | reviewed  | us | us |\n",
       "| 2023-01-23T21:10:24.910Z | 38.48917 | -112.84050 |   0.120 | -0.43 | md  |  8 | 203.0 | 0.0114300 | 0.0800 | ⋯ | 2023-01-23T21:44:42.450Z | 18 km NE of Milford, Utah            | earthquake   |  0.53 |  2.240 | 0.25600000 |  3 | reviewed  | uu | uu |\n",
       "| 2023-01-23T21:07:41.390Z | 58.24883 | -155.19867 |   4.150 | -0.11 | ml  |  6 | 120.0 |        NA | 0.3000 | ⋯ | 2023-01-25T04:07:35.860Z | Alaska Peninsula                     | earthquake   |  1.28 |  2.940 | 0.24060271 |  6 | reviewed  | av | av |\n",
       "| 2023-01-23T21:02:40.410Z | 32.89967 | -116.95667 |  -0.310 |  1.50 | ml  | 37 | 129.0 | 0.0938100 | 0.2600 | ⋯ | 2023-01-24T15:46:52.473Z | 6km NW of Lakeside, CA               | quarry blast |  0.69 | 31.610 | 0.09700000 |  7 | reviewed  | ci | ci |\n",
       "| 2023-01-23T20:50:47.455Z | 62.83500 | -149.92610 |  78.000 |  1.10 | ml  | NA |    NA |        NA | 0.4400 | ⋯ | 2023-02-07T00:48:39.225Z | 43 km NNE of Chase, Alaska           | earthquake   |    NA |  0.900 |         NA | NA | reviewed  | ak | ak |\n",
       "| 2023-01-23T20:40:15.009Z | 65.01050 | -147.13070 |   0.000 |  0.90 | ml  | NA |    NA |        NA | 0.7300 | ⋯ | 2023-02-07T00:48:35.249Z | 16 km NNW of Two Rivers, Alaska      | explosion    |    NA |  0.000 |         NA | NA | reviewed  | ak | ak |\n",
       "| 2023-01-23T20:39:30.334Z | 53.37950 | -163.52230 |  35.000 |  2.40 | ml  | 11 | 287.0 | 1.2630000 | 0.4300 | ⋯ | 2023-02-09T19:12:34.857Z | 164 km S of False Pass, Alaska       | earthquake   |  7.19 |  2.025 | 0.14800000 |  6 | reviewed  | us | us |\n",
       "| 2023-01-23T20:37:11.752Z | 61.55630 | -141.28500 |   3.300 |  1.30 | ml  | NA |    NA |        NA | 0.6700 | ⋯ | 2023-02-07T00:48:35.059Z | 88 km E of McCarthy, Alaska          | earthquake   |    NA |  0.700 |         NA | NA | reviewed  | ak | ak |\n",
       "| 2023-01-23T20:35:23.146Z | 53.87520 | -166.45970 |  11.400 |  1.10 | ml  | NA |    NA |        NA | 0.4300 | ⋯ | 2023-02-09T19:12:33.689Z | 4 km E of Unalaska, Alaska           | earthquake   |    NA |  0.400 |         NA | NA | reviewed  | ak | ak |\n",
       "| 2023-01-23T20:33:00.210Z | 38.84350 | -122.82917 |   2.630 |  0.93 | md  |  7 | 156.0 | 0.0069550 | 0.0100 | ⋯ | 2023-01-23T21:30:14.565Z | 10km WNW of Cobb, CA                 | earthquake   |  1.75 |  2.980 | 0.55000000 |  9 | automatic | nc | nc |\n",
       "| 2023-01-23T20:32:43.074Z | 52.71210 | -168.20150 |  22.100 |  2.00 | ml  | NA |    NA |        NA | 0.4700 | ⋯ | 2023-02-09T19:12:34.678Z | 51 km ESE of Nikolski, Alaska        | earthquake   |    NA |  0.700 |         NA | NA | reviewed  | ak | ak |\n",
       "| 2023-01-23T20:31:51.340Z | 46.14650 | -119.56117 |  12.640 |  0.64 | ml  |  6 | 283.0 | 0.1095000 | 0.0200 | ⋯ | 2023-01-24T00:33:34.830Z | 14 km SSW of Benton City, Washington | earthquake   |  1.11 |  1.580 | 0.06585327 |  5 | reviewed  | uw | uw |\n",
       "| 2023-01-23T20:21:46.246Z | 36.99560 | -116.39010 |  11.200 |  0.50 | ml  | 12 | 102.2 | 0.0170000 | 0.1098 | ⋯ | 2023-01-24T00:41:21.627Z | 34 km ENE of Beatty, Nevada          | earthquake   |    NA |  1.200 | 1.15000000 |  6 | reviewed  | nn | nn |\n",
       "| 2023-01-23T20:18:36.815Z | 61.13400 | -140.39240 |   7.600 |  1.40 | ml  | NA |    NA |        NA | 0.5500 | ⋯ | 2023-02-07T00:48:38.684Z | 139 km ESE of McCarthy, Alaska       | earthquake   |    NA |  0.600 |         NA | NA | reviewed  | ak | ak |\n",
       "| 2023-01-23T20:12:38.040Z | 20.29383 | -156.61083 |   4.540 |  2.51 | md  | 47 | 167.0 |        NA | 0.2600 | ⋯ | 2023-02-07T21:52:28.040Z | 43 km SSW of Mākena, Hawaii          | earthquake   |  0.53 |  0.980 | 0.08510721 | 15 | reviewed  | hv | hv |\n",
       "| 2023-01-23T20:11:09.590Z | 56.82130 | -158.00080 |   3.500 |  1.90 | ml  | NA |    NA |        NA | 0.5700 | ⋯ | 2023-02-09T19:12:34.501Z | 40 km ESE of Port Heiden, Alaska     | earthquake   |    NA |  1.600 |         NA | NA | reviewed  | ak | ak |\n",
       "| 2023-01-23T20:03:59.530Z | 33.81550 | -117.48300 |  -0.620 |  1.56 | ml  | 53 |  40.0 | 0.0317000 | 0.2500 | ⋯ | 2023-01-24T15:36:23.740Z | 8km SSE of Home Gardens, CA          | quarry blast |  0.35 | 31.610 | 0.21700000 | 34 | reviewed  | ci | ci |\n",
       "| 2023-01-23T20:03:16.280Z | 36.70167 |  -96.70183 |   0.000 |  1.84 | ml  | 34 | 101.0 | 0.1394726 | 0.4400 | ⋯ | 2023-01-24T17:02:37.479Z | 2 km ENE of Burbank, Oklahoma        | quarry blast |    NA |  0.300 | 0.17000000 | 13 | reviewed  | ok | ok |\n",
       "| 2023-01-23T19:45:00.466Z | -6.84170 |  106.97450 |  11.127 |  4.50 | mb  | 22 | 121.0 | 0.6360000 | 0.5200 | ⋯ | 2023-02-21T17:11:53.040Z | 9 km NNE of Sukabumi, Indonesia      | earthquake   |  6.81 |  3.489 | 0.19100000 |  8 | reviewed  | us | us |\n",
       "| 2023-01-23T19:23:51.600Z | 37.12233 | -121.51200 |   9.230 |  0.94 | md  | 16 |  65.0 | 0.0565100 | 0.0700 | ⋯ | 2023-01-24T19:41:14.290Z | 10km ENE of San Martin, CA           | earthquake   |  0.33 |  0.720 | 0.13600000 | 14 | reviewed  | nc | nc |\n",
       "\n"
      ],
      "text/plain": [
       "      time                     latitude  longitude  depth   mag   magType nst\n",
       "1     2023-02-22T19:07:13.970Z  19.14400 -155.4250   32.080 2.04  md      29 \n",
       "2     2023-02-22T19:07:02.970Z  33.82433 -117.4813    1.710 1.93  ml      43 \n",
       "3     2023-02-22T19:01:47.140Z  38.15320 -117.8772    4.600 2.40  ml      11 \n",
       "4     2023-02-22T18:52:57.640Z  33.06367 -116.3907   12.000 1.45  ml      27 \n",
       "5     2023-02-22T18:50:16.290Z  33.06783 -116.3900   12.940 1.29  ml      18 \n",
       "6     2023-02-22T18:27:54.090Z  38.83167 -122.8167    1.630 0.96  md      18 \n",
       "7     2023-02-22T18:22:12.682Z  38.15770 -117.8891    8.700 3.50  ml      13 \n",
       "8     2023-02-22T18:21:02.308Z  60.12800 -152.6184   86.600 1.80  ml      NA \n",
       "9     2023-02-22T18:20:26.610Z  19.23533 -155.4067   31.640 1.85  md      31 \n",
       "10    2023-02-22T18:16:48.670Z  33.52917 -116.7268    4.730 1.06  ml      26 \n",
       "11    2023-02-22T18:13:07.973Z  62.92320 -150.2684   16.500 1.30  ml      NA \n",
       "12    2023-02-22T18:10:54.080Z  40.05067 -122.9132   -0.890 2.38  md      11 \n",
       "13    2023-02-22T17:48:54.920Z  40.03783 -122.9090    5.140 2.07  md       5 \n",
       "14    2023-02-22T17:38:48.350Z  38.78733 -122.9382    3.900 1.50  md      26 \n",
       "15    2023-02-22T17:38:33.160Z  38.79000 -122.9410    4.730 1.09  md      16 \n",
       "16    2023-02-22T17:36:03.144Z  56.81420 -153.0611   11.300 2.40  ml      NA \n",
       "17    2023-02-22T17:30:50.870Z  38.80500 -122.7715    1.200 0.28  md       6 \n",
       "18    2023-02-22T17:07:01.267Z  62.45010 -152.1698  125.700 1.90  ml      NA \n",
       "19    2023-02-22T16:27:25.722Z  63.16470 -149.6905   84.000 1.40  ml      NA \n",
       "20    2023-02-22T16:20:21.181Z  61.79070 -150.2054   10.700 2.10  ml      NA \n",
       "21    2023-02-22T16:05:52.220Z  38.83517 -122.7857    1.520 0.97  md       9 \n",
       "22    2023-02-22T15:56:47.583Z  61.25700 -150.3203  250.000 2.50  ml      NA \n",
       "23    2023-02-22T15:52:12.650Z  38.77583 -122.7298    1.220 0.88  md       8 \n",
       "24    2023-02-22T15:51:39.859Z -30.03890  -72.2035   12.059 4.00  mwr     23 \n",
       "25    2023-02-22T15:48:28.209Z  61.47460 -150.0414   33.400 1.30  ml      NA \n",
       "26    2023-02-22T15:48:21.690Z  40.55583 -124.2127   14.430 3.21  ml      21 \n",
       "27    2023-02-22T15:43:50.160Z  36.99650 -121.8257   13.410 1.54  md       9 \n",
       "28    2023-02-22T15:35:30.540Z  46.83850 -121.7125    2.490 1.07  ml      12 \n",
       "29    2023-02-22T15:25:51.418Z  59.56340 -152.9980   88.500 1.90  ml      NA \n",
       "30    2023-02-22T15:18:06.170Z  18.23100  -68.2605   96.000 3.76  md      15 \n",
       "⋮     ⋮                        ⋮         ⋮          ⋮       ⋮     ⋮       ⋮  \n",
       "10673 2023-01-23T22:03:44.140Z 35.61767   -84.21183  11.480  1.81 md       7 \n",
       "10674 2023-01-23T22:01:11.060Z 55.33020  -159.63360   6.800  2.40 ml      NA \n",
       "10675 2023-01-23T21:59:37.040Z 37.53950  -118.79633   4.830  0.64 md       7 \n",
       "10676 2023-01-23T21:55:10.289Z  1.85880   127.36710 110.943  4.20 mb      45 \n",
       "10677 2023-01-23T21:53:51.030Z 33.66117  -116.73467  14.040  1.09 ml      22 \n",
       "10678 2023-01-23T21:44:39.795Z 69.60540  -144.69790  23.400  4.10 mwr     NA \n",
       "10679 2023-01-23T21:44:07.494Z 61.09320  -151.16020   2.200  1.10 ml      NA \n",
       "10680 2023-01-23T21:43:51.120Z 38.83717  -122.83750   1.480  1.09 md      15 \n",
       "10681 2023-01-23T21:41:12.971Z 60.61710  -151.11940  54.800  1.50 ml      NA \n",
       "10682 2023-01-23T21:30:09.315Z 60.63930  -152.02970  77.800  1.50 ml      NA \n",
       "10683 2023-01-23T21:16:23.027Z 54.96970  -160.22350  38.649  3.00 ml      27 \n",
       "10684 2023-01-23T21:10:24.910Z 38.48917  -112.84050   0.120 -0.43 md       8 \n",
       "10685 2023-01-23T21:07:41.390Z 58.24883  -155.19867   4.150 -0.11 ml       6 \n",
       "10686 2023-01-23T21:02:40.410Z 32.89967  -116.95667  -0.310  1.50 ml      37 \n",
       "10687 2023-01-23T20:50:47.455Z 62.83500  -149.92610  78.000  1.10 ml      NA \n",
       "10688 2023-01-23T20:40:15.009Z 65.01050  -147.13070   0.000  0.90 ml      NA \n",
       "10689 2023-01-23T20:39:30.334Z 53.37950  -163.52230  35.000  2.40 ml      11 \n",
       "10690 2023-01-23T20:37:11.752Z 61.55630  -141.28500   3.300  1.30 ml      NA \n",
       "10691 2023-01-23T20:35:23.146Z 53.87520  -166.45970  11.400  1.10 ml      NA \n",
       "10692 2023-01-23T20:33:00.210Z 38.84350  -122.82917   2.630  0.93 md       7 \n",
       "10693 2023-01-23T20:32:43.074Z 52.71210  -168.20150  22.100  2.00 ml      NA \n",
       "10694 2023-01-23T20:31:51.340Z 46.14650  -119.56117  12.640  0.64 ml       6 \n",
       "10695 2023-01-23T20:21:46.246Z 36.99560  -116.39010  11.200  0.50 ml      12 \n",
       "10696 2023-01-23T20:18:36.815Z 61.13400  -140.39240   7.600  1.40 ml      NA \n",
       "10697 2023-01-23T20:12:38.040Z 20.29383  -156.61083   4.540  2.51 md      47 \n",
       "10698 2023-01-23T20:11:09.590Z 56.82130  -158.00080   3.500  1.90 ml      NA \n",
       "10699 2023-01-23T20:03:59.530Z 33.81550  -117.48300  -0.620  1.56 ml      53 \n",
       "10700 2023-01-23T20:03:16.280Z 36.70167   -96.70183   0.000  1.84 ml      34 \n",
       "10701 2023-01-23T19:45:00.466Z -6.84170   106.97450  11.127  4.50 mb      22 \n",
       "10702 2023-01-23T19:23:51.600Z 37.12233  -121.51200   9.230  0.94 md      16 \n",
       "      gap    dmin      rms    ⋯ updated                 \n",
       "1     225.00       NA  0.1000 ⋯ 2023-02-22T19:10:18.630Z\n",
       "2      29.00 0.031020  0.2700 ⋯ 2023-02-22T19:10:54.720Z\n",
       "3     125.38 0.066000  0.2560 ⋯ 2023-02-22T19:04:48.175Z\n",
       "4     124.00 0.093130  0.1900 ⋯ 2023-02-22T19:19:32.920Z\n",
       "5     124.00 0.097320  0.2400 ⋯ 2023-02-22T18:53:43.089Z\n",
       "6      53.00 0.009732  0.0200 ⋯ 2023-02-22T19:01:14.429Z\n",
       "7      80.53 0.059000  0.1197 ⋯ 2023-02-22T18:36:16.009Z\n",
       "8         NA       NA  0.4800 ⋯ 2023-02-22T18:23:48.382Z\n",
       "9     146.00       NA  0.1100 ⋯ 2023-02-22T18:23:49.140Z\n",
       "10     62.00 0.037180  0.1100 ⋯ 2023-02-22T19:18:57.330Z\n",
       "11        NA       NA  0.4000 ⋯ 2023-02-22T18:16:07.861Z\n",
       "12     91.00 0.158000  0.3100 ⋯ 2023-02-22T18:29:20.256Z\n",
       "13    118.00 0.166600  0.0600 ⋯ 2023-02-22T18:08:15.116Z\n",
       "14    111.00 0.042480  0.0300 ⋯ 2023-02-22T18:08:14.117Z\n",
       "15    133.00 0.055060  0.0300 ⋯ 2023-02-22T17:57:17.046Z\n",
       "16        NA       NA  0.9200 ⋯ 2023-02-22T17:38:54.698Z\n",
       "17    112.00 0.010190  0.0200 ⋯ 2023-02-22T17:47:15.984Z\n",
       "18        NA       NA  0.5500 ⋯ 2023-02-22T17:09:28.211Z\n",
       "19        NA       NA  0.9000 ⋯ 2023-02-22T16:29:27.091Z\n",
       "20        NA       NA  0.3900 ⋯ 2023-02-22T16:22:04.874Z\n",
       "21     68.00 0.004881  0.0100 ⋯ 2023-02-22T16:31:11.484Z\n",
       "22        NA       NA  0.9300 ⋯ 2023-02-22T16:00:02.401Z\n",
       "23    135.00 0.009146  0.0100 ⋯ 2023-02-22T16:10:12.357Z\n",
       "24    179.00 0.801000  1.1600 ⋯ 2023-02-22T17:15:55.040Z\n",
       "25        NA       NA  0.6800 ⋯ 2023-02-22T15:50:37.214Z\n",
       "26    177.00 0.234100  0.1200 ⋯ 2023-02-22T18:48:30.345Z\n",
       "27    183.00 0.068940  0.0600 ⋯ 2023-02-22T18:17:23.178Z\n",
       "28    224.00 0.014350  0.0900 ⋯ 2023-02-22T18:51:07.950Z\n",
       "29        NA       NA  0.3200 ⋯ 2023-02-22T15:28:04.231Z\n",
       "30    205.00 0.307600  0.2700 ⋯ 2023-02-22T15:54:41.369Z\n",
       "⋮     ⋮      ⋮         ⋮      ⋱ ⋮                       \n",
       "10673  78.0  0.0574900 0.0700 ⋯ 2023-01-24T14:29:33.740Z\n",
       "10674    NA         NA 0.4800 ⋯ 2023-02-07T00:48:40.179Z\n",
       "10675 314.0  0.0567700 0.0200 ⋯ 2023-01-24T00:42:11.798Z\n",
       "10676 161.0  1.0800000 0.5300 ⋯ 2023-02-13T04:43:07.040Z\n",
       "10677  88.0  0.0527200 0.1200 ⋯ 2023-01-24T14:59:30.252Z\n",
       "10678    NA         NA 0.6400 ⋯ 2023-02-13T00:08:34.040Z\n",
       "10679    NA         NA 0.7500 ⋯ 2023-02-07T00:48:39.814Z\n",
       "10680 109.0  0.0021200 0.0300 ⋯ 2023-01-23T22:03:10.753Z\n",
       "10681    NA         NA 0.4200 ⋯ 2023-02-07T00:48:39.614Z\n",
       "10682    NA         NA 0.2800 ⋯ 2023-02-07T00:48:39.428Z\n",
       "10683 215.0  0.4070000 0.5800 ⋯ 2023-02-12T23:30:04.040Z\n",
       "10684 203.0  0.0114300 0.0800 ⋯ 2023-01-23T21:44:42.450Z\n",
       "10685 120.0         NA 0.3000 ⋯ 2023-01-25T04:07:35.860Z\n",
       "10686 129.0  0.0938100 0.2600 ⋯ 2023-01-24T15:46:52.473Z\n",
       "10687    NA         NA 0.4400 ⋯ 2023-02-07T00:48:39.225Z\n",
       "10688    NA         NA 0.7300 ⋯ 2023-02-07T00:48:35.249Z\n",
       "10689 287.0  1.2630000 0.4300 ⋯ 2023-02-09T19:12:34.857Z\n",
       "10690    NA         NA 0.6700 ⋯ 2023-02-07T00:48:35.059Z\n",
       "10691    NA         NA 0.4300 ⋯ 2023-02-09T19:12:33.689Z\n",
       "10692 156.0  0.0069550 0.0100 ⋯ 2023-01-23T21:30:14.565Z\n",
       "10693    NA         NA 0.4700 ⋯ 2023-02-09T19:12:34.678Z\n",
       "10694 283.0  0.1095000 0.0200 ⋯ 2023-01-24T00:33:34.830Z\n",
       "10695 102.2  0.0170000 0.1098 ⋯ 2023-01-24T00:41:21.627Z\n",
       "10696    NA         NA 0.5500 ⋯ 2023-02-07T00:48:38.684Z\n",
       "10697 167.0         NA 0.2600 ⋯ 2023-02-07T21:52:28.040Z\n",
       "10698    NA         NA 0.5700 ⋯ 2023-02-09T19:12:34.501Z\n",
       "10699  40.0  0.0317000 0.2500 ⋯ 2023-01-24T15:36:23.740Z\n",
       "10700 101.0  0.1394726 0.4400 ⋯ 2023-01-24T17:02:37.479Z\n",
       "10701 121.0  0.6360000 0.5200 ⋯ 2023-02-21T17:11:53.040Z\n",
       "10702  65.0  0.0565100 0.0700 ⋯ 2023-01-24T19:41:14.290Z\n",
       "      place                                         type        \n",
       "1     8 km SE of Pāhala, Hawaii                     earthquake  \n",
       "2     7km SSE of Home Gardens, CA                   quarry blast\n",
       "3     33 km SE of Mina, Nevada                      earthquake  \n",
       "4     20km E of Julian, CA                          earthquake  \n",
       "5     20km E of Julian, CA                          earthquake  \n",
       "6     8km NW of The Geysers, CA                     earthquake  \n",
       "7     32 km SE of Mina, Nevada                      earthquake  \n",
       "8     53 km WNW of Happy Valley, Alaska             earthquake  \n",
       "9     8 km ENE of Pāhala, Hawaii                    earthquake  \n",
       "10    6km WSW of Anza, CA                           earthquake  \n",
       "11    53 km N of Chase, Alaska                      earthquake  \n",
       "12    40km NE of Covelo, CA                         earthquake  \n",
       "13    40km NE of Covelo, CA                         earthquake  \n",
       "14    7km ESE of Cloverdale, CA                     earthquake  \n",
       "15    7km ESE of Cloverdale, CA                     earthquake  \n",
       "16    45 km SSE of Old Harbor, Alaska               earthquake  \n",
       "17    3km NNW of The Geysers, CA                    earthquake  \n",
       "18    65 km NW of Skwentna, Alaska                  earthquake  \n",
       "19    44 km SW of Cantwell, Alaska                  earthquake  \n",
       "20    10 km WNW of Willow, Alaska                   earthquake  \n",
       "21    6km WNW of Cobb, CA                           earthquake  \n",
       "22    21 km WSW of Point MacKenzie, Alaska          earthquake  \n",
       "23    2km E of The Geysers, CA                      earthquake  \n",
       "24    83 km W of Coquimbo, Chile                    earthquake  \n",
       "25    6 km SW of Big Lake, Alaska                   earthquake  \n",
       "26    5km ESE of Ferndale, CA                       earthquake  \n",
       "27    2km WNW of Corralitos, CA                     earthquake  \n",
       "28    25 km ENE of Ashford, Washington              earthquake  \n",
       "29    65 km WNW of Nanwalek, Alaska                 earthquake  \n",
       "30    40 km ESE of Boca de Yuma, Dominican Republic earthquake  \n",
       "⋮     ⋮                                             ⋮           \n",
       "10673 Tennessee                                     earthquake  \n",
       "10674 54 km E of Sand Point, Alaska                 earthquake  \n",
       "10675 10km WSW of Toms Place, CA                    earthquake  \n",
       "10676 72 km WNW of Tobelo, Indonesia                earthquake  \n",
       "10677 9km S of Idyllwild, CA                        earthquake  \n",
       "10678 71 km SW of Kaktovik, Alaska                  earthquake  \n",
       "10679 3 km NNW of Tyonek, Alaska                    earthquake  \n",
       "10680 10km NW of The Geysers, CA                    earthquake  \n",
       "10681 9 km N of Ridgeway, Alaska                    earthquake  \n",
       "10682 38 km W of Salamatof, Alaska                  earthquake  \n",
       "10683 44 km SSE of Sand Point, Alaska               earthquake  \n",
       "10684 18 km NE of Milford, Utah                     earthquake  \n",
       "10685 Alaska Peninsula                              earthquake  \n",
       "10686 6km NW of Lakeside, CA                        quarry blast\n",
       "10687 43 km NNE of Chase, Alaska                    earthquake  \n",
       "10688 16 km NNW of Two Rivers, Alaska               explosion   \n",
       "10689 164 km S of False Pass, Alaska                earthquake  \n",
       "10690 88 km E of McCarthy, Alaska                   earthquake  \n",
       "10691 4 km E of Unalaska, Alaska                    earthquake  \n",
       "10692 10km WNW of Cobb, CA                          earthquake  \n",
       "10693 51 km ESE of Nikolski, Alaska                 earthquake  \n",
       "10694 14 km SSW of Benton City, Washington          earthquake  \n",
       "10695 34 km ENE of Beatty, Nevada                   earthquake  \n",
       "10696 139 km ESE of McCarthy, Alaska                earthquake  \n",
       "10697 43 km SSW of Mākena, Hawaii                   earthquake  \n",
       "10698 40 km ESE of Port Heiden, Alaska              earthquake  \n",
       "10699 8km SSE of Home Gardens, CA                   quarry blast\n",
       "10700 2 km ENE of Burbank, Oklahoma                 quarry blast\n",
       "10701 9 km NNE of Sukabumi, Indonesia               earthquake  \n",
       "10702 10km ENE of San Martin, CA                    earthquake  \n",
       "      horizontalError depthError magError   magNst status    locationSource\n",
       "1     0.77            1.140      1.0100000   3     automatic hv            \n",
       "2     0.29            0.500      0.2160000  29     automatic ci            \n",
       "3       NA            0.700      0.2300000   7     automatic nn            \n",
       "4     0.38            0.820      0.1530000  27     reviewed  ci            \n",
       "5     0.51            1.070      0.3380000  11     automatic ci            \n",
       "6     0.20            0.540      0.2000000  19     automatic nc            \n",
       "7       NA            1.200      0.2100000   9     reviewed  nn            \n",
       "8       NA            0.400             NA  NA     automatic ak            \n",
       "9     0.67            1.190      0.2100000   9     automatic hv            \n",
       "10    0.16            0.240      0.1570000  22     reviewed  ci            \n",
       "11      NA            0.400             NA  NA     automatic ak            \n",
       "12    0.98            8.490      0.1600000  12     automatic nc            \n",
       "13    0.55            3.170      0.2500000   5     automatic nc            \n",
       "14    0.28            0.840      0.2300000  25     automatic nc            \n",
       "15    0.40            1.740      0.3100000  16     automatic nc            \n",
       "16      NA            0.700             NA  NA     automatic ak            \n",
       "17    0.79            0.870      0.0700000   8     automatic nc            \n",
       "18      NA            0.700             NA  NA     automatic ak            \n",
       "19      NA            0.800             NA  NA     automatic ak            \n",
       "20      NA            0.200             NA  NA     automatic ak            \n",
       "21    0.54            1.330      0.2800000  13     automatic nc            \n",
       "22      NA            5.100             NA  NA     automatic ak            \n",
       "23    0.44            0.560      0.1600000   8     automatic nc            \n",
       "24    2.83            6.844      0.0500000  38     reviewed  us            \n",
       "25      NA            0.300             NA  NA     automatic ak            \n",
       "26    0.78            0.740      0.3020000  10     automatic nc            \n",
       "27    0.61            0.740      0.0800000   9     automatic nc            \n",
       "28    0.59            0.790      0.3115333   5     reviewed  uw            \n",
       "29      NA            0.700             NA  NA     automatic ak            \n",
       "30    1.72            1.080      0.1100000  11     reviewed  pr            \n",
       "⋮     ⋮               ⋮          ⋮          ⋮      ⋮         ⋮             \n",
       "10673  0.29            0.720     0.08082776  7     reviewed  se            \n",
       "10674    NA            0.800             NA NA     reviewed  ak            \n",
       "10675  2.12           31.610     0.05500000  6     reviewed  nc            \n",
       "10676 11.22            8.301     0.09100000 34     reviewed  us            \n",
       "10677  0.26            0.430     0.37500000 22     reviewed  ci            \n",
       "10678    NA            0.800             NA NA     reviewed  ak            \n",
       "10679    NA            0.900             NA NA     reviewed  ak            \n",
       "10680  0.25            0.660     0.32000000 17     automatic nc            \n",
       "10681    NA            1.500             NA NA     reviewed  ak            \n",
       "10682    NA            1.300             NA NA     reviewed  ak            \n",
       "10683  5.97           14.129     0.08300000 19     reviewed  us            \n",
       "10684  0.53            2.240     0.25600000  3     reviewed  uu            \n",
       "10685  1.28            2.940     0.24060271  6     reviewed  av            \n",
       "10686  0.69           31.610     0.09700000  7     reviewed  ci            \n",
       "10687    NA            0.900             NA NA     reviewed  ak            \n",
       "10688    NA            0.000             NA NA     reviewed  ak            \n",
       "10689  7.19            2.025     0.14800000  6     reviewed  us            \n",
       "10690    NA            0.700             NA NA     reviewed  ak            \n",
       "10691    NA            0.400             NA NA     reviewed  ak            \n",
       "10692  1.75            2.980     0.55000000  9     automatic nc            \n",
       "10693    NA            0.700             NA NA     reviewed  ak            \n",
       "10694  1.11            1.580     0.06585327  5     reviewed  uw            \n",
       "10695    NA            1.200     1.15000000  6     reviewed  nn            \n",
       "10696    NA            0.600             NA NA     reviewed  ak            \n",
       "10697  0.53            0.980     0.08510721 15     reviewed  hv            \n",
       "10698    NA            1.600             NA NA     reviewed  ak            \n",
       "10699  0.35           31.610     0.21700000 34     reviewed  ci            \n",
       "10700    NA            0.300     0.17000000 13     reviewed  ok            \n",
       "10701  6.81            3.489     0.19100000  8     reviewed  us            \n",
       "10702  0.33            0.720     0.13600000 14     reviewed  nc            \n",
       "      magSource\n",
       "1     hv       \n",
       "2     ci       \n",
       "3     nn       \n",
       "4     ci       \n",
       "5     ci       \n",
       "6     nc       \n",
       "7     nn       \n",
       "8     ak       \n",
       "9     hv       \n",
       "10    ci       \n",
       "11    ak       \n",
       "12    nc       \n",
       "13    nc       \n",
       "14    nc       \n",
       "15    nc       \n",
       "16    ak       \n",
       "17    nc       \n",
       "18    ak       \n",
       "19    ak       \n",
       "20    ak       \n",
       "21    nc       \n",
       "22    ak       \n",
       "23    nc       \n",
       "24    us       \n",
       "25    ak       \n",
       "26    nc       \n",
       "27    nc       \n",
       "28    uw       \n",
       "29    ak       \n",
       "30    pr       \n",
       "⋮     ⋮        \n",
       "10673 se       \n",
       "10674 ak       \n",
       "10675 nc       \n",
       "10676 us       \n",
       "10677 ci       \n",
       "10678 ak       \n",
       "10679 ak       \n",
       "10680 nc       \n",
       "10681 ak       \n",
       "10682 ak       \n",
       "10683 us       \n",
       "10684 uu       \n",
       "10685 av       \n",
       "10686 ci       \n",
       "10687 ak       \n",
       "10688 ak       \n",
       "10689 us       \n",
       "10690 ak       \n",
       "10691 ak       \n",
       "10692 nc       \n",
       "10693 ak       \n",
       "10694 uw       \n",
       "10695 nn       \n",
       "10696 ak       \n",
       "10697 hv       \n",
       "10698 ak       \n",
       "10699 ci       \n",
       "10700 ok       \n",
       "10701 us       \n",
       "10702 nc       "
      ]
     },
     "metadata": {},
     "output_type": "display_data"
    }
   ],
   "source": [
    "earthquakeDataFrame<-read.csv(fileToOpen)\n",
    "class(earthquakeDataFrame)\n",
    "earthquakeDataFrame"
   ]
  },
  {
   "cell_type": "markdown",
   "id": "4c78d30b",
   "metadata": {},
   "source": [
    "# Information about the data frame"
   ]
  },
  {
   "cell_type": "code",
   "execution_count": 54,
   "id": "39fca02c",
   "metadata": {},
   "outputs": [
    {
     "name": "stdout",
     "output_type": "stream",
     "text": [
      "'data.frame':\t10702 obs. of  22 variables:\n",
      " $ time           : chr  \"2023-02-22T19:07:13.970Z\" \"2023-02-22T19:07:02.970Z\" \"2023-02-22T19:01:47.140Z\" \"2023-02-22T18:52:57.640Z\" ...\n",
      " $ latitude       : num  19.1 33.8 38.2 33.1 33.1 ...\n",
      " $ longitude      : num  -155 -117 -118 -116 -116 ...\n",
      " $ depth          : num  32.08 1.71 4.6 12 12.94 ...\n",
      " $ mag            : num  2.04 1.93 2.4 1.45 1.29 ...\n",
      " $ magType        : chr  \"md\" \"ml\" \"ml\" \"ml\" ...\n",
      " $ nst            : int  29 43 11 27 18 18 13 NA 31 26 ...\n",
      " $ gap            : num  225 29 125 124 124 ...\n",
      " $ dmin           : num  NA 0.031 0.066 0.0931 0.0973 ...\n",
      " $ rms            : num  0.1 0.27 0.256 0.19 0.24 ...\n",
      " $ net            : chr  \"hv\" \"ci\" \"nn\" \"ci\" ...\n",
      " $ id             : chr  \"hv73329027\" \"ci40417832\" \"nn00856295\" \"ci40417824\" ...\n",
      " $ updated        : chr  \"2023-02-22T19:10:18.630Z\" \"2023-02-22T19:10:54.720Z\" \"2023-02-22T19:04:48.175Z\" \"2023-02-22T19:19:32.920Z\" ...\n",
      " $ place          : chr  \"8 km SE of Pāhala, Hawaii\" \"7km SSE of Home Gardens, CA\" \"33 km SE of Mina, Nevada\" \"20km E of Julian, CA\" ...\n",
      " $ type           : chr  \"earthquake\" \"quarry blast\" \"earthquake\" \"earthquake\" ...\n",
      " $ horizontalError: num  0.77 0.29 NA 0.38 0.51 0.2 NA NA 0.67 0.16 ...\n",
      " $ depthError     : num  1.14 0.5 0.7 0.82 1.07 ...\n",
      " $ magError       : num  1.01 0.216 0.23 0.153 0.338 ...\n",
      " $ magNst         : int  3 29 7 27 11 19 9 NA 9 22 ...\n",
      " $ status         : chr  \"automatic\" \"automatic\" \"automatic\" \"reviewed\" ...\n",
      " $ locationSource : chr  \"hv\" \"ci\" \"nn\" \"ci\" ...\n",
      " $ magSource      : chr  \"hv\" \"ci\" \"nn\" \"ci\" ...\n"
     ]
    }
   ],
   "source": [
    "# structure\n",
    "str(earthquakeDataFrame)"
   ]
  },
  {
   "cell_type": "code",
   "execution_count": 55,
   "id": "a150e0a6",
   "metadata": {},
   "outputs": [
    {
     "data": {
      "text/html": [
       "<table class=\"dataframe\">\n",
       "<caption>A data.frame: 6 × 22</caption>\n",
       "<thead>\n",
       "\t<tr><th></th><th scope=col>time</th><th scope=col>latitude</th><th scope=col>longitude</th><th scope=col>depth</th><th scope=col>mag</th><th scope=col>magType</th><th scope=col>nst</th><th scope=col>gap</th><th scope=col>dmin</th><th scope=col>rms</th><th scope=col>⋯</th><th scope=col>updated</th><th scope=col>place</th><th scope=col>type</th><th scope=col>horizontalError</th><th scope=col>depthError</th><th scope=col>magError</th><th scope=col>magNst</th><th scope=col>status</th><th scope=col>locationSource</th><th scope=col>magSource</th></tr>\n",
       "\t<tr><th></th><th scope=col>&lt;chr&gt;</th><th scope=col>&lt;dbl&gt;</th><th scope=col>&lt;dbl&gt;</th><th scope=col>&lt;dbl&gt;</th><th scope=col>&lt;dbl&gt;</th><th scope=col>&lt;chr&gt;</th><th scope=col>&lt;int&gt;</th><th scope=col>&lt;dbl&gt;</th><th scope=col>&lt;dbl&gt;</th><th scope=col>&lt;dbl&gt;</th><th scope=col>⋯</th><th scope=col>&lt;chr&gt;</th><th scope=col>&lt;chr&gt;</th><th scope=col>&lt;chr&gt;</th><th scope=col>&lt;dbl&gt;</th><th scope=col>&lt;dbl&gt;</th><th scope=col>&lt;dbl&gt;</th><th scope=col>&lt;int&gt;</th><th scope=col>&lt;chr&gt;</th><th scope=col>&lt;chr&gt;</th><th scope=col>&lt;chr&gt;</th></tr>\n",
       "</thead>\n",
       "<tbody>\n",
       "\t<tr><th scope=row>1</th><td>2023-02-22T19:07:13.970Z</td><td>19.14400</td><td>-155.4250</td><td>32.08</td><td>2.04</td><td>md</td><td>29</td><td>225.00</td><td>      NA</td><td>0.100</td><td>⋯</td><td>2023-02-22T19:10:18.630Z</td><td>8 km SE of Pāhala, Hawaii  </td><td>earthquake  </td><td>0.77</td><td>1.14</td><td>1.010</td><td> 3</td><td>automatic</td><td>hv</td><td>hv</td></tr>\n",
       "\t<tr><th scope=row>2</th><td>2023-02-22T19:07:02.970Z</td><td>33.82433</td><td>-117.4813</td><td> 1.71</td><td>1.93</td><td>ml</td><td>43</td><td> 29.00</td><td>0.031020</td><td>0.270</td><td>⋯</td><td>2023-02-22T19:10:54.720Z</td><td>7km SSE of Home Gardens, CA</td><td>quarry blast</td><td>0.29</td><td>0.50</td><td>0.216</td><td>29</td><td>automatic</td><td>ci</td><td>ci</td></tr>\n",
       "\t<tr><th scope=row>3</th><td>2023-02-22T19:01:47.140Z</td><td>38.15320</td><td>-117.8772</td><td> 4.60</td><td>2.40</td><td>ml</td><td>11</td><td>125.38</td><td>0.066000</td><td>0.256</td><td>⋯</td><td>2023-02-22T19:04:48.175Z</td><td>33 km SE of Mina, Nevada   </td><td>earthquake  </td><td>  NA</td><td>0.70</td><td>0.230</td><td> 7</td><td>automatic</td><td>nn</td><td>nn</td></tr>\n",
       "\t<tr><th scope=row>4</th><td>2023-02-22T18:52:57.640Z</td><td>33.06367</td><td>-116.3907</td><td>12.00</td><td>1.45</td><td>ml</td><td>27</td><td>124.00</td><td>0.093130</td><td>0.190</td><td>⋯</td><td>2023-02-22T19:19:32.920Z</td><td>20km E of Julian, CA       </td><td>earthquake  </td><td>0.38</td><td>0.82</td><td>0.153</td><td>27</td><td>reviewed </td><td>ci</td><td>ci</td></tr>\n",
       "\t<tr><th scope=row>5</th><td>2023-02-22T18:50:16.290Z</td><td>33.06783</td><td>-116.3900</td><td>12.94</td><td>1.29</td><td>ml</td><td>18</td><td>124.00</td><td>0.097320</td><td>0.240</td><td>⋯</td><td>2023-02-22T18:53:43.089Z</td><td>20km E of Julian, CA       </td><td>earthquake  </td><td>0.51</td><td>1.07</td><td>0.338</td><td>11</td><td>automatic</td><td>ci</td><td>ci</td></tr>\n",
       "\t<tr><th scope=row>6</th><td>2023-02-22T18:27:54.090Z</td><td>38.83167</td><td>-122.8167</td><td> 1.63</td><td>0.96</td><td>md</td><td>18</td><td> 53.00</td><td>0.009732</td><td>0.020</td><td>⋯</td><td>2023-02-22T19:01:14.429Z</td><td>8km NW of The Geysers, CA  </td><td>earthquake  </td><td>0.20</td><td>0.54</td><td>0.200</td><td>19</td><td>automatic</td><td>nc</td><td>nc</td></tr>\n",
       "</tbody>\n",
       "</table>\n"
      ],
      "text/latex": [
       "A data.frame: 6 × 22\n",
       "\\begin{tabular}{r|lllllllllllllllllllll}\n",
       "  & time & latitude & longitude & depth & mag & magType & nst & gap & dmin & rms & ⋯ & updated & place & type & horizontalError & depthError & magError & magNst & status & locationSource & magSource\\\\\n",
       "  & <chr> & <dbl> & <dbl> & <dbl> & <dbl> & <chr> & <int> & <dbl> & <dbl> & <dbl> & ⋯ & <chr> & <chr> & <chr> & <dbl> & <dbl> & <dbl> & <int> & <chr> & <chr> & <chr>\\\\\n",
       "\\hline\n",
       "\t1 & 2023-02-22T19:07:13.970Z & 19.14400 & -155.4250 & 32.08 & 2.04 & md & 29 & 225.00 &       NA & 0.100 & ⋯ & 2023-02-22T19:10:18.630Z & 8 km SE of Pāhala, Hawaii   & earthquake   & 0.77 & 1.14 & 1.010 &  3 & automatic & hv & hv\\\\\n",
       "\t2 & 2023-02-22T19:07:02.970Z & 33.82433 & -117.4813 &  1.71 & 1.93 & ml & 43 &  29.00 & 0.031020 & 0.270 & ⋯ & 2023-02-22T19:10:54.720Z & 7km SSE of Home Gardens, CA & quarry blast & 0.29 & 0.50 & 0.216 & 29 & automatic & ci & ci\\\\\n",
       "\t3 & 2023-02-22T19:01:47.140Z & 38.15320 & -117.8772 &  4.60 & 2.40 & ml & 11 & 125.38 & 0.066000 & 0.256 & ⋯ & 2023-02-22T19:04:48.175Z & 33 km SE of Mina, Nevada    & earthquake   &   NA & 0.70 & 0.230 &  7 & automatic & nn & nn\\\\\n",
       "\t4 & 2023-02-22T18:52:57.640Z & 33.06367 & -116.3907 & 12.00 & 1.45 & ml & 27 & 124.00 & 0.093130 & 0.190 & ⋯ & 2023-02-22T19:19:32.920Z & 20km E of Julian, CA        & earthquake   & 0.38 & 0.82 & 0.153 & 27 & reviewed  & ci & ci\\\\\n",
       "\t5 & 2023-02-22T18:50:16.290Z & 33.06783 & -116.3900 & 12.94 & 1.29 & ml & 18 & 124.00 & 0.097320 & 0.240 & ⋯ & 2023-02-22T18:53:43.089Z & 20km E of Julian, CA        & earthquake   & 0.51 & 1.07 & 0.338 & 11 & automatic & ci & ci\\\\\n",
       "\t6 & 2023-02-22T18:27:54.090Z & 38.83167 & -122.8167 &  1.63 & 0.96 & md & 18 &  53.00 & 0.009732 & 0.020 & ⋯ & 2023-02-22T19:01:14.429Z & 8km NW of The Geysers, CA   & earthquake   & 0.20 & 0.54 & 0.200 & 19 & automatic & nc & nc\\\\\n",
       "\\end{tabular}\n"
      ],
      "text/markdown": [
       "\n",
       "A data.frame: 6 × 22\n",
       "\n",
       "| <!--/--> | time &lt;chr&gt; | latitude &lt;dbl&gt; | longitude &lt;dbl&gt; | depth &lt;dbl&gt; | mag &lt;dbl&gt; | magType &lt;chr&gt; | nst &lt;int&gt; | gap &lt;dbl&gt; | dmin &lt;dbl&gt; | rms &lt;dbl&gt; | ⋯ ⋯ | updated &lt;chr&gt; | place &lt;chr&gt; | type &lt;chr&gt; | horizontalError &lt;dbl&gt; | depthError &lt;dbl&gt; | magError &lt;dbl&gt; | magNst &lt;int&gt; | status &lt;chr&gt; | locationSource &lt;chr&gt; | magSource &lt;chr&gt; |\n",
       "|---|---|---|---|---|---|---|---|---|---|---|---|---|---|---|---|---|---|---|---|---|---|\n",
       "| 1 | 2023-02-22T19:07:13.970Z | 19.14400 | -155.4250 | 32.08 | 2.04 | md | 29 | 225.00 |       NA | 0.100 | ⋯ | 2023-02-22T19:10:18.630Z | 8 km SE of Pāhala, Hawaii   | earthquake   | 0.77 | 1.14 | 1.010 |  3 | automatic | hv | hv |\n",
       "| 2 | 2023-02-22T19:07:02.970Z | 33.82433 | -117.4813 |  1.71 | 1.93 | ml | 43 |  29.00 | 0.031020 | 0.270 | ⋯ | 2023-02-22T19:10:54.720Z | 7km SSE of Home Gardens, CA | quarry blast | 0.29 | 0.50 | 0.216 | 29 | automatic | ci | ci |\n",
       "| 3 | 2023-02-22T19:01:47.140Z | 38.15320 | -117.8772 |  4.60 | 2.40 | ml | 11 | 125.38 | 0.066000 | 0.256 | ⋯ | 2023-02-22T19:04:48.175Z | 33 km SE of Mina, Nevada    | earthquake   |   NA | 0.70 | 0.230 |  7 | automatic | nn | nn |\n",
       "| 4 | 2023-02-22T18:52:57.640Z | 33.06367 | -116.3907 | 12.00 | 1.45 | ml | 27 | 124.00 | 0.093130 | 0.190 | ⋯ | 2023-02-22T19:19:32.920Z | 20km E of Julian, CA        | earthquake   | 0.38 | 0.82 | 0.153 | 27 | reviewed  | ci | ci |\n",
       "| 5 | 2023-02-22T18:50:16.290Z | 33.06783 | -116.3900 | 12.94 | 1.29 | ml | 18 | 124.00 | 0.097320 | 0.240 | ⋯ | 2023-02-22T18:53:43.089Z | 20km E of Julian, CA        | earthquake   | 0.51 | 1.07 | 0.338 | 11 | automatic | ci | ci |\n",
       "| 6 | 2023-02-22T18:27:54.090Z | 38.83167 | -122.8167 |  1.63 | 0.96 | md | 18 |  53.00 | 0.009732 | 0.020 | ⋯ | 2023-02-22T19:01:14.429Z | 8km NW of The Geysers, CA   | earthquake   | 0.20 | 0.54 | 0.200 | 19 | automatic | nc | nc |\n",
       "\n"
      ],
      "text/plain": [
       "  time                     latitude longitude depth mag  magType nst gap   \n",
       "1 2023-02-22T19:07:13.970Z 19.14400 -155.4250 32.08 2.04 md      29  225.00\n",
       "2 2023-02-22T19:07:02.970Z 33.82433 -117.4813  1.71 1.93 ml      43   29.00\n",
       "3 2023-02-22T19:01:47.140Z 38.15320 -117.8772  4.60 2.40 ml      11  125.38\n",
       "4 2023-02-22T18:52:57.640Z 33.06367 -116.3907 12.00 1.45 ml      27  124.00\n",
       "5 2023-02-22T18:50:16.290Z 33.06783 -116.3900 12.94 1.29 ml      18  124.00\n",
       "6 2023-02-22T18:27:54.090Z 38.83167 -122.8167  1.63 0.96 md      18   53.00\n",
       "  dmin     rms   ⋯ updated                  place                      \n",
       "1       NA 0.100 ⋯ 2023-02-22T19:10:18.630Z 8 km SE of Pāhala, Hawaii  \n",
       "2 0.031020 0.270 ⋯ 2023-02-22T19:10:54.720Z 7km SSE of Home Gardens, CA\n",
       "3 0.066000 0.256 ⋯ 2023-02-22T19:04:48.175Z 33 km SE of Mina, Nevada   \n",
       "4 0.093130 0.190 ⋯ 2023-02-22T19:19:32.920Z 20km E of Julian, CA       \n",
       "5 0.097320 0.240 ⋯ 2023-02-22T18:53:43.089Z 20km E of Julian, CA       \n",
       "6 0.009732 0.020 ⋯ 2023-02-22T19:01:14.429Z 8km NW of The Geysers, CA  \n",
       "  type         horizontalError depthError magError magNst status   \n",
       "1 earthquake   0.77            1.14       1.010     3     automatic\n",
       "2 quarry blast 0.29            0.50       0.216    29     automatic\n",
       "3 earthquake     NA            0.70       0.230     7     automatic\n",
       "4 earthquake   0.38            0.82       0.153    27     reviewed \n",
       "5 earthquake   0.51            1.07       0.338    11     automatic\n",
       "6 earthquake   0.20            0.54       0.200    19     automatic\n",
       "  locationSource magSource\n",
       "1 hv             hv       \n",
       "2 ci             ci       \n",
       "3 nn             nn       \n",
       "4 ci             ci       \n",
       "5 ci             ci       \n",
       "6 nc             nc       "
      ]
     },
     "metadata": {},
     "output_type": "display_data"
    }
   ],
   "source": [
    "# top of the dataframe, can optionally provide n = number of rows to display\n",
    "head(earthquakeDataFrame)"
   ]
  },
  {
   "cell_type": "code",
   "execution_count": 56,
   "id": "8bda7ea0",
   "metadata": {},
   "outputs": [
    {
     "data": {
      "text/html": [
       "<table class=\"dataframe\">\n",
       "<caption>A data.frame: 6 × 22</caption>\n",
       "<thead>\n",
       "\t<tr><th></th><th scope=col>time</th><th scope=col>latitude</th><th scope=col>longitude</th><th scope=col>depth</th><th scope=col>mag</th><th scope=col>magType</th><th scope=col>nst</th><th scope=col>gap</th><th scope=col>dmin</th><th scope=col>rms</th><th scope=col>⋯</th><th scope=col>updated</th><th scope=col>place</th><th scope=col>type</th><th scope=col>horizontalError</th><th scope=col>depthError</th><th scope=col>magError</th><th scope=col>magNst</th><th scope=col>status</th><th scope=col>locationSource</th><th scope=col>magSource</th></tr>\n",
       "\t<tr><th></th><th scope=col>&lt;chr&gt;</th><th scope=col>&lt;dbl&gt;</th><th scope=col>&lt;dbl&gt;</th><th scope=col>&lt;dbl&gt;</th><th scope=col>&lt;dbl&gt;</th><th scope=col>&lt;chr&gt;</th><th scope=col>&lt;int&gt;</th><th scope=col>&lt;dbl&gt;</th><th scope=col>&lt;dbl&gt;</th><th scope=col>&lt;dbl&gt;</th><th scope=col>⋯</th><th scope=col>&lt;chr&gt;</th><th scope=col>&lt;chr&gt;</th><th scope=col>&lt;chr&gt;</th><th scope=col>&lt;dbl&gt;</th><th scope=col>&lt;dbl&gt;</th><th scope=col>&lt;dbl&gt;</th><th scope=col>&lt;int&gt;</th><th scope=col>&lt;chr&gt;</th><th scope=col>&lt;chr&gt;</th><th scope=col>&lt;chr&gt;</th></tr>\n",
       "</thead>\n",
       "<tbody>\n",
       "\t<tr><th scope=row>10697</th><td>2023-01-23T20:12:38.040Z</td><td>20.29383</td><td>-156.61083</td><td> 4.540</td><td>2.51</td><td>md</td><td>47</td><td>167</td><td>       NA</td><td>0.26</td><td>⋯</td><td>2023-02-07T21:52:28.040Z</td><td>43 km SSW of Mākena, Hawaii     </td><td>earthquake  </td><td>0.53</td><td> 0.980</td><td>0.08510721</td><td>15</td><td>reviewed</td><td>hv</td><td>hv</td></tr>\n",
       "\t<tr><th scope=row>10698</th><td>2023-01-23T20:11:09.590Z</td><td>56.82130</td><td>-158.00080</td><td> 3.500</td><td>1.90</td><td>ml</td><td>NA</td><td> NA</td><td>       NA</td><td>0.57</td><td>⋯</td><td>2023-02-09T19:12:34.501Z</td><td>40 km ESE of Port Heiden, Alaska</td><td>earthquake  </td><td>  NA</td><td> 1.600</td><td>        NA</td><td>NA</td><td>reviewed</td><td>ak</td><td>ak</td></tr>\n",
       "\t<tr><th scope=row>10699</th><td>2023-01-23T20:03:59.530Z</td><td>33.81550</td><td>-117.48300</td><td>-0.620</td><td>1.56</td><td>ml</td><td>53</td><td> 40</td><td>0.0317000</td><td>0.25</td><td>⋯</td><td>2023-01-24T15:36:23.740Z</td><td>8km SSE of Home Gardens, CA     </td><td>quarry blast</td><td>0.35</td><td>31.610</td><td>0.21700000</td><td>34</td><td>reviewed</td><td>ci</td><td>ci</td></tr>\n",
       "\t<tr><th scope=row>10700</th><td>2023-01-23T20:03:16.280Z</td><td>36.70167</td><td> -96.70183</td><td> 0.000</td><td>1.84</td><td>ml</td><td>34</td><td>101</td><td>0.1394726</td><td>0.44</td><td>⋯</td><td>2023-01-24T17:02:37.479Z</td><td>2 km ENE of Burbank, Oklahoma   </td><td>quarry blast</td><td>  NA</td><td> 0.300</td><td>0.17000000</td><td>13</td><td>reviewed</td><td>ok</td><td>ok</td></tr>\n",
       "\t<tr><th scope=row>10701</th><td>2023-01-23T19:45:00.466Z</td><td>-6.84170</td><td> 106.97450</td><td>11.127</td><td>4.50</td><td>mb</td><td>22</td><td>121</td><td>0.6360000</td><td>0.52</td><td>⋯</td><td>2023-02-21T17:11:53.040Z</td><td>9 km NNE of Sukabumi, Indonesia </td><td>earthquake  </td><td>6.81</td><td> 3.489</td><td>0.19100000</td><td> 8</td><td>reviewed</td><td>us</td><td>us</td></tr>\n",
       "\t<tr><th scope=row>10702</th><td>2023-01-23T19:23:51.600Z</td><td>37.12233</td><td>-121.51200</td><td> 9.230</td><td>0.94</td><td>md</td><td>16</td><td> 65</td><td>0.0565100</td><td>0.07</td><td>⋯</td><td>2023-01-24T19:41:14.290Z</td><td>10km ENE of San Martin, CA      </td><td>earthquake  </td><td>0.33</td><td> 0.720</td><td>0.13600000</td><td>14</td><td>reviewed</td><td>nc</td><td>nc</td></tr>\n",
       "</tbody>\n",
       "</table>\n"
      ],
      "text/latex": [
       "A data.frame: 6 × 22\n",
       "\\begin{tabular}{r|lllllllllllllllllllll}\n",
       "  & time & latitude & longitude & depth & mag & magType & nst & gap & dmin & rms & ⋯ & updated & place & type & horizontalError & depthError & magError & magNst & status & locationSource & magSource\\\\\n",
       "  & <chr> & <dbl> & <dbl> & <dbl> & <dbl> & <chr> & <int> & <dbl> & <dbl> & <dbl> & ⋯ & <chr> & <chr> & <chr> & <dbl> & <dbl> & <dbl> & <int> & <chr> & <chr> & <chr>\\\\\n",
       "\\hline\n",
       "\t10697 & 2023-01-23T20:12:38.040Z & 20.29383 & -156.61083 &  4.540 & 2.51 & md & 47 & 167 &        NA & 0.26 & ⋯ & 2023-02-07T21:52:28.040Z & 43 km SSW of Mākena, Hawaii      & earthquake   & 0.53 &  0.980 & 0.08510721 & 15 & reviewed & hv & hv\\\\\n",
       "\t10698 & 2023-01-23T20:11:09.590Z & 56.82130 & -158.00080 &  3.500 & 1.90 & ml & NA &  NA &        NA & 0.57 & ⋯ & 2023-02-09T19:12:34.501Z & 40 km ESE of Port Heiden, Alaska & earthquake   &   NA &  1.600 &         NA & NA & reviewed & ak & ak\\\\\n",
       "\t10699 & 2023-01-23T20:03:59.530Z & 33.81550 & -117.48300 & -0.620 & 1.56 & ml & 53 &  40 & 0.0317000 & 0.25 & ⋯ & 2023-01-24T15:36:23.740Z & 8km SSE of Home Gardens, CA      & quarry blast & 0.35 & 31.610 & 0.21700000 & 34 & reviewed & ci & ci\\\\\n",
       "\t10700 & 2023-01-23T20:03:16.280Z & 36.70167 &  -96.70183 &  0.000 & 1.84 & ml & 34 & 101 & 0.1394726 & 0.44 & ⋯ & 2023-01-24T17:02:37.479Z & 2 km ENE of Burbank, Oklahoma    & quarry blast &   NA &  0.300 & 0.17000000 & 13 & reviewed & ok & ok\\\\\n",
       "\t10701 & 2023-01-23T19:45:00.466Z & -6.84170 &  106.97450 & 11.127 & 4.50 & mb & 22 & 121 & 0.6360000 & 0.52 & ⋯ & 2023-02-21T17:11:53.040Z & 9 km NNE of Sukabumi, Indonesia  & earthquake   & 6.81 &  3.489 & 0.19100000 &  8 & reviewed & us & us\\\\\n",
       "\t10702 & 2023-01-23T19:23:51.600Z & 37.12233 & -121.51200 &  9.230 & 0.94 & md & 16 &  65 & 0.0565100 & 0.07 & ⋯ & 2023-01-24T19:41:14.290Z & 10km ENE of San Martin, CA       & earthquake   & 0.33 &  0.720 & 0.13600000 & 14 & reviewed & nc & nc\\\\\n",
       "\\end{tabular}\n"
      ],
      "text/markdown": [
       "\n",
       "A data.frame: 6 × 22\n",
       "\n",
       "| <!--/--> | time &lt;chr&gt; | latitude &lt;dbl&gt; | longitude &lt;dbl&gt; | depth &lt;dbl&gt; | mag &lt;dbl&gt; | magType &lt;chr&gt; | nst &lt;int&gt; | gap &lt;dbl&gt; | dmin &lt;dbl&gt; | rms &lt;dbl&gt; | ⋯ ⋯ | updated &lt;chr&gt; | place &lt;chr&gt; | type &lt;chr&gt; | horizontalError &lt;dbl&gt; | depthError &lt;dbl&gt; | magError &lt;dbl&gt; | magNst &lt;int&gt; | status &lt;chr&gt; | locationSource &lt;chr&gt; | magSource &lt;chr&gt; |\n",
       "|---|---|---|---|---|---|---|---|---|---|---|---|---|---|---|---|---|---|---|---|---|---|\n",
       "| 10697 | 2023-01-23T20:12:38.040Z | 20.29383 | -156.61083 |  4.540 | 2.51 | md | 47 | 167 |        NA | 0.26 | ⋯ | 2023-02-07T21:52:28.040Z | 43 km SSW of Mākena, Hawaii      | earthquake   | 0.53 |  0.980 | 0.08510721 | 15 | reviewed | hv | hv |\n",
       "| 10698 | 2023-01-23T20:11:09.590Z | 56.82130 | -158.00080 |  3.500 | 1.90 | ml | NA |  NA |        NA | 0.57 | ⋯ | 2023-02-09T19:12:34.501Z | 40 km ESE of Port Heiden, Alaska | earthquake   |   NA |  1.600 |         NA | NA | reviewed | ak | ak |\n",
       "| 10699 | 2023-01-23T20:03:59.530Z | 33.81550 | -117.48300 | -0.620 | 1.56 | ml | 53 |  40 | 0.0317000 | 0.25 | ⋯ | 2023-01-24T15:36:23.740Z | 8km SSE of Home Gardens, CA      | quarry blast | 0.35 | 31.610 | 0.21700000 | 34 | reviewed | ci | ci |\n",
       "| 10700 | 2023-01-23T20:03:16.280Z | 36.70167 |  -96.70183 |  0.000 | 1.84 | ml | 34 | 101 | 0.1394726 | 0.44 | ⋯ | 2023-01-24T17:02:37.479Z | 2 km ENE of Burbank, Oklahoma    | quarry blast |   NA |  0.300 | 0.17000000 | 13 | reviewed | ok | ok |\n",
       "| 10701 | 2023-01-23T19:45:00.466Z | -6.84170 |  106.97450 | 11.127 | 4.50 | mb | 22 | 121 | 0.6360000 | 0.52 | ⋯ | 2023-02-21T17:11:53.040Z | 9 km NNE of Sukabumi, Indonesia  | earthquake   | 6.81 |  3.489 | 0.19100000 |  8 | reviewed | us | us |\n",
       "| 10702 | 2023-01-23T19:23:51.600Z | 37.12233 | -121.51200 |  9.230 | 0.94 | md | 16 |  65 | 0.0565100 | 0.07 | ⋯ | 2023-01-24T19:41:14.290Z | 10km ENE of San Martin, CA       | earthquake   | 0.33 |  0.720 | 0.13600000 | 14 | reviewed | nc | nc |\n",
       "\n"
      ],
      "text/plain": [
       "      time                     latitude longitude  depth  mag  magType nst gap\n",
       "10697 2023-01-23T20:12:38.040Z 20.29383 -156.61083  4.540 2.51 md      47  167\n",
       "10698 2023-01-23T20:11:09.590Z 56.82130 -158.00080  3.500 1.90 ml      NA   NA\n",
       "10699 2023-01-23T20:03:59.530Z 33.81550 -117.48300 -0.620 1.56 ml      53   40\n",
       "10700 2023-01-23T20:03:16.280Z 36.70167  -96.70183  0.000 1.84 ml      34  101\n",
       "10701 2023-01-23T19:45:00.466Z -6.84170  106.97450 11.127 4.50 mb      22  121\n",
       "10702 2023-01-23T19:23:51.600Z 37.12233 -121.51200  9.230 0.94 md      16   65\n",
       "      dmin      rms  ⋯ updated                 \n",
       "10697        NA 0.26 ⋯ 2023-02-07T21:52:28.040Z\n",
       "10698        NA 0.57 ⋯ 2023-02-09T19:12:34.501Z\n",
       "10699 0.0317000 0.25 ⋯ 2023-01-24T15:36:23.740Z\n",
       "10700 0.1394726 0.44 ⋯ 2023-01-24T17:02:37.479Z\n",
       "10701 0.6360000 0.52 ⋯ 2023-02-21T17:11:53.040Z\n",
       "10702 0.0565100 0.07 ⋯ 2023-01-24T19:41:14.290Z\n",
       "      place                            type         horizontalError depthError\n",
       "10697 43 km SSW of Mākena, Hawaii      earthquake   0.53             0.980    \n",
       "10698 40 km ESE of Port Heiden, Alaska earthquake     NA             1.600    \n",
       "10699 8km SSE of Home Gardens, CA      quarry blast 0.35            31.610    \n",
       "10700 2 km ENE of Burbank, Oklahoma    quarry blast   NA             0.300    \n",
       "10701 9 km NNE of Sukabumi, Indonesia  earthquake   6.81             3.489    \n",
       "10702 10km ENE of San Martin, CA       earthquake   0.33             0.720    \n",
       "      magError   magNst status   locationSource magSource\n",
       "10697 0.08510721 15     reviewed hv             hv       \n",
       "10698         NA NA     reviewed ak             ak       \n",
       "10699 0.21700000 34     reviewed ci             ci       \n",
       "10700 0.17000000 13     reviewed ok             ok       \n",
       "10701 0.19100000  8     reviewed us             us       \n",
       "10702 0.13600000 14     reviewed nc             nc       "
      ]
     },
     "metadata": {},
     "output_type": "display_data"
    }
   ],
   "source": [
    "#bottom of the dataframe, can optionally provide n = number of rows to display\n",
    "tail(earthquakeDataFrame)"
   ]
  },
  {
   "cell_type": "code",
   "execution_count": 57,
   "id": "246cf707",
   "metadata": {},
   "outputs": [
    {
     "data": {
      "text/html": [
       "<style>\n",
       ".list-inline {list-style: none; margin:0; padding: 0}\n",
       ".list-inline>li {display: inline-block}\n",
       ".list-inline>li:not(:last-child)::after {content: \"\\00b7\"; padding: 0 .5ex}\n",
       "</style>\n",
       "<ol class=list-inline><li>'time'</li><li>'latitude'</li><li>'longitude'</li><li>'depth'</li><li>'mag'</li><li>'magType'</li><li>'nst'</li><li>'gap'</li><li>'dmin'</li><li>'rms'</li><li>'net'</li><li>'id'</li><li>'updated'</li><li>'place'</li><li>'type'</li><li>'horizontalError'</li><li>'depthError'</li><li>'magError'</li><li>'magNst'</li><li>'status'</li><li>'locationSource'</li><li>'magSource'</li></ol>\n"
      ],
      "text/latex": [
       "\\begin{enumerate*}\n",
       "\\item 'time'\n",
       "\\item 'latitude'\n",
       "\\item 'longitude'\n",
       "\\item 'depth'\n",
       "\\item 'mag'\n",
       "\\item 'magType'\n",
       "\\item 'nst'\n",
       "\\item 'gap'\n",
       "\\item 'dmin'\n",
       "\\item 'rms'\n",
       "\\item 'net'\n",
       "\\item 'id'\n",
       "\\item 'updated'\n",
       "\\item 'place'\n",
       "\\item 'type'\n",
       "\\item 'horizontalError'\n",
       "\\item 'depthError'\n",
       "\\item 'magError'\n",
       "\\item 'magNst'\n",
       "\\item 'status'\n",
       "\\item 'locationSource'\n",
       "\\item 'magSource'\n",
       "\\end{enumerate*}\n"
      ],
      "text/markdown": [
       "1. 'time'\n",
       "2. 'latitude'\n",
       "3. 'longitude'\n",
       "4. 'depth'\n",
       "5. 'mag'\n",
       "6. 'magType'\n",
       "7. 'nst'\n",
       "8. 'gap'\n",
       "9. 'dmin'\n",
       "10. 'rms'\n",
       "11. 'net'\n",
       "12. 'id'\n",
       "13. 'updated'\n",
       "14. 'place'\n",
       "15. 'type'\n",
       "16. 'horizontalError'\n",
       "17. 'depthError'\n",
       "18. 'magError'\n",
       "19. 'magNst'\n",
       "20. 'status'\n",
       "21. 'locationSource'\n",
       "22. 'magSource'\n",
       "\n",
       "\n"
      ],
      "text/plain": [
       " [1] \"time\"            \"latitude\"        \"longitude\"       \"depth\"          \n",
       " [5] \"mag\"             \"magType\"         \"nst\"             \"gap\"            \n",
       " [9] \"dmin\"            \"rms\"             \"net\"             \"id\"             \n",
       "[13] \"updated\"         \"place\"           \"type\"            \"horizontalError\"\n",
       "[17] \"depthError\"      \"magError\"        \"magNst\"          \"status\"         \n",
       "[21] \"locationSource\"  \"magSource\"      "
      ]
     },
     "metadata": {},
     "output_type": "display_data"
    },
    {
     "data": {
      "text/html": [
       "'latitude'"
      ],
      "text/latex": [
       "'latitude'"
      ],
      "text/markdown": [
       "'latitude'"
      ],
      "text/plain": [
       "[1] \"latitude\""
      ]
     },
     "metadata": {},
     "output_type": "display_data"
    },
    {
     "data": {
      "text/html": [
       "'id'"
      ],
      "text/latex": [
       "'id'"
      ],
      "text/markdown": [
       "'id'"
      ],
      "text/plain": [
       "[1] \"id\""
      ]
     },
     "metadata": {},
     "output_type": "display_data"
    }
   ],
   "source": [
    "# header/column names\n",
    "names(earthquakeDataFrame)\n",
    "\n",
    "# which can be stored\n",
    "columnNames <- names(earthquakeDataFrame)\n",
    "\n",
    "# then accessed by index\n",
    "columnNames[2]\n",
    "columnNames[12]"
   ]
  },
  {
   "cell_type": "code",
   "execution_count": 58,
   "id": "f39b7775",
   "metadata": {},
   "outputs": [
    {
     "data": {
      "text/html": [
       "<table class=\"dataframe\">\n",
       "<caption>A data.frame: 6 × 1</caption>\n",
       "<thead>\n",
       "\t<tr><th></th><th scope=col>latitude</th></tr>\n",
       "\t<tr><th></th><th scope=col>&lt;dbl&gt;</th></tr>\n",
       "</thead>\n",
       "<tbody>\n",
       "\t<tr><th scope=row>1</th><td>19.14400</td></tr>\n",
       "\t<tr><th scope=row>2</th><td>33.82433</td></tr>\n",
       "\t<tr><th scope=row>3</th><td>38.15320</td></tr>\n",
       "\t<tr><th scope=row>4</th><td>33.06367</td></tr>\n",
       "\t<tr><th scope=row>5</th><td>33.06783</td></tr>\n",
       "\t<tr><th scope=row>6</th><td>38.83167</td></tr>\n",
       "</tbody>\n",
       "</table>\n"
      ],
      "text/latex": [
       "A data.frame: 6 × 1\n",
       "\\begin{tabular}{r|l}\n",
       "  & latitude\\\\\n",
       "  & <dbl>\\\\\n",
       "\\hline\n",
       "\t1 & 19.14400\\\\\n",
       "\t2 & 33.82433\\\\\n",
       "\t3 & 38.15320\\\\\n",
       "\t4 & 33.06367\\\\\n",
       "\t5 & 33.06783\\\\\n",
       "\t6 & 38.83167\\\\\n",
       "\\end{tabular}\n"
      ],
      "text/markdown": [
       "\n",
       "A data.frame: 6 × 1\n",
       "\n",
       "| <!--/--> | latitude &lt;dbl&gt; |\n",
       "|---|---|\n",
       "| 1 | 19.14400 |\n",
       "| 2 | 33.82433 |\n",
       "| 3 | 38.15320 |\n",
       "| 4 | 33.06367 |\n",
       "| 5 | 33.06783 |\n",
       "| 6 | 38.83167 |\n",
       "\n"
      ],
      "text/plain": [
       "  latitude\n",
       "1 19.14400\n",
       "2 33.82433\n",
       "3 38.15320\n",
       "4 33.06367\n",
       "5 33.06783\n",
       "6 38.83167"
      ]
     },
     "metadata": {},
     "output_type": "display_data"
    }
   ],
   "source": [
    "# dataframe can also be accessed by index position, with the first column being 1\n",
    "head( earthquakeDataFrame[2] )"
   ]
  },
  {
   "cell_type": "code",
   "execution_count": 59,
   "id": "9d01ea88",
   "metadata": {},
   "outputs": [
    {
     "data": {
      "text/html": [
       "'data.frame'"
      ],
      "text/latex": [
       "'data.frame'"
      ],
      "text/markdown": [
       "'data.frame'"
      ],
      "text/plain": [
       "[1] \"data.frame\""
      ]
     },
     "metadata": {},
     "output_type": "display_data"
    },
    {
     "data": {
      "text/html": [
       "<table class=\"dataframe\">\n",
       "<caption>A data.frame: 6 × 1</caption>\n",
       "<thead>\n",
       "\t<tr><th></th><th scope=col>id</th></tr>\n",
       "\t<tr><th></th><th scope=col>&lt;chr&gt;</th></tr>\n",
       "</thead>\n",
       "<tbody>\n",
       "\t<tr><th scope=row>1</th><td>hv73329027</td></tr>\n",
       "\t<tr><th scope=row>2</th><td>ci40417832</td></tr>\n",
       "\t<tr><th scope=row>3</th><td>nn00856295</td></tr>\n",
       "\t<tr><th scope=row>4</th><td>ci40417824</td></tr>\n",
       "\t<tr><th scope=row>5</th><td>ci40417816</td></tr>\n",
       "\t<tr><th scope=row>6</th><td>nc73850231</td></tr>\n",
       "</tbody>\n",
       "</table>\n"
      ],
      "text/latex": [
       "A data.frame: 6 × 1\n",
       "\\begin{tabular}{r|l}\n",
       "  & id\\\\\n",
       "  & <chr>\\\\\n",
       "\\hline\n",
       "\t1 & hv73329027\\\\\n",
       "\t2 & ci40417832\\\\\n",
       "\t3 & nn00856295\\\\\n",
       "\t4 & ci40417824\\\\\n",
       "\t5 & ci40417816\\\\\n",
       "\t6 & nc73850231\\\\\n",
       "\\end{tabular}\n"
      ],
      "text/markdown": [
       "\n",
       "A data.frame: 6 × 1\n",
       "\n",
       "| <!--/--> | id &lt;chr&gt; |\n",
       "|---|---|\n",
       "| 1 | hv73329027 |\n",
       "| 2 | ci40417832 |\n",
       "| 3 | nn00856295 |\n",
       "| 4 | ci40417824 |\n",
       "| 5 | ci40417816 |\n",
       "| 6 | nc73850231 |\n",
       "\n"
      ],
      "text/plain": [
       "  id        \n",
       "1 hv73329027\n",
       "2 ci40417832\n",
       "3 nn00856295\n",
       "4 ci40417824\n",
       "5 ci40417816\n",
       "6 nc73850231"
      ]
     },
     "metadata": {},
     "output_type": "display_data"
    },
    {
     "data": {
      "text/html": [
       "'character'"
      ],
      "text/latex": [
       "'character'"
      ],
      "text/markdown": [
       "'character'"
      ],
      "text/plain": [
       "[1] \"character\""
      ]
     },
     "metadata": {},
     "output_type": "display_data"
    },
    {
     "data": {
      "text/html": [
       "<style>\n",
       ".list-inline {list-style: none; margin:0; padding: 0}\n",
       ".list-inline>li {display: inline-block}\n",
       ".list-inline>li:not(:last-child)::after {content: \"\\00b7\"; padding: 0 .5ex}\n",
       "</style>\n",
       "<ol class=list-inline><li>'hv73329027'</li><li>'ci40417832'</li><li>'nn00856295'</li><li>'ci40417824'</li><li>'ci40417816'</li><li>'nc73850231'</li></ol>\n"
      ],
      "text/latex": [
       "\\begin{enumerate*}\n",
       "\\item 'hv73329027'\n",
       "\\item 'ci40417832'\n",
       "\\item 'nn00856295'\n",
       "\\item 'ci40417824'\n",
       "\\item 'ci40417816'\n",
       "\\item 'nc73850231'\n",
       "\\end{enumerate*}\n"
      ],
      "text/markdown": [
       "1. 'hv73329027'\n",
       "2. 'ci40417832'\n",
       "3. 'nn00856295'\n",
       "4. 'ci40417824'\n",
       "5. 'ci40417816'\n",
       "6. 'nc73850231'\n",
       "\n",
       "\n"
      ],
      "text/plain": [
       "[1] \"hv73329027\" \"ci40417832\" \"nn00856295\" \"ci40417824\" \"ci40417816\"\n",
       "[6] \"nc73850231\""
      ]
     },
     "metadata": {},
     "output_type": "display_data"
    },
    {
     "data": {
      "text/html": [
       "'hv73329027'"
      ],
      "text/latex": [
       "'hv73329027'"
      ],
      "text/markdown": [
       "'hv73329027'"
      ],
      "text/plain": [
       "[1] \"hv73329027\""
      ]
     },
     "metadata": {},
     "output_type": "display_data"
    },
    {
     "data": {
      "text/html": [
       "'hv73329027'"
      ],
      "text/latex": [
       "'hv73329027'"
      ],
      "text/markdown": [
       "'hv73329027'"
      ],
      "text/plain": [
       "[1] \"hv73329027\""
      ]
     },
     "metadata": {},
     "output_type": "display_data"
    },
    {
     "data": {
      "text/html": [
       "<table class=\"dataframe\">\n",
       "<caption>A data.frame: 6 × 1</caption>\n",
       "<thead>\n",
       "\t<tr><th></th><th scope=col>depth</th></tr>\n",
       "\t<tr><th></th><th scope=col>&lt;dbl&gt;</th></tr>\n",
       "</thead>\n",
       "<tbody>\n",
       "\t<tr><th scope=row>1</th><td>32.08</td></tr>\n",
       "\t<tr><th scope=row>2</th><td> 1.71</td></tr>\n",
       "\t<tr><th scope=row>3</th><td> 4.60</td></tr>\n",
       "\t<tr><th scope=row>4</th><td>12.00</td></tr>\n",
       "\t<tr><th scope=row>5</th><td>12.94</td></tr>\n",
       "\t<tr><th scope=row>6</th><td> 1.63</td></tr>\n",
       "</tbody>\n",
       "</table>\n"
      ],
      "text/latex": [
       "A data.frame: 6 × 1\n",
       "\\begin{tabular}{r|l}\n",
       "  & depth\\\\\n",
       "  & <dbl>\\\\\n",
       "\\hline\n",
       "\t1 & 32.08\\\\\n",
       "\t2 &  1.71\\\\\n",
       "\t3 &  4.60\\\\\n",
       "\t4 & 12.00\\\\\n",
       "\t5 & 12.94\\\\\n",
       "\t6 &  1.63\\\\\n",
       "\\end{tabular}\n"
      ],
      "text/markdown": [
       "\n",
       "A data.frame: 6 × 1\n",
       "\n",
       "| <!--/--> | depth &lt;dbl&gt; |\n",
       "|---|---|\n",
       "| 1 | 32.08 |\n",
       "| 2 |  1.71 |\n",
       "| 3 |  4.60 |\n",
       "| 4 | 12.00 |\n",
       "| 5 | 12.94 |\n",
       "| 6 |  1.63 |\n",
       "\n"
      ],
      "text/plain": [
       "  depth\n",
       "1 32.08\n",
       "2  1.71\n",
       "3  4.60\n",
       "4 12.00\n",
       "5 12.94\n",
       "6  1.63"
      ]
     },
     "metadata": {},
     "output_type": "display_data"
    }
   ],
   "source": [
    "# or by column name using [\"\"] which preserved the data frame type\n",
    "class(earthquakeDataFrame[\"id\"] )\n",
    "head( earthquakeDataFrame[\"id\"] )\n",
    "\n",
    "\n",
    "# or using $ to access the values in the column\n",
    "class(earthquakeDataFrame$id)\n",
    "head( earthquakeDataFrame$id )\n",
    "\n",
    "# which can further be accessed by row number\n",
    "earthquakeDataFrame[\"id\"][1,]\n",
    "earthquakeDataFrame$id[1]\n",
    "\n",
    "# the benefit of using the [] is that the name could be a variable\n",
    "ex <- \"depth\"\n",
    "head( earthquakeDataFrame[ex] )"
   ]
  },
  {
   "cell_type": "code",
   "execution_count": 60,
   "id": "943e9133",
   "metadata": {},
   "outputs": [
    {
     "data": {
      "text/html": [
       "<style>\n",
       ".list-inline {list-style: none; margin:0; padding: 0}\n",
       ".list-inline>li {display: inline-block}\n",
       ".list-inline>li:not(:last-child)::after {content: \"\\00b7\"; padding: 0 .5ex}\n",
       "</style>\n",
       "<ol class=list-inline><li>-59.4078</li><li>84.8818</li></ol>\n"
      ],
      "text/latex": [
       "\\begin{enumerate*}\n",
       "\\item -59.4078\n",
       "\\item 84.8818\n",
       "\\end{enumerate*}\n"
      ],
      "text/markdown": [
       "1. -59.4078\n",
       "2. 84.8818\n",
       "\n",
       "\n"
      ],
      "text/plain": [
       "[1] -59.4078  84.8818"
      ]
     },
     "metadata": {},
     "output_type": "display_data"
    },
    {
     "data": {
      "text/html": [
       "<style>\n",
       ".list-inline {list-style: none; margin:0; padding: 0}\n",
       ".list-inline>li {display: inline-block}\n",
       ".list-inline>li:not(:last-child)::after {content: \"\\00b7\"; padding: 0 .5ex}\n",
       "</style>\n",
       "<ol class=list-inline><li>-179.9689</li><li>179.984</li></ol>\n"
      ],
      "text/latex": [
       "\\begin{enumerate*}\n",
       "\\item -179.9689\n",
       "\\item 179.984\n",
       "\\end{enumerate*}\n"
      ],
      "text/markdown": [
       "1. -179.9689\n",
       "2. 179.984\n",
       "\n",
       "\n"
      ],
      "text/plain": [
       "[1] -179.9689  179.9840"
      ]
     },
     "metadata": {},
     "output_type": "display_data"
    }
   ],
   "source": [
    "range(earthquakeDataFrame$latitude)\n",
    "range(earthquakeDataFrame$longitude)"
   ]
  },
  {
   "cell_type": "code",
   "execution_count": 61,
   "id": "873b96f4",
   "metadata": {},
   "outputs": [
    {
     "data": {
      "image/png": "[encoded data removed]",
      "text/plain": [
       "plot without title"
      ]
     },
     "metadata": {
      "image/png": {
       "height": 420,
       "width": 420
      }
     },
     "output_type": "display_data"
    }
   ],
   "source": [
    "plot(x=earthquakeDataFrame$latitude, y=earthquakeDataFrame$longitude)"
   ]
  },
  {
   "cell_type": "code",
   "execution_count": 62,
   "id": "ae5bb9bf",
   "metadata": {},
   "outputs": [
    {
     "data": {
      "image/png": "[encoded data removed]",
      "text/plain": [
       "plot without title"
      ]
     },
     "metadata": {
      "image/png": {
       "height": 420,
       "width": 420
      }
     },
     "output_type": "display_data"
    }
   ],
   "source": [
    "plot(sin, -pi, 2*pi)"
   ]
  },
  {
   "cell_type": "markdown",
   "id": "8c501b0b",
   "metadata": {},
   "source": [
    "# More with dataframes"
   ]
  },
  {
   "cell_type": "code",
   "execution_count": 163,
   "id": "3e6e19f0",
   "metadata": {
    "scrolled": true
   },
   "outputs": [
    {
     "name": "stdout",
     "output_type": "stream",
     "text": [
      "'data.frame':\t5 obs. of  3 variables:\n",
      " $ columnOne  : int  1 2 3 4 5\n",
      " $ columnTwo  : logi  TRUE TRUE TRUE TRUE TRUE\n",
      " $ columnThree: chr  \"one\" \"two\" \"three\" \"four\" ...\n"
     ]
    },
    {
     "data": {
      "text/html": [
       "<table class=\"dataframe\">\n",
       "<caption>A data.frame: 5 × 3</caption>\n",
       "<thead>\n",
       "\t<tr><th scope=col>columnOne</th><th scope=col>columnTwo</th><th scope=col>columnThree</th></tr>\n",
       "\t<tr><th scope=col>&lt;int&gt;</th><th scope=col>&lt;lgl&gt;</th><th scope=col>&lt;chr&gt;</th></tr>\n",
       "</thead>\n",
       "<tbody>\n",
       "\t<tr><td>1</td><td>TRUE</td><td>one  </td></tr>\n",
       "\t<tr><td>2</td><td>TRUE</td><td>two  </td></tr>\n",
       "\t<tr><td>3</td><td>TRUE</td><td>three</td></tr>\n",
       "\t<tr><td>4</td><td>TRUE</td><td>four </td></tr>\n",
       "\t<tr><td>5</td><td>TRUE</td><td>five </td></tr>\n",
       "</tbody>\n",
       "</table>\n"
      ],
      "text/latex": [
       "A data.frame: 5 × 3\n",
       "\\begin{tabular}{lll}\n",
       " columnOne & columnTwo & columnThree\\\\\n",
       " <int> & <lgl> & <chr>\\\\\n",
       "\\hline\n",
       "\t 1 & TRUE & one  \\\\\n",
       "\t 2 & TRUE & two  \\\\\n",
       "\t 3 & TRUE & three\\\\\n",
       "\t 4 & TRUE & four \\\\\n",
       "\t 5 & TRUE & five \\\\\n",
       "\\end{tabular}\n"
      ],
      "text/markdown": [
       "\n",
       "A data.frame: 5 × 3\n",
       "\n",
       "| columnOne &lt;int&gt; | columnTwo &lt;lgl&gt; | columnThree &lt;chr&gt; |\n",
       "|---|---|---|\n",
       "| 1 | TRUE | one   |\n",
       "| 2 | TRUE | two   |\n",
       "| 3 | TRUE | three |\n",
       "| 4 | TRUE | four  |\n",
       "| 5 | TRUE | five  |\n",
       "\n"
      ],
      "text/plain": [
       "  columnOne columnTwo columnThree\n",
       "1 1         TRUE      one        \n",
       "2 2         TRUE      two        \n",
       "3 3         TRUE      three      \n",
       "4 4         TRUE      four       \n",
       "5 5         TRUE      five       "
      ]
     },
     "metadata": {},
     "output_type": "display_data"
    }
   ],
   "source": [
    "# columns generally contain one type of data\n",
    "\n",
    "# Here I'm making populating a dataframe using the data.frame() function\n",
    "exampleDF<-data.frame(columnOne=1:5,columnTwo=TRUE,columnThree=c(\"one\",\"two\",\"three\", \"four\",\"five\"))\n",
    "\n",
    "str(exampleDF)\n",
    "\n",
    "exampleDF"
   ]
  },
  {
   "cell_type": "markdown",
   "id": "5f30ee82",
   "metadata": {},
   "source": [
    "# Ways to pull specific lines from a dataframe"
   ]
  },
  {
   "cell_type": "code",
   "execution_count": 164,
   "id": "96929ff9",
   "metadata": {},
   "outputs": [
    {
     "data": {
      "text/html": [
       "<table class=\"dataframe\">\n",
       "<caption>A data.frame: 5 × 3</caption>\n",
       "<thead>\n",
       "\t<tr><th scope=col>one</th><th scope=col>two</th><th scope=col>three</th></tr>\n",
       "\t<tr><th scope=col>&lt;dbl&gt;</th><th scope=col>&lt;lgl&gt;</th><th scope=col>&lt;int&gt;</th></tr>\n",
       "</thead>\n",
       "<tbody>\n",
       "\t<tr><td> 6</td><td> TRUE</td><td>1</td></tr>\n",
       "\t<tr><td>NA</td><td>FALSE</td><td>2</td></tr>\n",
       "\t<tr><td> 8</td><td> TRUE</td><td>3</td></tr>\n",
       "\t<tr><td>NA</td><td>FALSE</td><td>4</td></tr>\n",
       "\t<tr><td> 9</td><td> TRUE</td><td>5</td></tr>\n",
       "</tbody>\n",
       "</table>\n"
      ],
      "text/latex": [
       "A data.frame: 5 × 3\n",
       "\\begin{tabular}{lll}\n",
       " one & two & three\\\\\n",
       " <dbl> & <lgl> & <int>\\\\\n",
       "\\hline\n",
       "\t  6 &  TRUE & 1\\\\\n",
       "\t NA & FALSE & 2\\\\\n",
       "\t  8 &  TRUE & 3\\\\\n",
       "\t NA & FALSE & 4\\\\\n",
       "\t  9 &  TRUE & 5\\\\\n",
       "\\end{tabular}\n"
      ],
      "text/markdown": [
       "\n",
       "A data.frame: 5 × 3\n",
       "\n",
       "| one &lt;dbl&gt; | two &lt;lgl&gt; | three &lt;int&gt; |\n",
       "|---|---|---|\n",
       "|  6 |  TRUE | 1 |\n",
       "| NA | FALSE | 2 |\n",
       "|  8 |  TRUE | 3 |\n",
       "| NA | FALSE | 4 |\n",
       "|  9 |  TRUE | 5 |\n",
       "\n"
      ],
      "text/plain": [
       "  one two   three\n",
       "1  6   TRUE 1    \n",
       "2 NA  FALSE 2    \n",
       "3  8   TRUE 3    \n",
       "4 NA  FALSE 4    \n",
       "5  9   TRUE 5    "
      ]
     },
     "metadata": {},
     "output_type": "display_data"
    }
   ],
   "source": [
    "exampleDF<-data.frame(one=c(6,NA,8,NA,9),two=c(TRUE,FALSE,TRUE,FALSE,TRUE),three=1:5)\n",
    "exampleDF"
   ]
  },
  {
   "cell_type": "code",
   "execution_count": 215,
   "id": "d0733059",
   "metadata": {},
   "outputs": [
    {
     "data": {
      "text/html": [
       "<table class=\"dataframe\">\n",
       "<caption>A data.frame: 1 × 3</caption>\n",
       "<thead>\n",
       "\t<tr><th></th><th scope=col>one</th><th scope=col>two</th><th scope=col>three</th></tr>\n",
       "\t<tr><th></th><th scope=col>&lt;dbl&gt;</th><th scope=col>&lt;lgl&gt;</th><th scope=col>&lt;int&gt;</th></tr>\n",
       "</thead>\n",
       "<tbody>\n",
       "\t<tr><th scope=row>3</th><td>8</td><td>TRUE</td><td>3</td></tr>\n",
       "</tbody>\n",
       "</table>\n"
      ],
      "text/latex": [
       "A data.frame: 1 × 3\n",
       "\\begin{tabular}{r|lll}\n",
       "  & one & two & three\\\\\n",
       "  & <dbl> & <lgl> & <int>\\\\\n",
       "\\hline\n",
       "\t3 & 8 & TRUE & 3\\\\\n",
       "\\end{tabular}\n"
      ],
      "text/markdown": [
       "\n",
       "A data.frame: 1 × 3\n",
       "\n",
       "| <!--/--> | one &lt;dbl&gt; | two &lt;lgl&gt; | three &lt;int&gt; |\n",
       "|---|---|---|---|\n",
       "| 3 | 8 | TRUE | 3 |\n",
       "\n"
      ],
      "text/plain": [
       "  one two  three\n",
       "3 8   TRUE 3    "
      ]
     },
     "metadata": {},
     "output_type": "display_data"
    },
    {
     "data": {
      "text/html": [
       "TRUE"
      ],
      "text/latex": [
       "TRUE"
      ],
      "text/markdown": [
       "TRUE"
      ],
      "text/plain": [
       "[1] TRUE"
      ]
     },
     "metadata": {},
     "output_type": "display_data"
    }
   ],
   "source": [
    "# access one row by index\n",
    "exampleDF[3,]\n",
    "\n",
    "# access one value in a specific row and column\n",
    "exampleDF[3,2]"
   ]
  },
  {
   "cell_type": "code",
   "execution_count": 210,
   "id": "e25ed4d4",
   "metadata": {},
   "outputs": [
    {
     "data": {
      "text/html": [
       "<style>\n",
       ".list-inline {list-style: none; margin:0; padding: 0}\n",
       ".list-inline>li {display: inline-block}\n",
       ".list-inline>li:not(:last-child)::after {content: \"\\00b7\"; padding: 0 .5ex}\n",
       "</style>\n",
       "<ol class=list-inline><li>1</li><li>2</li><li>3</li><li>4</li><li>5</li></ol>\n"
      ],
      "text/latex": [
       "\\begin{enumerate*}\n",
       "\\item 1\n",
       "\\item 2\n",
       "\\item 3\n",
       "\\item 4\n",
       "\\item 5\n",
       "\\end{enumerate*}\n"
      ],
      "text/markdown": [
       "1. 1\n",
       "2. 2\n",
       "3. 3\n",
       "4. 4\n",
       "5. 5\n",
       "\n",
       "\n"
      ],
      "text/plain": [
       "[1] 1 2 3 4 5"
      ]
     },
     "metadata": {},
     "output_type": "display_data"
    },
    {
     "data": {
      "text/html": [
       "<style>\n",
       ".list-inline {list-style: none; margin:0; padding: 0}\n",
       ".list-inline>li {display: inline-block}\n",
       ".list-inline>li:not(:last-child)::after {content: \"\\00b7\"; padding: 0 .5ex}\n",
       "</style>\n",
       "<ol class=list-inline><li>1</li><li>2</li><li>3</li><li>4</li><li>5</li></ol>\n"
      ],
      "text/latex": [
       "\\begin{enumerate*}\n",
       "\\item 1\n",
       "\\item 2\n",
       "\\item 3\n",
       "\\item 4\n",
       "\\item 5\n",
       "\\end{enumerate*}\n"
      ],
      "text/markdown": [
       "1. 1\n",
       "2. 2\n",
       "3. 3\n",
       "4. 4\n",
       "5. 5\n",
       "\n",
       "\n"
      ],
      "text/plain": [
       "[1] 1 2 3 4 5"
      ]
     },
     "metadata": {},
     "output_type": "display_data"
    },
    {
     "data": {
      "text/html": [
       "<table class=\"dataframe\">\n",
       "<caption>A data.frame: 5 × 1</caption>\n",
       "<thead>\n",
       "\t<tr><th scope=col>three</th></tr>\n",
       "\t<tr><th scope=col>&lt;int&gt;</th></tr>\n",
       "</thead>\n",
       "<tbody>\n",
       "\t<tr><td>1</td></tr>\n",
       "\t<tr><td>2</td></tr>\n",
       "\t<tr><td>3</td></tr>\n",
       "\t<tr><td>4</td></tr>\n",
       "\t<tr><td>5</td></tr>\n",
       "</tbody>\n",
       "</table>\n"
      ],
      "text/latex": [
       "A data.frame: 5 × 1\n",
       "\\begin{tabular}{l}\n",
       " three\\\\\n",
       " <int>\\\\\n",
       "\\hline\n",
       "\t 1\\\\\n",
       "\t 2\\\\\n",
       "\t 3\\\\\n",
       "\t 4\\\\\n",
       "\t 5\\\\\n",
       "\\end{tabular}\n"
      ],
      "text/markdown": [
       "\n",
       "A data.frame: 5 × 1\n",
       "\n",
       "| three &lt;int&gt; |\n",
       "|---|\n",
       "| 1 |\n",
       "| 2 |\n",
       "| 3 |\n",
       "| 4 |\n",
       "| 5 |\n",
       "\n"
      ],
      "text/plain": [
       "  three\n",
       "1 1    \n",
       "2 2    \n",
       "3 3    \n",
       "4 4    \n",
       "5 5    "
      ]
     },
     "metadata": {},
     "output_type": "display_data"
    }
   ],
   "source": [
    "# access one column by index\n",
    "# vector of values in column\n",
    "exampleDF[,3]\n",
    "exampleDF[[3]]\n",
    "\n",
    "# single column of data frame, but this is a bit misleading when considering the  df(y,x) format\n",
    "exampleDF[3]"
   ]
  },
  {
   "cell_type": "code",
   "execution_count": 162,
   "id": "ddfd3601",
   "metadata": {},
   "outputs": [
    {
     "data": {
      "text/html": [
       "'Max value is 5 in column one.'"
      ],
      "text/latex": [
       "'Max value is 5 in column one.'"
      ],
      "text/markdown": [
       "'Max value is 5 in column one.'"
      ],
      "text/plain": [
       "[1] \"Max value is 5 in column one.\""
      ]
     },
     "metadata": {},
     "output_type": "display_data"
    }
   ],
   "source": [
    "# # find the max value of a data frame and the column it's in\n",
    "# val = 0\n",
    "# for( col in names(exampleDF) ){\n",
    "#     temp = max( exampleDF[col] )\n",
    "#     if (temp > val){\n",
    "#         val = temp\n",
    "#         final = col\n",
    "#     }\n",
    "# }\n",
    "# sprintf(\"Max value is %i in column %s.\",temp, final)"
   ]
  },
  {
   "cell_type": "code",
   "execution_count": 65,
   "id": "0b0075bd",
   "metadata": {},
   "outputs": [
    {
     "data": {
      "text/html": [
       "<table class=\"dataframe\">\n",
       "<caption>A data.frame: 2 × 3</caption>\n",
       "<thead>\n",
       "\t<tr><th></th><th scope=col>one</th><th scope=col>two</th><th scope=col>three</th></tr>\n",
       "\t<tr><th></th><th scope=col>&lt;int&gt;</th><th scope=col>&lt;lgl&gt;</th><th scope=col>&lt;dbl&gt;</th></tr>\n",
       "</thead>\n",
       "<tbody>\n",
       "\t<tr><th scope=row>4</th><td>4</td><td>FALSE</td><td>NA</td></tr>\n",
       "\t<tr><th scope=row>5</th><td>5</td><td> TRUE</td><td> 9</td></tr>\n",
       "</tbody>\n",
       "</table>\n"
      ],
      "text/latex": [
       "A data.frame: 2 × 3\n",
       "\\begin{tabular}{r|lll}\n",
       "  & one & two & three\\\\\n",
       "  & <int> & <lgl> & <dbl>\\\\\n",
       "\\hline\n",
       "\t4 & 4 & FALSE & NA\\\\\n",
       "\t5 & 5 &  TRUE &  9\\\\\n",
       "\\end{tabular}\n"
      ],
      "text/markdown": [
       "\n",
       "A data.frame: 2 × 3\n",
       "\n",
       "| <!--/--> | one &lt;int&gt; | two &lt;lgl&gt; | three &lt;dbl&gt; |\n",
       "|---|---|---|---|\n",
       "| 4 | 4 | FALSE | NA |\n",
       "| 5 | 5 |  TRUE |  9 |\n",
       "\n"
      ],
      "text/plain": [
       "  one two   three\n",
       "4 4   FALSE NA   \n",
       "5 5    TRUE  9   "
      ]
     },
     "metadata": {},
     "output_type": "display_data"
    }
   ],
   "source": [
    "# show me lines of 'exampleDF' where the values in exampleDF column 'one' are greater than 3\n",
    "exampleDF[ exampleDF$one > 3 ,]"
   ]
  },
  {
   "cell_type": "code",
   "execution_count": 66,
   "id": "1acaeabb",
   "metadata": {},
   "outputs": [
    {
     "data": {
      "text/html": [
       "<table class=\"dataframe\">\n",
       "<caption>A data.frame: 3 × 3</caption>\n",
       "<thead>\n",
       "\t<tr><th></th><th scope=col>one</th><th scope=col>two</th><th scope=col>three</th></tr>\n",
       "\t<tr><th></th><th scope=col>&lt;int&gt;</th><th scope=col>&lt;lgl&gt;</th><th scope=col>&lt;dbl&gt;</th></tr>\n",
       "</thead>\n",
       "<tbody>\n",
       "\t<tr><th scope=row>1</th><td>1</td><td>TRUE</td><td>6</td></tr>\n",
       "\t<tr><th scope=row>3</th><td>3</td><td>TRUE</td><td>8</td></tr>\n",
       "\t<tr><th scope=row>5</th><td>5</td><td>TRUE</td><td>9</td></tr>\n",
       "</tbody>\n",
       "</table>\n"
      ],
      "text/latex": [
       "A data.frame: 3 × 3\n",
       "\\begin{tabular}{r|lll}\n",
       "  & one & two & three\\\\\n",
       "  & <int> & <lgl> & <dbl>\\\\\n",
       "\\hline\n",
       "\t1 & 1 & TRUE & 6\\\\\n",
       "\t3 & 3 & TRUE & 8\\\\\n",
       "\t5 & 5 & TRUE & 9\\\\\n",
       "\\end{tabular}\n"
      ],
      "text/markdown": [
       "\n",
       "A data.frame: 3 × 3\n",
       "\n",
       "| <!--/--> | one &lt;int&gt; | two &lt;lgl&gt; | three &lt;dbl&gt; |\n",
       "|---|---|---|---|\n",
       "| 1 | 1 | TRUE | 6 |\n",
       "| 3 | 3 | TRUE | 8 |\n",
       "| 5 | 5 | TRUE | 9 |\n",
       "\n"
      ],
      "text/plain": [
       "  one two  three\n",
       "1 1   TRUE 6    \n",
       "3 3   TRUE 8    \n",
       "5 5   TRUE 9    "
      ]
     },
     "metadata": {},
     "output_type": "display_data"
    }
   ],
   "source": [
    "exampleDF[ exampleDF$two == TRUE ,]"
   ]
  },
  {
   "cell_type": "code",
   "execution_count": 67,
   "id": "bda5412c",
   "metadata": {},
   "outputs": [
    {
     "data": {
      "text/html": [
       "TRUE"
      ],
      "text/latex": [
       "TRUE"
      ],
      "text/markdown": [
       "TRUE"
      ],
      "text/plain": [
       "[1] TRUE"
      ]
     },
     "metadata": {},
     "output_type": "display_data"
    },
    {
     "data": {
      "text/html": [
       "TRUE"
      ],
      "text/latex": [
       "TRUE"
      ],
      "text/markdown": [
       "TRUE"
      ],
      "text/plain": [
       "[1] TRUE"
      ]
     },
     "metadata": {},
     "output_type": "display_data"
    }
   ],
   "source": [
    "# function is.na() recognizes NA and NaN values\n",
    "is.na(NA)\n",
    "is.na(NaN)"
   ]
  },
  {
   "cell_type": "code",
   "execution_count": 68,
   "id": "5a2e8433",
   "metadata": {},
   "outputs": [
    {
     "data": {
      "text/html": [
       "<table class=\"dataframe\">\n",
       "<caption>A data.frame: 2 × 3</caption>\n",
       "<thead>\n",
       "\t<tr><th></th><th scope=col>one</th><th scope=col>two</th><th scope=col>three</th></tr>\n",
       "\t<tr><th></th><th scope=col>&lt;int&gt;</th><th scope=col>&lt;lgl&gt;</th><th scope=col>&lt;dbl&gt;</th></tr>\n",
       "</thead>\n",
       "<tbody>\n",
       "\t<tr><th scope=row>2</th><td>2</td><td>FALSE</td><td>NA</td></tr>\n",
       "\t<tr><th scope=row>4</th><td>4</td><td>FALSE</td><td>NA</td></tr>\n",
       "</tbody>\n",
       "</table>\n"
      ],
      "text/latex": [
       "A data.frame: 2 × 3\n",
       "\\begin{tabular}{r|lll}\n",
       "  & one & two & three\\\\\n",
       "  & <int> & <lgl> & <dbl>\\\\\n",
       "\\hline\n",
       "\t2 & 2 & FALSE & NA\\\\\n",
       "\t4 & 4 & FALSE & NA\\\\\n",
       "\\end{tabular}\n"
      ],
      "text/markdown": [
       "\n",
       "A data.frame: 2 × 3\n",
       "\n",
       "| <!--/--> | one &lt;int&gt; | two &lt;lgl&gt; | three &lt;dbl&gt; |\n",
       "|---|---|---|---|\n",
       "| 2 | 2 | FALSE | NA |\n",
       "| 4 | 4 | FALSE | NA |\n",
       "\n"
      ],
      "text/plain": [
       "  one two   three\n",
       "2 2   FALSE NA   \n",
       "4 4   FALSE NA   "
      ]
     },
     "metadata": {},
     "output_type": "display_data"
    }
   ],
   "source": [
    "# lines with NA\n",
    "exampleDF[ is.na(exampleDF$three) ,]"
   ]
  },
  {
   "cell_type": "code",
   "execution_count": 69,
   "id": "859cc53f",
   "metadata": {},
   "outputs": [
    {
     "data": {
      "text/html": [
       "<table class=\"dataframe\">\n",
       "<caption>A data.frame: 3 × 3</caption>\n",
       "<thead>\n",
       "\t<tr><th></th><th scope=col>one</th><th scope=col>two</th><th scope=col>three</th></tr>\n",
       "\t<tr><th></th><th scope=col>&lt;int&gt;</th><th scope=col>&lt;lgl&gt;</th><th scope=col>&lt;dbl&gt;</th></tr>\n",
       "</thead>\n",
       "<tbody>\n",
       "\t<tr><th scope=row>1</th><td>1</td><td>TRUE</td><td>6</td></tr>\n",
       "\t<tr><th scope=row>3</th><td>3</td><td>TRUE</td><td>8</td></tr>\n",
       "\t<tr><th scope=row>5</th><td>5</td><td>TRUE</td><td>9</td></tr>\n",
       "</tbody>\n",
       "</table>\n"
      ],
      "text/latex": [
       "A data.frame: 3 × 3\n",
       "\\begin{tabular}{r|lll}\n",
       "  & one & two & three\\\\\n",
       "  & <int> & <lgl> & <dbl>\\\\\n",
       "\\hline\n",
       "\t1 & 1 & TRUE & 6\\\\\n",
       "\t3 & 3 & TRUE & 8\\\\\n",
       "\t5 & 5 & TRUE & 9\\\\\n",
       "\\end{tabular}\n"
      ],
      "text/markdown": [
       "\n",
       "A data.frame: 3 × 3\n",
       "\n",
       "| <!--/--> | one &lt;int&gt; | two &lt;lgl&gt; | three &lt;dbl&gt; |\n",
       "|---|---|---|---|\n",
       "| 1 | 1 | TRUE | 6 |\n",
       "| 3 | 3 | TRUE | 8 |\n",
       "| 5 | 5 | TRUE | 9 |\n",
       "\n"
      ],
      "text/plain": [
       "  one two  three\n",
       "1 1   TRUE 6    \n",
       "3 3   TRUE 8    \n",
       "5 5   TRUE 9    "
      ]
     },
     "metadata": {},
     "output_type": "display_data"
    }
   ],
   "source": [
    "# lines without NA\n",
    "exampleDF[ !is.na(exampleDF$three) ,]"
   ]
  },
  {
   "cell_type": "markdown",
   "id": "afac3ee5",
   "metadata": {},
   "source": [
    "# These can be used to subset data while retaining the original DF"
   ]
  },
  {
   "cell_type": "code",
   "execution_count": 70,
   "id": "feed97d9",
   "metadata": {},
   "outputs": [
    {
     "data": {
      "text/html": [
       "<table class=\"dataframe\">\n",
       "<caption>A data.frame: 3 × 3</caption>\n",
       "<thead>\n",
       "\t<tr><th></th><th scope=col>one</th><th scope=col>two</th><th scope=col>three</th></tr>\n",
       "\t<tr><th></th><th scope=col>&lt;int&gt;</th><th scope=col>&lt;lgl&gt;</th><th scope=col>&lt;dbl&gt;</th></tr>\n",
       "</thead>\n",
       "<tbody>\n",
       "\t<tr><th scope=row>1</th><td>1</td><td>TRUE</td><td>6</td></tr>\n",
       "\t<tr><th scope=row>3</th><td>3</td><td>TRUE</td><td>8</td></tr>\n",
       "\t<tr><th scope=row>5</th><td>5</td><td>TRUE</td><td>9</td></tr>\n",
       "</tbody>\n",
       "</table>\n"
      ],
      "text/latex": [
       "A data.frame: 3 × 3\n",
       "\\begin{tabular}{r|lll}\n",
       "  & one & two & three\\\\\n",
       "  & <int> & <lgl> & <dbl>\\\\\n",
       "\\hline\n",
       "\t1 & 1 & TRUE & 6\\\\\n",
       "\t3 & 3 & TRUE & 8\\\\\n",
       "\t5 & 5 & TRUE & 9\\\\\n",
       "\\end{tabular}\n"
      ],
      "text/markdown": [
       "\n",
       "A data.frame: 3 × 3\n",
       "\n",
       "| <!--/--> | one &lt;int&gt; | two &lt;lgl&gt; | three &lt;dbl&gt; |\n",
       "|---|---|---|---|\n",
       "| 1 | 1 | TRUE | 6 |\n",
       "| 3 | 3 | TRUE | 8 |\n",
       "| 5 | 5 | TRUE | 9 |\n",
       "\n"
      ],
      "text/plain": [
       "  one two  three\n",
       "1 1   TRUE 6    \n",
       "3 3   TRUE 8    \n",
       "5 5   TRUE 9    "
      ]
     },
     "metadata": {},
     "output_type": "display_data"
    },
    {
     "data": {
      "text/html": [
       "<table class=\"dataframe\">\n",
       "<caption>A data.frame: 5 × 3</caption>\n",
       "<thead>\n",
       "\t<tr><th scope=col>one</th><th scope=col>two</th><th scope=col>three</th></tr>\n",
       "\t<tr><th scope=col>&lt;int&gt;</th><th scope=col>&lt;lgl&gt;</th><th scope=col>&lt;dbl&gt;</th></tr>\n",
       "</thead>\n",
       "<tbody>\n",
       "\t<tr><td>1</td><td> TRUE</td><td> 6</td></tr>\n",
       "\t<tr><td>2</td><td>FALSE</td><td>NA</td></tr>\n",
       "\t<tr><td>3</td><td> TRUE</td><td> 8</td></tr>\n",
       "\t<tr><td>4</td><td>FALSE</td><td>NA</td></tr>\n",
       "\t<tr><td>5</td><td> TRUE</td><td> 9</td></tr>\n",
       "</tbody>\n",
       "</table>\n"
      ],
      "text/latex": [
       "A data.frame: 5 × 3\n",
       "\\begin{tabular}{lll}\n",
       " one & two & three\\\\\n",
       " <int> & <lgl> & <dbl>\\\\\n",
       "\\hline\n",
       "\t 1 &  TRUE &  6\\\\\n",
       "\t 2 & FALSE & NA\\\\\n",
       "\t 3 &  TRUE &  8\\\\\n",
       "\t 4 & FALSE & NA\\\\\n",
       "\t 5 &  TRUE &  9\\\\\n",
       "\\end{tabular}\n"
      ],
      "text/markdown": [
       "\n",
       "A data.frame: 5 × 3\n",
       "\n",
       "| one &lt;int&gt; | two &lt;lgl&gt; | three &lt;dbl&gt; |\n",
       "|---|---|---|\n",
       "| 1 |  TRUE |  6 |\n",
       "| 2 | FALSE | NA |\n",
       "| 3 |  TRUE |  8 |\n",
       "| 4 | FALSE | NA |\n",
       "| 5 |  TRUE |  9 |\n",
       "\n"
      ],
      "text/plain": [
       "  one two   three\n",
       "1 1    TRUE  6   \n",
       "2 2   FALSE NA   \n",
       "3 3    TRUE  8   \n",
       "4 4   FALSE NA   \n",
       "5 5    TRUE  9   "
      ]
     },
     "metadata": {},
     "output_type": "display_data"
    }
   ],
   "source": [
    "exDFnoNA<-exampleDF[ !is.na(exampleDF$three) ,]\n",
    "exDFnoNA # has only lines where column three does not have NA\n",
    "\n",
    "exampleDF # stays the same"
   ]
  },
  {
   "cell_type": "markdown",
   "id": "44f08e1e",
   "metadata": {},
   "source": [
    "## Another way is to use which()"
   ]
  },
  {
   "cell_type": "code",
   "execution_count": 71,
   "id": "e846e691",
   "metadata": {},
   "outputs": [
    {
     "data": {
      "text/html": [
       "<style>\n",
       ".list-inline {list-style: none; margin:0; padding: 0}\n",
       ".list-inline>li {display: inline-block}\n",
       ".list-inline>li:not(:last-child)::after {content: \"\\00b7\"; padding: 0 .5ex}\n",
       "</style>\n",
       "<ol class=list-inline><li>4</li><li>5</li></ol>\n"
      ],
      "text/latex": [
       "\\begin{enumerate*}\n",
       "\\item 4\n",
       "\\item 5\n",
       "\\end{enumerate*}\n"
      ],
      "text/markdown": [
       "1. 4\n",
       "2. 5\n",
       "\n",
       "\n"
      ],
      "text/plain": [
       "[1] 4 5"
      ]
     },
     "metadata": {},
     "output_type": "display_data"
    },
    {
     "data": {
      "text/html": [
       "<table class=\"dataframe\">\n",
       "<caption>A data.frame: 2 × 3</caption>\n",
       "<thead>\n",
       "\t<tr><th></th><th scope=col>one</th><th scope=col>two</th><th scope=col>three</th></tr>\n",
       "\t<tr><th></th><th scope=col>&lt;int&gt;</th><th scope=col>&lt;lgl&gt;</th><th scope=col>&lt;dbl&gt;</th></tr>\n",
       "</thead>\n",
       "<tbody>\n",
       "\t<tr><th scope=row>4</th><td>4</td><td>FALSE</td><td>NA</td></tr>\n",
       "\t<tr><th scope=row>5</th><td>5</td><td> TRUE</td><td> 9</td></tr>\n",
       "</tbody>\n",
       "</table>\n"
      ],
      "text/latex": [
       "A data.frame: 2 × 3\n",
       "\\begin{tabular}{r|lll}\n",
       "  & one & two & three\\\\\n",
       "  & <int> & <lgl> & <dbl>\\\\\n",
       "\\hline\n",
       "\t4 & 4 & FALSE & NA\\\\\n",
       "\t5 & 5 &  TRUE &  9\\\\\n",
       "\\end{tabular}\n"
      ],
      "text/markdown": [
       "\n",
       "A data.frame: 2 × 3\n",
       "\n",
       "| <!--/--> | one &lt;int&gt; | two &lt;lgl&gt; | three &lt;dbl&gt; |\n",
       "|---|---|---|---|\n",
       "| 4 | 4 | FALSE | NA |\n",
       "| 5 | 5 |  TRUE |  9 |\n",
       "\n"
      ],
      "text/plain": [
       "  one two   three\n",
       "4 4   FALSE NA   \n",
       "5 5    TRUE  9   "
      ]
     },
     "metadata": {},
     "output_type": "display_data"
    }
   ],
   "source": [
    "# returns the row position(s) where the logical test evaluated to TRUE\n",
    "which(exampleDF$one > 3)\n",
    "\n",
    "# can be used to access those specific rows in the data frame\n",
    "exampleDF[ which(exampleDF$one > 3) ,]"
   ]
  },
  {
   "cell_type": "code",
   "execution_count": 72,
   "id": "b1cc7a8f",
   "metadata": {
    "scrolled": true
   },
   "outputs": [
    {
     "data": {
      "text/html": [
       "<table class=\"dataframe\">\n",
       "<caption>A data.frame: 5 × 3</caption>\n",
       "<thead>\n",
       "\t<tr><th scope=col>one</th><th scope=col>two</th><th scope=col>three</th></tr>\n",
       "\t<tr><th scope=col>&lt;chr&gt;</th><th scope=col>&lt;chr&gt;</th><th scope=col>&lt;chr&gt;</th></tr>\n",
       "</thead>\n",
       "<tbody>\n",
       "\t<tr><td>1   </td><td>TRUE </td><td>6   </td></tr>\n",
       "\t<tr><td>2   </td><td>FALSE</td><td>NA  </td></tr>\n",
       "\t<tr><td>3   </td><td>TRUE </td><td>8   </td></tr>\n",
       "\t<tr><td>test</td><td>test </td><td>test</td></tr>\n",
       "\t<tr><td>test</td><td>test </td><td>test</td></tr>\n",
       "</tbody>\n",
       "</table>\n"
      ],
      "text/latex": [
       "A data.frame: 5 × 3\n",
       "\\begin{tabular}{lll}\n",
       " one & two & three\\\\\n",
       " <chr> & <chr> & <chr>\\\\\n",
       "\\hline\n",
       "\t 1    & TRUE  & 6   \\\\\n",
       "\t 2    & FALSE & NA  \\\\\n",
       "\t 3    & TRUE  & 8   \\\\\n",
       "\t test & test  & test\\\\\n",
       "\t test & test  & test\\\\\n",
       "\\end{tabular}\n"
      ],
      "text/markdown": [
       "\n",
       "A data.frame: 5 × 3\n",
       "\n",
       "| one &lt;chr&gt; | two &lt;chr&gt; | three &lt;chr&gt; |\n",
       "|---|---|---|\n",
       "| 1    | TRUE  | 6    |\n",
       "| 2    | FALSE | NA   |\n",
       "| 3    | TRUE  | 8    |\n",
       "| test | test  | test |\n",
       "| test | test  | test |\n",
       "\n"
      ],
      "text/plain": [
       "  one  two   three\n",
       "1 1    TRUE  6    \n",
       "2 2    FALSE NA   \n",
       "3 3    TRUE  8    \n",
       "4 test test  test \n",
       "5 test test  test "
      ]
     },
     "metadata": {},
     "output_type": "display_data"
    }
   ],
   "source": [
    "test<-exampleDF\n",
    "test[ which(test$one > 3) ,] <- 'test'\n",
    "\n",
    "test"
   ]
  },
  {
   "cell_type": "code",
   "execution_count": null,
   "id": "f26a84d5",
   "metadata": {},
   "outputs": [],
   "source": [
    "exampleDF2<-"
   ]
  },
  {
   "cell_type": "markdown",
   "id": "35693f9b",
   "metadata": {},
   "source": [
    "## Counting things"
   ]
  },
  {
   "cell_type": "code",
   "execution_count": 73,
   "id": "7fcf5bfa",
   "metadata": {},
   "outputs": [
    {
     "data": {
      "text/html": [
       "5"
      ],
      "text/latex": [
       "5"
      ],
      "text/markdown": [
       "5"
      ],
      "text/plain": [
       "[1] 5"
      ]
     },
     "metadata": {},
     "output_type": "display_data"
    },
    {
     "data": {
      "text/html": [
       "3"
      ],
      "text/latex": [
       "3"
      ],
      "text/markdown": [
       "3"
      ],
      "text/plain": [
       "[1] 3"
      ]
     },
     "metadata": {},
     "output_type": "display_data"
    },
    {
     "data": {
      "text/html": [
       "3"
      ],
      "text/latex": [
       "3"
      ],
      "text/markdown": [
       "3"
      ],
      "text/plain": [
       "[1] 3"
      ]
     },
     "metadata": {},
     "output_type": "display_data"
    },
    {
     "data": {
      "text/html": [
       "<style>\n",
       ".list-inline {list-style: none; margin:0; padding: 0}\n",
       ".list-inline>li {display: inline-block}\n",
       ".list-inline>li:not(:last-child)::after {content: \"\\00b7\"; padding: 0 .5ex}\n",
       "</style>\n",
       "<ol class=list-inline><li>TRUE</li><li>FALSE</li><li>TRUE</li><li>FALSE</li><li>TRUE</li></ol>\n"
      ],
      "text/latex": [
       "\\begin{enumerate*}\n",
       "\\item TRUE\n",
       "\\item FALSE\n",
       "\\item TRUE\n",
       "\\item FALSE\n",
       "\\item TRUE\n",
       "\\end{enumerate*}\n"
      ],
      "text/markdown": [
       "1. TRUE\n",
       "2. FALSE\n",
       "3. TRUE\n",
       "4. FALSE\n",
       "5. TRUE\n",
       "\n",
       "\n"
      ],
      "text/plain": [
       "[1]  TRUE FALSE  TRUE FALSE  TRUE"
      ]
     },
     "metadata": {},
     "output_type": "display_data"
    },
    {
     "data": {
      "text/html": [
       "<style>\n",
       ".list-inline {list-style: none; margin:0; padding: 0}\n",
       ".list-inline>li {display: inline-block}\n",
       ".list-inline>li:not(:last-child)::after {content: \"\\00b7\"; padding: 0 .5ex}\n",
       "</style>\n",
       "<ol class=list-inline><li>FALSE</li><li>TRUE</li><li>FALSE</li><li>TRUE</li><li>FALSE</li></ol>\n"
      ],
      "text/latex": [
       "\\begin{enumerate*}\n",
       "\\item FALSE\n",
       "\\item TRUE\n",
       "\\item FALSE\n",
       "\\item TRUE\n",
       "\\item FALSE\n",
       "\\end{enumerate*}\n"
      ],
      "text/markdown": [
       "1. FALSE\n",
       "2. TRUE\n",
       "3. FALSE\n",
       "4. TRUE\n",
       "5. FALSE\n",
       "\n",
       "\n"
      ],
      "text/plain": [
       "[1] FALSE  TRUE FALSE  TRUE FALSE"
      ]
     },
     "metadata": {},
     "output_type": "display_data"
    },
    {
     "data": {
      "text/html": [
       "2"
      ],
      "text/latex": [
       "2"
      ],
      "text/markdown": [
       "2"
      ],
      "text/plain": [
       "[1] 2"
      ]
     },
     "metadata": {},
     "output_type": "display_data"
    }
   ],
   "source": [
    "# number of rows\n",
    "nrow(exampleDF)\n",
    "\n",
    "# number of columns\n",
    "ncol(exampleDF)\n",
    "length(exampleDF)\n",
    "\n",
    "# logical test on an entire column of data frame\n",
    "exampleDF$two == TRUE\n",
    "\n",
    "# is.na() returns TRUE or FALSE for each row\n",
    "is.na( exampleDF$three )\n",
    "\n",
    "# sum() can be used to add each time the logical test evaluates to TRUE\n",
    "sum( is.na(exampleDF$three) )"
   ]
  },
  {
   "cell_type": "code",
   "execution_count": null,
   "id": "f16792d5",
   "metadata": {},
   "outputs": [],
   "source": []
  },
  {
   "cell_type": "code",
   "execution_count": null,
   "id": "ae4c4b56",
   "metadata": {},
   "outputs": [],
   "source": []
  },
  {
   "cell_type": "code",
   "execution_count": null,
   "id": "aead24f5",
   "metadata": {},
   "outputs": [],
   "source": []
  },
  {
   "cell_type": "code",
   "execution_count": null,
   "id": "5a43e8bf",
   "metadata": {},
   "outputs": [],
   "source": []
  },
  {
   "cell_type": "code",
   "execution_count": null,
   "id": "01297dd4",
   "metadata": {},
   "outputs": [],
   "source": []
  }
 ],
 "metadata": {
  "kernelspec": {
   "display_name": "R",
   "language": "R",
   "name": "ir"
  },
  "language_info": {
   "codemirror_mode": "r",
   "file_extension": ".r",
   "mimetype": "text/x-r-source",
   "name": "R",
   "pygments_lexer": "r",
   "version": "4.1.2"
  }
 },
 "nbformat": 4,
 "nbformat_minor": 5
}
