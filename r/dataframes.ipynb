{
 "cells": [
  {
   "cell_type": "markdown",
   "id": "c73c1a19",
   "metadata": {},
   "source": [
    "# Dataframes are a commonly used way to store and work with data, it's pretty easy to convert between a .csv and a dataframe"
   ]
  },
  {
   "cell_type": "code",
   "execution_count": 1,
   "id": "61969731",
   "metadata": {},
   "outputs": [
    {
     "name": "stdout",
     "output_type": "stream",
     "text": [
      "[1] \"structure\"\n",
      "'data.frame':\t5 obs. of  3 variables:\n",
      " $ columnOne  : int  1 2 3 4 5\n",
      " $ columnTwo  : logi  TRUE TRUE TRUE TRUE TRUE\n",
      " $ columnThree: chr  \"one\" \"two\" \"three\" \"four\" ...\n",
      "[1] \"summary\"\n"
     ]
    },
    {
     "data": {
      "text/plain": [
       "   columnOne columnTwo      columnThree       \n",
       " Min.   :1   Mode:logical   Length:5          \n",
       " 1st Qu.:2   TRUE:5         Class :character  \n",
       " Median :3                  Mode  :character  \n",
       " Mean   :3                                    \n",
       " 3rd Qu.:4                                    \n",
       " Max.   :5                                    "
      ]
     },
     "metadata": {},
     "output_type": "display_data"
    },
    {
     "name": "stdout",
     "output_type": "stream",
     "text": [
      "[1] \"dataframe\"\n"
     ]
    },
    {
     "data": {
      "text/html": [
       "<table class=\"dataframe\">\n",
       "<caption>A data.frame: 5 × 3</caption>\n",
       "<thead>\n",
       "\t<tr><th scope=col>columnOne</th><th scope=col>columnTwo</th><th scope=col>columnThree</th></tr>\n",
       "\t<tr><th scope=col>&lt;int&gt;</th><th scope=col>&lt;lgl&gt;</th><th scope=col>&lt;chr&gt;</th></tr>\n",
       "</thead>\n",
       "<tbody>\n",
       "\t<tr><td>1</td><td>TRUE</td><td>one  </td></tr>\n",
       "\t<tr><td>2</td><td>TRUE</td><td>two  </td></tr>\n",
       "\t<tr><td>3</td><td>TRUE</td><td>three</td></tr>\n",
       "\t<tr><td>4</td><td>TRUE</td><td>four </td></tr>\n",
       "\t<tr><td>5</td><td>TRUE</td><td>five </td></tr>\n",
       "</tbody>\n",
       "</table>\n"
      ],
      "text/latex": [
       "A data.frame: 5 × 3\n",
       "\\begin{tabular}{lll}\n",
       " columnOne & columnTwo & columnThree\\\\\n",
       " <int> & <lgl> & <chr>\\\\\n",
       "\\hline\n",
       "\t 1 & TRUE & one  \\\\\n",
       "\t 2 & TRUE & two  \\\\\n",
       "\t 3 & TRUE & three\\\\\n",
       "\t 4 & TRUE & four \\\\\n",
       "\t 5 & TRUE & five \\\\\n",
       "\\end{tabular}\n"
      ],
      "text/markdown": [
       "\n",
       "A data.frame: 5 × 3\n",
       "\n",
       "| columnOne &lt;int&gt; | columnTwo &lt;lgl&gt; | columnThree &lt;chr&gt; |\n",
       "|---|---|---|\n",
       "| 1 | TRUE | one   |\n",
       "| 2 | TRUE | two   |\n",
       "| 3 | TRUE | three |\n",
       "| 4 | TRUE | four  |\n",
       "| 5 | TRUE | five  |\n",
       "\n"
      ],
      "text/plain": [
       "  columnOne columnTwo columnThree\n",
       "1 1         TRUE      one        \n",
       "2 2         TRUE      two        \n",
       "3 3         TRUE      three      \n",
       "4 4         TRUE      four       \n",
       "5 5         TRUE      five       "
      ]
     },
     "metadata": {},
     "output_type": "display_data"
    }
   ],
   "source": [
    "# columns generally contain one type of data\n",
    "\n",
    "# Here I'm making and populating a dataframe using the data.frame() function\n",
    "exampleDF<-data.frame(columnOne=1:5,columnTwo=TRUE,columnThree=c(\"one\",\"two\",\"three\", \"four\",\"five\"))\n",
    "\n",
    "# Look at the structure of the dataframe\n",
    "print(\"structure\")\n",
    "str(exampleDF)\n",
    "\n",
    "# Look at a summary of the dataframe\n",
    "print(\"summary\")\n",
    "summary(exampleDF)\n",
    "\n",
    "# Look at the dataframe itself\n",
    "print(\"dataframe\")\n",
    "exampleDF"
   ]
  },
  {
   "cell_type": "markdown",
   "id": "74cdb0d7",
   "metadata": {},
   "source": [
    "# Ways to pull specific lines from a dataframe"
   ]
  },
  {
   "cell_type": "code",
   "execution_count": 2,
   "id": "c0845353",
   "metadata": {},
   "outputs": [
    {
     "data": {
      "text/html": [
       "<table class=\"dataframe\">\n",
       "<caption>A data.frame: 5 × 3</caption>\n",
       "<thead>\n",
       "\t<tr><th scope=col>one</th><th scope=col>two</th><th scope=col>three</th></tr>\n",
       "\t<tr><th scope=col>&lt;dbl&gt;</th><th scope=col>&lt;lgl&gt;</th><th scope=col>&lt;int&gt;</th></tr>\n",
       "</thead>\n",
       "<tbody>\n",
       "\t<tr><td> 6</td><td> TRUE</td><td>1</td></tr>\n",
       "\t<tr><td>NA</td><td>FALSE</td><td>2</td></tr>\n",
       "\t<tr><td> 8</td><td> TRUE</td><td>3</td></tr>\n",
       "\t<tr><td>NA</td><td>FALSE</td><td>4</td></tr>\n",
       "\t<tr><td> 9</td><td> TRUE</td><td>5</td></tr>\n",
       "</tbody>\n",
       "</table>\n"
      ],
      "text/latex": [
       "A data.frame: 5 × 3\n",
       "\\begin{tabular}{lll}\n",
       " one & two & three\\\\\n",
       " <dbl> & <lgl> & <int>\\\\\n",
       "\\hline\n",
       "\t  6 &  TRUE & 1\\\\\n",
       "\t NA & FALSE & 2\\\\\n",
       "\t  8 &  TRUE & 3\\\\\n",
       "\t NA & FALSE & 4\\\\\n",
       "\t  9 &  TRUE & 5\\\\\n",
       "\\end{tabular}\n"
      ],
      "text/markdown": [
       "\n",
       "A data.frame: 5 × 3\n",
       "\n",
       "| one &lt;dbl&gt; | two &lt;lgl&gt; | three &lt;int&gt; |\n",
       "|---|---|---|\n",
       "|  6 |  TRUE | 1 |\n",
       "| NA | FALSE | 2 |\n",
       "|  8 |  TRUE | 3 |\n",
       "| NA | FALSE | 4 |\n",
       "|  9 |  TRUE | 5 |\n",
       "\n"
      ],
      "text/plain": [
       "  one two   three\n",
       "1  6   TRUE 1    \n",
       "2 NA  FALSE 2    \n",
       "3  8   TRUE 3    \n",
       "4 NA  FALSE 4    \n",
       "5  9   TRUE 5    "
      ]
     },
     "metadata": {},
     "output_type": "display_data"
    }
   ],
   "source": [
    "# changing the dataframe to contain a different variety of values\n",
    "exampleDF<-data.frame(one=c(6,NA,8,NA,9),two=c(TRUE,FALSE,TRUE,FALSE,TRUE),three=1:5)\n",
    "exampleDF"
   ]
  },
  {
   "cell_type": "code",
   "execution_count": 3,
   "id": "b5ae4579",
   "metadata": {},
   "outputs": [
    {
     "name": "stdout",
     "output_type": "stream",
     "text": [
      "[1] \"one row:\"\n"
     ]
    },
    {
     "data": {
      "text/html": [
       "<table class=\"dataframe\">\n",
       "<caption>A data.frame: 1 × 3</caption>\n",
       "<thead>\n",
       "\t<tr><th></th><th scope=col>one</th><th scope=col>two</th><th scope=col>three</th></tr>\n",
       "\t<tr><th></th><th scope=col>&lt;dbl&gt;</th><th scope=col>&lt;lgl&gt;</th><th scope=col>&lt;int&gt;</th></tr>\n",
       "</thead>\n",
       "<tbody>\n",
       "\t<tr><th scope=row>3</th><td>8</td><td>TRUE</td><td>3</td></tr>\n",
       "</tbody>\n",
       "</table>\n"
      ],
      "text/latex": [
       "A data.frame: 1 × 3\n",
       "\\begin{tabular}{r|lll}\n",
       "  & one & two & three\\\\\n",
       "  & <dbl> & <lgl> & <int>\\\\\n",
       "\\hline\n",
       "\t3 & 8 & TRUE & 3\\\\\n",
       "\\end{tabular}\n"
      ],
      "text/markdown": [
       "\n",
       "A data.frame: 1 × 3\n",
       "\n",
       "| <!--/--> | one &lt;dbl&gt; | two &lt;lgl&gt; | three &lt;int&gt; |\n",
       "|---|---|---|---|\n",
       "| 3 | 8 | TRUE | 3 |\n",
       "\n"
      ],
      "text/plain": [
       "  one two  three\n",
       "3 8   TRUE 3    "
      ]
     },
     "metadata": {},
     "output_type": "display_data"
    },
    {
     "name": "stdout",
     "output_type": "stream",
     "text": [
      "[1] \"one value:\"\n"
     ]
    },
    {
     "data": {
      "text/html": [
       "TRUE"
      ],
      "text/latex": [
       "TRUE"
      ],
      "text/markdown": [
       "TRUE"
      ],
      "text/plain": [
       "[1] TRUE"
      ]
     },
     "metadata": {},
     "output_type": "display_data"
    }
   ],
   "source": [
    "# access one row by index\n",
    "print(\"one row:\")\n",
    "exampleDF[3,]\n",
    "\n",
    "# access one value in a specific row and column\n",
    "print(\"one value:\")\n",
    "exampleDF[3,2]"
   ]
  },
  {
   "cell_type": "code",
   "execution_count": 4,
   "id": "ee2d3c02",
   "metadata": {},
   "outputs": [
    {
     "data": {
      "text/html": [
       "<style>\n",
       ".list-inline {list-style: none; margin:0; padding: 0}\n",
       ".list-inline>li {display: inline-block}\n",
       ".list-inline>li:not(:last-child)::after {content: \"\\00b7\"; padding: 0 .5ex}\n",
       "</style>\n",
       "<ol class=list-inline><li>1</li><li>2</li><li>3</li><li>4</li><li>5</li></ol>\n"
      ],
      "text/latex": [
       "\\begin{enumerate*}\n",
       "\\item 1\n",
       "\\item 2\n",
       "\\item 3\n",
       "\\item 4\n",
       "\\item 5\n",
       "\\end{enumerate*}\n"
      ],
      "text/markdown": [
       "1. 1\n",
       "2. 2\n",
       "3. 3\n",
       "4. 4\n",
       "5. 5\n",
       "\n",
       "\n"
      ],
      "text/plain": [
       "[1] 1 2 3 4 5"
      ]
     },
     "metadata": {},
     "output_type": "display_data"
    },
    {
     "data": {
      "text/html": [
       "<style>\n",
       ".list-inline {list-style: none; margin:0; padding: 0}\n",
       ".list-inline>li {display: inline-block}\n",
       ".list-inline>li:not(:last-child)::after {content: \"\\00b7\"; padding: 0 .5ex}\n",
       "</style>\n",
       "<ol class=list-inline><li>1</li><li>2</li><li>3</li><li>4</li><li>5</li></ol>\n"
      ],
      "text/latex": [
       "\\begin{enumerate*}\n",
       "\\item 1\n",
       "\\item 2\n",
       "\\item 3\n",
       "\\item 4\n",
       "\\item 5\n",
       "\\end{enumerate*}\n"
      ],
      "text/markdown": [
       "1. 1\n",
       "2. 2\n",
       "3. 3\n",
       "4. 4\n",
       "5. 5\n",
       "\n",
       "\n"
      ],
      "text/plain": [
       "[1] 1 2 3 4 5"
      ]
     },
     "metadata": {},
     "output_type": "display_data"
    },
    {
     "data": {
      "text/html": [
       "<table class=\"dataframe\">\n",
       "<caption>A data.frame: 5 × 1</caption>\n",
       "<thead>\n",
       "\t<tr><th scope=col>three</th></tr>\n",
       "\t<tr><th scope=col>&lt;int&gt;</th></tr>\n",
       "</thead>\n",
       "<tbody>\n",
       "\t<tr><td>1</td></tr>\n",
       "\t<tr><td>2</td></tr>\n",
       "\t<tr><td>3</td></tr>\n",
       "\t<tr><td>4</td></tr>\n",
       "\t<tr><td>5</td></tr>\n",
       "</tbody>\n",
       "</table>\n"
      ],
      "text/latex": [
       "A data.frame: 5 × 1\n",
       "\\begin{tabular}{l}\n",
       " three\\\\\n",
       " <int>\\\\\n",
       "\\hline\n",
       "\t 1\\\\\n",
       "\t 2\\\\\n",
       "\t 3\\\\\n",
       "\t 4\\\\\n",
       "\t 5\\\\\n",
       "\\end{tabular}\n"
      ],
      "text/markdown": [
       "\n",
       "A data.frame: 5 × 1\n",
       "\n",
       "| three &lt;int&gt; |\n",
       "|---|\n",
       "| 1 |\n",
       "| 2 |\n",
       "| 3 |\n",
       "| 4 |\n",
       "| 5 |\n",
       "\n"
      ],
      "text/plain": [
       "  three\n",
       "1 1    \n",
       "2 2    \n",
       "3 3    \n",
       "4 4    \n",
       "5 5    "
      ]
     },
     "metadata": {},
     "output_type": "display_data"
    }
   ],
   "source": [
    "# access one column by index\n",
    "# vector of values in a column\n",
    "exampleDF[,3]\n",
    "exampleDF[[3]]\n",
    "\n",
    "# single column of data frame, but this is a bit misleading when considering the  df[y,x] format\n",
    "exampleDF[3]\n",
    "\n",
    "# the distinction to note here is vector vs dataframe datatype output"
   ]
  },
  {
   "cell_type": "code",
   "execution_count": 5,
   "id": "8c1fabc4",
   "metadata": {},
   "outputs": [],
   "source": [
    "# # find the max value of a data frame and the column it's in\n",
    "# val = 0\n",
    "# for( col in names(exampleDF) ){\n",
    "#     temp = max( exampleDF[col] )\n",
    "#     if (temp > val){\n",
    "#         val = temp\n",
    "#         final = col\n",
    "#     }\n",
    "# }\n",
    "# sprintf(\"Max value is %i in column %s.\",temp, final)"
   ]
  },
  {
   "cell_type": "code",
   "execution_count": 6,
   "id": "6c278b29",
   "metadata": {},
   "outputs": [
    {
     "data": {
      "text/html": [
       "<table class=\"dataframe\">\n",
       "<caption>A data.frame: 5 × 3</caption>\n",
       "<thead>\n",
       "\t<tr><th></th><th scope=col>one</th><th scope=col>two</th><th scope=col>three</th></tr>\n",
       "\t<tr><th></th><th scope=col>&lt;dbl&gt;</th><th scope=col>&lt;lgl&gt;</th><th scope=col>&lt;int&gt;</th></tr>\n",
       "</thead>\n",
       "<tbody>\n",
       "\t<tr><th scope=row>1</th><td> 6</td><td>TRUE</td><td> 1</td></tr>\n",
       "\t<tr><th scope=row>NA</th><td>NA</td><td>  NA</td><td>NA</td></tr>\n",
       "\t<tr><th scope=row>3</th><td> 8</td><td>TRUE</td><td> 3</td></tr>\n",
       "\t<tr><th scope=row>NA.1</th><td>NA</td><td>  NA</td><td>NA</td></tr>\n",
       "\t<tr><th scope=row>5</th><td> 9</td><td>TRUE</td><td> 5</td></tr>\n",
       "</tbody>\n",
       "</table>\n"
      ],
      "text/latex": [
       "A data.frame: 5 × 3\n",
       "\\begin{tabular}{r|lll}\n",
       "  & one & two & three\\\\\n",
       "  & <dbl> & <lgl> & <int>\\\\\n",
       "\\hline\n",
       "\t1 &  6 & TRUE &  1\\\\\n",
       "\tNA & NA &   NA & NA\\\\\n",
       "\t3 &  8 & TRUE &  3\\\\\n",
       "\tNA.1 & NA &   NA & NA\\\\\n",
       "\t5 &  9 & TRUE &  5\\\\\n",
       "\\end{tabular}\n"
      ],
      "text/markdown": [
       "\n",
       "A data.frame: 5 × 3\n",
       "\n",
       "| <!--/--> | one &lt;dbl&gt; | two &lt;lgl&gt; | three &lt;int&gt; |\n",
       "|---|---|---|---|\n",
       "| 1 |  6 | TRUE |  1 |\n",
       "| NA | NA |   NA | NA |\n",
       "| 3 |  8 | TRUE |  3 |\n",
       "| NA.1 | NA |   NA | NA |\n",
       "| 5 |  9 | TRUE |  5 |\n",
       "\n"
      ],
      "text/plain": [
       "     one two  three\n",
       "1     6  TRUE  1   \n",
       "NA   NA    NA NA   \n",
       "3     8  TRUE  3   \n",
       "NA.1 NA    NA NA   \n",
       "5     9  TRUE  5   "
      ]
     },
     "metadata": {},
     "output_type": "display_data"
    }
   ],
   "source": [
    "# show me rows of 'exampleDF' where the values in exampleDF column 'one' are greater than 3\n",
    "exampleDF[ exampleDF$one > 3 ,]"
   ]
  },
  {
   "cell_type": "code",
   "execution_count": 7,
   "id": "612c6ef5",
   "metadata": {},
   "outputs": [
    {
     "data": {
      "text/html": [
       "<table class=\"dataframe\">\n",
       "<caption>A data.frame: 3 × 3</caption>\n",
       "<thead>\n",
       "\t<tr><th></th><th scope=col>one</th><th scope=col>two</th><th scope=col>three</th></tr>\n",
       "\t<tr><th></th><th scope=col>&lt;dbl&gt;</th><th scope=col>&lt;lgl&gt;</th><th scope=col>&lt;int&gt;</th></tr>\n",
       "</thead>\n",
       "<tbody>\n",
       "\t<tr><th scope=row>1</th><td>6</td><td>TRUE</td><td>1</td></tr>\n",
       "\t<tr><th scope=row>3</th><td>8</td><td>TRUE</td><td>3</td></tr>\n",
       "\t<tr><th scope=row>5</th><td>9</td><td>TRUE</td><td>5</td></tr>\n",
       "</tbody>\n",
       "</table>\n"
      ],
      "text/latex": [
       "A data.frame: 3 × 3\n",
       "\\begin{tabular}{r|lll}\n",
       "  & one & two & three\\\\\n",
       "  & <dbl> & <lgl> & <int>\\\\\n",
       "\\hline\n",
       "\t1 & 6 & TRUE & 1\\\\\n",
       "\t3 & 8 & TRUE & 3\\\\\n",
       "\t5 & 9 & TRUE & 5\\\\\n",
       "\\end{tabular}\n"
      ],
      "text/markdown": [
       "\n",
       "A data.frame: 3 × 3\n",
       "\n",
       "| <!--/--> | one &lt;dbl&gt; | two &lt;lgl&gt; | three &lt;int&gt; |\n",
       "|---|---|---|---|\n",
       "| 1 | 6 | TRUE | 1 |\n",
       "| 3 | 8 | TRUE | 3 |\n",
       "| 5 | 9 | TRUE | 5 |\n",
       "\n"
      ],
      "text/plain": [
       "  one two  three\n",
       "1 6   TRUE 1    \n",
       "3 8   TRUE 3    \n",
       "5 9   TRUE 5    "
      ]
     },
     "metadata": {},
     "output_type": "display_data"
    }
   ],
   "source": [
    "# show rows where values in exampleDF column 'two' are TRUE\n",
    "exampleDF[ exampleDF$two == TRUE ,]"
   ]
  },
  {
   "cell_type": "code",
   "execution_count": 8,
   "id": "c268b38b",
   "metadata": {},
   "outputs": [
    {
     "data": {
      "text/html": [
       "TRUE"
      ],
      "text/latex": [
       "TRUE"
      ],
      "text/markdown": [
       "TRUE"
      ],
      "text/plain": [
       "[1] TRUE"
      ]
     },
     "metadata": {},
     "output_type": "display_data"
    },
    {
     "data": {
      "text/html": [
       "TRUE"
      ],
      "text/latex": [
       "TRUE"
      ],
      "text/markdown": [
       "TRUE"
      ],
      "text/plain": [
       "[1] TRUE"
      ]
     },
     "metadata": {},
     "output_type": "display_data"
    }
   ],
   "source": [
    "# function is.na() recognizes NA and NaN values\n",
    "is.na(NA)\n",
    "is.na(NaN)"
   ]
  },
  {
   "cell_type": "code",
   "execution_count": 9,
   "id": "68a2b4d7",
   "metadata": {},
   "outputs": [
    {
     "data": {
      "text/html": [
       "<table class=\"dataframe\">\n",
       "<caption>A data.frame: 0 × 3</caption>\n",
       "<thead>\n",
       "\t<tr><th scope=col>one</th><th scope=col>two</th><th scope=col>three</th></tr>\n",
       "\t<tr><th scope=col>&lt;dbl&gt;</th><th scope=col>&lt;lgl&gt;</th><th scope=col>&lt;int&gt;</th></tr>\n",
       "</thead>\n",
       "<tbody>\n",
       "</tbody>\n",
       "</table>\n"
      ],
      "text/latex": [
       "A data.frame: 0 × 3\n",
       "\\begin{tabular}{lll}\n",
       " one & two & three\\\\\n",
       " <dbl> & <lgl> & <int>\\\\\n",
       "\\hline\n",
       "\\end{tabular}\n"
      ],
      "text/markdown": [
       "\n",
       "A data.frame: 0 × 3\n",
       "\n",
       "| one &lt;dbl&gt; | two &lt;lgl&gt; | three &lt;int&gt; |\n",
       "|---|---|---|\n",
       "\n"
      ],
      "text/plain": [
       "     one two three"
      ]
     },
     "metadata": {},
     "output_type": "display_data"
    }
   ],
   "source": [
    "# lines with NA\n",
    "exampleDF[ is.na(exampleDF$three) ,]"
   ]
  },
  {
   "cell_type": "code",
   "execution_count": 10,
   "id": "160b405e",
   "metadata": {},
   "outputs": [
    {
     "data": {
      "text/html": [
       "<table class=\"dataframe\">\n",
       "<caption>A data.frame: 5 × 3</caption>\n",
       "<thead>\n",
       "\t<tr><th></th><th scope=col>one</th><th scope=col>two</th><th scope=col>three</th></tr>\n",
       "\t<tr><th></th><th scope=col>&lt;dbl&gt;</th><th scope=col>&lt;lgl&gt;</th><th scope=col>&lt;int&gt;</th></tr>\n",
       "</thead>\n",
       "<tbody>\n",
       "\t<tr><th scope=row>1</th><td> 6</td><td> TRUE</td><td>1</td></tr>\n",
       "\t<tr><th scope=row>2</th><td>NA</td><td>FALSE</td><td>2</td></tr>\n",
       "\t<tr><th scope=row>3</th><td> 8</td><td> TRUE</td><td>3</td></tr>\n",
       "\t<tr><th scope=row>4</th><td>NA</td><td>FALSE</td><td>4</td></tr>\n",
       "\t<tr><th scope=row>5</th><td> 9</td><td> TRUE</td><td>5</td></tr>\n",
       "</tbody>\n",
       "</table>\n"
      ],
      "text/latex": [
       "A data.frame: 5 × 3\n",
       "\\begin{tabular}{r|lll}\n",
       "  & one & two & three\\\\\n",
       "  & <dbl> & <lgl> & <int>\\\\\n",
       "\\hline\n",
       "\t1 &  6 &  TRUE & 1\\\\\n",
       "\t2 & NA & FALSE & 2\\\\\n",
       "\t3 &  8 &  TRUE & 3\\\\\n",
       "\t4 & NA & FALSE & 4\\\\\n",
       "\t5 &  9 &  TRUE & 5\\\\\n",
       "\\end{tabular}\n"
      ],
      "text/markdown": [
       "\n",
       "A data.frame: 5 × 3\n",
       "\n",
       "| <!--/--> | one &lt;dbl&gt; | two &lt;lgl&gt; | three &lt;int&gt; |\n",
       "|---|---|---|---|\n",
       "| 1 |  6 |  TRUE | 1 |\n",
       "| 2 | NA | FALSE | 2 |\n",
       "| 3 |  8 |  TRUE | 3 |\n",
       "| 4 | NA | FALSE | 4 |\n",
       "| 5 |  9 |  TRUE | 5 |\n",
       "\n"
      ],
      "text/plain": [
       "  one two   three\n",
       "1  6   TRUE 1    \n",
       "2 NA  FALSE 2    \n",
       "3  8   TRUE 3    \n",
       "4 NA  FALSE 4    \n",
       "5  9   TRUE 5    "
      ]
     },
     "metadata": {},
     "output_type": "display_data"
    }
   ],
   "source": [
    "# lines without NA\n",
    "exampleDF[ !is.na(exampleDF$three) ,]"
   ]
  },
  {
   "cell_type": "markdown",
   "id": "8f6224a9",
   "metadata": {},
   "source": [
    "# These can be used to subset data while retaining the original DF"
   ]
  },
  {
   "cell_type": "code",
   "execution_count": 11,
   "id": "3e5bc87a",
   "metadata": {},
   "outputs": [
    {
     "data": {
      "text/html": [
       "<table class=\"dataframe\">\n",
       "<caption>A data.frame: 5 × 3</caption>\n",
       "<thead>\n",
       "\t<tr><th></th><th scope=col>one</th><th scope=col>two</th><th scope=col>three</th></tr>\n",
       "\t<tr><th></th><th scope=col>&lt;dbl&gt;</th><th scope=col>&lt;lgl&gt;</th><th scope=col>&lt;int&gt;</th></tr>\n",
       "</thead>\n",
       "<tbody>\n",
       "\t<tr><th scope=row>1</th><td> 6</td><td> TRUE</td><td>1</td></tr>\n",
       "\t<tr><th scope=row>2</th><td>NA</td><td>FALSE</td><td>2</td></tr>\n",
       "\t<tr><th scope=row>3</th><td> 8</td><td> TRUE</td><td>3</td></tr>\n",
       "\t<tr><th scope=row>4</th><td>NA</td><td>FALSE</td><td>4</td></tr>\n",
       "\t<tr><th scope=row>5</th><td> 9</td><td> TRUE</td><td>5</td></tr>\n",
       "</tbody>\n",
       "</table>\n"
      ],
      "text/latex": [
       "A data.frame: 5 × 3\n",
       "\\begin{tabular}{r|lll}\n",
       "  & one & two & three\\\\\n",
       "  & <dbl> & <lgl> & <int>\\\\\n",
       "\\hline\n",
       "\t1 &  6 &  TRUE & 1\\\\\n",
       "\t2 & NA & FALSE & 2\\\\\n",
       "\t3 &  8 &  TRUE & 3\\\\\n",
       "\t4 & NA & FALSE & 4\\\\\n",
       "\t5 &  9 &  TRUE & 5\\\\\n",
       "\\end{tabular}\n"
      ],
      "text/markdown": [
       "\n",
       "A data.frame: 5 × 3\n",
       "\n",
       "| <!--/--> | one &lt;dbl&gt; | two &lt;lgl&gt; | three &lt;int&gt; |\n",
       "|---|---|---|---|\n",
       "| 1 |  6 |  TRUE | 1 |\n",
       "| 2 | NA | FALSE | 2 |\n",
       "| 3 |  8 |  TRUE | 3 |\n",
       "| 4 | NA | FALSE | 4 |\n",
       "| 5 |  9 |  TRUE | 5 |\n",
       "\n"
      ],
      "text/plain": [
       "  one two   three\n",
       "1  6   TRUE 1    \n",
       "2 NA  FALSE 2    \n",
       "3  8   TRUE 3    \n",
       "4 NA  FALSE 4    \n",
       "5  9   TRUE 5    "
      ]
     },
     "metadata": {},
     "output_type": "display_data"
    },
    {
     "data": {
      "text/html": [
       "<table class=\"dataframe\">\n",
       "<caption>A data.frame: 5 × 3</caption>\n",
       "<thead>\n",
       "\t<tr><th scope=col>one</th><th scope=col>two</th><th scope=col>three</th></tr>\n",
       "\t<tr><th scope=col>&lt;dbl&gt;</th><th scope=col>&lt;lgl&gt;</th><th scope=col>&lt;int&gt;</th></tr>\n",
       "</thead>\n",
       "<tbody>\n",
       "\t<tr><td> 6</td><td> TRUE</td><td>1</td></tr>\n",
       "\t<tr><td>NA</td><td>FALSE</td><td>2</td></tr>\n",
       "\t<tr><td> 8</td><td> TRUE</td><td>3</td></tr>\n",
       "\t<tr><td>NA</td><td>FALSE</td><td>4</td></tr>\n",
       "\t<tr><td> 9</td><td> TRUE</td><td>5</td></tr>\n",
       "</tbody>\n",
       "</table>\n"
      ],
      "text/latex": [
       "A data.frame: 5 × 3\n",
       "\\begin{tabular}{lll}\n",
       " one & two & three\\\\\n",
       " <dbl> & <lgl> & <int>\\\\\n",
       "\\hline\n",
       "\t  6 &  TRUE & 1\\\\\n",
       "\t NA & FALSE & 2\\\\\n",
       "\t  8 &  TRUE & 3\\\\\n",
       "\t NA & FALSE & 4\\\\\n",
       "\t  9 &  TRUE & 5\\\\\n",
       "\\end{tabular}\n"
      ],
      "text/markdown": [
       "\n",
       "A data.frame: 5 × 3\n",
       "\n",
       "| one &lt;dbl&gt; | two &lt;lgl&gt; | three &lt;int&gt; |\n",
       "|---|---|---|\n",
       "|  6 |  TRUE | 1 |\n",
       "| NA | FALSE | 2 |\n",
       "|  8 |  TRUE | 3 |\n",
       "| NA | FALSE | 4 |\n",
       "|  9 |  TRUE | 5 |\n",
       "\n"
      ],
      "text/plain": [
       "  one two   three\n",
       "1  6   TRUE 1    \n",
       "2 NA  FALSE 2    \n",
       "3  8   TRUE 3    \n",
       "4 NA  FALSE 4    \n",
       "5  9   TRUE 5    "
      ]
     },
     "metadata": {},
     "output_type": "display_data"
    }
   ],
   "source": [
    "exDFnoNA<-exampleDF[ !is.na(exampleDF$three) ,]\n",
    "exDFnoNA # has only lines where column three does not have NA\n",
    "\n",
    "exampleDF # stays the same"
   ]
  },
  {
   "cell_type": "markdown",
   "id": "33ad7839",
   "metadata": {},
   "source": [
    "## Another way is to use which()"
   ]
  },
  {
   "cell_type": "code",
   "execution_count": 12,
   "id": "f10b159e",
   "metadata": {},
   "outputs": [
    {
     "data": {
      "text/html": [
       "<style>\n",
       ".list-inline {list-style: none; margin:0; padding: 0}\n",
       ".list-inline>li {display: inline-block}\n",
       ".list-inline>li:not(:last-child)::after {content: \"\\00b7\"; padding: 0 .5ex}\n",
       "</style>\n",
       "<ol class=list-inline><li>1</li><li>3</li><li>5</li></ol>\n"
      ],
      "text/latex": [
       "\\begin{enumerate*}\n",
       "\\item 1\n",
       "\\item 3\n",
       "\\item 5\n",
       "\\end{enumerate*}\n"
      ],
      "text/markdown": [
       "1. 1\n",
       "2. 3\n",
       "3. 5\n",
       "\n",
       "\n"
      ],
      "text/plain": [
       "[1] 1 3 5"
      ]
     },
     "metadata": {},
     "output_type": "display_data"
    },
    {
     "data": {
      "text/html": [
       "<table class=\"dataframe\">\n",
       "<caption>A data.frame: 3 × 3</caption>\n",
       "<thead>\n",
       "\t<tr><th></th><th scope=col>one</th><th scope=col>two</th><th scope=col>three</th></tr>\n",
       "\t<tr><th></th><th scope=col>&lt;dbl&gt;</th><th scope=col>&lt;lgl&gt;</th><th scope=col>&lt;int&gt;</th></tr>\n",
       "</thead>\n",
       "<tbody>\n",
       "\t<tr><th scope=row>1</th><td>6</td><td>TRUE</td><td>1</td></tr>\n",
       "\t<tr><th scope=row>3</th><td>8</td><td>TRUE</td><td>3</td></tr>\n",
       "\t<tr><th scope=row>5</th><td>9</td><td>TRUE</td><td>5</td></tr>\n",
       "</tbody>\n",
       "</table>\n"
      ],
      "text/latex": [
       "A data.frame: 3 × 3\n",
       "\\begin{tabular}{r|lll}\n",
       "  & one & two & three\\\\\n",
       "  & <dbl> & <lgl> & <int>\\\\\n",
       "\\hline\n",
       "\t1 & 6 & TRUE & 1\\\\\n",
       "\t3 & 8 & TRUE & 3\\\\\n",
       "\t5 & 9 & TRUE & 5\\\\\n",
       "\\end{tabular}\n"
      ],
      "text/markdown": [
       "\n",
       "A data.frame: 3 × 3\n",
       "\n",
       "| <!--/--> | one &lt;dbl&gt; | two &lt;lgl&gt; | three &lt;int&gt; |\n",
       "|---|---|---|---|\n",
       "| 1 | 6 | TRUE | 1 |\n",
       "| 3 | 8 | TRUE | 3 |\n",
       "| 5 | 9 | TRUE | 5 |\n",
       "\n"
      ],
      "text/plain": [
       "  one two  three\n",
       "1 6   TRUE 1    \n",
       "3 8   TRUE 3    \n",
       "5 9   TRUE 5    "
      ]
     },
     "metadata": {},
     "output_type": "display_data"
    }
   ],
   "source": [
    "# returns the row position(s) where the logical test evaluated to TRUE\n",
    "which(exampleDF$one > 3)\n",
    "\n",
    "# this can be used to access those specific rows in the data frame\n",
    "exampleDF[ which(exampleDF$one > 3) ,]"
   ]
  },
  {
   "cell_type": "markdown",
   "id": "1c9be50e",
   "metadata": {},
   "source": [
    "# This can also be used to overwrite values, though does so for the whole row"
   ]
  },
  {
   "cell_type": "code",
   "execution_count": 13,
   "id": "d2cf702d",
   "metadata": {},
   "outputs": [
    {
     "data": {
      "text/html": [
       "<table class=\"dataframe\">\n",
       "<caption>A data.frame: 5 × 3</caption>\n",
       "<thead>\n",
       "\t<tr><th scope=col>one</th><th scope=col>two</th><th scope=col>three</th></tr>\n",
       "\t<tr><th scope=col>&lt;chr&gt;</th><th scope=col>&lt;chr&gt;</th><th scope=col>&lt;chr&gt;</th></tr>\n",
       "</thead>\n",
       "<tbody>\n",
       "\t<tr><td>test</td><td>test </td><td>test</td></tr>\n",
       "\t<tr><td>NA  </td><td>FALSE</td><td>2   </td></tr>\n",
       "\t<tr><td>test</td><td>test </td><td>test</td></tr>\n",
       "\t<tr><td>NA  </td><td>FALSE</td><td>4   </td></tr>\n",
       "\t<tr><td>test</td><td>test </td><td>test</td></tr>\n",
       "</tbody>\n",
       "</table>\n"
      ],
      "text/latex": [
       "A data.frame: 5 × 3\n",
       "\\begin{tabular}{lll}\n",
       " one & two & three\\\\\n",
       " <chr> & <chr> & <chr>\\\\\n",
       "\\hline\n",
       "\t test & test  & test\\\\\n",
       "\t NA   & FALSE & 2   \\\\\n",
       "\t test & test  & test\\\\\n",
       "\t NA   & FALSE & 4   \\\\\n",
       "\t test & test  & test\\\\\n",
       "\\end{tabular}\n"
      ],
      "text/markdown": [
       "\n",
       "A data.frame: 5 × 3\n",
       "\n",
       "| one &lt;chr&gt; | two &lt;chr&gt; | three &lt;chr&gt; |\n",
       "|---|---|---|\n",
       "| test | test  | test |\n",
       "| NA   | FALSE | 2    |\n",
       "| test | test  | test |\n",
       "| NA   | FALSE | 4    |\n",
       "| test | test  | test |\n",
       "\n"
      ],
      "text/plain": [
       "  one  two   three\n",
       "1 test test  test \n",
       "2 NA   FALSE 2    \n",
       "3 test test  test \n",
       "4 NA   FALSE 4    \n",
       "5 test test  test "
      ]
     },
     "metadata": {},
     "output_type": "display_data"
    }
   ],
   "source": [
    "test<-exampleDF\n",
    "test[ which(test$one > 3) ,] <- 'test'\n",
    "\n",
    "test"
   ]
  },
  {
   "cell_type": "markdown",
   "id": "783a2a81",
   "metadata": {},
   "source": [
    "## Counting things"
   ]
  },
  {
   "cell_type": "code",
   "execution_count": 14,
   "id": "2f77f045",
   "metadata": {},
   "outputs": [
    {
     "data": {
      "text/html": [
       "5"
      ],
      "text/latex": [
       "5"
      ],
      "text/markdown": [
       "5"
      ],
      "text/plain": [
       "[1] 5"
      ]
     },
     "metadata": {},
     "output_type": "display_data"
    },
    {
     "data": {
      "text/html": [
       "3"
      ],
      "text/latex": [
       "3"
      ],
      "text/markdown": [
       "3"
      ],
      "text/plain": [
       "[1] 3"
      ]
     },
     "metadata": {},
     "output_type": "display_data"
    },
    {
     "data": {
      "text/html": [
       "3"
      ],
      "text/latex": [
       "3"
      ],
      "text/markdown": [
       "3"
      ],
      "text/plain": [
       "[1] 3"
      ]
     },
     "metadata": {},
     "output_type": "display_data"
    },
    {
     "data": {
      "text/html": [
       "<style>\n",
       ".list-inline {list-style: none; margin:0; padding: 0}\n",
       ".list-inline>li {display: inline-block}\n",
       ".list-inline>li:not(:last-child)::after {content: \"\\00b7\"; padding: 0 .5ex}\n",
       "</style>\n",
       "<ol class=list-inline><li>TRUE</li><li>FALSE</li><li>TRUE</li><li>FALSE</li><li>TRUE</li></ol>\n"
      ],
      "text/latex": [
       "\\begin{enumerate*}\n",
       "\\item TRUE\n",
       "\\item FALSE\n",
       "\\item TRUE\n",
       "\\item FALSE\n",
       "\\item TRUE\n",
       "\\end{enumerate*}\n"
      ],
      "text/markdown": [
       "1. TRUE\n",
       "2. FALSE\n",
       "3. TRUE\n",
       "4. FALSE\n",
       "5. TRUE\n",
       "\n",
       "\n"
      ],
      "text/plain": [
       "[1]  TRUE FALSE  TRUE FALSE  TRUE"
      ]
     },
     "metadata": {},
     "output_type": "display_data"
    },
    {
     "data": {
      "text/html": [
       "<style>\n",
       ".list-inline {list-style: none; margin:0; padding: 0}\n",
       ".list-inline>li {display: inline-block}\n",
       ".list-inline>li:not(:last-child)::after {content: \"\\00b7\"; padding: 0 .5ex}\n",
       "</style>\n",
       "<ol class=list-inline><li>FALSE</li><li>FALSE</li><li>FALSE</li><li>FALSE</li><li>FALSE</li></ol>\n"
      ],
      "text/latex": [
       "\\begin{enumerate*}\n",
       "\\item FALSE\n",
       "\\item FALSE\n",
       "\\item FALSE\n",
       "\\item FALSE\n",
       "\\item FALSE\n",
       "\\end{enumerate*}\n"
      ],
      "text/markdown": [
       "1. FALSE\n",
       "2. FALSE\n",
       "3. FALSE\n",
       "4. FALSE\n",
       "5. FALSE\n",
       "\n",
       "\n"
      ],
      "text/plain": [
       "[1] FALSE FALSE FALSE FALSE FALSE"
      ]
     },
     "metadata": {},
     "output_type": "display_data"
    },
    {
     "data": {
      "text/html": [
       "0"
      ],
      "text/latex": [
       "0"
      ],
      "text/markdown": [
       "0"
      ],
      "text/plain": [
       "[1] 0"
      ]
     },
     "metadata": {},
     "output_type": "display_data"
    }
   ],
   "source": [
    "# number of rows\n",
    "nrow(exampleDF)\n",
    "\n",
    "# number of columns\n",
    "ncol(exampleDF)\n",
    "length(exampleDF)\n",
    "\n",
    "# logical test on an entire column of data frame\n",
    "exampleDF$two == TRUE\n",
    "\n",
    "# is.na() returns TRUE or FALSE for each row\n",
    "is.na( exampleDF$three )\n",
    "\n",
    "# sum() can be used to add each time the logical test evaluates to TRUE\n",
    "sum( is.na(exampleDF$three) )"
   ]
  },
  {
   "cell_type": "markdown",
   "id": "d7445957",
   "metadata": {},
   "source": [
    "## For loops to modify a dataframe"
   ]
  },
  {
   "cell_type": "code",
   "execution_count": 15,
   "id": "3d7f4da1",
   "metadata": {},
   "outputs": [
    {
     "data": {
      "text/html": [
       "<table class=\"dataframe\">\n",
       "<caption>A data.frame: 5 × 3</caption>\n",
       "<thead>\n",
       "\t<tr><th scope=col>one</th><th scope=col>two</th><th scope=col>three</th></tr>\n",
       "\t<tr><th scope=col>&lt;dbl&gt;</th><th scope=col>&lt;lgl&gt;</th><th scope=col>&lt;int&gt;</th></tr>\n",
       "</thead>\n",
       "<tbody>\n",
       "\t<tr><td> 6</td><td> TRUE</td><td>1</td></tr>\n",
       "\t<tr><td>NA</td><td>FALSE</td><td>2</td></tr>\n",
       "\t<tr><td> 8</td><td> TRUE</td><td>3</td></tr>\n",
       "\t<tr><td>NA</td><td>FALSE</td><td>4</td></tr>\n",
       "\t<tr><td> 9</td><td> TRUE</td><td>5</td></tr>\n",
       "</tbody>\n",
       "</table>\n"
      ],
      "text/latex": [
       "A data.frame: 5 × 3\n",
       "\\begin{tabular}{lll}\n",
       " one & two & three\\\\\n",
       " <dbl> & <lgl> & <int>\\\\\n",
       "\\hline\n",
       "\t  6 &  TRUE & 1\\\\\n",
       "\t NA & FALSE & 2\\\\\n",
       "\t  8 &  TRUE & 3\\\\\n",
       "\t NA & FALSE & 4\\\\\n",
       "\t  9 &  TRUE & 5\\\\\n",
       "\\end{tabular}\n"
      ],
      "text/markdown": [
       "\n",
       "A data.frame: 5 × 3\n",
       "\n",
       "| one &lt;dbl&gt; | two &lt;lgl&gt; | three &lt;int&gt; |\n",
       "|---|---|---|\n",
       "|  6 |  TRUE | 1 |\n",
       "| NA | FALSE | 2 |\n",
       "|  8 |  TRUE | 3 |\n",
       "| NA | FALSE | 4 |\n",
       "|  9 |  TRUE | 5 |\n",
       "\n"
      ],
      "text/plain": [
       "  one two   three\n",
       "1  6   TRUE 1    \n",
       "2 NA  FALSE 2    \n",
       "3  8   TRUE 3    \n",
       "4 NA  FALSE 4    \n",
       "5  9   TRUE 5    "
      ]
     },
     "metadata": {},
     "output_type": "display_data"
    }
   ],
   "source": [
    "exampleDF"
   ]
  },
  {
   "cell_type": "markdown",
   "id": "a6a5e970",
   "metadata": {},
   "source": [
    "### Building a for loop to modify one column in a dataframe step by step"
   ]
  },
  {
   "cell_type": "markdown",
   "id": "ce3d7dc3",
   "metadata": {},
   "source": [
    "1. isolate a column"
   ]
  },
  {
   "cell_type": "code",
   "execution_count": 16,
   "id": "d9e72e6e",
   "metadata": {},
   "outputs": [
    {
     "data": {
      "text/html": [
       "<table class=\"dataframe\">\n",
       "<caption>A data.frame: 5 × 1</caption>\n",
       "<thead>\n",
       "\t<tr><th scope=col>three</th></tr>\n",
       "\t<tr><th scope=col>&lt;int&gt;</th></tr>\n",
       "</thead>\n",
       "<tbody>\n",
       "\t<tr><td>1</td></tr>\n",
       "\t<tr><td>2</td></tr>\n",
       "\t<tr><td>3</td></tr>\n",
       "\t<tr><td>4</td></tr>\n",
       "\t<tr><td>5</td></tr>\n",
       "</tbody>\n",
       "</table>\n"
      ],
      "text/latex": [
       "A data.frame: 5 × 1\n",
       "\\begin{tabular}{l}\n",
       " three\\\\\n",
       " <int>\\\\\n",
       "\\hline\n",
       "\t 1\\\\\n",
       "\t 2\\\\\n",
       "\t 3\\\\\n",
       "\t 4\\\\\n",
       "\t 5\\\\\n",
       "\\end{tabular}\n"
      ],
      "text/markdown": [
       "\n",
       "A data.frame: 5 × 1\n",
       "\n",
       "| three &lt;int&gt; |\n",
       "|---|\n",
       "| 1 |\n",
       "| 2 |\n",
       "| 3 |\n",
       "| 4 |\n",
       "| 5 |\n",
       "\n"
      ],
      "text/plain": [
       "  three\n",
       "1 1    \n",
       "2 2    \n",
       "3 3    \n",
       "4 4    \n",
       "5 5    "
      ]
     },
     "metadata": {},
     "output_type": "display_data"
    }
   ],
   "source": [
    "exampleDF['three']"
   ]
  },
  {
   "cell_type": "markdown",
   "id": "54b28181",
   "metadata": {},
   "source": [
    "2. Make a for loop to iterate through each item in the column"
   ]
  },
  {
   "cell_type": "code",
   "execution_count": 17,
   "id": "9c5b7d2e",
   "metadata": {},
   "outputs": [
    {
     "name": "stdout",
     "output_type": "stream",
     "text": [
      "[1] 1 2 3 4 5\n"
     ]
    }
   ],
   "source": [
    "for(i in exampleDF['three']){\n",
    "    print(i)\n",
    "}"
   ]
  },
  {
   "cell_type": "markdown",
   "id": "74b99a51",
   "metadata": {},
   "source": [
    "Example: use the items to calculate something new"
   ]
  },
  {
   "cell_type": "code",
   "execution_count": 20,
   "id": "47374679",
   "metadata": {
    "scrolled": true
   },
   "outputs": [
    {
     "name": "stdout",
     "output_type": "stream",
     "text": [
      "[1]  2  4  6  8 10\n"
     ]
    }
   ],
   "source": [
    "for(i in exampleDF['three']){\n",
    "    print( i*2 )\n",
    "}"
   ]
  },
  {
   "cell_type": "markdown",
   "id": "9f652266",
   "metadata": {},
   "source": [
    "Example: create a new column with modified values (note: you could also replace the items in the original dataframe by reindicating the same column)"
   ]
  },
  {
   "cell_type": "code",
   "execution_count": 21,
   "id": "57e213d4",
   "metadata": {},
   "outputs": [
    {
     "data": {
      "text/html": [
       "<table class=\"dataframe\">\n",
       "<caption>A data.frame: 5 × 4</caption>\n",
       "<thead>\n",
       "\t<tr><th scope=col>one</th><th scope=col>two</th><th scope=col>three</th><th scope=col>doubled</th></tr>\n",
       "\t<tr><th scope=col>&lt;dbl&gt;</th><th scope=col>&lt;lgl&gt;</th><th scope=col>&lt;int&gt;</th><th scope=col>&lt;dbl&gt;</th></tr>\n",
       "</thead>\n",
       "<tbody>\n",
       "\t<tr><td> 6</td><td> TRUE</td><td>1</td><td> 2</td></tr>\n",
       "\t<tr><td>NA</td><td>FALSE</td><td>2</td><td> 4</td></tr>\n",
       "\t<tr><td> 8</td><td> TRUE</td><td>3</td><td> 6</td></tr>\n",
       "\t<tr><td>NA</td><td>FALSE</td><td>4</td><td> 8</td></tr>\n",
       "\t<tr><td> 9</td><td> TRUE</td><td>5</td><td>10</td></tr>\n",
       "</tbody>\n",
       "</table>\n"
      ],
      "text/latex": [
       "A data.frame: 5 × 4\n",
       "\\begin{tabular}{llll}\n",
       " one & two & three & doubled\\\\\n",
       " <dbl> & <lgl> & <int> & <dbl>\\\\\n",
       "\\hline\n",
       "\t  6 &  TRUE & 1 &  2\\\\\n",
       "\t NA & FALSE & 2 &  4\\\\\n",
       "\t  8 &  TRUE & 3 &  6\\\\\n",
       "\t NA & FALSE & 4 &  8\\\\\n",
       "\t  9 &  TRUE & 5 & 10\\\\\n",
       "\\end{tabular}\n"
      ],
      "text/markdown": [
       "\n",
       "A data.frame: 5 × 4\n",
       "\n",
       "| one &lt;dbl&gt; | two &lt;lgl&gt; | three &lt;int&gt; | doubled &lt;dbl&gt; |\n",
       "|---|---|---|---|\n",
       "|  6 |  TRUE | 1 |  2 |\n",
       "| NA | FALSE | 2 |  4 |\n",
       "|  8 |  TRUE | 3 |  6 |\n",
       "| NA | FALSE | 4 |  8 |\n",
       "|  9 |  TRUE | 5 | 10 |\n",
       "\n"
      ],
      "text/plain": [
       "  one two   three doubled\n",
       "1  6   TRUE 1      2     \n",
       "2 NA  FALSE 2      4     \n",
       "3  8   TRUE 3      6     \n",
       "4 NA  FALSE 4      8     \n",
       "5  9   TRUE 5     10     "
      ]
     },
     "metadata": {},
     "output_type": "display_data"
    }
   ],
   "source": [
    "for(i in exampleDF['three']){\n",
    "    exampleDF['doubled']<-i*2 \n",
    "}\n",
    "\n",
    "exampleDF"
   ]
  },
  {
   "cell_type": "markdown",
   "id": "706e3104",
   "metadata": {},
   "source": [
    "### The benefit to acccessing the column using dataframe['name of column'] vs dataframe$name of column is that [ ] can take a variable as input"
   ]
  },
  {
   "cell_type": "code",
   "execution_count": 26,
   "id": "8261cd8f",
   "metadata": {},
   "outputs": [
    {
     "data": {
      "text/html": [
       "<table class=\"dataframe\">\n",
       "<caption>A data.frame: 5 × 1</caption>\n",
       "<thead>\n",
       "\t<tr><th scope=col>two</th></tr>\n",
       "\t<tr><th scope=col>&lt;lgl&gt;</th></tr>\n",
       "</thead>\n",
       "<tbody>\n",
       "\t<tr><td> TRUE</td></tr>\n",
       "\t<tr><td>FALSE</td></tr>\n",
       "\t<tr><td> TRUE</td></tr>\n",
       "\t<tr><td>FALSE</td></tr>\n",
       "\t<tr><td> TRUE</td></tr>\n",
       "</tbody>\n",
       "</table>\n"
      ],
      "text/latex": [
       "A data.frame: 5 × 1\n",
       "\\begin{tabular}{l}\n",
       " two\\\\\n",
       " <lgl>\\\\\n",
       "\\hline\n",
       "\t  TRUE\\\\\n",
       "\t FALSE\\\\\n",
       "\t  TRUE\\\\\n",
       "\t FALSE\\\\\n",
       "\t  TRUE\\\\\n",
       "\\end{tabular}\n"
      ],
      "text/markdown": [
       "\n",
       "A data.frame: 5 × 1\n",
       "\n",
       "| two &lt;lgl&gt; |\n",
       "|---|\n",
       "|  TRUE |\n",
       "| FALSE |\n",
       "|  TRUE |\n",
       "| FALSE |\n",
       "|  TRUE |\n",
       "\n"
      ],
      "text/plain": [
       "  two  \n",
       "1  TRUE\n",
       "2 FALSE\n",
       "3  TRUE\n",
       "4 FALSE\n",
       "5  TRUE"
      ]
     },
     "metadata": {},
     "output_type": "display_data"
    },
    {
     "data": {
      "text/html": [
       "<style>\n",
       ".list-inline {list-style: none; margin:0; padding: 0}\n",
       ".list-inline>li {display: inline-block}\n",
       ".list-inline>li:not(:last-child)::after {content: \"\\00b7\"; padding: 0 .5ex}\n",
       "</style>\n",
       "<ol class=list-inline><li>TRUE</li><li>FALSE</li><li>TRUE</li><li>FALSE</li><li>TRUE</li></ol>\n"
      ],
      "text/latex": [
       "\\begin{enumerate*}\n",
       "\\item TRUE\n",
       "\\item FALSE\n",
       "\\item TRUE\n",
       "\\item FALSE\n",
       "\\item TRUE\n",
       "\\end{enumerate*}\n"
      ],
      "text/markdown": [
       "1. TRUE\n",
       "2. FALSE\n",
       "3. TRUE\n",
       "4. FALSE\n",
       "5. TRUE\n",
       "\n",
       "\n"
      ],
      "text/plain": [
       "[1]  TRUE FALSE  TRUE FALSE  TRUE"
      ]
     },
     "metadata": {},
     "output_type": "display_data"
    }
   ],
   "source": [
    "colName<-'two'\n",
    "# can be used to access the specific column\n",
    "exampleDF[colName]\n",
    "\n",
    "# or a vector of the data in the column\n",
    "exampleDF[[colName]]"
   ]
  },
  {
   "cell_type": "code",
   "execution_count": null,
   "id": "929c48d1",
   "metadata": {},
   "outputs": [],
   "source": []
  }
 ],
 "metadata": {
  "kernelspec": {
   "display_name": "R",
   "language": "R",
   "name": "ir"
  },
  "language_info": {
   "codemirror_mode": "r",
   "file_extension": ".r",
   "mimetype": "text/x-r-source",
   "name": "R",
   "pygments_lexer": "r",
   "version": "4.1.2"
  }
 },
 "nbformat": 4,
 "nbformat_minor": 5
}
