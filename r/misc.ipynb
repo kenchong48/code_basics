{
 "cells": [
  {
   "cell_type": "markdown",
   "id": "1b51e2b2",
   "metadata": {},
   "source": [
    "# write a file with r, in r? yes"
   ]
  },
  {
   "cell_type": "code",
   "execution_count": 1,
   "id": "7d923a51",
   "metadata": {},
   "outputs": [],
   "source": [
    "fileConn<-file(\"HelloWorld.r\")\n",
    "text<-\"print('Hello World')\"\n",
    "writeLines(c(text), fileConn)\n",
    "close(fileConn)"
   ]
  },
  {
   "cell_type": "code",
   "execution_count": 2,
   "id": "cb312053",
   "metadata": {},
   "outputs": [
    {
     "data": {
      "text/html": [
       "<style>\n",
       ".list-inline {list-style: none; margin:0; padding: 0}\n",
       ".list-inline>li {display: inline-block}\n",
       ".list-inline>li:not(:last-child)::after {content: \"\\00b7\"; padding: 0 .5ex}\n",
       "</style>\n",
       "<ol class=list-inline><li>'commaSeparatedVariables.csv'</li><li>'data-handling.ipynb'</li><li>'dataframes.ipynb'</li><li>'HelloThereF.r'</li><li>'HelloWorld.r'</li><li>'misc.ipynb'</li><li>'multiplelines.txt'</li><li>'r_basics.ipynb'</li><li>'USGS_earthquakes_all_month.csv'</li></ol>\n"
      ],
      "text/latex": [
       "\\begin{enumerate*}\n",
       "\\item 'commaSeparatedVariables.csv'\n",
       "\\item 'data-handling.ipynb'\n",
       "\\item 'dataframes.ipynb'\n",
       "\\item 'HelloThereF.r'\n",
       "\\item 'HelloWorld.r'\n",
       "\\item 'misc.ipynb'\n",
       "\\item 'multiplelines.txt'\n",
       "\\item 'r\\_basics.ipynb'\n",
       "\\item 'USGS\\_earthquakes\\_all\\_month.csv'\n",
       "\\end{enumerate*}\n"
      ],
      "text/markdown": [
       "1. 'commaSeparatedVariables.csv'\n",
       "2. 'data-handling.ipynb'\n",
       "3. 'dataframes.ipynb'\n",
       "4. 'HelloThereF.r'\n",
       "5. 'HelloWorld.r'\n",
       "6. 'misc.ipynb'\n",
       "7. 'multiplelines.txt'\n",
       "8. 'r_basics.ipynb'\n",
       "9. 'USGS_earthquakes_all_month.csv'\n",
       "\n",
       "\n"
      ],
      "text/plain": [
       "[1] \"commaSeparatedVariables.csv\"    \"data-handling.ipynb\"           \n",
       "[3] \"dataframes.ipynb\"               \"HelloThereF.r\"                 \n",
       "[5] \"HelloWorld.r\"                   \"misc.ipynb\"                    \n",
       "[7] \"multiplelines.txt\"              \"r_basics.ipynb\"                \n",
       "[9] \"USGS_earthquakes_all_month.csv\""
      ]
     },
     "metadata": {},
     "output_type": "display_data"
    }
   ],
   "source": [
    "list.files(getwd())"
   ]
  },
  {
   "cell_type": "code",
   "execution_count": 3,
   "id": "b362ed98",
   "metadata": {},
   "outputs": [
    {
     "data": {
      "text/html": [
       "'/home/pleocavee/Documents/github/code_basics/r/HelloWorld.r'"
      ],
      "text/latex": [
       "'/home/pleocavee/Documents/github/code\\_basics/r/HelloWorld.r'"
      ],
      "text/markdown": [
       "'/home/pleocavee/Documents/github/code_basics/r/HelloWorld.r'"
      ],
      "text/plain": [
       "[1] \"/home/pleocavee/Documents/github/code_basics/r/HelloWorld.r\""
      ]
     },
     "metadata": {},
     "output_type": "display_data"
    },
    {
     "data": {
      "text/html": [
       "TRUE"
      ],
      "text/latex": [
       "TRUE"
      ],
      "text/markdown": [
       "TRUE"
      ],
      "text/plain": [
       "[1] TRUE"
      ]
     },
     "metadata": {},
     "output_type": "display_data"
    }
   ],
   "source": [
    "fileLoc<-paste(getwd(),\"/HelloWorld.r\",sep=\"\")\n",
    "fileLoc\n",
    "file.exists(fileLoc)"
   ]
  },
  {
   "cell_type": "code",
   "execution_count": 4,
   "id": "edb481d2",
   "metadata": {},
   "outputs": [
    {
     "name": "stdout",
     "output_type": "stream",
     "text": [
      "[1] \"Hello World\"\n"
     ]
    }
   ],
   "source": [
    "source(file = fileLoc)"
   ]
  },
  {
   "cell_type": "markdown",
   "id": "30e6a801",
   "metadata": {},
   "source": [
    "# write a function into a file? yes"
   ]
  },
  {
   "cell_type": "code",
   "execution_count": 5,
   "id": "4c064710",
   "metadata": {},
   "outputs": [
    {
     "data": {
      "text/html": [
       "'printHello&lt;-function(){print(\\'Hello there\\')}'"
      ],
      "text/latex": [
       "'printHello<-function()\\{print(\\textbackslash{}'Hello there\\textbackslash{}')\\}'"
      ],
      "text/markdown": [
       "'printHello&lt;-function(){print(\\'Hello there\\')}'"
      ],
      "text/plain": [
       "[1] \"printHello<-function(){print('Hello there')}\""
      ]
     },
     "metadata": {},
     "output_type": "display_data"
    }
   ],
   "source": [
    "funcText<-\"printHello<-function(){print('Hello there')}\"\n",
    "funcText"
   ]
  },
  {
   "cell_type": "code",
   "execution_count": 6,
   "id": "b4e79d76",
   "metadata": {},
   "outputs": [],
   "source": [
    "fileConn<-file(\"HelloThereF.r\")\n",
    "writeLines(c(funcText), fileConn)\n",
    "close(fileConn)"
   ]
  },
  {
   "cell_type": "code",
   "execution_count": 7,
   "id": "9c6775f6",
   "metadata": {},
   "outputs": [
    {
     "data": {
      "text/html": [
       "<style>\n",
       ".list-inline {list-style: none; margin:0; padding: 0}\n",
       ".list-inline>li {display: inline-block}\n",
       ".list-inline>li:not(:last-child)::after {content: \"\\00b7\"; padding: 0 .5ex}\n",
       "</style>\n",
       "<ol class=list-inline><li>'commaSeparatedVariables.csv'</li><li>'data-handling.ipynb'</li><li>'dataframes.ipynb'</li><li>'HelloThereF.r'</li><li>'HelloWorld.r'</li><li>'misc.ipynb'</li><li>'multiplelines.txt'</li><li>'r_basics.ipynb'</li><li>'USGS_earthquakes_all_month.csv'</li></ol>\n"
      ],
      "text/latex": [
       "\\begin{enumerate*}\n",
       "\\item 'commaSeparatedVariables.csv'\n",
       "\\item 'data-handling.ipynb'\n",
       "\\item 'dataframes.ipynb'\n",
       "\\item 'HelloThereF.r'\n",
       "\\item 'HelloWorld.r'\n",
       "\\item 'misc.ipynb'\n",
       "\\item 'multiplelines.txt'\n",
       "\\item 'r\\_basics.ipynb'\n",
       "\\item 'USGS\\_earthquakes\\_all\\_month.csv'\n",
       "\\end{enumerate*}\n"
      ],
      "text/markdown": [
       "1. 'commaSeparatedVariables.csv'\n",
       "2. 'data-handling.ipynb'\n",
       "3. 'dataframes.ipynb'\n",
       "4. 'HelloThereF.r'\n",
       "5. 'HelloWorld.r'\n",
       "6. 'misc.ipynb'\n",
       "7. 'multiplelines.txt'\n",
       "8. 'r_basics.ipynb'\n",
       "9. 'USGS_earthquakes_all_month.csv'\n",
       "\n",
       "\n"
      ],
      "text/plain": [
       "[1] \"commaSeparatedVariables.csv\"    \"data-handling.ipynb\"           \n",
       "[3] \"dataframes.ipynb\"               \"HelloThereF.r\"                 \n",
       "[5] \"HelloWorld.r\"                   \"misc.ipynb\"                    \n",
       "[7] \"multiplelines.txt\"              \"r_basics.ipynb\"                \n",
       "[9] \"USGS_earthquakes_all_month.csv\""
      ]
     },
     "metadata": {},
     "output_type": "display_data"
    }
   ],
   "source": [
    "list.files(getwd())"
   ]
  },
  {
   "cell_type": "code",
   "execution_count": 8,
   "id": "c79f9099",
   "metadata": {},
   "outputs": [
    {
     "data": {
      "text/html": [
       "TRUE"
      ],
      "text/latex": [
       "TRUE"
      ],
      "text/markdown": [
       "TRUE"
      ],
      "text/plain": [
       "[1] TRUE"
      ]
     },
     "metadata": {},
     "output_type": "display_data"
    }
   ],
   "source": [
    "Ftest<-paste(getwd(),\"/HelloThereF.r\",sep=\"\")\n",
    "file.exists(Ftest)"
   ]
  },
  {
   "cell_type": "code",
   "execution_count": 9,
   "id": "55d4789c",
   "metadata": {},
   "outputs": [],
   "source": [
    "source(file=Ftest)"
   ]
  },
  {
   "cell_type": "code",
   "execution_count": 10,
   "id": "7293f155",
   "metadata": {},
   "outputs": [
    {
     "name": "stdout",
     "output_type": "stream",
     "text": [
      "[1] \"Hello there\"\n"
     ]
    }
   ],
   "source": [
    "printHello()"
   ]
  },
  {
   "cell_type": "markdown",
   "id": "cc2625d2",
   "metadata": {},
   "source": [
    "# does writelines, overwrite / append? it overwrites"
   ]
  },
  {
   "cell_type": "code",
   "execution_count": 11,
   "id": "c80b518c",
   "metadata": {},
   "outputs": [],
   "source": [
    "fileConn<-file(\"HelloWorld.r\")\n",
    "text<-\"print('adding new line')\"\n",
    "writeLines(c(text), fileConn)\n",
    "close(fileConn)"
   ]
  },
  {
   "cell_type": "code",
   "execution_count": 12,
   "id": "fe1faf80",
   "metadata": {},
   "outputs": [
    {
     "name": "stdout",
     "output_type": "stream",
     "text": [
      "[1] \"adding new line\"\n"
     ]
    }
   ],
   "source": [
    "source(file = fileLoc)"
   ]
  },
  {
   "cell_type": "markdown",
   "id": "ed0d60a7",
   "metadata": {},
   "source": [
    "# can write multiple lines at once, or manually"
   ]
  },
  {
   "cell_type": "code",
   "execution_count": 13,
   "id": "46bafdcb",
   "metadata": {},
   "outputs": [],
   "source": [
    "# writelines does recognize \\n as a new line character, otherwise you can write multiple lines via c()t\n",
    "fileConn<-file(\"multiplelines.txt\")\n",
    "text<-\"first line of text\\nsecond line of text?\"\n",
    "writeLines(c(text), fileConn)\n",
    "close(fileConn)"
   ]
  },
  {
   "cell_type": "code",
   "execution_count": 14,
   "id": "74bda796",
   "metadata": {},
   "outputs": [
    {
     "data": {
      "text/html": [
       "TRUE"
      ],
      "text/latex": [
       "TRUE"
      ],
      "text/markdown": [
       "TRUE"
      ],
      "text/plain": [
       "[1] TRUE"
      ]
     },
     "metadata": {},
     "output_type": "display_data"
    }
   ],
   "source": [
    "multi<-paste(getwd(),\"/multiplelines.txt\",sep=\"\")\n",
    "file.exists(multi)"
   ]
  },
  {
   "cell_type": "code",
   "execution_count": 15,
   "id": "037ebb88",
   "metadata": {},
   "outputs": [
    {
     "data": {
      "text/html": [
       "<table class=\"dataframe\">\n",
       "<caption>A data.frame: 2 × 4</caption>\n",
       "<thead>\n",
       "\t<tr><th scope=col>V1</th><th scope=col>V2</th><th scope=col>V3</th><th scope=col>V4</th></tr>\n",
       "\t<tr><th scope=col>&lt;chr&gt;</th><th scope=col>&lt;chr&gt;</th><th scope=col>&lt;chr&gt;</th><th scope=col>&lt;chr&gt;</th></tr>\n",
       "</thead>\n",
       "<tbody>\n",
       "\t<tr><td>first </td><td>line</td><td>of</td><td>text </td></tr>\n",
       "\t<tr><td>second</td><td>line</td><td>of</td><td>text?</td></tr>\n",
       "</tbody>\n",
       "</table>\n"
      ],
      "text/latex": [
       "A data.frame: 2 × 4\n",
       "\\begin{tabular}{llll}\n",
       " V1 & V2 & V3 & V4\\\\\n",
       " <chr> & <chr> & <chr> & <chr>\\\\\n",
       "\\hline\n",
       "\t first  & line & of & text \\\\\n",
       "\t second & line & of & text?\\\\\n",
       "\\end{tabular}\n"
      ],
      "text/markdown": [
       "\n",
       "A data.frame: 2 × 4\n",
       "\n",
       "| V1 &lt;chr&gt; | V2 &lt;chr&gt; | V3 &lt;chr&gt; | V4 &lt;chr&gt; |\n",
       "|---|---|---|---|\n",
       "| first  | line | of | text  |\n",
       "| second | line | of | text? |\n",
       "\n"
      ],
      "text/plain": [
       "  V1     V2   V3 V4   \n",
       "1 first  line of text \n",
       "2 second line of text?"
      ]
     },
     "metadata": {},
     "output_type": "display_data"
    }
   ],
   "source": [
    "# reads into a table, not possible to read otherwise?\n",
    "read.table(file=multi)"
   ]
  },
  {
   "cell_type": "markdown",
   "id": "0d429acd",
   "metadata": {},
   "source": [
    "# write a .csv manually"
   ]
  },
  {
   "cell_type": "code",
   "execution_count": 16,
   "id": "adaaa10d",
   "metadata": {},
   "outputs": [],
   "source": [
    "fileConn<-file(\"commaSeparatedVariables.csv\")\n",
    "text<-\"col1,col2,col3\\n1,2,3\\n4,5,6\\n7,8,9\"\n",
    "writeLines(c(text), fileConn)\n",
    "close(fileConn)"
   ]
  },
  {
   "cell_type": "code",
   "execution_count": 17,
   "id": "435e09ef",
   "metadata": {},
   "outputs": [
    {
     "data": {
      "text/html": [
       "TRUE"
      ],
      "text/latex": [
       "TRUE"
      ],
      "text/markdown": [
       "TRUE"
      ],
      "text/plain": [
       "[1] TRUE"
      ]
     },
     "metadata": {},
     "output_type": "display_data"
    }
   ],
   "source": [
    "csvFile<-paste(getwd(),\"/commaSeparatedVariables.csv\",sep=\"\")\n",
    "file.exists(csvFile)"
   ]
  },
  {
   "cell_type": "code",
   "execution_count": 18,
   "id": "8da7fead",
   "metadata": {},
   "outputs": [
    {
     "data": {
      "text/html": [
       "<table class=\"dataframe\">\n",
       "<caption>A data.frame: 3 × 3</caption>\n",
       "<thead>\n",
       "\t<tr><th scope=col>col1</th><th scope=col>col2</th><th scope=col>col3</th></tr>\n",
       "\t<tr><th scope=col>&lt;int&gt;</th><th scope=col>&lt;int&gt;</th><th scope=col>&lt;int&gt;</th></tr>\n",
       "</thead>\n",
       "<tbody>\n",
       "\t<tr><td>1</td><td>2</td><td>3</td></tr>\n",
       "\t<tr><td>4</td><td>5</td><td>6</td></tr>\n",
       "\t<tr><td>7</td><td>8</td><td>9</td></tr>\n",
       "</tbody>\n",
       "</table>\n"
      ],
      "text/latex": [
       "A data.frame: 3 × 3\n",
       "\\begin{tabular}{lll}\n",
       " col1 & col2 & col3\\\\\n",
       " <int> & <int> & <int>\\\\\n",
       "\\hline\n",
       "\t 1 & 2 & 3\\\\\n",
       "\t 4 & 5 & 6\\\\\n",
       "\t 7 & 8 & 9\\\\\n",
       "\\end{tabular}\n"
      ],
      "text/markdown": [
       "\n",
       "A data.frame: 3 × 3\n",
       "\n",
       "| col1 &lt;int&gt; | col2 &lt;int&gt; | col3 &lt;int&gt; |\n",
       "|---|---|---|\n",
       "| 1 | 2 | 3 |\n",
       "| 4 | 5 | 6 |\n",
       "| 7 | 8 | 9 |\n",
       "\n"
      ],
      "text/plain": [
       "  col1 col2 col3\n",
       "1 1    2    3   \n",
       "2 4    5    6   \n",
       "3 7    8    9   "
      ]
     },
     "metadata": {},
     "output_type": "display_data"
    }
   ],
   "source": [
    "read.csv(csvFile)"
   ]
  },
  {
   "cell_type": "code",
   "execution_count": null,
   "id": "eb1f2a03",
   "metadata": {},
   "outputs": [],
   "source": []
  },
  {
   "cell_type": "code",
   "execution_count": null,
   "id": "2b01900a",
   "metadata": {},
   "outputs": [],
   "source": []
  },
  {
   "cell_type": "code",
   "execution_count": null,
   "id": "ec225752",
   "metadata": {},
   "outputs": [],
   "source": []
  },
  {
   "cell_type": "code",
   "execution_count": null,
   "id": "5bdf3ca7",
   "metadata": {},
   "outputs": [],
   "source": []
  },
  {
   "cell_type": "code",
   "execution_count": null,
   "id": "8c470304",
   "metadata": {},
   "outputs": [],
   "source": []
  },
  {
   "cell_type": "code",
   "execution_count": null,
   "id": "196187cf",
   "metadata": {},
   "outputs": [],
   "source": []
  },
  {
   "cell_type": "code",
   "execution_count": null,
   "id": "746f9474",
   "metadata": {},
   "outputs": [],
   "source": []
  },
  {
   "cell_type": "code",
   "execution_count": null,
   "id": "8899b2a7",
   "metadata": {},
   "outputs": [],
   "source": []
  },
  {
   "cell_type": "code",
   "execution_count": null,
   "id": "5d756155",
   "metadata": {},
   "outputs": [],
   "source": []
  }
 ],
 "metadata": {
  "kernelspec": {
   "display_name": "R",
   "language": "R",
   "name": "ir"
  },
  "language_info": {
   "codemirror_mode": "r",
   "file_extension": ".r",
   "mimetype": "text/x-r-source",
   "name": "R",
   "pygments_lexer": "r",
   "version": "4.1.2"
  }
 },
 "nbformat": 4,
 "nbformat_minor": 5
}
